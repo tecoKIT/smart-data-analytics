{
 "cells": [
  {
   "cell_type": "markdown",
   "metadata": {},
   "source": [
    "# Warum dokumentieren?\n",
    "\n",
    "- Für Sie:\n",
    "    * Sie möchten Ihren Code später wiederverwenden\n",
    "    * Sie möchten, dass andere Nutzer Ihren Code verwenden und verstehen\n",
    "    * Sie möchten, dass andere Menschen mitarbeiten oder zu Ihrem Code beitragen\n",
    "    * Sie möchten besseren Code schreiben\n",
    "\n",
    "- Für andere:\n",
    "    * Ihr Code kann leichter verwendet werden und andere Entwickler können darauf aufbauen.\n",
    "\n",
    "-------------"
   ]
  },
  {
   "cell_type": "markdown",
   "metadata": {},
   "source": [
    "# Best Practices zur Dokumentation Ihres Projekts\n",
    "\n",
    "1. Die README-Datei sollte folgendes enthalten:\n",
    "     - Eine kurze Beschreibung des Projekts\n",
    "     - Installationshinweise / Abhängigkeiten\n",
    "     - Inhaltsverzeichnis\n",
    "     - Ein kurzes Beispiel / Tutorial\n",
    "2. Schreiben Sie eine Dokumentation\n",
    "     - Was für Funktion sind enthalten?\n",
    "     - Was sind die Parameter und Argumente der Funktionen?\n",
    "     - Welche Datentypen haben die Parameter (Integer, String, Data frame, ...)?\n",
    "     - Welche Rückgabewerte haben die Funktionen?\n",
    "     - Zusätzlich für Datenanalyst:\n",
    "         - Beschreiben Sie die Ergebnisse Ihrer Analyse\n",
    "         - Beschreiben Sie Ihre Schlussfolgerung\n",
    "         - Geben Sie gegebenenfalls einen kurzen Ausblick auf weitere Maßnahmen\n",
    "3. Kommentieren Sie Ihren Code ausführlich.\n",
    "4. Befolgen Sie Codierungskonventionen wie Dateiorganisation, Kommentare, Namenskonventionen, Programmierverfahren usw. Https://www.w3resource.com/python/python-variable.php\n",
    "5. Fügen Sie Informationen zu Mitwirkenden hinzu.\n",
    "6. Geben Sie Quellen, Referenzen und sonstige Informationen an.\n",
    "------------------"
   ]
  },
  {
   "cell_type": "markdown",
   "metadata": {},
   "source": [
    "# Referenzen\n",
    "\n",
    "\n",
    "1. http://guides.lib.berkeley.edu/how-to-write-good-documentation\n",
    "2. https://www.writethedocs.org/guide/writing/beginners-guide-to-docs/\n",
    "3. https://hackernoon.com/write-good-documentation-6caffb9082b4\n",
    "4. https://www.oreilly.com/ideas/the-eight-rules-of-good-documentation\n",
    "5. https://www.quora.com/How-do-I-learn-to-write-good-documentation"
   ]
  }
 ],
 "metadata": {
  "kernelspec": {
   "display_name": "Python 3",
   "language": "python",
   "name": "python3"
  },
  "language_info": {
   "codemirror_mode": {
    "name": "ipython",
    "version": 3
   },
   "file_extension": ".py",
   "mimetype": "text/x-python",
   "name": "python",
   "nbconvert_exporter": "python",
   "pygments_lexer": "ipython3",
   "version": "3.7.1"
  },
  "toc": {
   "base_numbering": 1,
   "nav_menu": {},
   "number_sections": true,
   "sideBar": true,
   "skip_h1_title": false,
   "title_cell": "Table of Contents",
   "title_sidebar": "Contents",
   "toc_cell": false,
   "toc_position": {},
   "toc_section_display": true,
   "toc_window_display": false
  }
 },
 "nbformat": 4,
 "nbformat_minor": 2
}
