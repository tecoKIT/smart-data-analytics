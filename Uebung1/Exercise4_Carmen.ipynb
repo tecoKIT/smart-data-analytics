{
 "cells": [
  {
   "cell_type": "markdown",
   "metadata": {},
   "source": [
    "# Exercise 4"
   ]
  },
  {
   "cell_type": "markdown",
   "metadata": {},
   "source": [
    "Coded by:\n",
    "1. Carmen Eitel - carmen.eitel@student.kit.edu\n",
    "\n",
    "on 01.05.2019\n",
    "\n",
    "version 1.0"
   ]
  },
  {
   "cell_type": "markdown",
   "metadata": {},
   "source": [
    "## Bibliotheken und Einstellungen"
   ]
  },
  {
   "cell_type": "markdown",
   "metadata": {},
   "source": [
    "# TODO: Inhaltsverzeichnis\n",
    "Vorgehen und kleine Zusammenfassung pro Notebook und Teilaufgabe (Abstract)\n",
    "data.info()\n",
    "\n",
    "zielvariable verteilung\n",
    "missing\n",
    "skalieren? \n"
   ]
  },
  {
   "cell_type": "code",
   "execution_count": 1,
   "metadata": {},
   "outputs": [],
   "source": [
    "# import libraries \n",
    "import numpy as np\n",
    "import pandas as pd\n",
    "from sklearn.model_selection import train_test_split\n",
    "from sklearn import datasets, linear_model\n",
    "from sklearn.metrics import mean_squared_error, r2_score\n",
    "import matplotlib.pyplot as plt\n",
    "from sklearn.ensemble import RandomForestRegressor\n",
    "from math import sqrt\n",
    "import statsmodels.api as sm\n",
    "import statsmodels.formula.api as smf\n",
    "from IPython.display import display\n",
    "import seaborn as sns"
   ]
  },
  {
   "cell_type": "markdown",
   "metadata": {},
   "source": [
    "## Teilaufgaben"
   ]
  },
  {
   "cell_type": "markdown",
   "metadata": {},
   "source": [
    "### a) Daten einlesen und erkunden\n",
    "Lesen Sie den Datensatz Credit.csv ein. Erkunden Sie die Daten und konvertieren Sie gegebenenfalls kategorische Variablen in ein geeignetes Format (z.B. mit pandas.get_dummies() oder sklearn.model_selection.OneHotEncoder()). "
   ]
  },
  {
   "cell_type": "code",
   "execution_count": 2,
   "metadata": {
    "scrolled": true
   },
   "outputs": [
    {
     "data": {
      "text/html": [
       "<div>\n",
       "<style scoped>\n",
       "    .dataframe tbody tr th:only-of-type {\n",
       "        vertical-align: middle;\n",
       "    }\n",
       "\n",
       "    .dataframe tbody tr th {\n",
       "        vertical-align: top;\n",
       "    }\n",
       "\n",
       "    .dataframe thead th {\n",
       "        text-align: right;\n",
       "    }\n",
       "</style>\n",
       "<table border=\"1\" class=\"dataframe\">\n",
       "  <thead>\n",
       "    <tr style=\"text-align: right;\">\n",
       "      <th></th>\n",
       "      <th>Unnamed: 0</th>\n",
       "      <th>Income</th>\n",
       "      <th>Limit</th>\n",
       "      <th>Rating</th>\n",
       "      <th>Cards</th>\n",
       "      <th>Age</th>\n",
       "      <th>Education</th>\n",
       "      <th>Gender</th>\n",
       "      <th>Student</th>\n",
       "      <th>Married</th>\n",
       "      <th>Ethnicity</th>\n",
       "      <th>Balance</th>\n",
       "    </tr>\n",
       "  </thead>\n",
       "  <tbody>\n",
       "    <tr>\n",
       "      <th>0</th>\n",
       "      <td>1</td>\n",
       "      <td>14.891</td>\n",
       "      <td>3606</td>\n",
       "      <td>283</td>\n",
       "      <td>2</td>\n",
       "      <td>34</td>\n",
       "      <td>11</td>\n",
       "      <td>Male</td>\n",
       "      <td>No</td>\n",
       "      <td>Yes</td>\n",
       "      <td>Caucasian</td>\n",
       "      <td>333</td>\n",
       "    </tr>\n",
       "    <tr>\n",
       "      <th>1</th>\n",
       "      <td>2</td>\n",
       "      <td>106.025</td>\n",
       "      <td>6645</td>\n",
       "      <td>483</td>\n",
       "      <td>3</td>\n",
       "      <td>82</td>\n",
       "      <td>15</td>\n",
       "      <td>Female</td>\n",
       "      <td>Yes</td>\n",
       "      <td>Yes</td>\n",
       "      <td>Asian</td>\n",
       "      <td>903</td>\n",
       "    </tr>\n",
       "    <tr>\n",
       "      <th>2</th>\n",
       "      <td>3</td>\n",
       "      <td>104.593</td>\n",
       "      <td>7075</td>\n",
       "      <td>514</td>\n",
       "      <td>4</td>\n",
       "      <td>71</td>\n",
       "      <td>11</td>\n",
       "      <td>Male</td>\n",
       "      <td>No</td>\n",
       "      <td>No</td>\n",
       "      <td>Asian</td>\n",
       "      <td>580</td>\n",
       "    </tr>\n",
       "    <tr>\n",
       "      <th>3</th>\n",
       "      <td>4</td>\n",
       "      <td>148.924</td>\n",
       "      <td>9504</td>\n",
       "      <td>681</td>\n",
       "      <td>3</td>\n",
       "      <td>36</td>\n",
       "      <td>11</td>\n",
       "      <td>Female</td>\n",
       "      <td>No</td>\n",
       "      <td>No</td>\n",
       "      <td>Asian</td>\n",
       "      <td>964</td>\n",
       "    </tr>\n",
       "    <tr>\n",
       "      <th>4</th>\n",
       "      <td>5</td>\n",
       "      <td>55.882</td>\n",
       "      <td>4897</td>\n",
       "      <td>357</td>\n",
       "      <td>2</td>\n",
       "      <td>68</td>\n",
       "      <td>16</td>\n",
       "      <td>Male</td>\n",
       "      <td>No</td>\n",
       "      <td>Yes</td>\n",
       "      <td>Caucasian</td>\n",
       "      <td>331</td>\n",
       "    </tr>\n",
       "  </tbody>\n",
       "</table>\n",
       "</div>"
      ],
      "text/plain": [
       "   Unnamed: 0   Income  Limit  Rating  Cards  Age  Education  Gender Student  \\\n",
       "0           1   14.891   3606     283      2   34         11    Male      No   \n",
       "1           2  106.025   6645     483      3   82         15  Female     Yes   \n",
       "2           3  104.593   7075     514      4   71         11    Male      No   \n",
       "3           4  148.924   9504     681      3   36         11  Female      No   \n",
       "4           5   55.882   4897     357      2   68         16    Male      No   \n",
       "\n",
       "  Married  Ethnicity  Balance  \n",
       "0     Yes  Caucasian      333  \n",
       "1     Yes      Asian      903  \n",
       "2      No      Asian      580  \n",
       "3      No      Asian      964  \n",
       "4     Yes  Caucasian      331  "
      ]
     },
     "execution_count": 2,
     "metadata": {},
     "output_type": "execute_result"
    }
   ],
   "source": [
    "# load dataset\n",
    "data_raw = pd.read_csv('./data/Credit.csv')\n",
    "\n",
    "# first insight of data by checking the first 5 data samples\n",
    "data_raw.head()"
   ]
  },
  {
   "cell_type": "code",
   "execution_count": 3,
   "metadata": {},
   "outputs": [
    {
     "name": "stdout",
     "output_type": "stream",
     "text": [
      "Information about data type: \n",
      "<class 'pandas.core.frame.DataFrame'>\n",
      "RangeIndex: 400 entries, 0 to 399\n",
      "Data columns (total 12 columns):\n",
      "Unnamed: 0    400 non-null int64\n",
      "Income        400 non-null float64\n",
      "Limit         400 non-null int64\n",
      "Rating        400 non-null int64\n",
      "Cards         400 non-null int64\n",
      "Age           400 non-null int64\n",
      "Education     400 non-null int64\n",
      "Gender        400 non-null object\n",
      "Student       400 non-null object\n",
      "Married       400 non-null object\n",
      "Ethnicity     400 non-null object\n",
      "Balance       400 non-null int64\n",
      "dtypes: float64(1), int64(7), object(4)\n",
      "memory usage: 37.6+ KB\n",
      "None\n",
      "\n",
      "Information about variable Ethnicity:\n"
     ]
    },
    {
     "data": {
      "text/plain": [
       "array(['Caucasian', 'Asian', 'African American'], dtype=object)"
      ]
     },
     "execution_count": 3,
     "metadata": {},
     "output_type": "execute_result"
    }
   ],
   "source": [
    "print('Information about data type: ')\n",
    "print(data_raw.info())\n",
    "\n",
    "print('\\nInformation about variable Ethnicity:')\n",
    "data_raw[\"Ethnicity\"].unique()"
   ]
  },
  {
   "cell_type": "markdown",
   "metadata": {},
   "source": [
    "Es gibt 400 Samples und keine fehlende Werte.\n",
    "\n",
    "Es gibt 10 exogene Variablen: \n",
    "- Income (float)\n",
    "- Limit (integer)\n",
    "- Rating (integer)\n",
    "- Cards, (integer)\n",
    "- Age (integer)\n",
    "- Education (integer)\n",
    "- Gender (object, dichtomotous)\n",
    "- Student (object, dichtomotous)\n",
    "- Married (object, dichtomotous)\n",
    "- Ethicity (object, categorical with 3 values: Caucasian, Asian, African American)\n",
    "\n",
    "und eine endogene Variable: \n",
    "- Balance (integer).\n",
    "\n",
    "Die binären Variablen müssen in eine Dummy-Variable mit 1 und 0 bzw. True und False überführt werden. Die kategorische Variable muss in verschiedene Dummy-Variablen entsprechend der Anzahl ihrer Ausprägungen überführt werden (siehe Teilaufgabe c).\n",
    "\n",
    "Im Folgenden werden die binären Variablen in eine Dummy-Variable überführt zusammen micht den integers und floats in ein Dataframe überführt."
   ]
  },
  {
   "cell_type": "code",
   "execution_count": 4,
   "metadata": {
    "scrolled": true
   },
   "outputs": [],
   "source": [
    "pd.options.mode.chained_assignment = None\n",
    "\n",
    "# create dummies of gender\n",
    "gender_df = pd.get_dummies(data_raw[\"Gender\"])\n",
    "\n",
    "# select one dummy\n",
    "is_male = gender_df[[\"Male\"]]\n",
    "\n",
    "#rename column\n",
    "is_male.rename(columns = {\"Male\":\"IsMale\"}, inplace = True)"
   ]
  },
  {
   "cell_type": "code",
   "execution_count": 5,
   "metadata": {},
   "outputs": [],
   "source": [
    "# create dummies for student\n",
    "student = pd.get_dummies(data_raw[\"Student\"])\n",
    "\n",
    "# select one dummy\n",
    "is_student = student[[\"Yes\"]]\n",
    "\n",
    "# rename column\n",
    "is_student.rename(columns = {\"Yes\":\"IsStudent\"}, inplace = True)"
   ]
  },
  {
   "cell_type": "code",
   "execution_count": 6,
   "metadata": {
    "scrolled": true
   },
   "outputs": [],
   "source": [
    "# create dummies for married\n",
    "married = pd.get_dummies(data_raw[\"Married\"])\n",
    "\n",
    "# select one dummy for married\n",
    "is_married = married[[\"Yes\"]]\n",
    "\n",
    "# rename column\n",
    "is_married.rename(columns = {\"Yes\":\"IsMarried\"}, inplace = True)"
   ]
  },
  {
   "cell_type": "code",
   "execution_count": 7,
   "metadata": {
    "scrolled": true
   },
   "outputs": [
    {
     "data": {
      "text/html": [
       "<div>\n",
       "<style scoped>\n",
       "    .dataframe tbody tr th:only-of-type {\n",
       "        vertical-align: middle;\n",
       "    }\n",
       "\n",
       "    .dataframe tbody tr th {\n",
       "        vertical-align: top;\n",
       "    }\n",
       "\n",
       "    .dataframe thead th {\n",
       "        text-align: right;\n",
       "    }\n",
       "</style>\n",
       "<table border=\"1\" class=\"dataframe\">\n",
       "  <thead>\n",
       "    <tr style=\"text-align: right;\">\n",
       "      <th></th>\n",
       "      <th>Balance</th>\n",
       "      <th>Income</th>\n",
       "      <th>Limit</th>\n",
       "      <th>Rating</th>\n",
       "      <th>Cards</th>\n",
       "      <th>Age</th>\n",
       "      <th>Education</th>\n",
       "      <th>IsMarried</th>\n",
       "      <th>IsStudent</th>\n",
       "      <th>IsMale</th>\n",
       "    </tr>\n",
       "  </thead>\n",
       "  <tbody>\n",
       "    <tr>\n",
       "      <th>0</th>\n",
       "      <td>333</td>\n",
       "      <td>14.891</td>\n",
       "      <td>3606</td>\n",
       "      <td>283</td>\n",
       "      <td>2</td>\n",
       "      <td>34</td>\n",
       "      <td>11</td>\n",
       "      <td>1</td>\n",
       "      <td>0</td>\n",
       "      <td>1</td>\n",
       "    </tr>\n",
       "    <tr>\n",
       "      <th>1</th>\n",
       "      <td>903</td>\n",
       "      <td>106.025</td>\n",
       "      <td>6645</td>\n",
       "      <td>483</td>\n",
       "      <td>3</td>\n",
       "      <td>82</td>\n",
       "      <td>15</td>\n",
       "      <td>1</td>\n",
       "      <td>1</td>\n",
       "      <td>0</td>\n",
       "    </tr>\n",
       "    <tr>\n",
       "      <th>2</th>\n",
       "      <td>580</td>\n",
       "      <td>104.593</td>\n",
       "      <td>7075</td>\n",
       "      <td>514</td>\n",
       "      <td>4</td>\n",
       "      <td>71</td>\n",
       "      <td>11</td>\n",
       "      <td>0</td>\n",
       "      <td>0</td>\n",
       "      <td>1</td>\n",
       "    </tr>\n",
       "    <tr>\n",
       "      <th>3</th>\n",
       "      <td>964</td>\n",
       "      <td>148.924</td>\n",
       "      <td>9504</td>\n",
       "      <td>681</td>\n",
       "      <td>3</td>\n",
       "      <td>36</td>\n",
       "      <td>11</td>\n",
       "      <td>0</td>\n",
       "      <td>0</td>\n",
       "      <td>0</td>\n",
       "    </tr>\n",
       "    <tr>\n",
       "      <th>4</th>\n",
       "      <td>331</td>\n",
       "      <td>55.882</td>\n",
       "      <td>4897</td>\n",
       "      <td>357</td>\n",
       "      <td>2</td>\n",
       "      <td>68</td>\n",
       "      <td>16</td>\n",
       "      <td>1</td>\n",
       "      <td>0</td>\n",
       "      <td>1</td>\n",
       "    </tr>\n",
       "  </tbody>\n",
       "</table>\n",
       "</div>"
      ],
      "text/plain": [
       "   Balance   Income  Limit  Rating  Cards  Age  Education  IsMarried  \\\n",
       "0      333   14.891   3606     283      2   34         11          1   \n",
       "1      903  106.025   6645     483      3   82         15          1   \n",
       "2      580  104.593   7075     514      4   71         11          0   \n",
       "3      964  148.924   9504     681      3   36         11          0   \n",
       "4      331   55.882   4897     357      2   68         16          1   \n",
       "\n",
       "   IsStudent  IsMale  \n",
       "0          0       1  \n",
       "1          1       0  \n",
       "2          0       1  \n",
       "3          0       0  \n",
       "4          0       1  "
      ]
     },
     "execution_count": 7,
     "metadata": {},
     "output_type": "execute_result"
    }
   ],
   "source": [
    "data_without_categorical_binary_variables = data_raw[[\"Balance\",\"Income\", \"Limit\", \"Rating\", \"Cards\", \"Age\", \"Education\"]]\n",
    "data_without_categorical_variables = pd.concat([data_without_categorical_binary_variables, is_married, is_student, is_male], axis=1, join='inner')\n",
    "data_without_categorical_variables.head()"
   ]
  },
  {
   "cell_type": "markdown",
   "metadata": {},
   "source": [
    "Im Folgenden werden bereits die Dummies der kategorischen Variablen Ethnicty erstellt und ein geeignetes Dataframe erstellt. Damit wird der Datensplit in b) durchgeführt. Dies ist somit ein Vorzug aus der Teilaufgabe c)."
   ]
  },
  {
   "cell_type": "code",
   "execution_count": 8,
   "metadata": {},
   "outputs": [],
   "source": [
    "# there are three values for ethnicities: African American, Asian, Caucasian\n",
    "# convert them into three dummies\n",
    "\n",
    "ethnicity_raw = pd.Series(data_raw[\"Ethnicity\"], dtype=\"category\") \n",
    "\n",
    "# create dummies\n",
    "african_american = pd.get_dummies(ethnicity_raw == \"African American\")\n",
    "asian = pd.get_dummies(ethnicity_raw == \"Asian\")\n",
    "caucasian = pd.get_dummies(ethnicity_raw == \"Caucasian\")\n",
    "\n",
    "# select one dummy for african_american\n",
    "is_african_american = african_american[[1]]\n",
    "\n",
    "# rename column of is_african_american\n",
    "is_african_american.rename(columns = {True : \"IsAfricanAmerican\"}, inplace = True)\n",
    "\n",
    "# select one dummy for asian and caucasian\n",
    "is_asian = asian[[1]]\n",
    "is_caucasian = caucasian[[1]]\n",
    "\n",
    "# rename columns\n",
    "is_asian.rename(columns = {True : \"IsAsian\"}, inplace = True)\n",
    "is_caucasian.rename(columns = {True : \"IsCaucasian\"}, inplace = True)"
   ]
  },
  {
   "cell_type": "code",
   "execution_count": 9,
   "metadata": {
    "scrolled": true
   },
   "outputs": [
    {
     "data": {
      "text/html": [
       "<div>\n",
       "<style scoped>\n",
       "    .dataframe tbody tr th:only-of-type {\n",
       "        vertical-align: middle;\n",
       "    }\n",
       "\n",
       "    .dataframe tbody tr th {\n",
       "        vertical-align: top;\n",
       "    }\n",
       "\n",
       "    .dataframe thead th {\n",
       "        text-align: right;\n",
       "    }\n",
       "</style>\n",
       "<table border=\"1\" class=\"dataframe\">\n",
       "  <thead>\n",
       "    <tr style=\"text-align: right;\">\n",
       "      <th></th>\n",
       "      <th>Balance</th>\n",
       "      <th>Income</th>\n",
       "      <th>Limit</th>\n",
       "      <th>Rating</th>\n",
       "      <th>Cards</th>\n",
       "      <th>Age</th>\n",
       "      <th>Education</th>\n",
       "      <th>IsMarried</th>\n",
       "      <th>IsStudent</th>\n",
       "      <th>IsMale</th>\n",
       "      <th>IsAsian</th>\n",
       "      <th>IsCaucasian</th>\n",
       "      <th>IsAfricanAmerican</th>\n",
       "    </tr>\n",
       "  </thead>\n",
       "  <tbody>\n",
       "    <tr>\n",
       "      <th>0</th>\n",
       "      <td>333</td>\n",
       "      <td>14.891</td>\n",
       "      <td>3606</td>\n",
       "      <td>283</td>\n",
       "      <td>2</td>\n",
       "      <td>34</td>\n",
       "      <td>11</td>\n",
       "      <td>1</td>\n",
       "      <td>0</td>\n",
       "      <td>1</td>\n",
       "      <td>0</td>\n",
       "      <td>1</td>\n",
       "      <td>0</td>\n",
       "    </tr>\n",
       "    <tr>\n",
       "      <th>1</th>\n",
       "      <td>903</td>\n",
       "      <td>106.025</td>\n",
       "      <td>6645</td>\n",
       "      <td>483</td>\n",
       "      <td>3</td>\n",
       "      <td>82</td>\n",
       "      <td>15</td>\n",
       "      <td>1</td>\n",
       "      <td>1</td>\n",
       "      <td>0</td>\n",
       "      <td>1</td>\n",
       "      <td>0</td>\n",
       "      <td>0</td>\n",
       "    </tr>\n",
       "    <tr>\n",
       "      <th>2</th>\n",
       "      <td>580</td>\n",
       "      <td>104.593</td>\n",
       "      <td>7075</td>\n",
       "      <td>514</td>\n",
       "      <td>4</td>\n",
       "      <td>71</td>\n",
       "      <td>11</td>\n",
       "      <td>0</td>\n",
       "      <td>0</td>\n",
       "      <td>1</td>\n",
       "      <td>1</td>\n",
       "      <td>0</td>\n",
       "      <td>0</td>\n",
       "    </tr>\n",
       "    <tr>\n",
       "      <th>3</th>\n",
       "      <td>964</td>\n",
       "      <td>148.924</td>\n",
       "      <td>9504</td>\n",
       "      <td>681</td>\n",
       "      <td>3</td>\n",
       "      <td>36</td>\n",
       "      <td>11</td>\n",
       "      <td>0</td>\n",
       "      <td>0</td>\n",
       "      <td>0</td>\n",
       "      <td>1</td>\n",
       "      <td>0</td>\n",
       "      <td>0</td>\n",
       "    </tr>\n",
       "    <tr>\n",
       "      <th>4</th>\n",
       "      <td>331</td>\n",
       "      <td>55.882</td>\n",
       "      <td>4897</td>\n",
       "      <td>357</td>\n",
       "      <td>2</td>\n",
       "      <td>68</td>\n",
       "      <td>16</td>\n",
       "      <td>1</td>\n",
       "      <td>0</td>\n",
       "      <td>1</td>\n",
       "      <td>0</td>\n",
       "      <td>1</td>\n",
       "      <td>0</td>\n",
       "    </tr>\n",
       "  </tbody>\n",
       "</table>\n",
       "</div>"
      ],
      "text/plain": [
       "   Balance   Income  Limit  Rating  Cards  Age  Education  IsMarried  \\\n",
       "0      333   14.891   3606     283      2   34         11          1   \n",
       "1      903  106.025   6645     483      3   82         15          1   \n",
       "2      580  104.593   7075     514      4   71         11          0   \n",
       "3      964  148.924   9504     681      3   36         11          0   \n",
       "4      331   55.882   4897     357      2   68         16          1   \n",
       "\n",
       "   IsStudent  IsMale  IsAsian  IsCaucasian  IsAfricanAmerican  \n",
       "0          0       1        0            1                  0  \n",
       "1          1       0        1            0                  0  \n",
       "2          0       1        1            0                  0  \n",
       "3          0       0        1            0                  0  \n",
       "4          0       1        0            1                  0  "
      ]
     },
     "execution_count": 9,
     "metadata": {},
     "output_type": "execute_result"
    }
   ],
   "source": [
    "# create dataframe with all variables\n",
    "data = pd.concat([data_without_categorical_variables, is_asian, is_caucasian, is_african_american], axis = 1, join = 'inner')\n",
    "data.head()"
   ]
  },
  {
   "cell_type": "markdown",
   "metadata": {},
   "source": [
    "#### Vertraut werden mit Daten"
   ]
  },
  {
   "cell_type": "code",
   "execution_count": 10,
   "metadata": {},
   "outputs": [
    {
     "data": {
      "text/plain": [
       "(400, 13)"
      ]
     },
     "execution_count": 10,
     "metadata": {},
     "output_type": "execute_result"
    }
   ],
   "source": [
    "# print shape of data\n",
    "data.shape"
   ]
  },
  {
   "cell_type": "markdown",
   "metadata": {},
   "source": [
    "Es gibt 400 Samples und 13 Variablen."
   ]
  },
  {
   "cell_type": "code",
   "execution_count": 11,
   "metadata": {
    "scrolled": true
   },
   "outputs": [
    {
     "data": {
      "text/html": [
       "<div>\n",
       "<style scoped>\n",
       "    .dataframe tbody tr th:only-of-type {\n",
       "        vertical-align: middle;\n",
       "    }\n",
       "\n",
       "    .dataframe tbody tr th {\n",
       "        vertical-align: top;\n",
       "    }\n",
       "\n",
       "    .dataframe thead th {\n",
       "        text-align: right;\n",
       "    }\n",
       "</style>\n",
       "<table border=\"1\" class=\"dataframe\">\n",
       "  <thead>\n",
       "    <tr style=\"text-align: right;\">\n",
       "      <th></th>\n",
       "      <th>Balance</th>\n",
       "      <th>Income</th>\n",
       "      <th>Limit</th>\n",
       "      <th>Rating</th>\n",
       "      <th>Cards</th>\n",
       "      <th>Age</th>\n",
       "      <th>Education</th>\n",
       "    </tr>\n",
       "  </thead>\n",
       "  <tbody>\n",
       "    <tr>\n",
       "      <th>count</th>\n",
       "      <td>400.000000</td>\n",
       "      <td>400.000000</td>\n",
       "      <td>400.000000</td>\n",
       "      <td>400.000000</td>\n",
       "      <td>400.000000</td>\n",
       "      <td>400.000000</td>\n",
       "      <td>400.000000</td>\n",
       "    </tr>\n",
       "    <tr>\n",
       "      <th>mean</th>\n",
       "      <td>520.015000</td>\n",
       "      <td>45.218885</td>\n",
       "      <td>4735.600000</td>\n",
       "      <td>354.940000</td>\n",
       "      <td>2.957500</td>\n",
       "      <td>55.667500</td>\n",
       "      <td>13.450000</td>\n",
       "    </tr>\n",
       "    <tr>\n",
       "      <th>std</th>\n",
       "      <td>459.758877</td>\n",
       "      <td>35.244273</td>\n",
       "      <td>2308.198848</td>\n",
       "      <td>154.724143</td>\n",
       "      <td>1.371275</td>\n",
       "      <td>17.249807</td>\n",
       "      <td>3.125207</td>\n",
       "    </tr>\n",
       "    <tr>\n",
       "      <th>min</th>\n",
       "      <td>0.000000</td>\n",
       "      <td>10.354000</td>\n",
       "      <td>855.000000</td>\n",
       "      <td>93.000000</td>\n",
       "      <td>1.000000</td>\n",
       "      <td>23.000000</td>\n",
       "      <td>5.000000</td>\n",
       "    </tr>\n",
       "    <tr>\n",
       "      <th>25%</th>\n",
       "      <td>68.750000</td>\n",
       "      <td>21.007250</td>\n",
       "      <td>3088.000000</td>\n",
       "      <td>247.250000</td>\n",
       "      <td>2.000000</td>\n",
       "      <td>41.750000</td>\n",
       "      <td>11.000000</td>\n",
       "    </tr>\n",
       "    <tr>\n",
       "      <th>50%</th>\n",
       "      <td>459.500000</td>\n",
       "      <td>33.115500</td>\n",
       "      <td>4622.500000</td>\n",
       "      <td>344.000000</td>\n",
       "      <td>3.000000</td>\n",
       "      <td>56.000000</td>\n",
       "      <td>14.000000</td>\n",
       "    </tr>\n",
       "    <tr>\n",
       "      <th>75%</th>\n",
       "      <td>863.000000</td>\n",
       "      <td>57.470750</td>\n",
       "      <td>5872.750000</td>\n",
       "      <td>437.250000</td>\n",
       "      <td>4.000000</td>\n",
       "      <td>70.000000</td>\n",
       "      <td>16.000000</td>\n",
       "    </tr>\n",
       "    <tr>\n",
       "      <th>max</th>\n",
       "      <td>1999.000000</td>\n",
       "      <td>186.634000</td>\n",
       "      <td>13913.000000</td>\n",
       "      <td>982.000000</td>\n",
       "      <td>9.000000</td>\n",
       "      <td>98.000000</td>\n",
       "      <td>20.000000</td>\n",
       "    </tr>\n",
       "  </tbody>\n",
       "</table>\n",
       "</div>"
      ],
      "text/plain": [
       "           Balance      Income         Limit      Rating       Cards  \\\n",
       "count   400.000000  400.000000    400.000000  400.000000  400.000000   \n",
       "mean    520.015000   45.218885   4735.600000  354.940000    2.957500   \n",
       "std     459.758877   35.244273   2308.198848  154.724143    1.371275   \n",
       "min       0.000000   10.354000    855.000000   93.000000    1.000000   \n",
       "25%      68.750000   21.007250   3088.000000  247.250000    2.000000   \n",
       "50%     459.500000   33.115500   4622.500000  344.000000    3.000000   \n",
       "75%     863.000000   57.470750   5872.750000  437.250000    4.000000   \n",
       "max    1999.000000  186.634000  13913.000000  982.000000    9.000000   \n",
       "\n",
       "              Age   Education  \n",
       "count  400.000000  400.000000  \n",
       "mean    55.667500   13.450000  \n",
       "std     17.249807    3.125207  \n",
       "min     23.000000    5.000000  \n",
       "25%     41.750000   11.000000  \n",
       "50%     56.000000   14.000000  \n",
       "75%     70.000000   16.000000  \n",
       "max     98.000000   20.000000  "
      ]
     },
     "execution_count": 11,
     "metadata": {},
     "output_type": "execute_result"
    }
   ],
   "source": [
    "# basic statistics of integer values\n",
    "data.iloc[:,:7].describe()"
   ]
  },
  {
   "cell_type": "markdown",
   "metadata": {},
   "source": [
    "Zu erkennen sind die unterschiedlichen Wertebereiche der verschiedenen Variablen. Cards hat beispielsweise einen Wertebereich von 1 bis 9 (25%-Quantil: 2, 75%-Quantil: 4), wohingegen Limit einen Wertebereich von 855 bis 13913 (25%-Quantil: 3088, 75%-Quantil: 5872.75) besitzt. Da lineare Regression und Random Forest angewandt wird, ist eine Sklarierung nicht notwendig. Im Folgenden werden die Kennzahlen der vorherigen Variable zur Verdeutlichung anhand von Boxplots visualisiert."
   ]
  },
  {
   "cell_type": "code",
   "execution_count": 12,
   "metadata": {
    "scrolled": false
   },
   "outputs": [
    {
     "data": {
      "image/png": "[encoded data removed]",
      "text/plain": [
       "<Figure size 1440x1440 with 15 Axes>"
      ]
     },
     "metadata": {
      "needs_background": "light"
     },
     "output_type": "display_data"
    }
   ],
   "source": [
    "# create boxplot for integer and float data\n",
    "data.iloc[:, : 7].plot(figsize = (20, 20), kind='box', subplots=True, layout=(5,3), sharex=False, sharey=False);  # show boxplots"
   ]
  },
  {
   "cell_type": "markdown",
   "metadata": {},
   "source": [
    "Zu erkennen ist, dass Income, Limit und Rating viele Ausreißer nach oben haben. Balance, Age und Education haben eine recht hohe Varianz.\n",
    "\n",
    "Im Folgenden werden nicht binären Variablen genauer untersucht. Zur Erinnerung: die kategorischen Variablen wurden ihn binäre umgewandelt."
   ]
  },
  {
   "cell_type": "code",
   "execution_count": 13,
   "metadata": {
    "scrolled": false
   },
   "outputs": [
    {
     "name": "stdout",
     "output_type": "stream",
     "text": [
      "1    245\n",
      "0    155\n",
      "Name: IsMarried, dtype: int64\n",
      "0    360\n",
      "1     40\n",
      "Name: IsStudent, dtype: int64\n",
      "0    207\n",
      "1    193\n",
      "Name: IsMale, dtype: int64\n",
      "0    298\n",
      "1    102\n",
      "Name: IsAsian, dtype: int64\n",
      "0    201\n",
      "1    199\n",
      "Name: IsCaucasian, dtype: int64\n",
      "0    301\n",
      "1     99\n",
      "Name: IsAfricanAmerican, dtype: int64\n"
     ]
    }
   ],
   "source": [
    "# get binary variables\n",
    "binary_data = data.iloc[:, 7:]\n",
    "\n",
    "for col in binary_data.columns:\n",
    "    print(str(binary_data[col].value_counts()))    "
   ]
  },
  {
   "cell_type": "markdown",
   "metadata": {},
   "source": [
    "# TODO: plot mit seaborn"
   ]
  },
  {
   "cell_type": "markdown",
   "metadata": {},
   "source": [
    "Mit 245 zu 155 sind deutlich mehr Personen verheiratet als unverheiratet. Der Anteil an Studenten ist mit 40 zu 360 sehr gering. Zudem ist der Anteil männlicher und weiblicher Personen ungefähr gleich groß. Weiße sind mit 199 Personen deutlich stärker vertreten als Asiaten (102) und Afroamerikaner (99)."
   ]
  },
  {
   "cell_type": "markdown",
   "metadata": {},
   "source": [
    "Im folgenden wird die Verteilung von der Zielvariablen Balance genauer betrachtet."
   ]
  },
  {
   "cell_type": "markdown",
   "metadata": {},
   "source": [
    "# TODO Verteilung balance plotten, max und min daten plotten"
   ]
  },
  {
   "cell_type": "markdown",
   "metadata": {},
   "source": [
    "### b) Datensatz teilen\n",
    "Separieren Sie den Datensatz in 80%-20% für Training und Testdatensatz. Was müssen Sie hier beachten?"
   ]
  },
  {
   "cell_type": "code",
   "execution_count": 14,
   "metadata": {},
   "outputs": [],
   "source": [
    "# split into dependent y and independent X variables\n",
    "X = data.iloc[:, 1:]\n",
    "y = data.iloc[:, 0]"
   ]
  },
  {
   "cell_type": "code",
   "execution_count": 15,
   "metadata": {},
   "outputs": [],
   "source": [
    "# 80/20 split\n",
    "X_train, X_test, y_train, y_test = train_test_split(X, y, test_size = 0.2, random_state = 42)"
   ]
  },
  {
   "cell_type": "markdown",
   "metadata": {},
   "source": [
    "Es muss beachtet werden, dass die Daten geshuffelt und dann separiert werden, sodass die Daten iid sind und beispielsweiße keine unterschiedliche Varianz oä in den zwei Splits vorhanden ist. Insbesondere sollten Testdaten und Trainingsdaten repräsentativ sein. Die Testdaten werden nur am Ende zur Bewertung eines Modells verwendet, nicht zur Training oder Parametertuning.\n"
   ]
  },
  {
   "cell_type": "markdown",
   "metadata": {},
   "source": [
    "### c) OLS mit allen Variablen und ohne Limit\n",
    "Erstellen Sie aus der Variable Ethnicity drei binäre Variablen Ethnicity_Caucasian, Ethnicity_Asian und Ethnicity_African. Führen Sie eine lineare Regression mit OLS als Schätzer mit diesen Variablen und allen anderen Variablen (außer Limit) durch. Berechnen Sie Root Mean Square Error (RMSE) zwischen der Vorhersage und den wahren Werten im Test-Datensatz. Beschreiben Sie Ihre Ergebnisse."
   ]
  },
  {
   "cell_type": "markdown",
   "metadata": {},
   "source": [
    "Binäre Variablen wurde bereits in Teilaufgabe a) erstellt. Ethinicity_Caucasian entspricht IsCaucasian, Ethnicity_Asian entspricht IsAsian und Ethnicity_African entspricht IsAfricanAmerican. Dies wurde eingeführt, um die Interpretation der Ausprägungen zu vereinfachen"
   ]
  },
  {
   "cell_type": "markdown",
   "metadata": {},
   "source": [
    "#### Definieren von Funktionen für lineare Regression mit OLS als Schätzer:"
   ]
  },
  {
   "cell_type": "code",
   "execution_count": 16,
   "metadata": {},
   "outputs": [],
   "source": [
    "# define function for fitting OLS regression model\n",
    "def ols_statsmodel(X_train, y_train):\n",
    "    \n",
    "    # add intercept\n",
    "    X_train = sm.add_constant(X_train)\n",
    "    \n",
    "    # fit model\n",
    "    model = sm.OLS(y_train, X_train).fit()\n",
    "    \n",
    "    return model\n",
    "    #display(model.summary())"
   ]
  },
  {
   "cell_type": "code",
   "execution_count": 17,
   "metadata": {},
   "outputs": [],
   "source": [
    "# define function for prediction with OLS regression model\n",
    "def predict_ols_statsmodel(X_test, model):\n",
    "    \n",
    "    # add intercept\n",
    "    X_test = sm.add_constant(X_test)\n",
    "    \n",
    "    # predict\n",
    "    y_predict = model.predict(X_test)\n",
    "    \n",
    "    return y_predict \n",
    "    "
   ]
  },
  {
   "cell_type": "code",
   "execution_count": 18,
   "metadata": {},
   "outputs": [],
   "source": [
    "# define function to calculate rmse\n",
    "def calculate_rmse(y_predicted, y_gt):\n",
    "    rmse = sqrt(mean_squared_error(y_test, y_predicted))\n",
    "    return rmse"
   ]
  },
  {
   "cell_type": "markdown",
   "metadata": {},
   "source": [
    "#### Erstellung der Datasets und Modelle:"
   ]
  },
  {
   "cell_type": "code",
   "execution_count": 19,
   "metadata": {},
   "outputs": [
    {
     "name": "stderr",
     "output_type": "stream",
     "text": [
      "/home/carmen/anaconda3/envs/python3_7-SmartDataAnalytics/lib/python3.7/site-packages/numpy/core/fromnumeric.py:2389: FutureWarning: Method .ptp is deprecated and will be removed in a future version. Use numpy.ptp instead.\n",
      "  return ptp(axis=axis, out=out, **kwargs)\n"
     ]
    }
   ],
   "source": [
    "# create datasets with different variables\n",
    "\n",
    "# dataset without variable limit\n",
    "X_train_withoutLimit = X_train.drop(columns=\"Limit\")\n",
    "X_test_withoutLimit = X_test.drop(columns=\"Limit\")\n",
    "\n",
    "# create models\n",
    "model_allVariables = ols_statsmodel(X_train, y_train)\n",
    "model_withoutLimit = ols_statsmodel(X_train_withoutLimit, y_train)\n"
   ]
  },
  {
   "cell_type": "markdown",
   "metadata": {},
   "source": [
    "#### Ergebnisse:\n",
    "\n",
    "#### Adjusted R-squared"
   ]
  },
  {
   "cell_type": "code",
   "execution_count": 20,
   "metadata": {
    "scrolled": true
   },
   "outputs": [
    {
     "name": "stdout",
     "output_type": "stream",
     "text": [
      "Adjusted R-squared of model with all variables: 0.954\n",
      "Adjusted R-squared of model without limit: 0.95\n"
     ]
    }
   ],
   "source": [
    "# print adjusted r-squared\n",
    "print('Adjusted R-squared of model with all variables: ' + str(round(model_allVariables.rsquared_adj, 3)))\n",
    "print('Adjusted R-squared of model without limit: ' + str(round(model_withoutLimit.rsquared_adj, 3)))"
   ]
  },
  {
   "cell_type": "markdown",
   "metadata": {},
   "source": [
    "Zunächst einmal werden die Adjusted R-squared verglichen, da die um die Anzahl der verwendeten exogenen Variablen bereinigt ist. Das Modell mit allen Variablen schneidet mit einem Adjusted R-squared von 0,954 ein wenig besser ab, als das ohne Limit mit 0,95."
   ]
  },
  {
   "cell_type": "markdown",
   "metadata": {},
   "source": [
    "#### Signifikanz der Koeffizienten"
   ]
  },
  {
   "cell_type": "code",
   "execution_count": 21,
   "metadata": {
    "scrolled": true
   },
   "outputs": [
    {
     "name": "stdout",
     "output_type": "stream",
     "text": [
      "Coefficients of models: \n"
     ]
    },
    {
     "data": {
      "text/html": [
       "<div>\n",
       "<style scoped>\n",
       "    .dataframe tbody tr th:only-of-type {\n",
       "        vertical-align: middle;\n",
       "    }\n",
       "\n",
       "    .dataframe tbody tr th {\n",
       "        vertical-align: top;\n",
       "    }\n",
       "\n",
       "    .dataframe thead th {\n",
       "        text-align: right;\n",
       "    }\n",
       "</style>\n",
       "<table border=\"1\" class=\"dataframe\">\n",
       "  <thead>\n",
       "    <tr style=\"text-align: right;\">\n",
       "      <th></th>\n",
       "      <th>With all variables</th>\n",
       "      <th>Without limit</th>\n",
       "    </tr>\n",
       "  </thead>\n",
       "  <tbody>\n",
       "    <tr>\n",
       "      <th>Age</th>\n",
       "      <td>0.081</td>\n",
       "      <td>0.103</td>\n",
       "    </tr>\n",
       "    <tr>\n",
       "      <th>Cards</th>\n",
       "      <td>0.000</td>\n",
       "      <td>0.336</td>\n",
       "    </tr>\n",
       "    <tr>\n",
       "      <th>Education</th>\n",
       "      <td>0.554</td>\n",
       "      <td>0.855</td>\n",
       "    </tr>\n",
       "    <tr>\n",
       "      <th>Income</th>\n",
       "      <td>0.000</td>\n",
       "      <td>0.000</td>\n",
       "    </tr>\n",
       "    <tr>\n",
       "      <th>IsAfricanAmerican</th>\n",
       "      <td>0.000</td>\n",
       "      <td>0.000</td>\n",
       "    </tr>\n",
       "    <tr>\n",
       "      <th>IsAsian</th>\n",
       "      <td>0.000</td>\n",
       "      <td>0.000</td>\n",
       "    </tr>\n",
       "    <tr>\n",
       "      <th>IsCaucasian</th>\n",
       "      <td>0.000</td>\n",
       "      <td>0.000</td>\n",
       "    </tr>\n",
       "    <tr>\n",
       "      <th>IsMale</th>\n",
       "      <td>0.275</td>\n",
       "      <td>0.282</td>\n",
       "    </tr>\n",
       "    <tr>\n",
       "      <th>IsMarried</th>\n",
       "      <td>0.606</td>\n",
       "      <td>0.327</td>\n",
       "    </tr>\n",
       "    <tr>\n",
       "      <th>IsStudent</th>\n",
       "      <td>0.000</td>\n",
       "      <td>0.000</td>\n",
       "    </tr>\n",
       "    <tr>\n",
       "      <th>Limit</th>\n",
       "      <td>0.000</td>\n",
       "      <td>NaN</td>\n",
       "    </tr>\n",
       "    <tr>\n",
       "      <th>Rating</th>\n",
       "      <td>0.084</td>\n",
       "      <td>0.000</td>\n",
       "    </tr>\n",
       "    <tr>\n",
       "      <th>const</th>\n",
       "      <td>0.000</td>\n",
       "      <td>0.000</td>\n",
       "    </tr>\n",
       "  </tbody>\n",
       "</table>\n",
       "</div>"
      ],
      "text/plain": [
       "                   With all variables  Without limit\n",
       "Age                             0.081          0.103\n",
       "Cards                           0.000          0.336\n",
       "Education                       0.554          0.855\n",
       "Income                          0.000          0.000\n",
       "IsAfricanAmerican               0.000          0.000\n",
       "IsAsian                         0.000          0.000\n",
       "IsCaucasian                     0.000          0.000\n",
       "IsMale                          0.275          0.282\n",
       "IsMarried                       0.606          0.327\n",
       "IsStudent                       0.000          0.000\n",
       "Limit                           0.000            NaN\n",
       "Rating                          0.084          0.000\n",
       "const                           0.000          0.000"
      ]
     },
     "metadata": {},
     "output_type": "display_data"
    }
   ],
   "source": [
    "# creating table of p-values\n",
    "pValues = pd.DataFrame({\"With all variables\": model_allVariables.pvalues, \"Without limit\": model_withoutLimit.pvalues})\n",
    "print('Coefficients of models: ')\n",
    "display(pValues.round(3))"
   ]
  },
  {
   "cell_type": "markdown",
   "metadata": {},
   "source": [
    "Nun werden die Koeffizienten untersucht. Die p-Werte zeigen, dass bei dem Modell mit allen Variablen Education, IsMale und IsMarried bei einem Signifikanzniveau von 0,1 nicht signifikant sind. Üblich ist ein Signifikanzniveau von 0,05. Bei letzterem Signifikanzniveau sind auch Rating und Age nicht signifikant.\n",
    "Bei dem Modell ohne Limit sind Age, Cards, IsMale. IsMarried und Education bereits bei einem Signifikanzniveau 0,1 nicht signifikant sind."
   ]
  },
  {
   "cell_type": "markdown",
   "metadata": {},
   "source": [
    "#### Werte der Koeffizienten"
   ]
  },
  {
   "cell_type": "code",
   "execution_count": 22,
   "metadata": {
    "scrolled": false
   },
   "outputs": [
    {
     "data": {
      "text/html": [
       "<div>\n",
       "<style scoped>\n",
       "    .dataframe tbody tr th:only-of-type {\n",
       "        vertical-align: middle;\n",
       "    }\n",
       "\n",
       "    .dataframe tbody tr th {\n",
       "        vertical-align: top;\n",
       "    }\n",
       "\n",
       "    .dataframe thead th {\n",
       "        text-align: right;\n",
       "    }\n",
       "</style>\n",
       "<table border=\"1\" class=\"dataframe\">\n",
       "  <thead>\n",
       "    <tr style=\"text-align: right;\">\n",
       "      <th></th>\n",
       "      <th>All variables</th>\n",
       "      <th>Without limit</th>\n",
       "    </tr>\n",
       "  </thead>\n",
       "  <tbody>\n",
       "    <tr>\n",
       "      <th>Age</th>\n",
       "      <td>-0.603695</td>\n",
       "      <td>-0.587846</td>\n",
       "    </tr>\n",
       "    <tr>\n",
       "      <th>Cards</th>\n",
       "      <td>19.123826</td>\n",
       "      <td>4.181306</td>\n",
       "    </tr>\n",
       "    <tr>\n",
       "      <th>Education</th>\n",
       "      <td>-1.078674</td>\n",
       "      <td>-0.346833</td>\n",
       "    </tr>\n",
       "    <tr>\n",
       "      <th>Income</th>\n",
       "      <td>-7.554059</td>\n",
       "      <td>-7.573931</td>\n",
       "    </tr>\n",
       "    <tr>\n",
       "      <th>IsAfricanAmerican</th>\n",
       "      <td>-125.589917</td>\n",
       "      <td>-147.741912</td>\n",
       "    </tr>\n",
       "    <tr>\n",
       "      <th>IsAsian</th>\n",
       "      <td>-112.294369</td>\n",
       "      <td>-127.308454</td>\n",
       "    </tr>\n",
       "    <tr>\n",
       "      <th>IsCaucasian</th>\n",
       "      <td>-114.072764</td>\n",
       "      <td>-133.345157</td>\n",
       "    </tr>\n",
       "    <tr>\n",
       "      <th>IsMale</th>\n",
       "      <td>12.493725</td>\n",
       "      <td>12.842603</td>\n",
       "    </tr>\n",
       "    <tr>\n",
       "      <th>IsMarried</th>\n",
       "      <td>-6.150365</td>\n",
       "      <td>-12.123810</td>\n",
       "    </tr>\n",
       "    <tr>\n",
       "      <th>IsStudent</th>\n",
       "      <td>418.435398</td>\n",
       "      <td>412.661119</td>\n",
       "    </tr>\n",
       "    <tr>\n",
       "      <th>Limit</th>\n",
       "      <td>0.198058</td>\n",
       "      <td>NaN</td>\n",
       "    </tr>\n",
       "    <tr>\n",
       "      <th>Rating</th>\n",
       "      <td>0.971292</td>\n",
       "      <td>3.931093</td>\n",
       "    </tr>\n",
       "    <tr>\n",
       "      <th>const</th>\n",
       "      <td>-351.957050</td>\n",
       "      <td>-408.395523</td>\n",
       "    </tr>\n",
       "  </tbody>\n",
       "</table>\n",
       "</div>"
      ],
      "text/plain": [
       "                   All variables  Without limit\n",
       "Age                    -0.603695      -0.587846\n",
       "Cards                  19.123826       4.181306\n",
       "Education              -1.078674      -0.346833\n",
       "Income                 -7.554059      -7.573931\n",
       "IsAfricanAmerican    -125.589917    -147.741912\n",
       "IsAsian              -112.294369    -127.308454\n",
       "IsCaucasian          -114.072764    -133.345157\n",
       "IsMale                 12.493725      12.842603\n",
       "IsMarried              -6.150365     -12.123810\n",
       "IsStudent             418.435398     412.661119\n",
       "Limit                   0.198058            NaN\n",
       "Rating                  0.971292       3.931093\n",
       "const                -351.957050    -408.395523"
      ]
     },
     "metadata": {},
     "output_type": "display_data"
    }
   ],
   "source": [
    "# creating table of coefficients\n",
    "params = pd.DataFrame({\"All variables\": model_allVariables.params, \"Without limit\": model_withoutLimit.params})\n",
    "display(params)"
   ]
  },
  {
   "cell_type": "markdown",
   "metadata": {},
   "source": [
    "Zu erkennen ist, dass sich durch weglassen der Variablen Limit die Werte der Koeffizienten Cards, Education, IsMarried Rating und des Interzepts stark verändern. Auch bei anderen Koeffizienten sind leichte Veränderungen festzuhalten, jedoch werden diese Veränderungen, ohne dass dies statistisch getestet wurde, als weniger wichtig betrachtet. \n",
    "Verändungern der Signifikanzen und Werte der Koeffizienten bei weglassen von einzelnen Variablen deuten auf eine Fehlspezifikation bzw. Multikollinearität im Model hin."
   ]
  },
  {
   "cell_type": "markdown",
   "metadata": {},
   "source": [
    "#### RMSE zwischen Vorhersage und Ground Truth der Testdaten"
   ]
  },
  {
   "cell_type": "code",
   "execution_count": 23,
   "metadata": {
    "scrolled": true
   },
   "outputs": [
    {
     "name": "stdout",
     "output_type": "stream",
     "text": [
      "RMSE of model with all variables: 89.302\n",
      "RMSE of model without limit: 91.426\n"
     ]
    }
   ],
   "source": [
    "# predict \n",
    "predicted_allVariables = predict_ols_statsmodel(X_test, model_allVariables)\n",
    "predicted_withoutLimit = predict_ols_statsmodel(X_test_withoutLimit, model_withoutLimit)\n",
    "\n",
    "# print rmse\n",
    "print('RMSE of model with all variables: ' + str(round(calculate_rmse(predicted_allVariables, y_test), 3)))\n",
    "print('RMSE of model without limit: ' + str(round(calculate_rmse(predicted_withoutLimit, y_test), 3)))\n",
    "#print('RMSE of model with all variables: ' + str(round(sqrt(model_allVariables.mse_total), 3)))\n",
    "#print('RMSE of model without limit: ' + str(round(sqrt(model_withoutLimit.mse_total), 3)))"
   ]
  },
  {
   "cell_type": "markdown",
   "metadata": {},
   "source": [
    "Der auf drei Nachkommastellen gerundete RMSE der beiden Modelle unterscheidet um ca. 2 Einheiten von Balance. Das Modell mit allen Variablen schneidet dabei besser ab, was mit der Interpretation des Adjusted R-squared übereinstimmt. "
   ]
  },
  {
   "cell_type": "markdown",
   "metadata": {},
   "source": [
    "### d) OLS ohne Variable Ethnicity_Caucasian\n",
    "Führen Sie die Analyse in 4c) erneut durch, ohne die Variable Ethnicity_Caucasian. Vergleichen Sie diese Ergebnisse mit denen aus 4c)."
   ]
  },
  {
   "cell_type": "code",
   "execution_count": 24,
   "metadata": {
    "scrolled": false
   },
   "outputs": [
    {
     "name": "stderr",
     "output_type": "stream",
     "text": [
      "/home/carmen/anaconda3/envs/python3_7-SmartDataAnalytics/lib/python3.7/site-packages/numpy/core/fromnumeric.py:2389: FutureWarning: Method .ptp is deprecated and will be removed in a future version. Use numpy.ptp instead.\n",
      "  return ptp(axis=axis, out=out, **kwargs)\n"
     ]
    }
   ],
   "source": [
    "# create datasets\n",
    "# drop column IsCaucasian, wo = without\n",
    "X_train_wo_IsCauc = X_train.drop(columns=\"IsCaucasian\") \n",
    "X_test_wo_IsCauc = X_test.drop(columns=\"IsCaucasian\")\n",
    "\n",
    "# drop column Limit\n",
    "X_train_wo_IsCauc_Lim = X_train_wo_IsCauc.drop(columns=\"Limit\") \n",
    "X_test_wo_IsCauc_Lim = X_test_wo_IsCauc.drop(columns=\"Limit\")\n",
    "\n",
    "# create models\n",
    "model_wo_IsCauc = ols_statsmodel(X_train_wo_IsCauc, y_train)\n",
    "model_wo_IsCauc_Lim = ols_statsmodel(X_train_wo_IsCauc_Lim, y_train)"
   ]
  },
  {
   "cell_type": "markdown",
   "metadata": {},
   "source": [
    "#### Ergebnisse:\n",
    "\n",
    "#### Adjusted R-squared"
   ]
  },
  {
   "cell_type": "code",
   "execution_count": 25,
   "metadata": {
    "scrolled": true
   },
   "outputs": [
    {
     "name": "stdout",
     "output_type": "stream",
     "text": [
      "Adjusted R-sqaured of model with all variables: 0.954\n",
      "Adjusted R-sqaured of model without limit: 0.95\n",
      "Adjusted R-sqaured of model without isCaucasian: 0.954\n",
      "Adjusted R-sqaured of model without limit and isCaucasian: 0.95\n"
     ]
    }
   ],
   "source": [
    "# print adjusted r-squared\n",
    "print('Adjusted R-sqaured of model with all variables: ' + str(round(model_allVariables.rsquared_adj, 3)))\n",
    "print('Adjusted R-sqaured of model without limit: ' + str(round(model_withoutLimit.rsquared_adj, 3)))\n",
    "print('Adjusted R-sqaured of model without isCaucasian: ' + str(round(model_wo_IsCauc.rsquared_adj, 3)))\n",
    "print('Adjusted R-sqaured of model without limit and isCaucasian: ' + str(round(model_wo_IsCauc_Lim.rsquared_adj, 3)))"
   ]
  },
  {
   "cell_type": "markdown",
   "metadata": {},
   "source": [
    "Das Modell mit allen Variablen, sowie das Modell ohne isCaucasian erklären die Streuung der Daten gemessem am adjusted R-squared von 0,954 im Vergleich zu den anderen Modellen mit einem adjusted R-squared von 0,95 besser."
   ]
  },
  {
   "cell_type": "markdown",
   "metadata": {},
   "source": [
    "#### Signifikanz der Koeffizienten"
   ]
  },
  {
   "cell_type": "code",
   "execution_count": 26,
   "metadata": {
    "scrolled": true
   },
   "outputs": [
    {
     "name": "stdout",
     "output_type": "stream",
     "text": [
      "Coefficients of models: \n"
     ]
    },
    {
     "data": {
      "text/html": [
       "<div>\n",
       "<style scoped>\n",
       "    .dataframe tbody tr th:only-of-type {\n",
       "        vertical-align: middle;\n",
       "    }\n",
       "\n",
       "    .dataframe tbody tr th {\n",
       "        vertical-align: top;\n",
       "    }\n",
       "\n",
       "    .dataframe thead th {\n",
       "        text-align: right;\n",
       "    }\n",
       "</style>\n",
       "<table border=\"1\" class=\"dataframe\">\n",
       "  <thead>\n",
       "    <tr style=\"text-align: right;\">\n",
       "      <th></th>\n",
       "      <th>With all variables</th>\n",
       "      <th>Without limit</th>\n",
       "      <th>Without isCaucasian</th>\n",
       "      <th>Without limit and isCaucasian</th>\n",
       "    </tr>\n",
       "  </thead>\n",
       "  <tbody>\n",
       "    <tr>\n",
       "      <th>Age</th>\n",
       "      <td>0.081</td>\n",
       "      <td>0.103</td>\n",
       "      <td>0.081</td>\n",
       "      <td>0.103</td>\n",
       "    </tr>\n",
       "    <tr>\n",
       "      <th>Cards</th>\n",
       "      <td>0.000</td>\n",
       "      <td>0.336</td>\n",
       "      <td>0.000</td>\n",
       "      <td>0.336</td>\n",
       "    </tr>\n",
       "    <tr>\n",
       "      <th>Education</th>\n",
       "      <td>0.554</td>\n",
       "      <td>0.855</td>\n",
       "      <td>0.554</td>\n",
       "      <td>0.855</td>\n",
       "    </tr>\n",
       "    <tr>\n",
       "      <th>Income</th>\n",
       "      <td>0.000</td>\n",
       "      <td>0.000</td>\n",
       "      <td>0.000</td>\n",
       "      <td>0.000</td>\n",
       "    </tr>\n",
       "    <tr>\n",
       "      <th>IsAfricanAmerican</th>\n",
       "      <td>0.000</td>\n",
       "      <td>0.000</td>\n",
       "      <td>0.413</td>\n",
       "      <td>0.326</td>\n",
       "    </tr>\n",
       "    <tr>\n",
       "      <th>IsAsian</th>\n",
       "      <td>0.000</td>\n",
       "      <td>0.000</td>\n",
       "      <td>0.898</td>\n",
       "      <td>0.677</td>\n",
       "    </tr>\n",
       "    <tr>\n",
       "      <th>IsCaucasian</th>\n",
       "      <td>0.000</td>\n",
       "      <td>0.000</td>\n",
       "      <td>NaN</td>\n",
       "      <td>NaN</td>\n",
       "    </tr>\n",
       "    <tr>\n",
       "      <th>IsMale</th>\n",
       "      <td>0.275</td>\n",
       "      <td>0.282</td>\n",
       "      <td>0.275</td>\n",
       "      <td>0.282</td>\n",
       "    </tr>\n",
       "    <tr>\n",
       "      <th>IsMarried</th>\n",
       "      <td>0.606</td>\n",
       "      <td>0.327</td>\n",
       "      <td>0.606</td>\n",
       "      <td>0.327</td>\n",
       "    </tr>\n",
       "    <tr>\n",
       "      <th>IsStudent</th>\n",
       "      <td>0.000</td>\n",
       "      <td>0.000</td>\n",
       "      <td>0.000</td>\n",
       "      <td>0.000</td>\n",
       "    </tr>\n",
       "    <tr>\n",
       "      <th>Limit</th>\n",
       "      <td>0.000</td>\n",
       "      <td>NaN</td>\n",
       "      <td>0.000</td>\n",
       "      <td>NaN</td>\n",
       "    </tr>\n",
       "    <tr>\n",
       "      <th>Rating</th>\n",
       "      <td>0.084</td>\n",
       "      <td>0.000</td>\n",
       "      <td>0.084</td>\n",
       "      <td>0.000</td>\n",
       "    </tr>\n",
       "    <tr>\n",
       "      <th>const</th>\n",
       "      <td>0.000</td>\n",
       "      <td>0.000</td>\n",
       "      <td>0.000</td>\n",
       "      <td>0.000</td>\n",
       "    </tr>\n",
       "  </tbody>\n",
       "</table>\n",
       "</div>"
      ],
      "text/plain": [
       "                   With all variables  Without limit  Without isCaucasian  \\\n",
       "Age                             0.081          0.103                0.081   \n",
       "Cards                           0.000          0.336                0.000   \n",
       "Education                       0.554          0.855                0.554   \n",
       "Income                          0.000          0.000                0.000   \n",
       "IsAfricanAmerican               0.000          0.000                0.413   \n",
       "IsAsian                         0.000          0.000                0.898   \n",
       "IsCaucasian                     0.000          0.000                  NaN   \n",
       "IsMale                          0.275          0.282                0.275   \n",
       "IsMarried                       0.606          0.327                0.606   \n",
       "IsStudent                       0.000          0.000                0.000   \n",
       "Limit                           0.000            NaN                0.000   \n",
       "Rating                          0.084          0.000                0.084   \n",
       "const                           0.000          0.000                0.000   \n",
       "\n",
       "                   Without limit and isCaucasian  \n",
       "Age                                        0.103  \n",
       "Cards                                      0.336  \n",
       "Education                                  0.855  \n",
       "Income                                     0.000  \n",
       "IsAfricanAmerican                          0.326  \n",
       "IsAsian                                    0.677  \n",
       "IsCaucasian                                  NaN  \n",
       "IsMale                                     0.282  \n",
       "IsMarried                                  0.327  \n",
       "IsStudent                                  0.000  \n",
       "Limit                                        NaN  \n",
       "Rating                                     0.000  \n",
       "const                                      0.000  "
      ]
     },
     "metadata": {},
     "output_type": "display_data"
    }
   ],
   "source": [
    "# creating table of p-values\n",
    "pValues = pd.DataFrame({\"With all variables\": model_allVariables.pvalues, \"Without limit\": model_withoutLimit.pvalues, \"Without isCaucasian\": model_wo_IsCauc.pvalues, \"Without limit and isCaucasian\": model_wo_IsCauc_Lim.pvalues})\n",
    "print('Coefficients of models: ')\n",
    "display(pValues.round(3))"
   ]
  },
  {
   "cell_type": "code",
   "execution_count": 27,
   "metadata": {},
   "outputs": [
    {
     "data": {
      "text/html": [
       "<table class=\"simpletable\">\n",
       "<caption>OLS Regression Results</caption>\n",
       "<tr>\n",
       "  <th>Dep. Variable:</th>         <td>Balance</td>     <th>  R-squared:         </th> <td>   0.955</td> \n",
       "</tr>\n",
       "<tr>\n",
       "  <th>Model:</th>                   <td>OLS</td>       <th>  Adj. R-squared:    </th> <td>   0.954</td> \n",
       "</tr>\n",
       "<tr>\n",
       "  <th>Method:</th>             <td>Least Squares</td>  <th>  F-statistic:       </th> <td>   597.4</td> \n",
       "</tr>\n",
       "<tr>\n",
       "  <th>Date:</th>             <td>Thu, 09 May 2019</td> <th>  Prob (F-statistic):</th> <td>2.13e-200</td>\n",
       "</tr>\n",
       "<tr>\n",
       "  <th>Time:</th>                 <td>20:25:32</td>     <th>  Log-Likelihood:    </th> <td> -1926.6</td> \n",
       "</tr>\n",
       "<tr>\n",
       "  <th>No. Observations:</th>      <td>   320</td>      <th>  AIC:               </th> <td>   3877.</td> \n",
       "</tr>\n",
       "<tr>\n",
       "  <th>Df Residuals:</th>          <td>   308</td>      <th>  BIC:               </th> <td>   3922.</td> \n",
       "</tr>\n",
       "<tr>\n",
       "  <th>Df Model:</th>              <td>    11</td>      <th>                     </th>     <td> </td>    \n",
       "</tr>\n",
       "<tr>\n",
       "  <th>Covariance Type:</th>      <td>nonrobust</td>    <th>                     </th>     <td> </td>    \n",
       "</tr>\n",
       "</table>\n",
       "<table class=\"simpletable\">\n",
       "<tr>\n",
       "          <td></td>             <th>coef</th>     <th>std err</th>      <th>t</th>      <th>P>|t|</th>  <th>[0.025</th>    <th>0.975]</th>  \n",
       "</tr>\n",
       "<tr>\n",
       "  <th>const</th>             <td> -351.9570</td> <td>   30.168</td> <td>  -11.667</td> <td> 0.000</td> <td> -411.318</td> <td> -292.596</td>\n",
       "</tr>\n",
       "<tr>\n",
       "  <th>Income</th>            <td>   -7.5541</td> <td>    0.277</td> <td>  -27.243</td> <td> 0.000</td> <td>   -8.100</td> <td>   -7.008</td>\n",
       "</tr>\n",
       "<tr>\n",
       "  <th>Limit</th>             <td>    0.1981</td> <td>    0.037</td> <td>    5.312</td> <td> 0.000</td> <td>    0.125</td> <td>    0.271</td>\n",
       "</tr>\n",
       "<tr>\n",
       "  <th>Rating</th>            <td>    0.9713</td> <td>    0.561</td> <td>    1.733</td> <td> 0.084</td> <td>   -0.132</td> <td>    2.074</td>\n",
       "</tr>\n",
       "<tr>\n",
       "  <th>Cards</th>             <td>   19.1238</td> <td>    5.025</td> <td>    3.805</td> <td> 0.000</td> <td>    9.235</td> <td>   29.012</td>\n",
       "</tr>\n",
       "<tr>\n",
       "  <th>Age</th>               <td>   -0.6037</td> <td>    0.345</td> <td>   -1.750</td> <td> 0.081</td> <td>   -1.282</td> <td>    0.075</td>\n",
       "</tr>\n",
       "<tr>\n",
       "  <th>Education</th>         <td>   -1.0787</td> <td>    1.822</td> <td>   -0.592</td> <td> 0.554</td> <td>   -4.664</td> <td>    2.507</td>\n",
       "</tr>\n",
       "<tr>\n",
       "  <th>IsMarried</th>         <td>   -6.1504</td> <td>   11.904</td> <td>   -0.517</td> <td> 0.606</td> <td>  -29.573</td> <td>   17.272</td>\n",
       "</tr>\n",
       "<tr>\n",
       "  <th>IsStudent</th>         <td>  418.4354</td> <td>   19.758</td> <td>   21.178</td> <td> 0.000</td> <td>  379.558</td> <td>  457.313</td>\n",
       "</tr>\n",
       "<tr>\n",
       "  <th>IsMale</th>            <td>   12.4937</td> <td>   11.425</td> <td>    1.094</td> <td> 0.275</td> <td>   -9.987</td> <td>   34.975</td>\n",
       "</tr>\n",
       "<tr>\n",
       "  <th>IsAsian</th>           <td> -112.2944</td> <td>   12.981</td> <td>   -8.651</td> <td> 0.000</td> <td> -137.836</td> <td>  -86.753</td>\n",
       "</tr>\n",
       "<tr>\n",
       "  <th>IsCaucasian</th>       <td> -114.0728</td> <td>   12.483</td> <td>   -9.138</td> <td> 0.000</td> <td> -138.636</td> <td>  -89.510</td>\n",
       "</tr>\n",
       "<tr>\n",
       "  <th>IsAfricanAmerican</th> <td> -125.5899</td> <td>   14.012</td> <td>   -8.963</td> <td> 0.000</td> <td> -153.161</td> <td>  -98.018</td>\n",
       "</tr>\n",
       "</table>\n",
       "<table class=\"simpletable\">\n",
       "<tr>\n",
       "  <th>Omnibus:</th>       <td>18.681</td> <th>  Durbin-Watson:     </th> <td>   1.983</td>\n",
       "</tr>\n",
       "<tr>\n",
       "  <th>Prob(Omnibus):</th> <td> 0.000</td> <th>  Jarque-Bera (JB):  </th> <td>  20.945</td>\n",
       "</tr>\n",
       "<tr>\n",
       "  <th>Skew:</th>          <td> 0.623</td> <th>  Prob(JB):          </th> <td>2.83e-05</td>\n",
       "</tr>\n",
       "<tr>\n",
       "  <th>Kurtosis:</th>      <td> 2.870</td> <th>  Cond. No.          </th> <td>2.48e+19</td>\n",
       "</tr>\n",
       "</table><br/><br/>Warnings:<br/>[1] Standard Errors assume that the covariance matrix of the errors is correctly specified.<br/>[2] The smallest eigenvalue is 1.47e-29. This might indicate that there are<br/>strong multicollinearity problems or that the design matrix is singular."
      ],
      "text/plain": [
       "<class 'statsmodels.iolib.summary.Summary'>\n",
       "\"\"\"\n",
       "                            OLS Regression Results                            \n",
       "==============================================================================\n",
       "Dep. Variable:                Balance   R-squared:                       0.955\n",
       "Model:                            OLS   Adj. R-squared:                  0.954\n",
       "Method:                 Least Squares   F-statistic:                     597.4\n",
       "Date:                Thu, 09 May 2019   Prob (F-statistic):          2.13e-200\n",
       "Time:                        20:25:32   Log-Likelihood:                -1926.6\n",
       "No. Observations:                 320   AIC:                             3877.\n",
       "Df Residuals:                     308   BIC:                             3922.\n",
       "Df Model:                          11                                         \n",
       "Covariance Type:            nonrobust                                         \n",
       "=====================================================================================\n",
       "                        coef    std err          t      P>|t|      [0.025      0.975]\n",
       "-------------------------------------------------------------------------------------\n",
       "const              -351.9570     30.168    -11.667      0.000    -411.318    -292.596\n",
       "Income               -7.5541      0.277    -27.243      0.000      -8.100      -7.008\n",
       "Limit                 0.1981      0.037      5.312      0.000       0.125       0.271\n",
       "Rating                0.9713      0.561      1.733      0.084      -0.132       2.074\n",
       "Cards                19.1238      5.025      3.805      0.000       9.235      29.012\n",
       "Age                  -0.6037      0.345     -1.750      0.081      -1.282       0.075\n",
       "Education            -1.0787      1.822     -0.592      0.554      -4.664       2.507\n",
       "IsMarried            -6.1504     11.904     -0.517      0.606     -29.573      17.272\n",
       "IsStudent           418.4354     19.758     21.178      0.000     379.558     457.313\n",
       "IsMale               12.4937     11.425      1.094      0.275      -9.987      34.975\n",
       "IsAsian            -112.2944     12.981     -8.651      0.000    -137.836     -86.753\n",
       "IsCaucasian        -114.0728     12.483     -9.138      0.000    -138.636     -89.510\n",
       "IsAfricanAmerican  -125.5899     14.012     -8.963      0.000    -153.161     -98.018\n",
       "==============================================================================\n",
       "Omnibus:                       18.681   Durbin-Watson:                   1.983\n",
       "Prob(Omnibus):                  0.000   Jarque-Bera (JB):               20.945\n",
       "Skew:                           0.623   Prob(JB):                     2.83e-05\n",
       "Kurtosis:                       2.870   Cond. No.                     2.48e+19\n",
       "==============================================================================\n",
       "\n",
       "Warnings:\n",
       "[1] Standard Errors assume that the covariance matrix of the errors is correctly specified.\n",
       "[2] The smallest eigenvalue is 1.47e-29. This might indicate that there are\n",
       "strong multicollinearity problems or that the design matrix is singular.\n",
       "\"\"\""
      ]
     },
     "execution_count": 27,
     "metadata": {},
     "output_type": "execute_result"
    }
   ],
   "source": [
    "model_allVariables.summary()"
   ]
  },
  {
   "cell_type": "markdown",
   "metadata": {},
   "source": [
    "# TODO INTERPRETATION evtl residuen plotten"
   ]
  },
  {
   "cell_type": "markdown",
   "metadata": {},
   "source": [
    "#### Werte der Koeffizienten"
   ]
  },
  {
   "cell_type": "code",
   "execution_count": 28,
   "metadata": {
    "scrolled": true
   },
   "outputs": [
    {
     "data": {
      "text/html": [
       "<div>\n",
       "<style scoped>\n",
       "    .dataframe tbody tr th:only-of-type {\n",
       "        vertical-align: middle;\n",
       "    }\n",
       "\n",
       "    .dataframe tbody tr th {\n",
       "        vertical-align: top;\n",
       "    }\n",
       "\n",
       "    .dataframe thead th {\n",
       "        text-align: right;\n",
       "    }\n",
       "</style>\n",
       "<table border=\"1\" class=\"dataframe\">\n",
       "  <thead>\n",
       "    <tr style=\"text-align: right;\">\n",
       "      <th></th>\n",
       "      <th>All variables</th>\n",
       "      <th>Without limit</th>\n",
       "      <th>Without isCaucasian</th>\n",
       "      <th>Without limit and isCaucasian</th>\n",
       "    </tr>\n",
       "  </thead>\n",
       "  <tbody>\n",
       "    <tr>\n",
       "      <th>Age</th>\n",
       "      <td>-0.603695</td>\n",
       "      <td>-0.587846</td>\n",
       "      <td>-0.603695</td>\n",
       "      <td>-0.587846</td>\n",
       "    </tr>\n",
       "    <tr>\n",
       "      <th>Cards</th>\n",
       "      <td>19.123826</td>\n",
       "      <td>4.181306</td>\n",
       "      <td>19.123826</td>\n",
       "      <td>4.181306</td>\n",
       "    </tr>\n",
       "    <tr>\n",
       "      <th>Education</th>\n",
       "      <td>-1.078674</td>\n",
       "      <td>-0.346833</td>\n",
       "      <td>-1.078674</td>\n",
       "      <td>-0.346833</td>\n",
       "    </tr>\n",
       "    <tr>\n",
       "      <th>Income</th>\n",
       "      <td>-7.554059</td>\n",
       "      <td>-7.573931</td>\n",
       "      <td>-7.554059</td>\n",
       "      <td>-7.573931</td>\n",
       "    </tr>\n",
       "    <tr>\n",
       "      <th>IsAfricanAmerican</th>\n",
       "      <td>-125.589917</td>\n",
       "      <td>-147.741912</td>\n",
       "      <td>-11.517153</td>\n",
       "      <td>-14.396755</td>\n",
       "    </tr>\n",
       "    <tr>\n",
       "      <th>IsAsian</th>\n",
       "      <td>-112.294369</td>\n",
       "      <td>-127.308454</td>\n",
       "      <td>1.778395</td>\n",
       "      <td>6.036703</td>\n",
       "    </tr>\n",
       "    <tr>\n",
       "      <th>IsCaucasian</th>\n",
       "      <td>-114.072764</td>\n",
       "      <td>-133.345157</td>\n",
       "      <td>NaN</td>\n",
       "      <td>NaN</td>\n",
       "    </tr>\n",
       "    <tr>\n",
       "      <th>IsMale</th>\n",
       "      <td>12.493725</td>\n",
       "      <td>12.842603</td>\n",
       "      <td>12.493725</td>\n",
       "      <td>12.842603</td>\n",
       "    </tr>\n",
       "    <tr>\n",
       "      <th>IsMarried</th>\n",
       "      <td>-6.150365</td>\n",
       "      <td>-12.123810</td>\n",
       "      <td>-6.150365</td>\n",
       "      <td>-12.123810</td>\n",
       "    </tr>\n",
       "    <tr>\n",
       "      <th>IsStudent</th>\n",
       "      <td>418.435398</td>\n",
       "      <td>412.661119</td>\n",
       "      <td>418.435398</td>\n",
       "      <td>412.661119</td>\n",
       "    </tr>\n",
       "    <tr>\n",
       "      <th>Limit</th>\n",
       "      <td>0.198058</td>\n",
       "      <td>NaN</td>\n",
       "      <td>0.198058</td>\n",
       "      <td>NaN</td>\n",
       "    </tr>\n",
       "    <tr>\n",
       "      <th>Rating</th>\n",
       "      <td>0.971292</td>\n",
       "      <td>3.931093</td>\n",
       "      <td>0.971292</td>\n",
       "      <td>3.931093</td>\n",
       "    </tr>\n",
       "    <tr>\n",
       "      <th>const</th>\n",
       "      <td>-351.957050</td>\n",
       "      <td>-408.395523</td>\n",
       "      <td>-466.029814</td>\n",
       "      <td>-541.740680</td>\n",
       "    </tr>\n",
       "  </tbody>\n",
       "</table>\n",
       "</div>"
      ],
      "text/plain": [
       "                   All variables  Without limit  Without isCaucasian  \\\n",
       "Age                    -0.603695      -0.587846            -0.603695   \n",
       "Cards                  19.123826       4.181306            19.123826   \n",
       "Education              -1.078674      -0.346833            -1.078674   \n",
       "Income                 -7.554059      -7.573931            -7.554059   \n",
       "IsAfricanAmerican    -125.589917    -147.741912           -11.517153   \n",
       "IsAsian              -112.294369    -127.308454             1.778395   \n",
       "IsCaucasian          -114.072764    -133.345157                  NaN   \n",
       "IsMale                 12.493725      12.842603            12.493725   \n",
       "IsMarried              -6.150365     -12.123810            -6.150365   \n",
       "IsStudent             418.435398     412.661119           418.435398   \n",
       "Limit                   0.198058            NaN             0.198058   \n",
       "Rating                  0.971292       3.931093             0.971292   \n",
       "const                -351.957050    -408.395523          -466.029814   \n",
       "\n",
       "                   Without limit and isCaucasian  \n",
       "Age                                    -0.587846  \n",
       "Cards                                   4.181306  \n",
       "Education                              -0.346833  \n",
       "Income                                 -7.573931  \n",
       "IsAfricanAmerican                     -14.396755  \n",
       "IsAsian                                 6.036703  \n",
       "IsCaucasian                                  NaN  \n",
       "IsMale                                 12.842603  \n",
       "IsMarried                             -12.123810  \n",
       "IsStudent                             412.661119  \n",
       "Limit                                        NaN  \n",
       "Rating                                  3.931093  \n",
       "const                                -541.740680  "
      ]
     },
     "metadata": {},
     "output_type": "display_data"
    }
   ],
   "source": [
    "# creating table of coefficients\n",
    "params = pd.DataFrame({\"All variables\": model_allVariables.params, \"Without limit\": model_withoutLimit.params, \"Without isCaucasian\": model_wo_IsCauc.params, \"Without limit and isCaucasian\": model_wo_IsCauc_Lim.params})\n",
    "display(params)"
   ]
  },
  {
   "cell_type": "markdown",
   "metadata": {},
   "source": [
    "# TODO INTERPRETATION"
   ]
  },
  {
   "cell_type": "markdown",
   "metadata": {},
   "source": [
    "#### RMSE zwischen Vorhersage und Ground Truth der Testdaten"
   ]
  },
  {
   "cell_type": "code",
   "execution_count": 29,
   "metadata": {
    "scrolled": false
   },
   "outputs": [
    {
     "name": "stdout",
     "output_type": "stream",
     "text": [
      "RMSE of model with all variables: 89.302\n",
      "RMSE of model without limit: 91.426\n",
      "RMSE of model without isCaucasian: 91.426\n",
      "RMSE of model without limit and isCaucasian: 91.426\n"
     ]
    }
   ],
   "source": [
    "# predict \n",
    "predicted_wo_isCauc = predict_ols_statsmodel(X_test_wo_IsCauc, model_wo_IsCauc)\n",
    "predicted_wo_isCauc_lim = predict_ols_statsmodel(X_test_wo_IsCauc_Lim, model_wo_IsCauc_Lim)\n",
    "\n",
    "# print rmse\n",
    "print('RMSE of model with all variables: ' + str(round(calculate_rmse(predicted_allVariables, y_test), 3)))\n",
    "print('RMSE of model without limit: ' + str(round(calculate_rmse(predicted_withoutLimit, y_test), 3)))\n",
    "print('RMSE of model without isCaucasian: ' + str(round(calculate_rmse(predicted_wo_isCauc_lim, y_test), 3)))\n",
    "print('RMSE of model without limit and isCaucasian: ' + str(round(calculate_rmse(predicted_wo_isCauc_lim, y_test), 3)))"
   ]
  },
  {
   "cell_type": "markdown",
   "metadata": {},
   "source": [
    "# TODO: beschreiben und mit 4c vergleichen"
   ]
  },
  {
   "cell_type": "markdown",
   "metadata": {},
   "source": [
    "### e) OLS mit unterschiedlichen Variablen\n",
    "Führen Sie eine lineare Regression (OLS) mit folgenden Variablen durch: \n",
    "1. Income, Limit, Age\n",
    "2. Income, Rating, Age\n",
    "3. Income, Limit, Rating, Age \n",
    "\n",
    "Beschreiben Sie die Koeffizienten, Konfidenzintervalle und Signifikanzniveau. Vergleichen Sie die Ergebnisse."
   ]
  },
  {
   "cell_type": "markdown",
   "metadata": {},
   "source": [
    "#### Erstellung der Datasets und Modelle:"
   ]
  },
  {
   "cell_type": "code",
   "execution_count": 30,
   "metadata": {
    "scrolled": true
   },
   "outputs": [
    {
     "name": "stderr",
     "output_type": "stream",
     "text": [
      "/home/carmen/anaconda3/envs/python3_7-SmartDataAnalytics/lib/python3.7/site-packages/numpy/core/fromnumeric.py:2389: FutureWarning: Method .ptp is deprecated and will be removed in a future version. Use numpy.ptp instead.\n",
      "  return ptp(axis=axis, out=out, **kwargs)\n"
     ]
    }
   ],
   "source": [
    "# create datasets with different variables\n",
    "# income (inc), limit (lim), age, rating (rat)\n",
    "X_train_inc_lim_age = X_train[[\"Income\", \"Limit\", \"Age\"]]\n",
    "X_train_inc_rat_age = X_train[[\"Income\", \"Rating\", \"Age\"]]\n",
    "X_train_inc_lim_rat_age = X_train[[\"Income\", \"Rating\", \"Limit\", \"Age\"]]\n",
    "X_test_inc_lim_age = X_test[[\"Income\", \"Limit\", \"Age\"]]\n",
    "X_test_inc_rat_age = X_test[[\"Income\", \"Rating\", \"Age\"]]\n",
    "X_test_inc_lim_rat_age = X_test[[\"Income\", \"Rating\", \"Limit\", \"Age\"]]\n",
    "\n",
    "# create models\n",
    "model_inc_lim_age = ols_statsmodel(X_train_inc_lim_age, y_train)\n",
    "model_inc_rat_age = ols_statsmodel(X_train_inc_rat_age, y_train)\n",
    "model_inc_lim_rat_age = ols_statsmodel(X_train_inc_lim_rat_age, y_train)"
   ]
  },
  {
   "cell_type": "markdown",
   "metadata": {},
   "source": [
    "#### Ergebnisse:"
   ]
  },
  {
   "cell_type": "markdown",
   "metadata": {},
   "source": [
    "#### Werte der Koeffizienten"
   ]
  },
  {
   "cell_type": "code",
   "execution_count": 31,
   "metadata": {
    "scrolled": true
   },
   "outputs": [
    {
     "data": {
      "text/html": [
       "<div>\n",
       "<style scoped>\n",
       "    .dataframe tbody tr th:only-of-type {\n",
       "        vertical-align: middle;\n",
       "    }\n",
       "\n",
       "    .dataframe tbody tr th {\n",
       "        vertical-align: top;\n",
       "    }\n",
       "\n",
       "    .dataframe thead th {\n",
       "        text-align: right;\n",
       "    }\n",
       "</style>\n",
       "<table border=\"1\" class=\"dataframe\">\n",
       "  <thead>\n",
       "    <tr style=\"text-align: right;\">\n",
       "      <th></th>\n",
       "      <th>Income, Limit, Age</th>\n",
       "      <th>Income, Rating, Age</th>\n",
       "      <th>Income, Limit, Rating, Age</th>\n",
       "    </tr>\n",
       "  </thead>\n",
       "  <tbody>\n",
       "    <tr>\n",
       "      <th>Age</th>\n",
       "      <td>-0.820518</td>\n",
       "      <td>-0.881677</td>\n",
       "      <td>-0.854335</td>\n",
       "    </tr>\n",
       "    <tr>\n",
       "      <th>Income</th>\n",
       "      <td>-7.329630</td>\n",
       "      <td>-7.330938</td>\n",
       "      <td>-7.389024</td>\n",
       "    </tr>\n",
       "    <tr>\n",
       "      <th>Limit</th>\n",
       "      <td>0.260357</td>\n",
       "      <td>NaN</td>\n",
       "      <td>0.101988</td>\n",
       "    </tr>\n",
       "    <tr>\n",
       "      <th>Rating</th>\n",
       "      <td>NaN</td>\n",
       "      <td>3.889386</td>\n",
       "      <td>2.381763</td>\n",
       "    </tr>\n",
       "    <tr>\n",
       "      <th>const</th>\n",
       "      <td>-333.273816</td>\n",
       "      <td>-478.148061</td>\n",
       "      <td>-424.587171</td>\n",
       "    </tr>\n",
       "  </tbody>\n",
       "</table>\n",
       "</div>"
      ],
      "text/plain": [
       "        Income, Limit, Age  Income, Rating, Age  Income, Limit, Rating, Age\n",
       "Age              -0.820518            -0.881677                   -0.854335\n",
       "Income           -7.329630            -7.330938                   -7.389024\n",
       "Limit             0.260357                  NaN                    0.101988\n",
       "Rating                 NaN             3.889386                    2.381763\n",
       "const          -333.273816          -478.148061                 -424.587171"
      ]
     },
     "metadata": {},
     "output_type": "display_data"
    }
   ],
   "source": [
    "# creating table of coefficients\n",
    "params = pd.DataFrame({\"Income, Limit, Age\": model_inc_lim_age.params, \"Income, Rating, Age\": model_inc_rat_age.params, \"Income, Limit, Rating, Age\": model_inc_lim_rat_age.params})\n",
    "display(params)"
   ]
  },
  {
   "cell_type": "markdown",
   "metadata": {},
   "source": [
    "##### Konfidenzintervalle"
   ]
  },
  {
   "cell_type": "code",
   "execution_count": 32,
   "metadata": {
    "scrolled": true
   },
   "outputs": [
    {
     "name": "stdout",
     "output_type": "stream",
     "text": [
      "Confidence intervals: \n"
     ]
    },
    {
     "name": "stderr",
     "output_type": "stream",
     "text": [
      "/home/carmen/anaconda3/envs/python3_7-SmartDataAnalytics/lib/python3.7/site-packages/ipykernel_launcher.py:17: FutureWarning: Sorting because non-concatenation axis is not aligned. A future version\n",
      "of pandas will change to not sort by default.\n",
      "\n",
      "To accept the future behavior, pass 'sort=False'.\n",
      "\n",
      "To retain the current behavior and silence the warning, pass 'sort=True'.\n",
      "\n"
     ]
    },
    {
     "data": {
      "text/html": [
       "<div>\n",
       "<style scoped>\n",
       "    .dataframe tbody tr th:only-of-type {\n",
       "        vertical-align: middle;\n",
       "    }\n",
       "\n",
       "    .dataframe tbody tr th {\n",
       "        vertical-align: top;\n",
       "    }\n",
       "\n",
       "    .dataframe thead th {\n",
       "        text-align: right;\n",
       "    }\n",
       "</style>\n",
       "<table border=\"1\" class=\"dataframe\">\n",
       "  <thead>\n",
       "    <tr style=\"text-align: right;\">\n",
       "      <th></th>\n",
       "      <th>Income, Limit, Age: 0.025</th>\n",
       "      <th>Income, Limit, Age: 0.975</th>\n",
       "      <th>Income, Rating, Age: 0.025</th>\n",
       "      <th>Income, Rating, Age: 0.975</th>\n",
       "      <th>Income, Limit, Rating, Age: 0.025</th>\n",
       "      <th>Income, Limit, Rating, Age: 0.975</th>\n",
       "    </tr>\n",
       "  </thead>\n",
       "  <tbody>\n",
       "    <tr>\n",
       "      <th>Age</th>\n",
       "      <td>-1.891570</td>\n",
       "      <td>0.250534</td>\n",
       "      <td>-1.941837</td>\n",
       "      <td>0.178482</td>\n",
       "      <td>-1.909003</td>\n",
       "      <td>0.200333</td>\n",
       "    </tr>\n",
       "    <tr>\n",
       "      <th>Income</th>\n",
       "      <td>-8.189807</td>\n",
       "      <td>-6.469453</td>\n",
       "      <td>-8.181468</td>\n",
       "      <td>-6.480407</td>\n",
       "      <td>-8.236621</td>\n",
       "      <td>-6.541427</td>\n",
       "    </tr>\n",
       "    <tr>\n",
       "      <th>Limit</th>\n",
       "      <td>0.247789</td>\n",
       "      <td>0.272926</td>\n",
       "      <td>NaN</td>\n",
       "      <td>NaN</td>\n",
       "      <td>0.007311</td>\n",
       "      <td>0.196665</td>\n",
       "    </tr>\n",
       "    <tr>\n",
       "      <th>Rating</th>\n",
       "      <td>NaN</td>\n",
       "      <td>NaN</td>\n",
       "      <td>3.703869</td>\n",
       "      <td>4.074903</td>\n",
       "      <td>0.970106</td>\n",
       "      <td>3.793419</td>\n",
       "    </tr>\n",
       "    <tr>\n",
       "      <th>const</th>\n",
       "      <td>-403.970593</td>\n",
       "      <td>-262.577038</td>\n",
       "      <td>-551.359133</td>\n",
       "      <td>-404.936989</td>\n",
       "      <td>-512.755269</td>\n",
       "      <td>-336.419073</td>\n",
       "    </tr>\n",
       "  </tbody>\n",
       "</table>\n",
       "</div>"
      ],
      "text/plain": [
       "        Income, Limit, Age: 0.025   Income, Limit, Age: 0.975  \\\n",
       "Age                      -1.891570                   0.250534   \n",
       "Income                   -8.189807                  -6.469453   \n",
       "Limit                     0.247789                   0.272926   \n",
       "Rating                         NaN                        NaN   \n",
       "const                  -403.970593                -262.577038   \n",
       "\n",
       "        Income, Rating, Age: 0.025  Income, Rating, Age: 0.975  \\\n",
       "Age                      -1.941837                    0.178482   \n",
       "Income                   -8.181468                   -6.480407   \n",
       "Limit                          NaN                         NaN   \n",
       "Rating                    3.703869                    4.074903   \n",
       "const                  -551.359133                 -404.936989   \n",
       "\n",
       "        Income, Limit, Rating, Age: 0.025  Income, Limit, Rating, Age: 0.975  \n",
       "Age                             -1.909003                           0.200333  \n",
       "Income                          -8.236621                          -6.541427  \n",
       "Limit                            0.007311                           0.196665  \n",
       "Rating                           0.970106                           3.793419  \n",
       "const                         -512.755269                        -336.419073  "
      ]
     },
     "metadata": {},
     "output_type": "display_data"
    },
    {
     "name": "stdout",
     "output_type": "stream",
     "text": [
      "Width of confidence intervals: \n"
     ]
    },
    {
     "data": {
      "text/html": [
       "<div>\n",
       "<style scoped>\n",
       "    .dataframe tbody tr th:only-of-type {\n",
       "        vertical-align: middle;\n",
       "    }\n",
       "\n",
       "    .dataframe tbody tr th {\n",
       "        vertical-align: top;\n",
       "    }\n",
       "\n",
       "    .dataframe thead th {\n",
       "        text-align: right;\n",
       "    }\n",
       "</style>\n",
       "<table border=\"1\" class=\"dataframe\">\n",
       "  <thead>\n",
       "    <tr style=\"text-align: right;\">\n",
       "      <th></th>\n",
       "      <th>Income, Limit, Age</th>\n",
       "      <th>Income, Rating, Age</th>\n",
       "      <th>Income, Limit, Rating, Age</th>\n",
       "    </tr>\n",
       "  </thead>\n",
       "  <tbody>\n",
       "    <tr>\n",
       "      <th>Age</th>\n",
       "      <td>2.142104</td>\n",
       "      <td>2.120319</td>\n",
       "      <td>2.109336</td>\n",
       "    </tr>\n",
       "    <tr>\n",
       "      <th>Income</th>\n",
       "      <td>1.720354</td>\n",
       "      <td>1.701062</td>\n",
       "      <td>1.695194</td>\n",
       "    </tr>\n",
       "    <tr>\n",
       "      <th>Limit</th>\n",
       "      <td>0.025137</td>\n",
       "      <td>NaN</td>\n",
       "      <td>0.189354</td>\n",
       "    </tr>\n",
       "    <tr>\n",
       "      <th>Rating</th>\n",
       "      <td>NaN</td>\n",
       "      <td>0.371034</td>\n",
       "      <td>2.823313</td>\n",
       "    </tr>\n",
       "    <tr>\n",
       "      <th>const</th>\n",
       "      <td>141.393555</td>\n",
       "      <td>146.422144</td>\n",
       "      <td>176.336196</td>\n",
       "    </tr>\n",
       "  </tbody>\n",
       "</table>\n",
       "</div>"
      ],
      "text/plain": [
       "        Income, Limit, Age  Income, Rating, Age  Income, Limit, Rating, Age\n",
       "Age               2.142104             2.120319                    2.109336\n",
       "Income            1.720354             1.701062                    1.695194\n",
       "Limit             0.025137                  NaN                    0.189354\n",
       "Rating                 NaN             0.371034                    2.823313\n",
       "const           141.393555           146.422144                  176.336196"
      ]
     },
     "metadata": {},
     "output_type": "display_data"
    }
   ],
   "source": [
    "# get confidence intervals\n",
    "confIn_inc_lim_age = pd.DataFrame(model_inc_lim_age.conf_int(0.05))\n",
    "confIn_inc_rat_age = pd.DataFrame(model_inc_rat_age.conf_int(0.05))\n",
    "confIn_inc_lim_rat_age = pd.DataFrame(model_inc_lim_rat_age.conf_int(0.05))\n",
    "\n",
    "# calculate width of confidence intervals\n",
    "width_confIn_inc_lim_age = confIn_inc_lim_age[1]-confIn_inc_lim_age[0]\n",
    "width_confIn_inc_rat_age = confIn_inc_rat_age[1]-confIn_inc_rat_age[0]\n",
    "width_confIn_inc_lim_rat_age = confIn_inc_lim_rat_age[1]-confIn_inc_lim_rat_age[0]\n",
    "\n",
    "# rename columns\n",
    "confIn_inc_lim_age.rename(columns = {0:\"Income, Limit, Age: 0.025 \", 1: \"Income, Limit, Age: 0.975\"}, inplace = True)\n",
    "confIn_inc_rat_age.rename(columns = {0:\"Income, Rating, Age: 0.025\", 1: \"Income, Rating, Age: 0.975\"}, inplace = True)\n",
    "confIn_inc_lim_rat_age.rename(columns = {0:\"Income, Limit, Rating, Age: 0.025\", 1: \"Income, Limit, Rating, Age: 0.975\"}, inplace = True)\n",
    "\n",
    "# create DataFrame for confIns\n",
    "confIns = pd.concat([confIn_inc_lim_age, confIn_inc_rat_age, confIn_inc_lim_rat_age], axis=1, join='outer')\n",
    "\n",
    "# display confIns\n",
    "print(\"Confidence intervals: \")\n",
    "display(confIns)\n",
    "\n",
    "# create DataFrame for widths_confIns\n",
    "widths_confIns = pd.DataFrame({\"Income, Limit, Age\":width_confIn_inc_lim_age, \"Income, Rating, Age\":width_confIn_inc_rat_age, \"Income, Limit, Rating, Age\":width_confIn_inc_lim_rat_age})\n",
    "\n",
    "# display widths_confIns\n",
    "print(\"Width of confidence intervals: \")\n",
    "display(widths_confIns)"
   ]
  },
  {
   "cell_type": "markdown",
   "metadata": {},
   "source": [
    "#### Signifikanz der Koeffizienten"
   ]
  },
  {
   "cell_type": "code",
   "execution_count": 33,
   "metadata": {
    "scrolled": true
   },
   "outputs": [
    {
     "name": "stdout",
     "output_type": "stream",
     "text": [
      "Coefficients of models: \n"
     ]
    },
    {
     "data": {
      "text/html": [
       "<div>\n",
       "<style scoped>\n",
       "    .dataframe tbody tr th:only-of-type {\n",
       "        vertical-align: middle;\n",
       "    }\n",
       "\n",
       "    .dataframe tbody tr th {\n",
       "        vertical-align: top;\n",
       "    }\n",
       "\n",
       "    .dataframe thead th {\n",
       "        text-align: right;\n",
       "    }\n",
       "</style>\n",
       "<table border=\"1\" class=\"dataframe\">\n",
       "  <thead>\n",
       "    <tr style=\"text-align: right;\">\n",
       "      <th></th>\n",
       "      <th>Income, Limit, Age</th>\n",
       "      <th>Income, Rating, Age</th>\n",
       "      <th>Income, Limit, Rating, Age</th>\n",
       "    </tr>\n",
       "  </thead>\n",
       "  <tbody>\n",
       "    <tr>\n",
       "      <th>Age</th>\n",
       "      <td>0.133</td>\n",
       "      <td>0.103</td>\n",
       "      <td>0.112</td>\n",
       "    </tr>\n",
       "    <tr>\n",
       "      <th>Income</th>\n",
       "      <td>0.000</td>\n",
       "      <td>0.000</td>\n",
       "      <td>0.000</td>\n",
       "    </tr>\n",
       "    <tr>\n",
       "      <th>Limit</th>\n",
       "      <td>0.000</td>\n",
       "      <td>NaN</td>\n",
       "      <td>0.035</td>\n",
       "    </tr>\n",
       "    <tr>\n",
       "      <th>Rating</th>\n",
       "      <td>NaN</td>\n",
       "      <td>0.000</td>\n",
       "      <td>0.001</td>\n",
       "    </tr>\n",
       "    <tr>\n",
       "      <th>const</th>\n",
       "      <td>0.000</td>\n",
       "      <td>0.000</td>\n",
       "      <td>0.000</td>\n",
       "    </tr>\n",
       "  </tbody>\n",
       "</table>\n",
       "</div>"
      ],
      "text/plain": [
       "        Income, Limit, Age  Income, Rating, Age  Income, Limit, Rating, Age\n",
       "Age                  0.133                0.103                       0.112\n",
       "Income               0.000                0.000                       0.000\n",
       "Limit                0.000                  NaN                       0.035\n",
       "Rating                 NaN                0.000                       0.001\n",
       "const                0.000                0.000                       0.000"
      ]
     },
     "metadata": {},
     "output_type": "display_data"
    }
   ],
   "source": [
    "# creating table of p-values\n",
    "pValues_e = pd.DataFrame({\"Income, Limit, Age\": model_inc_lim_age.pvalues, \"Income, Rating, Age\": model_inc_rat_age.pvalues, \"Income, Limit, Rating, Age\": model_inc_lim_rat_age.pvalues})\n",
    "print('Coefficients of models: ')\n",
    "display(pValues_e.round(3))"
   ]
  },
  {
   "cell_type": "markdown",
   "metadata": {},
   "source": [
    "# TODO interpretieren!!! "
   ]
  },
  {
   "cell_type": "markdown",
   "metadata": {},
   "source": [
    "### f) Korrelation\n",
    "Was ist Korrelation? Wann benutzt man Pearson Korrelation, Spearman Korrelation und Kendalls Tau? Berechnen Sie Korrelationen zwischen allen Variablen im Trainings-Datensatz. Welche Schlussfolgerung können Sie daraus ziehen?"
   ]
  },
  {
   "cell_type": "markdown",
   "metadata": {},
   "source": [
    "Anmerkung: \n",
    "\n",
    "$*$: Multiplikationszeichen\n",
    "\n",
    "Auszüge aus Ausschitte aus dem Skript zur Vorlesung Statistik für Fortgeschrittene WS 2018/2019 Lehrstuhl für Analytics and Statistics (Prof. Grothe KIT), S. 58-61)\n",
    "#### Was ist Korrelation?\n",
    "Korrelation misst die Stärke und Richtung des Zusammenhangs bzw. der Abhängigkeit zwischen zwei Zufallsvariablen. \n",
    "Die Korrelation ist nicht mit Kausalität gleichzusetzen, da zwar ein Zusammenhang zwischen zwei Zufallsvariablen möglich ist, ohne dass diese sich direkt beeinflussen.\n",
    "\n",
    "#### Pearson Korrelation\n",
    "Das bekannteste skalare Zusammenhangsmaß zweier Zufallsvariablen X und Y ist der Korrelationskoeffizient\n",
    "nach Bravais-Pearson:\n",
    "\n",
    "$$Corr(X,Y) = \\rho_{BP} = \\dfrac{Cov(X,Y)}{\\sqrt{X}*\\sqrt{Y}}$$\n",
    "\n",
    "Er misst die Stärke des linearen Zusammenhangs von X und Y und hängt von den\n",
    "Randverteilungen von X und Y ab. \n",
    "Sein Wertebereich ist $[-1,1]$.\n",
    "\n",
    "#### Spearman Korrelation\n",
    "Das Korrelationsmaß Spearmans $\\rho_S$ ist unabhängig von der Randverteilung und somit ein Rangkorrelationskoeffizient.\n",
    "$$\\rho_S = \\dfrac{Cov(F_X(X), F_Y(Y))}{\\sqrt{Var(F_X(X))}*\\sqrt{F_Y(Y)}} = \\dfrac{Cov(U, V)}{\\sqrt{Var(U)}*\\sqrt{Var(V)}}$$\n",
    "\n",
    "$F_Z(Z)$ ist die Verteilungsfunktion der Zufallsvariable $Z$\n",
    "\n",
    "Als Rangkorrelationskoeffizient ist Spearmans's $\\rho_S$ invariant gegenüber streng monoton wachsende Transformationen $\\alpha(.)$ und $\\beta(.)$ der Ränder: \n",
    "\n",
    "$$ \\rho_{S,X,Y} = \\rho_{S,\\alpha(x), \\beta(Y)} $$\n",
    "\n",
    "Auch hier ist der Wertebereich $[-1,1]$, jedoch wird nicht die Stärke des linearen Zusammenhangs zwischen den Zufallsvariablen X und Y, sondern zwischen U und V und somit den monotonen Zusammenhangs zwischen X und Y gemessen.\n",
    "\n",
    "\n",
    "##### Kendalls $\\tau$\n",
    "Seien X, Y Zufallsvariablen mit gemeinsamer Verteilungsfunktion F X,Y und Copula C.\n",
    "Mit $(X^∗ , Y^∗ )$ bezeichnen wir eine ”unabhängige Kopie” von $(X,Y)$.\n",
    "Kendalls $\\tau$ ist dann definiert durch:\n",
    "\n",
    "$$\\tau = P((X-X^*)((Y-Y^*))>0)-P((X-X^*)((Y-Y^*))<0)$$\n",
    "\n",
    "Die erste Wahrscheinlichkeit heißt Konkordanz- die zweite Wahrscheinlichkeit Diskordanzwahrscheinlichkeit. Man kann zeigen, dass\n",
    "\n",
    "$$ \\tau = \\dfrac{Cov(sign(X-X^*), sign(Y-Y^*))}{\\sqrt{Var(sign(X-X^*))}\\sqrt{Var(sign(Y-Y^*))}}$$\n",
    "\n",
    "mit $$sign(z)= \\left\\{ \\begin{array}{c} 1\\quad z>0\\\\0 \\quad   z=0\\\\-1 \\quad   z<0 \\end{array} \\right.$$\n",
    "\n",
    "Auch Kendalls $\\tau$ ist ein Rangkorrelationskoeffizient.\n",
    "\n",
    "#### Wann verwendet man was\n",
    "Rangkorrelationsmaße können auch für ordinalskalierte Daten verwendet werden.\n",
    "Ein linearer Zusammenhang impliziert einen monotonen Zusammenhang. Umgekehrt gilt dies nicht.\n",
    "Ein Rangkorrelationsmaß ist zudem robuster gegenüber Ausreißer.\n",
    "\n",
    "#### Berechnungen und Schlussfolgerung"
   ]
  },
  {
   "cell_type": "code",
   "execution_count": 39,
   "metadata": {
    "scrolled": true
   },
   "outputs": [
    {
     "data": {
      "image/png": "[encoded data removed]",
      "text/plain": [
       "<Figure size 864x648 with 2 Axes>"
      ]
     },
     "metadata": {
      "needs_background": "light"
     },
     "output_type": "display_data"
    }
   ],
   "source": [
    "# calculate pearson correlation\n",
    "corr_pearson = X.corr('pearson')\n",
    "# set figure size\n",
    "fig = plt.figure(figsize=(12,9))\n",
    "# visualize correlation matrix as heatmap\n",
    "sns.heatmap(corr_pearson,vmin=-1,vmax=1,annot=True)\n",
    "plt.show()"
   ]
  },
  {
   "cell_type": "code",
   "execution_count": 35,
   "metadata": {},
   "outputs": [
    {
     "data": {
      "image/png": "[encoded data removed]",
      "text/plain": [
       "<Figure size 864x648 with 2 Axes>"
      ]
     },
     "metadata": {
      "needs_background": "light"
     },
     "output_type": "display_data"
    }
   ],
   "source": [
    "# calculate kendalls correlation\n",
    "corr_kendall = X.corr('kendall')\n",
    "# set figure size\n",
    "fig = plt.figure(figsize=(12,9))\n",
    "# visualize correlation matrix as heatmap\n",
    "sns.heatmap(corr_kendall,vmin=-1,vmax=1,annot=True)\n",
    "plt.show()"
   ]
  },
  {
   "cell_type": "code",
   "execution_count": 40,
   "metadata": {},
   "outputs": [
    {
     "data": {
      "image/png": "[encoded data removed]",
      "text/plain": [
       "<Figure size 864x648 with 2 Axes>"
      ]
     },
     "metadata": {
      "needs_background": "light"
     },
     "output_type": "display_data"
    }
   ],
   "source": [
    "# calculate spearman correlation\n",
    "corr_spearman = X.corr('spearman')\n",
    "# set figure size\n",
    "fig = plt.figure(figsize=(12,9))\n",
    "# visualize correlation matrix as heatmap\n",
    "sns.heatmap(corr_spearman,vmin=-1,vmax=1,annot=True)\n",
    "plt.show()"
   ]
  },
  {
   "cell_type": "markdown",
   "metadata": {},
   "source": [
    "# TODO: Interpretation rating+limit, "
   ]
  },
  {
   "cell_type": "markdown",
   "metadata": {},
   "source": [
    "### g) Random Forest\n",
    "Führen Sie die Analyse in 4e) mit Random Forest anstatt der linearen Regression durch. Variieren Sie dabei den Parameter random_state mit den Werten {1, 33, 135, 123, 99, 22} und einigen selbst gewählten Werten. Berechnen Sie MSE des Test-Datensatzes. Vergleichen Sie Feature Importance. Welche Schlussfolgerung können Sie daraus ziehen?"
   ]
  },
  {
   "cell_type": "code",
   "execution_count": 57,
   "metadata": {},
   "outputs": [],
   "source": [
    "# define funcion for random forest\n",
    "def randomForest(random_state_value, X_train, y_train, X_test, y_test):\n",
    "\n",
    "    # instantiate model \n",
    "    rf = RandomForestRegressor(random_state = random_state_value, n_estimators = 100)\n",
    "\n",
    "    # train the model on training data\n",
    "    rf.fit(X_train, y_train)\n",
    "   \n",
    "    # Use the forest's predict method on the test data\n",
    "    y_pred = rf.predict(X_test)\n",
    "\n",
    "    # calculate the root mean squared error\n",
    "    rmse = sqrt(mean_squared_error(y_test, y_pred))\n",
    "    \n",
    "    # returns the mean accuracy on the given test data and labels.\n",
    "    score = rf.score(X_test, y_test)\n",
    "    \n",
    "    # calculate feature importances\n",
    "    feature_importances = pd.DataFrame(rf.feature_importances_,\n",
    "                                      index = X_train.columns,\n",
    "                                      columns = ['importance']).sort_values('importance', ascending=False) \n",
    "\n",
    "    return rmse, score, feature_importances"
   ]
  },
  {
   "cell_type": "code",
   "execution_count": 102,
   "metadata": {},
   "outputs": [
    {
     "name": "stdout",
     "output_type": "stream",
     "text": [
      "Random state = 1\n"
     ]
    },
    {
     "data": {
      "text/html": [
       "<div>\n",
       "<style scoped>\n",
       "    .dataframe tbody tr th:only-of-type {\n",
       "        vertical-align: middle;\n",
       "    }\n",
       "\n",
       "    .dataframe tbody tr th {\n",
       "        vertical-align: top;\n",
       "    }\n",
       "\n",
       "    .dataframe thead th {\n",
       "        text-align: right;\n",
       "    }\n",
       "</style>\n",
       "<table border=\"1\" class=\"dataframe\">\n",
       "  <thead>\n",
       "    <tr style=\"text-align: right;\">\n",
       "      <th></th>\n",
       "      <th>Income, Limit, Age</th>\n",
       "      <th>Income, Rate, Age</th>\n",
       "      <th>Income, Limit, Rate, Age</th>\n",
       "    </tr>\n",
       "  </thead>\n",
       "  <tbody>\n",
       "    <tr>\n",
       "      <th>rmse</th>\n",
       "      <td>177.617695</td>\n",
       "      <td>180.161726</td>\n",
       "      <td>174.859170</td>\n",
       "    </tr>\n",
       "    <tr>\n",
       "      <th>mean accuracy</th>\n",
       "      <td>0.811173</td>\n",
       "      <td>0.805725</td>\n",
       "      <td>0.816992</td>\n",
       "    </tr>\n",
       "  </tbody>\n",
       "</table>\n",
       "</div>"
      ],
      "text/plain": [
       "               Income, Limit, Age  Income, Rate, Age  Income, Limit, Rate, Age\n",
       "rmse                   177.617695         180.161726                174.859170\n",
       "mean accuracy            0.811173           0.805725                  0.816992"
      ]
     },
     "metadata": {},
     "output_type": "display_data"
    },
    {
     "data": {
      "text/html": [
       "<div>\n",
       "<style scoped>\n",
       "    .dataframe tbody tr th:only-of-type {\n",
       "        vertical-align: middle;\n",
       "    }\n",
       "\n",
       "    .dataframe tbody tr th {\n",
       "        vertical-align: top;\n",
       "    }\n",
       "\n",
       "    .dataframe thead th {\n",
       "        text-align: right;\n",
       "    }\n",
       "</style>\n",
       "<table border=\"1\" class=\"dataframe\">\n",
       "  <thead>\n",
       "    <tr style=\"text-align: right;\">\n",
       "      <th></th>\n",
       "      <th>importance</th>\n",
       "      <th>importance</th>\n",
       "      <th>importance</th>\n",
       "    </tr>\n",
       "  </thead>\n",
       "  <tbody>\n",
       "    <tr>\n",
       "      <th>Age</th>\n",
       "      <td>0.021104</td>\n",
       "      <td>0.021707</td>\n",
       "      <td>0.016249</td>\n",
       "    </tr>\n",
       "    <tr>\n",
       "      <th>Income</th>\n",
       "      <td>0.099518</td>\n",
       "      <td>0.107055</td>\n",
       "      <td>0.091219</td>\n",
       "    </tr>\n",
       "    <tr>\n",
       "      <th>Limit</th>\n",
       "      <td>0.879378</td>\n",
       "      <td>NaN</td>\n",
       "      <td>0.423724</td>\n",
       "    </tr>\n",
       "    <tr>\n",
       "      <th>Rating</th>\n",
       "      <td>NaN</td>\n",
       "      <td>0.871238</td>\n",
       "      <td>0.468808</td>\n",
       "    </tr>\n",
       "  </tbody>\n",
       "</table>\n",
       "</div>"
      ],
      "text/plain": [
       "        importance  importance  importance\n",
       "Age       0.021104    0.021707    0.016249\n",
       "Income    0.099518    0.107055    0.091219\n",
       "Limit     0.879378         NaN    0.423724\n",
       "Rating         NaN    0.871238    0.468808"
      ]
     },
     "metadata": {},
     "output_type": "display_data"
    },
    {
     "name": "stdout",
     "output_type": "stream",
     "text": [
      "\n",
      "\n",
      "Random state = 2\n"
     ]
    },
    {
     "data": {
      "text/html": [
       "<div>\n",
       "<style scoped>\n",
       "    .dataframe tbody tr th:only-of-type {\n",
       "        vertical-align: middle;\n",
       "    }\n",
       "\n",
       "    .dataframe tbody tr th {\n",
       "        vertical-align: top;\n",
       "    }\n",
       "\n",
       "    .dataframe thead th {\n",
       "        text-align: right;\n",
       "    }\n",
       "</style>\n",
       "<table border=\"1\" class=\"dataframe\">\n",
       "  <thead>\n",
       "    <tr style=\"text-align: right;\">\n",
       "      <th></th>\n",
       "      <th>Income, Limit, Age</th>\n",
       "      <th>Income, Rate, Age</th>\n",
       "      <th>Income, Limit, Rate, Age</th>\n",
       "    </tr>\n",
       "  </thead>\n",
       "  <tbody>\n",
       "    <tr>\n",
       "      <th>rmse</th>\n",
       "      <td>180.944496</td>\n",
       "      <td>183.238651</td>\n",
       "      <td>180.169019</td>\n",
       "    </tr>\n",
       "    <tr>\n",
       "      <th>mean accuracy</th>\n",
       "      <td>0.804033</td>\n",
       "      <td>0.799032</td>\n",
       "      <td>0.805709</td>\n",
       "    </tr>\n",
       "  </tbody>\n",
       "</table>\n",
       "</div>"
      ],
      "text/plain": [
       "               Income, Limit, Age  Income, Rate, Age  Income, Limit, Rate, Age\n",
       "rmse                   180.944496         183.238651                180.169019\n",
       "mean accuracy            0.804033           0.799032                  0.805709"
      ]
     },
     "metadata": {},
     "output_type": "display_data"
    },
    {
     "data": {
      "text/html": [
       "<div>\n",
       "<style scoped>\n",
       "    .dataframe tbody tr th:only-of-type {\n",
       "        vertical-align: middle;\n",
       "    }\n",
       "\n",
       "    .dataframe tbody tr th {\n",
       "        vertical-align: top;\n",
       "    }\n",
       "\n",
       "    .dataframe thead th {\n",
       "        text-align: right;\n",
       "    }\n",
       "</style>\n",
       "<table border=\"1\" class=\"dataframe\">\n",
       "  <thead>\n",
       "    <tr style=\"text-align: right;\">\n",
       "      <th></th>\n",
       "      <th>importance</th>\n",
       "      <th>importance</th>\n",
       "      <th>importance</th>\n",
       "    </tr>\n",
       "  </thead>\n",
       "  <tbody>\n",
       "    <tr>\n",
       "      <th>Age</th>\n",
       "      <td>0.020447</td>\n",
       "      <td>0.020956</td>\n",
       "      <td>0.016712</td>\n",
       "    </tr>\n",
       "    <tr>\n",
       "      <th>Income</th>\n",
       "      <td>0.099073</td>\n",
       "      <td>0.108749</td>\n",
       "      <td>0.090831</td>\n",
       "    </tr>\n",
       "    <tr>\n",
       "      <th>Limit</th>\n",
       "      <td>0.880480</td>\n",
       "      <td>NaN</td>\n",
       "      <td>0.371165</td>\n",
       "    </tr>\n",
       "    <tr>\n",
       "      <th>Rating</th>\n",
       "      <td>NaN</td>\n",
       "      <td>0.870295</td>\n",
       "      <td>0.521291</td>\n",
       "    </tr>\n",
       "  </tbody>\n",
       "</table>\n",
       "</div>"
      ],
      "text/plain": [
       "        importance  importance  importance\n",
       "Age       0.020447    0.020956    0.016712\n",
       "Income    0.099073    0.108749    0.090831\n",
       "Limit     0.880480         NaN    0.371165\n",
       "Rating         NaN    0.870295    0.521291"
      ]
     },
     "metadata": {},
     "output_type": "display_data"
    },
    {
     "name": "stdout",
     "output_type": "stream",
     "text": [
      "\n",
      "\n",
      "Random state = 22\n"
     ]
    },
    {
     "data": {
      "text/html": [
       "<div>\n",
       "<style scoped>\n",
       "    .dataframe tbody tr th:only-of-type {\n",
       "        vertical-align: middle;\n",
       "    }\n",
       "\n",
       "    .dataframe tbody tr th {\n",
       "        vertical-align: top;\n",
       "    }\n",
       "\n",
       "    .dataframe thead th {\n",
       "        text-align: right;\n",
       "    }\n",
       "</style>\n",
       "<table border=\"1\" class=\"dataframe\">\n",
       "  <thead>\n",
       "    <tr style=\"text-align: right;\">\n",
       "      <th></th>\n",
       "      <th>Income, Limit, Age</th>\n",
       "      <th>Income, Rate, Age</th>\n",
       "      <th>Income, Limit, Rate, Age</th>\n",
       "    </tr>\n",
       "  </thead>\n",
       "  <tbody>\n",
       "    <tr>\n",
       "      <th>rmse</th>\n",
       "      <td>179.230071</td>\n",
       "      <td>185.505067</td>\n",
       "      <td>182.85198</td>\n",
       "    </tr>\n",
       "    <tr>\n",
       "      <th>mean accuracy</th>\n",
       "      <td>0.807729</td>\n",
       "      <td>0.794030</td>\n",
       "      <td>0.79988</td>\n",
       "    </tr>\n",
       "  </tbody>\n",
       "</table>\n",
       "</div>"
      ],
      "text/plain": [
       "               Income, Limit, Age  Income, Rate, Age  Income, Limit, Rate, Age\n",
       "rmse                   179.230071         185.505067                 182.85198\n",
       "mean accuracy            0.807729           0.794030                   0.79988"
      ]
     },
     "metadata": {},
     "output_type": "display_data"
    },
    {
     "data": {
      "text/html": [
       "<div>\n",
       "<style scoped>\n",
       "    .dataframe tbody tr th:only-of-type {\n",
       "        vertical-align: middle;\n",
       "    }\n",
       "\n",
       "    .dataframe tbody tr th {\n",
       "        vertical-align: top;\n",
       "    }\n",
       "\n",
       "    .dataframe thead th {\n",
       "        text-align: right;\n",
       "    }\n",
       "</style>\n",
       "<table border=\"1\" class=\"dataframe\">\n",
       "  <thead>\n",
       "    <tr style=\"text-align: right;\">\n",
       "      <th></th>\n",
       "      <th>importance</th>\n",
       "      <th>importance</th>\n",
       "      <th>importance</th>\n",
       "    </tr>\n",
       "  </thead>\n",
       "  <tbody>\n",
       "    <tr>\n",
       "      <th>Age</th>\n",
       "      <td>0.021427</td>\n",
       "      <td>0.022446</td>\n",
       "      <td>0.016983</td>\n",
       "    </tr>\n",
       "    <tr>\n",
       "      <th>Income</th>\n",
       "      <td>0.101054</td>\n",
       "      <td>0.109747</td>\n",
       "      <td>0.092392</td>\n",
       "    </tr>\n",
       "    <tr>\n",
       "      <th>Limit</th>\n",
       "      <td>0.877519</td>\n",
       "      <td>NaN</td>\n",
       "      <td>0.401303</td>\n",
       "    </tr>\n",
       "    <tr>\n",
       "      <th>Rating</th>\n",
       "      <td>NaN</td>\n",
       "      <td>0.867808</td>\n",
       "      <td>0.489323</td>\n",
       "    </tr>\n",
       "  </tbody>\n",
       "</table>\n",
       "</div>"
      ],
      "text/plain": [
       "        importance  importance  importance\n",
       "Age       0.021427    0.022446    0.016983\n",
       "Income    0.101054    0.109747    0.092392\n",
       "Limit     0.877519         NaN    0.401303\n",
       "Rating         NaN    0.867808    0.489323"
      ]
     },
     "metadata": {},
     "output_type": "display_data"
    },
    {
     "name": "stdout",
     "output_type": "stream",
     "text": [
      "\n",
      "\n",
      "Random state = 33\n"
     ]
    },
    {
     "data": {
      "text/html": [
       "<div>\n",
       "<style scoped>\n",
       "    .dataframe tbody tr th:only-of-type {\n",
       "        vertical-align: middle;\n",
       "    }\n",
       "\n",
       "    .dataframe tbody tr th {\n",
       "        vertical-align: top;\n",
       "    }\n",
       "\n",
       "    .dataframe thead th {\n",
       "        text-align: right;\n",
       "    }\n",
       "</style>\n",
       "<table border=\"1\" class=\"dataframe\">\n",
       "  <thead>\n",
       "    <tr style=\"text-align: right;\">\n",
       "      <th></th>\n",
       "      <th>Income, Limit, Age</th>\n",
       "      <th>Income, Rate, Age</th>\n",
       "      <th>Income, Limit, Rate, Age</th>\n",
       "    </tr>\n",
       "  </thead>\n",
       "  <tbody>\n",
       "    <tr>\n",
       "      <th>rmse</th>\n",
       "      <td>180.856832</td>\n",
       "      <td>182.468679</td>\n",
       "      <td>181.814714</td>\n",
       "    </tr>\n",
       "    <tr>\n",
       "      <th>mean accuracy</th>\n",
       "      <td>0.804223</td>\n",
       "      <td>0.800718</td>\n",
       "      <td>0.802144</td>\n",
       "    </tr>\n",
       "  </tbody>\n",
       "</table>\n",
       "</div>"
      ],
      "text/plain": [
       "               Income, Limit, Age  Income, Rate, Age  Income, Limit, Rate, Age\n",
       "rmse                   180.856832         182.468679                181.814714\n",
       "mean accuracy            0.804223           0.800718                  0.802144"
      ]
     },
     "metadata": {},
     "output_type": "display_data"
    },
    {
     "data": {
      "text/html": [
       "<div>\n",
       "<style scoped>\n",
       "    .dataframe tbody tr th:only-of-type {\n",
       "        vertical-align: middle;\n",
       "    }\n",
       "\n",
       "    .dataframe tbody tr th {\n",
       "        vertical-align: top;\n",
       "    }\n",
       "\n",
       "    .dataframe thead th {\n",
       "        text-align: right;\n",
       "    }\n",
       "</style>\n",
       "<table border=\"1\" class=\"dataframe\">\n",
       "  <thead>\n",
       "    <tr style=\"text-align: right;\">\n",
       "      <th></th>\n",
       "      <th>importance</th>\n",
       "      <th>importance</th>\n",
       "      <th>importance</th>\n",
       "    </tr>\n",
       "  </thead>\n",
       "  <tbody>\n",
       "    <tr>\n",
       "      <th>Age</th>\n",
       "      <td>0.020132</td>\n",
       "      <td>0.021528</td>\n",
       "      <td>0.016008</td>\n",
       "    </tr>\n",
       "    <tr>\n",
       "      <th>Income</th>\n",
       "      <td>0.098907</td>\n",
       "      <td>0.108616</td>\n",
       "      <td>0.091388</td>\n",
       "    </tr>\n",
       "    <tr>\n",
       "      <th>Limit</th>\n",
       "      <td>0.880962</td>\n",
       "      <td>NaN</td>\n",
       "      <td>0.384833</td>\n",
       "    </tr>\n",
       "    <tr>\n",
       "      <th>Rating</th>\n",
       "      <td>NaN</td>\n",
       "      <td>0.869857</td>\n",
       "      <td>0.507771</td>\n",
       "    </tr>\n",
       "  </tbody>\n",
       "</table>\n",
       "</div>"
      ],
      "text/plain": [
       "        importance  importance  importance\n",
       "Age       0.020132    0.021528    0.016008\n",
       "Income    0.098907    0.108616    0.091388\n",
       "Limit     0.880962         NaN    0.384833\n",
       "Rating         NaN    0.869857    0.507771"
      ]
     },
     "metadata": {},
     "output_type": "display_data"
    },
    {
     "name": "stdout",
     "output_type": "stream",
     "text": [
      "\n",
      "\n",
      "Random state = 99\n"
     ]
    },
    {
     "data": {
      "text/html": [
       "<div>\n",
       "<style scoped>\n",
       "    .dataframe tbody tr th:only-of-type {\n",
       "        vertical-align: middle;\n",
       "    }\n",
       "\n",
       "    .dataframe tbody tr th {\n",
       "        vertical-align: top;\n",
       "    }\n",
       "\n",
       "    .dataframe thead th {\n",
       "        text-align: right;\n",
       "    }\n",
       "</style>\n",
       "<table border=\"1\" class=\"dataframe\">\n",
       "  <thead>\n",
       "    <tr style=\"text-align: right;\">\n",
       "      <th></th>\n",
       "      <th>Income, Limit, Age</th>\n",
       "      <th>Income, Rate, Age</th>\n",
       "      <th>Income, Limit, Rate, Age</th>\n",
       "    </tr>\n",
       "  </thead>\n",
       "  <tbody>\n",
       "    <tr>\n",
       "      <th>rmse</th>\n",
       "      <td>179.353408</td>\n",
       "      <td>182.270097</td>\n",
       "      <td>180.287137</td>\n",
       "    </tr>\n",
       "    <tr>\n",
       "      <th>mean accuracy</th>\n",
       "      <td>0.807464</td>\n",
       "      <td>0.801151</td>\n",
       "      <td>0.805454</td>\n",
       "    </tr>\n",
       "  </tbody>\n",
       "</table>\n",
       "</div>"
      ],
      "text/plain": [
       "               Income, Limit, Age  Income, Rate, Age  Income, Limit, Rate, Age\n",
       "rmse                   179.353408         182.270097                180.287137\n",
       "mean accuracy            0.807464           0.801151                  0.805454"
      ]
     },
     "metadata": {},
     "output_type": "display_data"
    },
    {
     "data": {
      "text/html": [
       "<div>\n",
       "<style scoped>\n",
       "    .dataframe tbody tr th:only-of-type {\n",
       "        vertical-align: middle;\n",
       "    }\n",
       "\n",
       "    .dataframe tbody tr th {\n",
       "        vertical-align: top;\n",
       "    }\n",
       "\n",
       "    .dataframe thead th {\n",
       "        text-align: right;\n",
       "    }\n",
       "</style>\n",
       "<table border=\"1\" class=\"dataframe\">\n",
       "  <thead>\n",
       "    <tr style=\"text-align: right;\">\n",
       "      <th></th>\n",
       "      <th>importance</th>\n",
       "      <th>importance</th>\n",
       "      <th>importance</th>\n",
       "    </tr>\n",
       "  </thead>\n",
       "  <tbody>\n",
       "    <tr>\n",
       "      <th>Age</th>\n",
       "      <td>0.022009</td>\n",
       "      <td>0.021815</td>\n",
       "      <td>0.017592</td>\n",
       "    </tr>\n",
       "    <tr>\n",
       "      <th>Income</th>\n",
       "      <td>0.096700</td>\n",
       "      <td>0.104708</td>\n",
       "      <td>0.086837</td>\n",
       "    </tr>\n",
       "    <tr>\n",
       "      <th>Limit</th>\n",
       "      <td>0.881291</td>\n",
       "      <td>NaN</td>\n",
       "      <td>0.472643</td>\n",
       "    </tr>\n",
       "    <tr>\n",
       "      <th>Rating</th>\n",
       "      <td>NaN</td>\n",
       "      <td>0.873477</td>\n",
       "      <td>0.422928</td>\n",
       "    </tr>\n",
       "  </tbody>\n",
       "</table>\n",
       "</div>"
      ],
      "text/plain": [
       "        importance  importance  importance\n",
       "Age       0.022009    0.021815    0.017592\n",
       "Income    0.096700    0.104708    0.086837\n",
       "Limit     0.881291         NaN    0.472643\n",
       "Rating         NaN    0.873477    0.422928"
      ]
     },
     "metadata": {},
     "output_type": "display_data"
    },
    {
     "name": "stdout",
     "output_type": "stream",
     "text": [
      "\n",
      "\n",
      "Random state = 123\n"
     ]
    },
    {
     "data": {
      "text/html": [
       "<div>\n",
       "<style scoped>\n",
       "    .dataframe tbody tr th:only-of-type {\n",
       "        vertical-align: middle;\n",
       "    }\n",
       "\n",
       "    .dataframe tbody tr th {\n",
       "        vertical-align: top;\n",
       "    }\n",
       "\n",
       "    .dataframe thead th {\n",
       "        text-align: right;\n",
       "    }\n",
       "</style>\n",
       "<table border=\"1\" class=\"dataframe\">\n",
       "  <thead>\n",
       "    <tr style=\"text-align: right;\">\n",
       "      <th></th>\n",
       "      <th>Income, Limit, Age</th>\n",
       "      <th>Income, Rate, Age</th>\n",
       "      <th>Income, Limit, Rate, Age</th>\n",
       "    </tr>\n",
       "  </thead>\n",
       "  <tbody>\n",
       "    <tr>\n",
       "      <th>rmse</th>\n",
       "      <td>181.900796</td>\n",
       "      <td>183.590729</td>\n",
       "      <td>178.864465</td>\n",
       "    </tr>\n",
       "    <tr>\n",
       "      <th>mean accuracy</th>\n",
       "      <td>0.801956</td>\n",
       "      <td>0.798259</td>\n",
       "      <td>0.808513</td>\n",
       "    </tr>\n",
       "  </tbody>\n",
       "</table>\n",
       "</div>"
      ],
      "text/plain": [
       "               Income, Limit, Age  Income, Rate, Age  Income, Limit, Rate, Age\n",
       "rmse                   181.900796         183.590729                178.864465\n",
       "mean accuracy            0.801956           0.798259                  0.808513"
      ]
     },
     "metadata": {},
     "output_type": "display_data"
    },
    {
     "data": {
      "text/html": [
       "<div>\n",
       "<style scoped>\n",
       "    .dataframe tbody tr th:only-of-type {\n",
       "        vertical-align: middle;\n",
       "    }\n",
       "\n",
       "    .dataframe tbody tr th {\n",
       "        vertical-align: top;\n",
       "    }\n",
       "\n",
       "    .dataframe thead th {\n",
       "        text-align: right;\n",
       "    }\n",
       "</style>\n",
       "<table border=\"1\" class=\"dataframe\">\n",
       "  <thead>\n",
       "    <tr style=\"text-align: right;\">\n",
       "      <th></th>\n",
       "      <th>importance</th>\n",
       "      <th>importance</th>\n",
       "      <th>importance</th>\n",
       "    </tr>\n",
       "  </thead>\n",
       "  <tbody>\n",
       "    <tr>\n",
       "      <th>Age</th>\n",
       "      <td>0.020189</td>\n",
       "      <td>0.021678</td>\n",
       "      <td>0.017338</td>\n",
       "    </tr>\n",
       "    <tr>\n",
       "      <th>Income</th>\n",
       "      <td>0.100784</td>\n",
       "      <td>0.106665</td>\n",
       "      <td>0.092119</td>\n",
       "    </tr>\n",
       "    <tr>\n",
       "      <th>Limit</th>\n",
       "      <td>0.879026</td>\n",
       "      <td>NaN</td>\n",
       "      <td>0.390203</td>\n",
       "    </tr>\n",
       "    <tr>\n",
       "      <th>Rating</th>\n",
       "      <td>NaN</td>\n",
       "      <td>0.871656</td>\n",
       "      <td>0.500340</td>\n",
       "    </tr>\n",
       "  </tbody>\n",
       "</table>\n",
       "</div>"
      ],
      "text/plain": [
       "        importance  importance  importance\n",
       "Age       0.020189    0.021678    0.017338\n",
       "Income    0.100784    0.106665    0.092119\n",
       "Limit     0.879026         NaN    0.390203\n",
       "Rating         NaN    0.871656    0.500340"
      ]
     },
     "metadata": {},
     "output_type": "display_data"
    },
    {
     "name": "stdout",
     "output_type": "stream",
     "text": [
      "\n",
      "\n",
      "Random state = 135\n"
     ]
    },
    {
     "data": {
      "text/html": [
       "<div>\n",
       "<style scoped>\n",
       "    .dataframe tbody tr th:only-of-type {\n",
       "        vertical-align: middle;\n",
       "    }\n",
       "\n",
       "    .dataframe tbody tr th {\n",
       "        vertical-align: top;\n",
       "    }\n",
       "\n",
       "    .dataframe thead th {\n",
       "        text-align: right;\n",
       "    }\n",
       "</style>\n",
       "<table border=\"1\" class=\"dataframe\">\n",
       "  <thead>\n",
       "    <tr style=\"text-align: right;\">\n",
       "      <th></th>\n",
       "      <th>Income, Limit, Age</th>\n",
       "      <th>Income, Rate, Age</th>\n",
       "      <th>Income, Limit, Rate, Age</th>\n",
       "    </tr>\n",
       "  </thead>\n",
       "  <tbody>\n",
       "    <tr>\n",
       "      <th>rmse</th>\n",
       "      <td>178.989825</td>\n",
       "      <td>184.834251</td>\n",
       "      <td>178.179485</td>\n",
       "    </tr>\n",
       "    <tr>\n",
       "      <th>mean accuracy</th>\n",
       "      <td>0.808244</td>\n",
       "      <td>0.795517</td>\n",
       "      <td>0.809976</td>\n",
       "    </tr>\n",
       "  </tbody>\n",
       "</table>\n",
       "</div>"
      ],
      "text/plain": [
       "               Income, Limit, Age  Income, Rate, Age  Income, Limit, Rate, Age\n",
       "rmse                   178.989825         184.834251                178.179485\n",
       "mean accuracy            0.808244           0.795517                  0.809976"
      ]
     },
     "metadata": {},
     "output_type": "display_data"
    },
    {
     "data": {
      "text/html": [
       "<div>\n",
       "<style scoped>\n",
       "    .dataframe tbody tr th:only-of-type {\n",
       "        vertical-align: middle;\n",
       "    }\n",
       "\n",
       "    .dataframe tbody tr th {\n",
       "        vertical-align: top;\n",
       "    }\n",
       "\n",
       "    .dataframe thead th {\n",
       "        text-align: right;\n",
       "    }\n",
       "</style>\n",
       "<table border=\"1\" class=\"dataframe\">\n",
       "  <thead>\n",
       "    <tr style=\"text-align: right;\">\n",
       "      <th></th>\n",
       "      <th>importance</th>\n",
       "      <th>importance</th>\n",
       "      <th>importance</th>\n",
       "    </tr>\n",
       "  </thead>\n",
       "  <tbody>\n",
       "    <tr>\n",
       "      <th>Age</th>\n",
       "      <td>0.020488</td>\n",
       "      <td>0.022088</td>\n",
       "      <td>0.016934</td>\n",
       "    </tr>\n",
       "    <tr>\n",
       "      <th>Income</th>\n",
       "      <td>0.100146</td>\n",
       "      <td>0.109599</td>\n",
       "      <td>0.091951</td>\n",
       "    </tr>\n",
       "    <tr>\n",
       "      <th>Limit</th>\n",
       "      <td>0.879366</td>\n",
       "      <td>NaN</td>\n",
       "      <td>0.433896</td>\n",
       "    </tr>\n",
       "    <tr>\n",
       "      <th>Rating</th>\n",
       "      <td>NaN</td>\n",
       "      <td>0.868313</td>\n",
       "      <td>0.457219</td>\n",
       "    </tr>\n",
       "  </tbody>\n",
       "</table>\n",
       "</div>"
      ],
      "text/plain": [
       "        importance  importance  importance\n",
       "Age       0.020488    0.022088    0.016934\n",
       "Income    0.100146    0.109599    0.091951\n",
       "Limit     0.879366         NaN    0.433896\n",
       "Rating         NaN    0.868313    0.457219"
      ]
     },
     "metadata": {},
     "output_type": "display_data"
    },
    {
     "name": "stdout",
     "output_type": "stream",
     "text": [
      "\n",
      "\n",
      "Random state = 200\n"
     ]
    },
    {
     "data": {
      "text/html": [
       "<div>\n",
       "<style scoped>\n",
       "    .dataframe tbody tr th:only-of-type {\n",
       "        vertical-align: middle;\n",
       "    }\n",
       "\n",
       "    .dataframe tbody tr th {\n",
       "        vertical-align: top;\n",
       "    }\n",
       "\n",
       "    .dataframe thead th {\n",
       "        text-align: right;\n",
       "    }\n",
       "</style>\n",
       "<table border=\"1\" class=\"dataframe\">\n",
       "  <thead>\n",
       "    <tr style=\"text-align: right;\">\n",
       "      <th></th>\n",
       "      <th>Income, Limit, Age</th>\n",
       "      <th>Income, Rate, Age</th>\n",
       "      <th>Income, Limit, Rate, Age</th>\n",
       "    </tr>\n",
       "  </thead>\n",
       "  <tbody>\n",
       "    <tr>\n",
       "      <th>rmse</th>\n",
       "      <td>181.225271</td>\n",
       "      <td>183.485941</td>\n",
       "      <td>177.850196</td>\n",
       "    </tr>\n",
       "    <tr>\n",
       "      <th>mean accuracy</th>\n",
       "      <td>0.803424</td>\n",
       "      <td>0.798489</td>\n",
       "      <td>0.810678</td>\n",
       "    </tr>\n",
       "  </tbody>\n",
       "</table>\n",
       "</div>"
      ],
      "text/plain": [
       "               Income, Limit, Age  Income, Rate, Age  Income, Limit, Rate, Age\n",
       "rmse                   181.225271         183.485941                177.850196\n",
       "mean accuracy            0.803424           0.798489                  0.810678"
      ]
     },
     "metadata": {},
     "output_type": "display_data"
    },
    {
     "data": {
      "text/html": [
       "<div>\n",
       "<style scoped>\n",
       "    .dataframe tbody tr th:only-of-type {\n",
       "        vertical-align: middle;\n",
       "    }\n",
       "\n",
       "    .dataframe tbody tr th {\n",
       "        vertical-align: top;\n",
       "    }\n",
       "\n",
       "    .dataframe thead th {\n",
       "        text-align: right;\n",
       "    }\n",
       "</style>\n",
       "<table border=\"1\" class=\"dataframe\">\n",
       "  <thead>\n",
       "    <tr style=\"text-align: right;\">\n",
       "      <th></th>\n",
       "      <th>importance</th>\n",
       "      <th>importance</th>\n",
       "      <th>importance</th>\n",
       "    </tr>\n",
       "  </thead>\n",
       "  <tbody>\n",
       "    <tr>\n",
       "      <th>Age</th>\n",
       "      <td>0.020386</td>\n",
       "      <td>0.020927</td>\n",
       "      <td>0.016604</td>\n",
       "    </tr>\n",
       "    <tr>\n",
       "      <th>Income</th>\n",
       "      <td>0.100419</td>\n",
       "      <td>0.109708</td>\n",
       "      <td>0.091528</td>\n",
       "    </tr>\n",
       "    <tr>\n",
       "      <th>Limit</th>\n",
       "      <td>0.879195</td>\n",
       "      <td>NaN</td>\n",
       "      <td>0.391144</td>\n",
       "    </tr>\n",
       "    <tr>\n",
       "      <th>Rating</th>\n",
       "      <td>NaN</td>\n",
       "      <td>0.869366</td>\n",
       "      <td>0.500724</td>\n",
       "    </tr>\n",
       "  </tbody>\n",
       "</table>\n",
       "</div>"
      ],
      "text/plain": [
       "        importance  importance  importance\n",
       "Age       0.020386    0.020927    0.016604\n",
       "Income    0.100419    0.109708    0.091528\n",
       "Limit     0.879195         NaN    0.391144\n",
       "Rating         NaN    0.869366    0.500724"
      ]
     },
     "metadata": {},
     "output_type": "display_data"
    },
    {
     "name": "stdout",
     "output_type": "stream",
     "text": [
      "\n",
      "\n"
     ]
    }
   ],
   "source": [
    "# list with random states\n",
    "random_states = [1, 2, 22, 33, 99, 123, 135, 200]\n",
    "\n",
    "# for loop over random states\n",
    "for random_state in random_states:\n",
    "    \n",
    "    # fit models and get mean accuray, rmse and feature importances of each model\n",
    "    rmse_inc_lim_age, score_inc_lim_age, feature_importances_inc_lim_age = randomForest(random_state, \n",
    "                                                                                        X_train_inc_lim_age, y_train, \n",
    "                                                                                        X_test_inc_lim_age , y_test)\n",
    "    rmse_inc_rat_age, score_inc_rat_age, feature_importances_inc_rat_age = randomForest(random_state, \n",
    "                                                                                        X_train_inc_rat_age, y_train, \n",
    "                                                                                        X_test_inc_rat_age, y_test)    \n",
    "    rmse_inc_lim_rat_age, score_inc_lim_rat_age, feature_importances_inc_lim_rat_age = randomForest(random_state, \n",
    "                                                                                                    X_train_inc_lim_rat_age, y_train, \n",
    "                                                                                                    X_test_inc_lim_rat_age, y_test)\n",
    "    # create DataFrame out of Series for nice graphics of metrics mean accuracy and rmse\n",
    "    rf_metrics_inc_lim_age = pd.Series([rmse_inc_lim_age, score_inc_lim_age], index = [\"rmse\", \"mean accuracy\"])\n",
    "    rf_metrics_inc_rat_age = pd.Series([rmse_inc_rat_age, score_inc_rat_age], index = [\"rmse\", \"mean accuracy\"])\n",
    "    rf_metrics_inc_lim_rat_age = pd.Series([rmse_inc_lim_rat_age, score_inc_lim_rat_age], \n",
    "                                           index = [\"rmse\", \"mean accuracy\"])\n",
    "    rfs_metrics = pd.DataFrame({\"Income, Limit, Age\" : rf_metrics_inc_lim_age, \n",
    "                                \"Income, Rate, Age\" : rf_metrics_inc_rat_age, \n",
    "                                \"Income, Limit, Rate, Age\" : rf_metrics_inc_lim_rat_age}, \n",
    "                               index = [\"rmse\", \"mean accuracy\"])\n",
    "    \n",
    "    # display metrics\n",
    "    print(\"Random state = \" + str(random_state))\n",
    "    display(rfs_metrics)\n",
    "    \n",
    "    # create DataFrame out of Series for nice graphics feature importances\n",
    "    feature_importances = pd.concat([feature_importances_inc_lim_age, \n",
    "                                     feature_importances_inc_rat_age, \n",
    "                                     feature_importances_inc_lim_rat_age], \n",
    "                                    axis=1, join='outer', sort=True)\n",
    "    \n",
    "    # display feature importances\n",
    "    display(feature_importances)\n",
    "    \n",
    "    # empty line for nicer representation\n",
    "    print(\"\\n\")\n",
    "\n",
    "    \n",
    "    "
   ]
  },
  {
   "cell_type": "markdown",
   "metadata": {},
   "source": [
    "# Todo: conclude"
   ]
  },
  {
   "cell_type": "markdown",
   "metadata": {},
   "source": [
    "### h) Multikollinearität\n",
    "Was ist Multikollinearität? Was sind ihre möglichen Ursachen und Auswirkungen? Wie kann man sie erkennen? Welche Maßnahmen gibt es, wenn Variablen in den Daten kollinear sind?"
   ]
  },
  {
   "cell_type": "markdown",
   "metadata": {},
   "source": [
    "Multikollinearität liegt vor, wenn zwei oder mehr erklärende Variablen hoch untereinander korreliert sind. Mit zunehmender Multikollinearität wird das Verfahren um die Regressionsparameter zu schätzen instabil und die Interpretation des Modells uneindeutig. Zwar ist der Schätzer im Falle hoher Multikollinearität immer noch BLU (best linear unbiased), jedoch sind die Koeffizienten sehr ungenau geschätzt und das Konfindenzinterval zwar gültig, jedoch sehr breit. Dies ist darauf zurückzuführen, dass der Einfluss der einzelnen Variablen schlecht isoliert werden kann.\n",
    "Instabile Koeffizienten können u.a. folgende Konsequenzen haben:\n",
    "- Die Koeffizienten sind anscheinend nicht signifikant, selbst wenn eine signifikante Beziehung zwischen dem Prädiktor und der Antwortvariablen besteht. Erkennbar wird dies z.B. durch ein hohes Bestimmtheitsmaß (z.B. $R²$) zusammen mit wenig Signifikanz für die Regressionsparameter\n",
    "- Die Koeffizienten für stark korrelierte Prädiktoren variieren erheblich von Stichprobe zu Stichprobe.\n",
    "- Das Entfernen von stark korrelierten Termen aus dem Modell hat schwerwiegende Auswirkungen auf die geschätzten Koeffizienten der anderen stark korrelierten Terme. Die Koeffizienten der stark korrelierten Terme können sogar ein falsches Vorzeichen aufweisen.\n",
    "\n",
    "Zudem kann man Multikollinearität anhand der paarweise Korrelation zwischen den Regressoren (größer 0,7 oder 0,8) Multikollinearität erkennen. Eine weitere Möglichkeit sind Hilfsregressionen, bei denen die erklärenden Variablen aufeinander regressiert werden. Je höher das $R²$ dieser Hilsregression, desto größer das Multikollinearitätsproblem.\n",
    "\n",
    "Perfekte Mulikollinearität (exakte lineare Beziehung zwischen Regressoren) führt dazu, dass die Durchführung der linearen Regressionsalanyse unmöglich wird.\n",
    "\n",
    "Ursache perfekter Multikollinearität sind beispielsweise falsch verwendete Dummyvariablen, also z.B. eine Variable isStudent und eine isNotStudent. Ursachen für beinahe Mutlikollinearität sind gemeinsame Trends oder zu viele erklärende Variablen, die fast dasselbe messen.\n",
    "\n",
    "Probleme: Insbesondere bei der Schätzung des Einflusses der erklärenden Variable auf die abhängige Variable liegt ein Problem vor. \n",
    "\n",
    "Maßnahmen:\n",
    "- Transformation der Variablen: beispielsweise Bildung erster Differenzen bei trendbehafteten Zeitreihen\n",
    "- Variable weglassen (kann gefährlich werden: wenn beispielsweise Raucher ihr Handy in der Hosentasche aufbewahren, da eine andere Taschen der Kleidung mit der Zigarrettenschachtel belegt ist. Würde man nun die Variable istRaucher weglassen und bestimmen, ob und welchen Zusammenhang das Handy in der Hosentasche auf das Krebsrisiko hat, könnten schnell falsche Schlüsse gezogen werden)\n",
    "- Verwenden der Hauptkompontenanalyse zur Verringer\n",
    "\n",
    "\n",
    "(https://www.uibk.ac.at/econometrics/einf/kap08la.pdf, https://statisticsbyjim.com/regression/multicollinearity-in-regression-analysis/, https://support.minitab.com/de-de/minitab/18/help-and-how-to/modeling-statistics/regression/supporting-topics/model-assumptions/multicollinearity-in-regression/)\n"
   ]
  },
  {
   "cell_type": "code",
   "execution_count": null,
   "metadata": {},
   "outputs": [],
   "source": []
  }
 ],
 "metadata": {
  "kernelspec": {
   "display_name": "Python 3",
   "language": "python",
   "name": "python3"
  },
  "language_info": {
   "codemirror_mode": {
    "name": "ipython",
    "version": 3
   },
   "file_extension": ".py",
   "mimetype": "text/x-python",
   "name": "python",
   "nbconvert_exporter": "python",
   "pygments_lexer": "ipython3",
   "version": "3.7.3"
  }
 },
 "nbformat": 4,
 "nbformat_minor": 2
}
