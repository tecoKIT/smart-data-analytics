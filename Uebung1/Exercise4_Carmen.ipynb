{
 "cells": [
  {
   "cell_type": "markdown",
   "metadata": {},
   "source": [
    "# Exercise 4"
   ]
  },
  {
   "cell_type": "markdown",
   "metadata": {},
   "source": [
    "Coded by:\n",
    "1. Carmen Eitel - carmen.eitel@student.kit.edu\n",
    "\n",
    "on 01.05.2019\n",
    "\n",
    "version 1.0"
   ]
  },
  {
   "cell_type": "markdown",
   "metadata": {},
   "source": [
    "## Bibliotheken und Einstellungen"
   ]
  },
  {
   "cell_type": "markdown",
   "metadata": {},
   "source": [
    "# TODO: Inhaltsverzeichnis\n",
    "Vorgehen und kleine Zusammenfassung pro Notebook und Teilaufgabe (Abstract)\n",
    "data.info()\n",
    "\n",
    "zielvariable verteilung\n",
    "missing\n",
    "skalieren? \n"
   ]
  },
  {
   "cell_type": "code",
   "execution_count": 17,
   "metadata": {},
   "outputs": [],
   "source": [
    "# import libraries \n",
    "import numpy as np\n",
    "import pandas as pd\n",
    "from sklearn.model_selection import train_test_split\n",
    "from sklearn import datasets, linear_model\n",
    "from sklearn.metrics import mean_squared_error, r2_score\n",
    "import matplotlib.pyplot as plt\n",
    "from sklearn.ensemble import RandomForestRegressor\n",
    "from math import sqrt\n",
    "import statsmodels.api as sm\n",
    "import statsmodels.formula.api as smf\n",
    "from IPython.display import display\n",
    "import seaborn as sns"
   ]
  },
  {
   "cell_type": "markdown",
   "metadata": {},
   "source": [
    "## Teilaufgaben"
   ]
  },
  {
   "cell_type": "markdown",
   "metadata": {},
   "source": [
    "### a) Daten einlesen und erkunden\n",
    "Lesen Sie den Datensatz Credit.csv ein. Erkunden Sie die Daten und konvertieren Sie gegebenenfalls kategorische Variablen in ein geeignetes Format (z.B. mit pandas.get_dummies() oder sklearn.model_selection.OneHotEncoder()). "
   ]
  },
  {
   "cell_type": "code",
   "execution_count": 4,
   "metadata": {
    "scrolled": true
   },
   "outputs": [
    {
     "data": {
      "text/html": [
       "<div>\n",
       "<style scoped>\n",
       "    .dataframe tbody tr th:only-of-type {\n",
       "        vertical-align: middle;\n",
       "    }\n",
       "\n",
       "    .dataframe tbody tr th {\n",
       "        vertical-align: top;\n",
       "    }\n",
       "\n",
       "    .dataframe thead th {\n",
       "        text-align: right;\n",
       "    }\n",
       "</style>\n",
       "<table border=\"1\" class=\"dataframe\">\n",
       "  <thead>\n",
       "    <tr style=\"text-align: right;\">\n",
       "      <th></th>\n",
       "      <th>Unnamed: 0</th>\n",
       "      <th>Income</th>\n",
       "      <th>Limit</th>\n",
       "      <th>Rating</th>\n",
       "      <th>Cards</th>\n",
       "      <th>Age</th>\n",
       "      <th>Education</th>\n",
       "      <th>Gender</th>\n",
       "      <th>Student</th>\n",
       "      <th>Married</th>\n",
       "      <th>Ethnicity</th>\n",
       "      <th>Balance</th>\n",
       "    </tr>\n",
       "  </thead>\n",
       "  <tbody>\n",
       "    <tr>\n",
       "      <th>0</th>\n",
       "      <td>1</td>\n",
       "      <td>14.891</td>\n",
       "      <td>3606</td>\n",
       "      <td>283</td>\n",
       "      <td>2</td>\n",
       "      <td>34</td>\n",
       "      <td>11</td>\n",
       "      <td>Male</td>\n",
       "      <td>No</td>\n",
       "      <td>Yes</td>\n",
       "      <td>Caucasian</td>\n",
       "      <td>333</td>\n",
       "    </tr>\n",
       "    <tr>\n",
       "      <th>1</th>\n",
       "      <td>2</td>\n",
       "      <td>106.025</td>\n",
       "      <td>6645</td>\n",
       "      <td>483</td>\n",
       "      <td>3</td>\n",
       "      <td>82</td>\n",
       "      <td>15</td>\n",
       "      <td>Female</td>\n",
       "      <td>Yes</td>\n",
       "      <td>Yes</td>\n",
       "      <td>Asian</td>\n",
       "      <td>903</td>\n",
       "    </tr>\n",
       "    <tr>\n",
       "      <th>2</th>\n",
       "      <td>3</td>\n",
       "      <td>104.593</td>\n",
       "      <td>7075</td>\n",
       "      <td>514</td>\n",
       "      <td>4</td>\n",
       "      <td>71</td>\n",
       "      <td>11</td>\n",
       "      <td>Male</td>\n",
       "      <td>No</td>\n",
       "      <td>No</td>\n",
       "      <td>Asian</td>\n",
       "      <td>580</td>\n",
       "    </tr>\n",
       "    <tr>\n",
       "      <th>3</th>\n",
       "      <td>4</td>\n",
       "      <td>148.924</td>\n",
       "      <td>9504</td>\n",
       "      <td>681</td>\n",
       "      <td>3</td>\n",
       "      <td>36</td>\n",
       "      <td>11</td>\n",
       "      <td>Female</td>\n",
       "      <td>No</td>\n",
       "      <td>No</td>\n",
       "      <td>Asian</td>\n",
       "      <td>964</td>\n",
       "    </tr>\n",
       "    <tr>\n",
       "      <th>4</th>\n",
       "      <td>5</td>\n",
       "      <td>55.882</td>\n",
       "      <td>4897</td>\n",
       "      <td>357</td>\n",
       "      <td>2</td>\n",
       "      <td>68</td>\n",
       "      <td>16</td>\n",
       "      <td>Male</td>\n",
       "      <td>No</td>\n",
       "      <td>Yes</td>\n",
       "      <td>Caucasian</td>\n",
       "      <td>331</td>\n",
       "    </tr>\n",
       "  </tbody>\n",
       "</table>\n",
       "</div>"
      ],
      "text/plain": [
       "   Unnamed: 0   Income  Limit  Rating  Cards  Age  Education  Gender Student  \\\n",
       "0           1   14.891   3606     283      2   34         11    Male      No   \n",
       "1           2  106.025   6645     483      3   82         15  Female     Yes   \n",
       "2           3  104.593   7075     514      4   71         11    Male      No   \n",
       "3           4  148.924   9504     681      3   36         11  Female      No   \n",
       "4           5   55.882   4897     357      2   68         16    Male      No   \n",
       "\n",
       "  Married  Ethnicity  Balance  \n",
       "0     Yes  Caucasian      333  \n",
       "1     Yes      Asian      903  \n",
       "2      No      Asian      580  \n",
       "3      No      Asian      964  \n",
       "4     Yes  Caucasian      331  "
      ]
     },
     "execution_count": 4,
     "metadata": {},
     "output_type": "execute_result"
    }
   ],
   "source": [
    "# load dataset\n",
    "data_raw = pd.read_csv('./data/Credit.csv')\n",
    "\n",
    "# first insight of data by checking the first 5 data samples\n",
    "data_raw.head()"
   ]
  },
  {
   "cell_type": "code",
   "execution_count": 5,
   "metadata": {},
   "outputs": [
    {
     "name": "stdout",
     "output_type": "stream",
     "text": [
      "Information about data type: \n",
      "<class 'pandas.core.frame.DataFrame'>\n",
      "RangeIndex: 400 entries, 0 to 399\n",
      "Data columns (total 12 columns):\n",
      "Unnamed: 0    400 non-null int64\n",
      "Income        400 non-null float64\n",
      "Limit         400 non-null int64\n",
      "Rating        400 non-null int64\n",
      "Cards         400 non-null int64\n",
      "Age           400 non-null int64\n",
      "Education     400 non-null int64\n",
      "Gender        400 non-null object\n",
      "Student       400 non-null object\n",
      "Married       400 non-null object\n",
      "Ethnicity     400 non-null object\n",
      "Balance       400 non-null int64\n",
      "dtypes: float64(1), int64(7), object(4)\n",
      "memory usage: 37.6+ KB\n",
      "None\n",
      "\n",
      "Information about variable Ethnicity:\n"
     ]
    },
    {
     "data": {
      "text/plain": [
       "array(['Caucasian', 'Asian', 'African American'], dtype=object)"
      ]
     },
     "execution_count": 5,
     "metadata": {},
     "output_type": "execute_result"
    }
   ],
   "source": [
    "print('Information about data type: ')\n",
    "print(data_raw.info())\n",
    "\n",
    "print('\\nInformation about variable Ethnicity:')\n",
    "data_raw[\"Ethnicity\"].unique()"
   ]
  },
  {
   "cell_type": "markdown",
   "metadata": {},
   "source": [
    "Es gibt 400 Samples und keine fehlende Werte.\n",
    "\n",
    "Es gibt 10 exogene Variablen: \n",
    "- Income (float)\n",
    "- Limit (integer)\n",
    "- Rating (integer)\n",
    "- Cards, (integer)\n",
    "- Age (integer)\n",
    "- Education (integer)\n",
    "- Gender (object, dichtomotous)\n",
    "- Student (object, dichtomotous)\n",
    "- Married (object, dichtomotous)\n",
    "- Ethicity (object, categorical with 3 values: Caucasian, Asian, African American)\n",
    "\n",
    "und eine endogene Variable: \n",
    "- Balance (integer).\n",
    "\n",
    "Die binären Variablen müssen in eine Dummy-Variable mit 1 und 0 bzw. True und False überführt werden. Die kategorische Variable muss in verschiedene Dummy-Variablen entsprechend der Anzahl ihrer Ausprägungen überführt werden (siehe Teilaufgabe c).\n",
    "\n",
    "Im Folgenden werden die binären Variablen in eine Dummy-Variable überführt zusammen micht den integers und floats in ein Dataframe überführt."
   ]
  },
  {
   "cell_type": "code",
   "execution_count": 6,
   "metadata": {
    "scrolled": true
   },
   "outputs": [],
   "source": [
    "pd.options.mode.chained_assignment = None\n",
    "\n",
    "# create dummies of gender\n",
    "gender_df = pd.get_dummies(data_raw[\"Gender\"])\n",
    "\n",
    "# select one dummy\n",
    "is_male = gender_df[[\"Male\"]]\n",
    "\n",
    "#rename column\n",
    "is_male.rename(columns = {\"Male\":\"IsMale\"}, inplace = True)"
   ]
  },
  {
   "cell_type": "code",
   "execution_count": 7,
   "metadata": {},
   "outputs": [],
   "source": [
    "# create dummies for student\n",
    "student = pd.get_dummies(data_raw[\"Student\"])\n",
    "\n",
    "# select one dummy\n",
    "is_student = student[[\"Yes\"]]\n",
    "\n",
    "# rename column\n",
    "is_student.rename(columns = {\"Yes\":\"IsStudent\"}, inplace = True)"
   ]
  },
  {
   "cell_type": "code",
   "execution_count": 8,
   "metadata": {
    "scrolled": true
   },
   "outputs": [],
   "source": [
    "# create dummies for married\n",
    "married = pd.get_dummies(data_raw[\"Married\"])\n",
    "\n",
    "# select one dummy for married\n",
    "is_married = married[[\"Yes\"]]\n",
    "\n",
    "# rename column\n",
    "is_married.rename(columns = {\"Yes\":\"IsMarried\"}, inplace = True)"
   ]
  },
  {
   "cell_type": "code",
   "execution_count": 9,
   "metadata": {
    "scrolled": true
   },
   "outputs": [
    {
     "data": {
      "text/html": [
       "<div>\n",
       "<style scoped>\n",
       "    .dataframe tbody tr th:only-of-type {\n",
       "        vertical-align: middle;\n",
       "    }\n",
       "\n",
       "    .dataframe tbody tr th {\n",
       "        vertical-align: top;\n",
       "    }\n",
       "\n",
       "    .dataframe thead th {\n",
       "        text-align: right;\n",
       "    }\n",
       "</style>\n",
       "<table border=\"1\" class=\"dataframe\">\n",
       "  <thead>\n",
       "    <tr style=\"text-align: right;\">\n",
       "      <th></th>\n",
       "      <th>Balance</th>\n",
       "      <th>Income</th>\n",
       "      <th>Limit</th>\n",
       "      <th>Rating</th>\n",
       "      <th>Cards</th>\n",
       "      <th>Age</th>\n",
       "      <th>Education</th>\n",
       "      <th>IsMarried</th>\n",
       "      <th>IsStudent</th>\n",
       "      <th>IsMale</th>\n",
       "    </tr>\n",
       "  </thead>\n",
       "  <tbody>\n",
       "    <tr>\n",
       "      <th>0</th>\n",
       "      <td>333</td>\n",
       "      <td>14.891</td>\n",
       "      <td>3606</td>\n",
       "      <td>283</td>\n",
       "      <td>2</td>\n",
       "      <td>34</td>\n",
       "      <td>11</td>\n",
       "      <td>1</td>\n",
       "      <td>0</td>\n",
       "      <td>1</td>\n",
       "    </tr>\n",
       "    <tr>\n",
       "      <th>1</th>\n",
       "      <td>903</td>\n",
       "      <td>106.025</td>\n",
       "      <td>6645</td>\n",
       "      <td>483</td>\n",
       "      <td>3</td>\n",
       "      <td>82</td>\n",
       "      <td>15</td>\n",
       "      <td>1</td>\n",
       "      <td>1</td>\n",
       "      <td>0</td>\n",
       "    </tr>\n",
       "    <tr>\n",
       "      <th>2</th>\n",
       "      <td>580</td>\n",
       "      <td>104.593</td>\n",
       "      <td>7075</td>\n",
       "      <td>514</td>\n",
       "      <td>4</td>\n",
       "      <td>71</td>\n",
       "      <td>11</td>\n",
       "      <td>0</td>\n",
       "      <td>0</td>\n",
       "      <td>1</td>\n",
       "    </tr>\n",
       "    <tr>\n",
       "      <th>3</th>\n",
       "      <td>964</td>\n",
       "      <td>148.924</td>\n",
       "      <td>9504</td>\n",
       "      <td>681</td>\n",
       "      <td>3</td>\n",
       "      <td>36</td>\n",
       "      <td>11</td>\n",
       "      <td>0</td>\n",
       "      <td>0</td>\n",
       "      <td>0</td>\n",
       "    </tr>\n",
       "    <tr>\n",
       "      <th>4</th>\n",
       "      <td>331</td>\n",
       "      <td>55.882</td>\n",
       "      <td>4897</td>\n",
       "      <td>357</td>\n",
       "      <td>2</td>\n",
       "      <td>68</td>\n",
       "      <td>16</td>\n",
       "      <td>1</td>\n",
       "      <td>0</td>\n",
       "      <td>1</td>\n",
       "    </tr>\n",
       "  </tbody>\n",
       "</table>\n",
       "</div>"
      ],
      "text/plain": [
       "   Balance   Income  Limit  Rating  Cards  Age  Education  IsMarried  \\\n",
       "0      333   14.891   3606     283      2   34         11          1   \n",
       "1      903  106.025   6645     483      3   82         15          1   \n",
       "2      580  104.593   7075     514      4   71         11          0   \n",
       "3      964  148.924   9504     681      3   36         11          0   \n",
       "4      331   55.882   4897     357      2   68         16          1   \n",
       "\n",
       "   IsStudent  IsMale  \n",
       "0          0       1  \n",
       "1          1       0  \n",
       "2          0       1  \n",
       "3          0       0  \n",
       "4          0       1  "
      ]
     },
     "execution_count": 9,
     "metadata": {},
     "output_type": "execute_result"
    }
   ],
   "source": [
    "data_without_categorical_binary_variables = data_raw[[\"Balance\",\"Income\", \"Limit\", \"Rating\", \"Cards\", \"Age\", \"Education\"]]\n",
    "data_without_categorical_variables = pd.concat([data_without_categorical_binary_variables, is_married, is_student, is_male], axis=1, join='inner')\n",
    "data_without_categorical_variables.head()"
   ]
  },
  {
   "cell_type": "markdown",
   "metadata": {},
   "source": [
    "Im Folgenden werden bereits die Dummies der kategorischen Variablen Ethnicty erstellt und ein geeignetes Dataframe erstellt. Damit wird der Datensplit in b) durchgeführt. Dies ist somit ein Vorzug aus der Teilaufgabe c)."
   ]
  },
  {
   "cell_type": "code",
   "execution_count": 10,
   "metadata": {},
   "outputs": [],
   "source": [
    "# there are three values for ethnicities: African American, Asian, Caucasian\n",
    "# convert them into three dummies\n",
    "\n",
    "ethnicity_raw = pd.Series(data_raw[\"Ethnicity\"], dtype=\"category\") \n",
    "\n",
    "# create dummies\n",
    "african_american = pd.get_dummies(ethnicity_raw == \"African American\")\n",
    "asian = pd.get_dummies(ethnicity_raw == \"Asian\")\n",
    "caucasian = pd.get_dummies(ethnicity_raw == \"Caucasian\")\n",
    "\n",
    "# select one dummy for african_american\n",
    "is_african_american = african_american[[1]]\n",
    "\n",
    "# rename column of is_african_american\n",
    "is_african_american.rename(columns = {True : \"IsAfricanAmerican\"}, inplace = True)\n",
    "\n",
    "# select one dummy for asian and caucasian\n",
    "is_asian = asian[[1]]\n",
    "is_caucasian = caucasian[[1]]\n",
    "\n",
    "# rename columns\n",
    "is_asian.rename(columns = {True : \"IsAsian\"}, inplace = True)\n",
    "is_caucasian.rename(columns = {True : \"IsCaucasian\"}, inplace = True)"
   ]
  },
  {
   "cell_type": "code",
   "execution_count": 11,
   "metadata": {
    "scrolled": true
   },
   "outputs": [
    {
     "data": {
      "text/html": [
       "<div>\n",
       "<style scoped>\n",
       "    .dataframe tbody tr th:only-of-type {\n",
       "        vertical-align: middle;\n",
       "    }\n",
       "\n",
       "    .dataframe tbody tr th {\n",
       "        vertical-align: top;\n",
       "    }\n",
       "\n",
       "    .dataframe thead th {\n",
       "        text-align: right;\n",
       "    }\n",
       "</style>\n",
       "<table border=\"1\" class=\"dataframe\">\n",
       "  <thead>\n",
       "    <tr style=\"text-align: right;\">\n",
       "      <th></th>\n",
       "      <th>Balance</th>\n",
       "      <th>Income</th>\n",
       "      <th>Limit</th>\n",
       "      <th>Rating</th>\n",
       "      <th>Cards</th>\n",
       "      <th>Age</th>\n",
       "      <th>Education</th>\n",
       "      <th>IsMarried</th>\n",
       "      <th>IsStudent</th>\n",
       "      <th>IsMale</th>\n",
       "      <th>IsAsian</th>\n",
       "      <th>IsCaucasian</th>\n",
       "      <th>IsAfricanAmerican</th>\n",
       "    </tr>\n",
       "  </thead>\n",
       "  <tbody>\n",
       "    <tr>\n",
       "      <th>0</th>\n",
       "      <td>333</td>\n",
       "      <td>14.891</td>\n",
       "      <td>3606</td>\n",
       "      <td>283</td>\n",
       "      <td>2</td>\n",
       "      <td>34</td>\n",
       "      <td>11</td>\n",
       "      <td>1</td>\n",
       "      <td>0</td>\n",
       "      <td>1</td>\n",
       "      <td>0</td>\n",
       "      <td>1</td>\n",
       "      <td>0</td>\n",
       "    </tr>\n",
       "    <tr>\n",
       "      <th>1</th>\n",
       "      <td>903</td>\n",
       "      <td>106.025</td>\n",
       "      <td>6645</td>\n",
       "      <td>483</td>\n",
       "      <td>3</td>\n",
       "      <td>82</td>\n",
       "      <td>15</td>\n",
       "      <td>1</td>\n",
       "      <td>1</td>\n",
       "      <td>0</td>\n",
       "      <td>1</td>\n",
       "      <td>0</td>\n",
       "      <td>0</td>\n",
       "    </tr>\n",
       "    <tr>\n",
       "      <th>2</th>\n",
       "      <td>580</td>\n",
       "      <td>104.593</td>\n",
       "      <td>7075</td>\n",
       "      <td>514</td>\n",
       "      <td>4</td>\n",
       "      <td>71</td>\n",
       "      <td>11</td>\n",
       "      <td>0</td>\n",
       "      <td>0</td>\n",
       "      <td>1</td>\n",
       "      <td>1</td>\n",
       "      <td>0</td>\n",
       "      <td>0</td>\n",
       "    </tr>\n",
       "    <tr>\n",
       "      <th>3</th>\n",
       "      <td>964</td>\n",
       "      <td>148.924</td>\n",
       "      <td>9504</td>\n",
       "      <td>681</td>\n",
       "      <td>3</td>\n",
       "      <td>36</td>\n",
       "      <td>11</td>\n",
       "      <td>0</td>\n",
       "      <td>0</td>\n",
       "      <td>0</td>\n",
       "      <td>1</td>\n",
       "      <td>0</td>\n",
       "      <td>0</td>\n",
       "    </tr>\n",
       "    <tr>\n",
       "      <th>4</th>\n",
       "      <td>331</td>\n",
       "      <td>55.882</td>\n",
       "      <td>4897</td>\n",
       "      <td>357</td>\n",
       "      <td>2</td>\n",
       "      <td>68</td>\n",
       "      <td>16</td>\n",
       "      <td>1</td>\n",
       "      <td>0</td>\n",
       "      <td>1</td>\n",
       "      <td>0</td>\n",
       "      <td>1</td>\n",
       "      <td>0</td>\n",
       "    </tr>\n",
       "  </tbody>\n",
       "</table>\n",
       "</div>"
      ],
      "text/plain": [
       "   Balance   Income  Limit  Rating  Cards  Age  Education  IsMarried  \\\n",
       "0      333   14.891   3606     283      2   34         11          1   \n",
       "1      903  106.025   6645     483      3   82         15          1   \n",
       "2      580  104.593   7075     514      4   71         11          0   \n",
       "3      964  148.924   9504     681      3   36         11          0   \n",
       "4      331   55.882   4897     357      2   68         16          1   \n",
       "\n",
       "   IsStudent  IsMale  IsAsian  IsCaucasian  IsAfricanAmerican  \n",
       "0          0       1        0            1                  0  \n",
       "1          1       0        1            0                  0  \n",
       "2          0       1        1            0                  0  \n",
       "3          0       0        1            0                  0  \n",
       "4          0       1        0            1                  0  "
      ]
     },
     "execution_count": 11,
     "metadata": {},
     "output_type": "execute_result"
    }
   ],
   "source": [
    "# create dataframe with all variables\n",
    "data = pd.concat([data_without_categorical_variables, is_asian, is_caucasian, is_african_american], axis = 1, join = 'inner')\n",
    "data.head()"
   ]
  },
  {
   "cell_type": "markdown",
   "metadata": {},
   "source": [
    "#### Vertraut werden mit Daten"
   ]
  },
  {
   "cell_type": "code",
   "execution_count": 12,
   "metadata": {},
   "outputs": [
    {
     "data": {
      "text/plain": [
       "(400, 13)"
      ]
     },
     "execution_count": 12,
     "metadata": {},
     "output_type": "execute_result"
    }
   ],
   "source": [
    "# print shape of data\n",
    "data.shape"
   ]
  },
  {
   "cell_type": "markdown",
   "metadata": {},
   "source": [
    "Es gibt 400 Samples und 13 Variablen."
   ]
  },
  {
   "cell_type": "code",
   "execution_count": 13,
   "metadata": {
    "scrolled": true
   },
   "outputs": [
    {
     "data": {
      "text/html": [
       "<div>\n",
       "<style scoped>\n",
       "    .dataframe tbody tr th:only-of-type {\n",
       "        vertical-align: middle;\n",
       "    }\n",
       "\n",
       "    .dataframe tbody tr th {\n",
       "        vertical-align: top;\n",
       "    }\n",
       "\n",
       "    .dataframe thead th {\n",
       "        text-align: right;\n",
       "    }\n",
       "</style>\n",
       "<table border=\"1\" class=\"dataframe\">\n",
       "  <thead>\n",
       "    <tr style=\"text-align: right;\">\n",
       "      <th></th>\n",
       "      <th>Balance</th>\n",
       "      <th>Income</th>\n",
       "      <th>Limit</th>\n",
       "      <th>Rating</th>\n",
       "      <th>Cards</th>\n",
       "      <th>Age</th>\n",
       "      <th>Education</th>\n",
       "    </tr>\n",
       "  </thead>\n",
       "  <tbody>\n",
       "    <tr>\n",
       "      <th>count</th>\n",
       "      <td>400.000000</td>\n",
       "      <td>400.000000</td>\n",
       "      <td>400.000000</td>\n",
       "      <td>400.000000</td>\n",
       "      <td>400.000000</td>\n",
       "      <td>400.000000</td>\n",
       "      <td>400.000000</td>\n",
       "    </tr>\n",
       "    <tr>\n",
       "      <th>mean</th>\n",
       "      <td>520.015000</td>\n",
       "      <td>45.218885</td>\n",
       "      <td>4735.600000</td>\n",
       "      <td>354.940000</td>\n",
       "      <td>2.957500</td>\n",
       "      <td>55.667500</td>\n",
       "      <td>13.450000</td>\n",
       "    </tr>\n",
       "    <tr>\n",
       "      <th>std</th>\n",
       "      <td>459.758877</td>\n",
       "      <td>35.244273</td>\n",
       "      <td>2308.198848</td>\n",
       "      <td>154.724143</td>\n",
       "      <td>1.371275</td>\n",
       "      <td>17.249807</td>\n",
       "      <td>3.125207</td>\n",
       "    </tr>\n",
       "    <tr>\n",
       "      <th>min</th>\n",
       "      <td>0.000000</td>\n",
       "      <td>10.354000</td>\n",
       "      <td>855.000000</td>\n",
       "      <td>93.000000</td>\n",
       "      <td>1.000000</td>\n",
       "      <td>23.000000</td>\n",
       "      <td>5.000000</td>\n",
       "    </tr>\n",
       "    <tr>\n",
       "      <th>25%</th>\n",
       "      <td>68.750000</td>\n",
       "      <td>21.007250</td>\n",
       "      <td>3088.000000</td>\n",
       "      <td>247.250000</td>\n",
       "      <td>2.000000</td>\n",
       "      <td>41.750000</td>\n",
       "      <td>11.000000</td>\n",
       "    </tr>\n",
       "    <tr>\n",
       "      <th>50%</th>\n",
       "      <td>459.500000</td>\n",
       "      <td>33.115500</td>\n",
       "      <td>4622.500000</td>\n",
       "      <td>344.000000</td>\n",
       "      <td>3.000000</td>\n",
       "      <td>56.000000</td>\n",
       "      <td>14.000000</td>\n",
       "    </tr>\n",
       "    <tr>\n",
       "      <th>75%</th>\n",
       "      <td>863.000000</td>\n",
       "      <td>57.470750</td>\n",
       "      <td>5872.750000</td>\n",
       "      <td>437.250000</td>\n",
       "      <td>4.000000</td>\n",
       "      <td>70.000000</td>\n",
       "      <td>16.000000</td>\n",
       "    </tr>\n",
       "    <tr>\n",
       "      <th>max</th>\n",
       "      <td>1999.000000</td>\n",
       "      <td>186.634000</td>\n",
       "      <td>13913.000000</td>\n",
       "      <td>982.000000</td>\n",
       "      <td>9.000000</td>\n",
       "      <td>98.000000</td>\n",
       "      <td>20.000000</td>\n",
       "    </tr>\n",
       "  </tbody>\n",
       "</table>\n",
       "</div>"
      ],
      "text/plain": [
       "           Balance      Income         Limit      Rating       Cards  \\\n",
       "count   400.000000  400.000000    400.000000  400.000000  400.000000   \n",
       "mean    520.015000   45.218885   4735.600000  354.940000    2.957500   \n",
       "std     459.758877   35.244273   2308.198848  154.724143    1.371275   \n",
       "min       0.000000   10.354000    855.000000   93.000000    1.000000   \n",
       "25%      68.750000   21.007250   3088.000000  247.250000    2.000000   \n",
       "50%     459.500000   33.115500   4622.500000  344.000000    3.000000   \n",
       "75%     863.000000   57.470750   5872.750000  437.250000    4.000000   \n",
       "max    1999.000000  186.634000  13913.000000  982.000000    9.000000   \n",
       "\n",
       "              Age   Education  \n",
       "count  400.000000  400.000000  \n",
       "mean    55.667500   13.450000  \n",
       "std     17.249807    3.125207  \n",
       "min     23.000000    5.000000  \n",
       "25%     41.750000   11.000000  \n",
       "50%     56.000000   14.000000  \n",
       "75%     70.000000   16.000000  \n",
       "max     98.000000   20.000000  "
      ]
     },
     "execution_count": 13,
     "metadata": {},
     "output_type": "execute_result"
    }
   ],
   "source": [
    "# basic statistics of integer values\n",
    "data.iloc[:,:7].describe()"
   ]
  },
  {
   "cell_type": "markdown",
   "metadata": {},
   "source": [
    "Zu erkennen sind die unterschiedlichen Wertebereiche der verschiedenen Variablen. Cards hat beispielsweise einen Wertebereich von 1 bis 9 (25%-Quantil: 2, 75%-Quantil: 4), wohingegen Limit einen Wertebereich von 855 bis 13913 (25%-Quantil: 3088, 75%-Quantil: 5872.75) besitzt. Da lineare Regression und Random Forest angewandt wird, ist eine Sklarierung nicht notwendig. Im Folgenden werden die Kennzahlen der vorherigen Variable zur Verdeutlichung anhand von Boxplots visualisiert."
   ]
  },
  {
   "cell_type": "code",
   "execution_count": 14,
   "metadata": {
    "scrolled": false
   },
   "outputs": [
    {
     "data": {
      "image/png": "[encoded data removed]",
      "text/plain": [
       "<Figure size 1440x1440 with 15 Axes>"
      ]
     },
     "metadata": {
      "needs_background": "light"
     },
     "output_type": "display_data"
    }
   ],
   "source": [
    "# create boxplot for integer and float data\n",
    "data.iloc[:, : 7].plot(figsize = (20, 20), kind='box', subplots=True, layout=(5,3), sharex=False, sharey=False);  # show boxplots"
   ]
  },
  {
   "cell_type": "markdown",
   "metadata": {},
   "source": [
    "Zu erkennen ist, dass Income, Limit und Rating viele Ausreißer nach oben haben. Balance, Age und Education haben eine recht hohe Varianz.\n",
    "\n",
    "Im Folgenden werden nicht binären Variablen genauer untersucht. Zur Erinnerung: die kategorischen Variablen wurden ihn binäre umgewandelt."
   ]
  },
  {
   "cell_type": "code",
   "execution_count": 27,
   "metadata": {
    "scrolled": false
   },
   "outputs": [
    {
     "name": "stdout",
     "output_type": "stream",
     "text": [
      "1    245\n",
      "0    155\n",
      "Name: IsMarried, dtype: int64\n",
      "0    360\n",
      "1     40\n",
      "Name: IsStudent, dtype: int64\n",
      "0    207\n",
      "1    193\n",
      "Name: IsMale, dtype: int64\n",
      "0    298\n",
      "1    102\n",
      "Name: IsAsian, dtype: int64\n",
      "0    201\n",
      "1    199\n",
      "Name: IsCaucasian, dtype: int64\n",
      "0    301\n",
      "1     99\n",
      "Name: IsAfricanAmerican, dtype: int64\n"
     ]
    }
   ],
   "source": [
    "# get binary variables\n",
    "binary_data = data.iloc[:, 7:]\n",
    "\n",
    "for col in binary_data.columns:\n",
    "    print(str(binary_data[col].value_counts()))    "
   ]
  },
  {
   "cell_type": "markdown",
   "metadata": {},
   "source": [
    "# TODO: plot mit seaborn"
   ]
  },
  {
   "cell_type": "markdown",
   "metadata": {},
   "source": [
    "Mit 245 zu 155 sind deutlich mehr Personen verheiratet als unverheiratet. Der Anteil an Studenten ist mit 40 zu 360 sehr gering. Zudem ist der Anteil männlicher und weiblicher Personen ungefähr gleich groß. Weiße sind mit 199 Personen deutlich stärker vertreten als Asiaten (102) und Afroamerikaner (99)."
   ]
  },
  {
   "cell_type": "markdown",
   "metadata": {},
   "source": [
    "Im folgenden wird die Verteilung von der Zielvariablen Balance genauer betrachtet."
   ]
  },
  {
   "cell_type": "markdown",
   "metadata": {},
   "source": [
    "# TODO Verteilung balance plotten, max und min daten plotten"
   ]
  },
  {
   "cell_type": "markdown",
   "metadata": {},
   "source": [
    "### b) Datensatz teilen\n",
    "Separieren Sie den Datensatz in 80%-20% für Training und Testdatensatz. Was müssen Sie hier beachten?"
   ]
  },
  {
   "cell_type": "code",
   "execution_count": 29,
   "metadata": {},
   "outputs": [],
   "source": [
    "# split into dependent y and independent X variables\n",
    "X = data.iloc[:, 1:]\n",
    "y = data.iloc[:, 0]"
   ]
  },
  {
   "cell_type": "code",
   "execution_count": 30,
   "metadata": {},
   "outputs": [],
   "source": [
    "# 80/20 split\n",
    "X_train, X_test, y_train, y_test = train_test_split(X, y, test_size = 0.2, random_state = 42)"
   ]
  },
  {
   "cell_type": "markdown",
   "metadata": {},
   "source": [
    "Es muss beachtet werden, dass die Daten geshuffelt und dann separiert werden, sodass die Daten iid sind und beispielsweiße keine unterschiedliche Varianz oä in den zwei Splits vorhanden ist. Insbesondere sollten Testdaten und Trainingsdaten repräsentatis sein. Die Testdaten werden nur am Ende zur Bewertung eines Modells verwendet, nicht zur Training oder Parametertuning.\n"
   ]
  },
  {
   "cell_type": "markdown",
   "metadata": {},
   "source": [
    "### c) OLS mit allen Variablen und ohne Limit\n",
    "Erstellen Sie aus der Variable Ethnicity drei binäre Variablen Ethnicity_Caucasian, Ethnicity_Asian und Ethnicity_African. Führen Sie eine lineare Regression mit OLS als Schätzer mit diesen Variablen und allen anderen Variablen (außer Limit) durch. Berechnen Sie Root Mean Square Error (RMSE) zwischen der Vorhersage und den wahren Werten im Test-Datensatz. Beschreiben Sie Ihre Ergebnisse."
   ]
  },
  {
   "cell_type": "markdown",
   "metadata": {},
   "source": [
    "Binäre Variablen wurde bereits in Teilaufgabe a) erstellt."
   ]
  },
  {
   "cell_type": "markdown",
   "metadata": {},
   "source": [
    "#### Definieren von Funktionen für lineare Regression mit OLS als Schätzer"
   ]
  },
  {
   "cell_type": "code",
   "execution_count": 106,
   "metadata": {},
   "outputs": [],
   "source": [
    "# define function for fitting OLS regression model\n",
    "def ols_statsmodel(X_train, y_train):\n",
    "    \n",
    "    # add intercept\n",
    "    X_train = sm.add_constant(X_train)\n",
    "    \n",
    "    # fit model\n",
    "    model = sm.OLS(y_train, X_train).fit()\n",
    "    \n",
    "    return model\n",
    "    #display(model.summary())"
   ]
  },
  {
   "cell_type": "code",
   "execution_count": 109,
   "metadata": {},
   "outputs": [],
   "source": [
    "# define function for prediction with OLS regression model\n",
    "def predict_ols_statsmodel(X_test, model):\n",
    "    \n",
    "    # add intercept\n",
    "    X_test = sm.add_constant(X_test)\n",
    "    \n",
    "    # predict\n",
    "    y_predict = model.predict(X_test)\n",
    "    \n",
    "    return y_predict \n",
    "    "
   ]
  },
  {
   "cell_type": "code",
   "execution_count": 124,
   "metadata": {},
   "outputs": [],
   "source": [
    "# define function to calculate rmse\n",
    "def calculate_rmse(y_predicted, y_gt):\n",
    "    rmse = sqrt(mean_squared_error(y_test, y_predicted))\n",
    "    return rmse"
   ]
  },
  {
   "cell_type": "markdown",
   "metadata": {},
   "source": [
    "#### Erstellung der Dat"
   ]
  },
  {
   "cell_type": "code",
   "execution_count": 111,
   "metadata": {},
   "outputs": [
    {
     "name": "stderr",
     "output_type": "stream",
     "text": [
      "/home/carmen/anaconda3/envs/python3_7-SmartDataAnalytics/lib/python3.7/site-packages/numpy/core/fromnumeric.py:2389: FutureWarning: Method .ptp is deprecated and will be removed in a future version. Use numpy.ptp instead.\n",
      "  return ptp(axis=axis, out=out, **kwargs)\n"
     ]
    }
   ],
   "source": [
    "# create datasets with different variables\n",
    "\n",
    "# dataset without variable limit\n",
    "X_train_withoutLimit = X_train.drop(columns=\"Limit\")\n",
    "X_test_withoutLimit = X_test.drop(columns=\"Limit\")\n",
    "\n",
    "# create models\n",
    "model_allVariables = ols_statsmodel(X_train, y_train)\n",
    "model_withoutLimit = ols_statsmodel(X_train_withoutLimit, y_train)\n"
   ]
  },
  {
   "cell_type": "markdown",
   "metadata": {},
   "source": [
    "#### Ergebnisse:\n",
    "\n",
    "#### Adjusted R-squared"
   ]
  },
  {
   "cell_type": "code",
   "execution_count": 112,
   "metadata": {
    "scrolled": true
   },
   "outputs": [
    {
     "name": "stdout",
     "output_type": "stream",
     "text": [
      "Adjusted R-sqaured of model with all variables: 0.954\n",
      "Adjusted R-sqaured of model without limit: 0.95\n"
     ]
    }
   ],
   "source": [
    "# print adjusted r-squared\n",
    "print('Adjusted R-sqaured of model with all variables: ' + str(round(model_allVariables.rsquared_adj, 3)))\n",
    "print('Adjusted R-sqaured of model without limit: ' + str(round(model_withoutLimit.rsquared_adj, 3)))"
   ]
  },
  {
   "cell_type": "markdown",
   "metadata": {},
   "source": [
    "Zunächst einmal werden die Adjusted R-squared verglichen, da die um die Anzahl der verwendeten exogenen Variablen bereinigt ist. Das Modell mit allen Variablen schneidet mit einem Adjusted R-squared von 0,954 ein wenig besser ab, als das ohne Limit mit 0,95."
   ]
  },
  {
   "cell_type": "markdown",
   "metadata": {},
   "source": [
    "#### Signifikanz der Koeffizienten"
   ]
  },
  {
   "cell_type": "code",
   "execution_count": 113,
   "metadata": {
    "scrolled": true
   },
   "outputs": [
    {
     "name": "stdout",
     "output_type": "stream",
     "text": [
      "Coefficients of models: \n"
     ]
    },
    {
     "data": {
      "text/html": [
       "<div>\n",
       "<style scoped>\n",
       "    .dataframe tbody tr th:only-of-type {\n",
       "        vertical-align: middle;\n",
       "    }\n",
       "\n",
       "    .dataframe tbody tr th {\n",
       "        vertical-align: top;\n",
       "    }\n",
       "\n",
       "    .dataframe thead th {\n",
       "        text-align: right;\n",
       "    }\n",
       "</style>\n",
       "<table border=\"1\" class=\"dataframe\">\n",
       "  <thead>\n",
       "    <tr style=\"text-align: right;\">\n",
       "      <th></th>\n",
       "      <th>With all variables</th>\n",
       "      <th>Without limit</th>\n",
       "    </tr>\n",
       "  </thead>\n",
       "  <tbody>\n",
       "    <tr>\n",
       "      <th>Age</th>\n",
       "      <td>0.081</td>\n",
       "      <td>0.103</td>\n",
       "    </tr>\n",
       "    <tr>\n",
       "      <th>Cards</th>\n",
       "      <td>0.000</td>\n",
       "      <td>0.336</td>\n",
       "    </tr>\n",
       "    <tr>\n",
       "      <th>Education</th>\n",
       "      <td>0.554</td>\n",
       "      <td>0.855</td>\n",
       "    </tr>\n",
       "    <tr>\n",
       "      <th>Income</th>\n",
       "      <td>0.000</td>\n",
       "      <td>0.000</td>\n",
       "    </tr>\n",
       "    <tr>\n",
       "      <th>IsAfricanAmerican</th>\n",
       "      <td>0.000</td>\n",
       "      <td>0.000</td>\n",
       "    </tr>\n",
       "    <tr>\n",
       "      <th>IsAsian</th>\n",
       "      <td>0.000</td>\n",
       "      <td>0.000</td>\n",
       "    </tr>\n",
       "    <tr>\n",
       "      <th>IsCaucasian</th>\n",
       "      <td>0.000</td>\n",
       "      <td>0.000</td>\n",
       "    </tr>\n",
       "    <tr>\n",
       "      <th>IsMale</th>\n",
       "      <td>0.275</td>\n",
       "      <td>0.282</td>\n",
       "    </tr>\n",
       "    <tr>\n",
       "      <th>IsMarried</th>\n",
       "      <td>0.606</td>\n",
       "      <td>0.327</td>\n",
       "    </tr>\n",
       "    <tr>\n",
       "      <th>IsStudent</th>\n",
       "      <td>0.000</td>\n",
       "      <td>0.000</td>\n",
       "    </tr>\n",
       "    <tr>\n",
       "      <th>Limit</th>\n",
       "      <td>0.000</td>\n",
       "      <td>NaN</td>\n",
       "    </tr>\n",
       "    <tr>\n",
       "      <th>Rating</th>\n",
       "      <td>0.084</td>\n",
       "      <td>0.000</td>\n",
       "    </tr>\n",
       "    <tr>\n",
       "      <th>const</th>\n",
       "      <td>0.000</td>\n",
       "      <td>0.000</td>\n",
       "    </tr>\n",
       "  </tbody>\n",
       "</table>\n",
       "</div>"
      ],
      "text/plain": [
       "                   With all variables  Without limit\n",
       "Age                             0.081          0.103\n",
       "Cards                           0.000          0.336\n",
       "Education                       0.554          0.855\n",
       "Income                          0.000          0.000\n",
       "IsAfricanAmerican               0.000          0.000\n",
       "IsAsian                         0.000          0.000\n",
       "IsCaucasian                     0.000          0.000\n",
       "IsMale                          0.275          0.282\n",
       "IsMarried                       0.606          0.327\n",
       "IsStudent                       0.000          0.000\n",
       "Limit                           0.000            NaN\n",
       "Rating                          0.084          0.000\n",
       "const                           0.000          0.000"
      ]
     },
     "metadata": {},
     "output_type": "display_data"
    }
   ],
   "source": [
    "# creating table of p-values\n",
    "pValues = pd.DataFrame({\"With all variables\": model_allVariables.pvalues, \"Without limit\": model_withoutLimit.pvalues})\n",
    "print('Coefficients of models: ')\n",
    "display(pValues.round(3))"
   ]
  },
  {
   "cell_type": "markdown",
   "metadata": {},
   "source": [
    "Nun werden die Koeffizienten untersucht. Die p-Werte zeigen, dass bei dem Modell mit allen Variablen Education, IsMale und IsMarried bei einem Signifikanzniveau von 0,1 nicht signifikant sind. Üblich ist ein Signifikanzniveau von 0,05. Bei letzterem Signifikanzniveau sind auch Rating und Age nicht signifikant.\n",
    "Bei dem Modell ohne Limit sind Age, Cards, IsMale. IsMarried und Education bereits bei einem Signifikanzniveau 0,1 nicht signifikant sind."
   ]
  },
  {
   "cell_type": "markdown",
   "metadata": {},
   "source": [
    "#### Werte der Koeffizienten"
   ]
  },
  {
   "cell_type": "code",
   "execution_count": 114,
   "metadata": {
    "scrolled": true
   },
   "outputs": [
    {
     "data": {
      "text/html": [
       "<div>\n",
       "<style scoped>\n",
       "    .dataframe tbody tr th:only-of-type {\n",
       "        vertical-align: middle;\n",
       "    }\n",
       "\n",
       "    .dataframe tbody tr th {\n",
       "        vertical-align: top;\n",
       "    }\n",
       "\n",
       "    .dataframe thead th {\n",
       "        text-align: right;\n",
       "    }\n",
       "</style>\n",
       "<table border=\"1\" class=\"dataframe\">\n",
       "  <thead>\n",
       "    <tr style=\"text-align: right;\">\n",
       "      <th></th>\n",
       "      <th>All variables</th>\n",
       "      <th>Without limit</th>\n",
       "    </tr>\n",
       "  </thead>\n",
       "  <tbody>\n",
       "    <tr>\n",
       "      <th>Age</th>\n",
       "      <td>-0.603695</td>\n",
       "      <td>-0.587846</td>\n",
       "    </tr>\n",
       "    <tr>\n",
       "      <th>Cards</th>\n",
       "      <td>19.123826</td>\n",
       "      <td>4.181306</td>\n",
       "    </tr>\n",
       "    <tr>\n",
       "      <th>Education</th>\n",
       "      <td>-1.078674</td>\n",
       "      <td>-0.346833</td>\n",
       "    </tr>\n",
       "    <tr>\n",
       "      <th>Income</th>\n",
       "      <td>-7.554059</td>\n",
       "      <td>-7.573931</td>\n",
       "    </tr>\n",
       "    <tr>\n",
       "      <th>IsAfricanAmerican</th>\n",
       "      <td>-125.589917</td>\n",
       "      <td>-147.741912</td>\n",
       "    </tr>\n",
       "    <tr>\n",
       "      <th>IsAsian</th>\n",
       "      <td>-112.294369</td>\n",
       "      <td>-127.308454</td>\n",
       "    </tr>\n",
       "    <tr>\n",
       "      <th>IsCaucasian</th>\n",
       "      <td>-114.072764</td>\n",
       "      <td>-133.345157</td>\n",
       "    </tr>\n",
       "    <tr>\n",
       "      <th>IsMale</th>\n",
       "      <td>12.493725</td>\n",
       "      <td>12.842603</td>\n",
       "    </tr>\n",
       "    <tr>\n",
       "      <th>IsMarried</th>\n",
       "      <td>-6.150365</td>\n",
       "      <td>-12.123810</td>\n",
       "    </tr>\n",
       "    <tr>\n",
       "      <th>IsStudent</th>\n",
       "      <td>418.435398</td>\n",
       "      <td>412.661119</td>\n",
       "    </tr>\n",
       "    <tr>\n",
       "      <th>Limit</th>\n",
       "      <td>0.198058</td>\n",
       "      <td>NaN</td>\n",
       "    </tr>\n",
       "    <tr>\n",
       "      <th>Rating</th>\n",
       "      <td>0.971292</td>\n",
       "      <td>3.931093</td>\n",
       "    </tr>\n",
       "    <tr>\n",
       "      <th>const</th>\n",
       "      <td>-351.957050</td>\n",
       "      <td>-408.395523</td>\n",
       "    </tr>\n",
       "  </tbody>\n",
       "</table>\n",
       "</div>"
      ],
      "text/plain": [
       "                   All variables  Without limit\n",
       "Age                    -0.603695      -0.587846\n",
       "Cards                  19.123826       4.181306\n",
       "Education              -1.078674      -0.346833\n",
       "Income                 -7.554059      -7.573931\n",
       "IsAfricanAmerican    -125.589917    -147.741912\n",
       "IsAsian              -112.294369    -127.308454\n",
       "IsCaucasian          -114.072764    -133.345157\n",
       "IsMale                 12.493725      12.842603\n",
       "IsMarried              -6.150365     -12.123810\n",
       "IsStudent             418.435398     412.661119\n",
       "Limit                   0.198058            NaN\n",
       "Rating                  0.971292       3.931093\n",
       "const                -351.957050    -408.395523"
      ]
     },
     "metadata": {},
     "output_type": "display_data"
    }
   ],
   "source": [
    "# creating table of coefficients\n",
    "params = pd.DataFrame({\"All variables\": model_allVariables.params, \"Without limit\": model_withoutLimit.params})\n",
    "display(params)"
   ]
  },
  {
   "cell_type": "markdown",
   "metadata": {},
   "source": [
    "Zu erkennen ist, dass sich durch weglassen der Variablen Limit die Werte der Koeffizienten Cards, Education, IsMarried Rating und des Interzepts stark verändern. Auch bei anderen Koeffizienten sind leichte Veränderungen festzuhalten, jedoch werden diese Veränderungen, ohne dass dies statistisch getestet wurde, als weniger wichtig betrachtet. \n",
    "Verändungern der Signifikanzen und Werte der Koeffizienten bei weglassen von einzelnen Variablen deuten auf eine Fehlspezifikation bzw. Multikollinearität im Model hin."
   ]
  },
  {
   "cell_type": "markdown",
   "metadata": {},
   "source": [
    "#### RMSE zwischen Vorhersage und Ground Truth der Testdaten"
   ]
  },
  {
   "cell_type": "code",
   "execution_count": 128,
   "metadata": {
    "scrolled": true
   },
   "outputs": [
    {
     "name": "stdout",
     "output_type": "stream",
     "text": [
      "RMSE of model with all variables: 89.302\n",
      "RMSE of model without limit: 91.426\n"
     ]
    },
    {
     "name": "stderr",
     "output_type": "stream",
     "text": [
      "/home/carmen/anaconda3/envs/python3_7-SmartDataAnalytics/lib/python3.7/site-packages/numpy/core/fromnumeric.py:2389: FutureWarning: Method .ptp is deprecated and will be removed in a future version. Use numpy.ptp instead.\n",
      "  return ptp(axis=axis, out=out, **kwargs)\n"
     ]
    }
   ],
   "source": [
    "# predict \n",
    "predicted_allVariables = predict_ols_statsmodel(X_test, model_allVariables)\n",
    "predicted_withoutLimit = predict_ols_statsmodel(X_test_withoutLimit, model_withoutLimit)\n",
    "\n",
    "# print rmse\n",
    "print('RMSE of model with all variables: ' + str(round(calculate_rmse(predicted_allVariables, y_test), 3)))\n",
    "print('RMSE of model without limit: ' + str(round(calculate_rmse(predicted_withoutLimit, y_test), 3)))\n",
    "#print('RMSE of model with all variables: ' + str(round(sqrt(model_allVariables.mse_total), 3)))\n",
    "#print('RMSE of model without limit: ' + str(round(sqrt(model_withoutLimit.mse_total), 3)))"
   ]
  },
  {
   "cell_type": "markdown",
   "metadata": {},
   "source": [
    "Der auf drei Nachkommastellen gerundete RMSE der beiden Modelle unterscheidet um ca. 2 Einheiten von Balance. Das Modell mit allen Variablen schneidet dabei besser ab, was mit der Interpretation des Adjusted R-squared übereinstimmt. "
   ]
  },
  {
   "cell_type": "markdown",
   "metadata": {},
   "source": [
    "### d) OLS ohne Variable Ethnicity_Caucasian\n",
    "Führen Sie die Analyse in 4c) erneut durch, ohne die Variable Ethnicity_Caucasian. Vergleichen Sie diese Ergebnisse mit denen aus 4c)."
   ]
  },
  {
   "cell_type": "code",
   "execution_count": null,
   "metadata": {
    "scrolled": true
   },
   "outputs": [],
   "source": [
    "# drop column \"IsCaucasian\"\n",
    "X_train_withoutIsCaucasian = X_train.drop(columns=\"IsCaucasian\")\n",
    "X_test_withoutIsCaucasian = X_test.drop(columns=\"IsCaucasian\")\n",
    "\n",
    "# ols\n",
    "coef_withoutIsCaucasian, rmse_withoutIsCaucasian, r2_withoutIsCaucasian = ols(X_train_withoutIsCaucasian, y_train, X_test_withoutIsCaucasian, y_test)\n",
    "\n",
    "# The coefficients\n",
    "print('Coefficients: \\n', coef_withoutIsCaucasian)\n",
    "# The root mean squared error\n",
    "print(\"Root mean squared error: %.2f\"\n",
    "      % rmse_withoutIsCaucasian)\n",
    "# Explained variance score: 1 is perfect prediction\n",
    "print('Variance score: %.2f' % r2_withoutIsCaucasian)"
   ]
  },
  {
   "cell_type": "markdown",
   "metadata": {},
   "source": [
    "Alle drei Modelle haben ein $R²$ von 0,95, das heißt, dass der Anteil der durch die Regression erklärten Quadratsumme an der zu erklärenden totalen Quadratsumme jeweils identisch ist. "
   ]
  },
  {
   "cell_type": "markdown",
   "metadata": {},
   "source": [
    "# TODO: beschreiben und mit 4c vergleichen"
   ]
  },
  {
   "cell_type": "markdown",
   "metadata": {},
   "source": [
    "### e) OLS mit unterschiedlichen Variablen\n",
    "Führen Sie eine lineare Regression (OLS) mit folgenden Variablen durch: \n",
    "1. Income, Limit, Age\n",
    "2. Income, Rating, Age\n",
    "3. Income, Limit, Rating, Age \n",
    "\n",
    "Beschreiben Sie die Koeffizienten, Konfidenzintervalle und Signifikanzniveau. Vergleichen Sie die Ergebnisse."
   ]
  },
  {
   "cell_type": "markdown",
   "metadata": {},
   "source": [
    "#### 1. OLS mit Income, Limit, Age"
   ]
  },
  {
   "cell_type": "code",
   "execution_count": null,
   "metadata": {},
   "outputs": [],
   "source": [
    "# select features\n",
    "cols_4e_1 = [\"Income\", \"Limit\", \"Age\"]\n",
    "X_train_4e_1 = X_train[cols_4e_1]\n",
    "X_test_4e_1 = X_test[cols_4e_1]\n",
    "\n",
    "# ols\n",
    "coef_4e_1, rmse_4e_1, r2_4e_1 = ols(X_train_4e_1, y_train, X_test_4e_1, y_test)\n",
    "\n",
    "# The coefficients\n",
    "print('Coefficients: \\n', coef_4e_1)\n",
    "# The root mean squared error\n",
    "print(\"Root mean squared error: %.2f\"\n",
    "      % rmse_4e_1)\n",
    "# Explained variance score: 1 is perfect prediction\n",
    "print('Variance score: %.2f' % r2_4e_1)"
   ]
  },
  {
   "cell_type": "markdown",
   "metadata": {},
   "source": [
    "#### 2. OLS mit Income, Rating, Age"
   ]
  },
  {
   "cell_type": "code",
   "execution_count": null,
   "metadata": {},
   "outputs": [],
   "source": [
    "# select features\n",
    "cols_4e_2 = [\"Income\", \"Rating\", \"Age\"]\n",
    "X_train_4e_2 = X_train[cols_4e_2]\n",
    "X_test_4e_2 = X_test[cols_4e_2]\n",
    "\n",
    "# ols\n",
    "coef_4e_2, rmse_4e_2, r2_4e_2 = ols(X_train_4e_2, y_train, X_test_4e_2, y_test)\n",
    "\n",
    "# The coefficients\n",
    "print('Coefficients: \\n', coef_4e_2)\n",
    "# The root mean squared error\n",
    "print(\"Root mean squared error: %.2f\"\n",
    "      % rmse_4e_2)\n",
    "# Explained variance score: 1 is perfect prediction\n",
    "print('Variance score: %.2f' % r2_4e_2)"
   ]
  },
  {
   "cell_type": "markdown",
   "metadata": {},
   "source": [
    "#### 3. OLS mit Income, Limit, Rating, Age"
   ]
  },
  {
   "cell_type": "code",
   "execution_count": null,
   "metadata": {},
   "outputs": [],
   "source": [
    "# select features\n",
    "cols_4e_3 = [\"Income\", \"Limit\", \"Rating\", \"Age\"]\n",
    "X_train_4e_3 = X_train[cols_4e_3]\n",
    "X_test_4e_3 = X_test[cols_4e_3]\n",
    "\n",
    "# ols\n",
    "coef_4e_3, rmse_4e_3, r2_4e_3 = ols(X_train_4e_3, y_train, X_test_4e_3, y_test)\n",
    "\n",
    "# The coefficients\n",
    "print('Coefficients: \\n', coef_4e_3)\n",
    "# The root mean squared error\n",
    "print(\"Root mean squared error: %.2f\"\n",
    "      % rmse_4e_3)\n",
    "# Explained variance score: 1 is perfect prediction\n",
    "print('Variance score: %.2f' % r2_4e_3)"
   ]
  },
  {
   "cell_type": "markdown",
   "metadata": {},
   "source": [
    "# TODO: beschreiben, vergleichen, Signifikanz und Konfidenzintervall"
   ]
  },
  {
   "cell_type": "markdown",
   "metadata": {},
   "source": [
    "### f) Korrelation\n",
    "Was ist Korrelation? Wann benutzt man Pearson Korrelation, Spearman Korrelation und Kendalls Tau? Berechnen Sie Korrelationen zwischen allen Variablen im Trainings-Datensatz. Welche Schlussfolgerung können Sie daraus ziehen?"
   ]
  },
  {
   "cell_type": "markdown",
   "metadata": {},
   "source": [
    "Anmerkung: \n",
    "\n",
    "$*$: Multiplikationszeichen\n",
    "\n",
    "Auszüge aus Ausschitte aus dem Skript zur Vorlesung Statistik für Fortgeschrittene WS 2018/2019 Lehrstuhl für Analytics and Statistics (Prof. Grothe KIT), S. 58-61)\n",
    "#### Was ist Korrelation?\n",
    "Korrelation misst die Stärke und Richtung des Zusammenhangs bzw. der Abhängigkeit zwischen zwei Zufallsvariablen. \n",
    "Die Korrelation ist nicht mit Kausalität gleichzusetzen, da zwar ein Zusammenhang zwischen zwei Zufallsvariablen möglich ist, ohne dass diese sich direkt beeinflussen.\n",
    "\n",
    "#### Pearson Korrelation\n",
    "Das bekannteste skalare Zusammenhangsmaß zweier Zufallsvariablen X und Y ist der Korrelationskoeffizient\n",
    "nach Bravais-Pearson:\n",
    "\n",
    "$$Corr(X,Y) = \\rho_{BP} = \\dfrac{Cov(X,Y)}{\\sqrt{X}*\\sqrt{Y}}$$\n",
    "\n",
    "Er misst die Stärke des linearen Zusammenhangs von X und Y und hängt von den\n",
    "Randverteilungen von X und Y ab. \n",
    "Sein Wertebereich ist $[-1,1]$.\n",
    "\n",
    "#### Spearman Korrelation\n",
    "Das Korrelationsmaß Spearmans $\\rho_S$ ist unabhängig von der Randverteilung und somit ein Rangkorrelationskoeffizient.\n",
    "$$\\rho_S = \\dfrac{Cov(F_X(X), F_Y(Y))}{\\sqrt{Var(F_X(X))}*\\sqrt{F_Y(Y)}} = \\dfrac{Cov(U, V)}{\\sqrt{Var(U)}*\\sqrt{Var(V)}}$$\n",
    "\n",
    "$F_Z(Z)$ ist die Verteilungsfunktion der Zufallsvariable $Z$\n",
    "\n",
    "Als Rangkorrelationskoeffizient ist Spearmans's $\\rho_S$ invariant gegenüber streng monoton wachsende Transformationen $\\alpha(.)$ und $\\beta(.)$ der Ränder: \n",
    "\n",
    "$$ \\rho_{S,X,Y} = \\rho_{S,\\alpha(x), \\beta(Y)} $$\n",
    "\n",
    "Auch hier ist der Wertebereich $[-1,1]$, jedoch wird nicht die Stärke des linearen Zusammenhangs zwischen den Zufallsvariablen X und Y, sondern zwischen U und V und somit den monotonen Zusammenhangs zwischen X und Y gemessen.\n",
    "\n",
    "\n",
    "##### Kendalls $\\tau$\n",
    "Seien X, Y Zufallsvariablen mit gemeinsamer Verteilungsfunktion F X,Y und Copula C.\n",
    "Mit $(X^∗ , Y^∗ )$ bezeichnen wir eine ”unabhängige Kopie” von $(X,Y)$.\n",
    "Kendalls $\\tau$ ist dann definiert durch:\n",
    "\n",
    "$$\\tau = P((X-X^*)((Y-Y^*))>0)-P((X-X^*)((Y-Y^*))<0)$$\n",
    "\n",
    "Die erste Wahrscheinlichkeit heißt Konkordanz- die zweite Wahrscheinlichkeit Diskordanzwahrscheinlichkeit. Man kann zeigen, dass\n",
    "\n",
    "$$ \\tau = \\dfrac{Cov(sign(X-X^*), sign(Y-Y^*))}{\\sqrt{Var(sign(X-X^*))}\\sqrt{Var(sign(Y-Y^*))}}$$\n",
    "\n",
    "mit $$sign(z)= \\left\\{ \\begin{array}{c} 1\\quad z>0\\\\0 \\quad   z=0\\\\-1 \\quad   z<0 \\end{array} \\right.$$\n",
    "\n",
    "Auch Kendalls $\\tau$ ist ein Rangkorrelationskoeffizient.\n",
    "\n",
    "#### Wann verwendet man was\n",
    "Rangkorrelationsmaße können auch für ordinalskalierte Daten verwendet werden.\n",
    "Ein linearer Zusammenhang impliziert einen monotonen Zusammenhang. Umgekehrt gilt dies nicht.\n",
    "Ein Rangkorrelationsmaß ist zudem robuster gegenüber Ausreißer.\n",
    "\n",
    "#### Berechnungen und Schlussfolgerung"
   ]
  },
  {
   "cell_type": "code",
   "execution_count": null,
   "metadata": {
    "scrolled": true
   },
   "outputs": [],
   "source": [
    "# Pearson Correlation\n",
    "corr_pearson = X.corr('pearson')\n",
    "plt.matshow(corr_pearson) #seaborn heatmap besser mit Legende\n",
    "plt.show()"
   ]
  },
  {
   "cell_type": "code",
   "execution_count": null,
   "metadata": {},
   "outputs": [],
   "source": [
    "# Kendalls Correlation\n",
    "corr_kendall = X.corr('kendall')\n",
    "plt.matshow(corr_kendall)\n",
    "plt.show()"
   ]
  },
  {
   "cell_type": "code",
   "execution_count": null,
   "metadata": {},
   "outputs": [],
   "source": [
    "# Spearman Correlation\n",
    "corr_spearman = X.corr('spearman')\n",
    "plt.matshow(corr_spearman)\n",
    "plt.show()"
   ]
  },
  {
   "cell_type": "markdown",
   "metadata": {},
   "source": [
    "# TODO: Interpretation rating+limit, "
   ]
  },
  {
   "cell_type": "markdown",
   "metadata": {},
   "source": [
    "### g) Random Forest\n",
    "Führen Sie die Analyse in 4e) mit Random Forest anstatt der linearen Regression durch. Variieren Sie dabei den Parameter random_state mit den Werten {1, 33, 135, 123, 99, 22} und einigen selbst gewählten Werten. Berechnen Sie MSE des Test-Datensatzes. Vergleichen Sie Feature Importance. Welche Schlussfolgerung können Sie daraus ziehen?"
   ]
  },
  {
   "cell_type": "code",
   "execution_count": null,
   "metadata": {},
   "outputs": [],
   "source": [
    "def randomForest(n_estimators_value, random_state_value, X_train, y_train, X_test, y_test):\n",
    "\n",
    "    # Instantiate model \n",
    "    #rf = RandomForestRegressor(n_estimators, random_state)\n",
    "    rf = RandomForestRegressor(random_state = random_state_value, n_estimators = n_estimators_value)\n",
    "\n",
    "    # Train the model on training data\n",
    "    rf.fit(X_train, y_train)\n",
    "   \n",
    "    # Use the forest's predict method on the test data\n",
    "    y_pred = rf.predict(X_test)\n",
    "\n",
    "    # Calculate the mean squared error\n",
    "    mse = mean_squared_error(y_test, y_pred)\n",
    "    \n",
    "    # Returns the mean accuracy on the given test data and labels.\n",
    "    scores = rf.score(X_test, y_test)\n",
    "    \n",
    "    feature_importances = pd.DataFrame(rf.feature_importances_,\n",
    "                                      index = X_train.columns,\n",
    "                                      columns = ['importance']).sort_values('importance', ascending=False) \n",
    "\n",
    "    return mse, feature_importances\n",
    "    #return mse"
   ]
  },
  {
   "cell_type": "code",
   "execution_count": null,
   "metadata": {},
   "outputs": [],
   "source": [
    "#mse_4g_1, feature_importances_4g_1 = \n",
    "#rf = randomForest(10, 1, X_train_4e_1, y_train, X_test_4e_1, y_test)\n",
    "mse, feature_importances = randomForest(100, 33, X_train, y_train, X_test, y_test)\n",
    "#print(\"mse:\" + str(mse_4g_1) + \" \\n feature_importance:\" + str(feature_importances_4g_1))\n"
   ]
  },
  {
   "cell_type": "markdown",
   "metadata": {},
   "source": [
    "# Todo: calculate and conclude"
   ]
  },
  {
   "cell_type": "markdown",
   "metadata": {},
   "source": [
    "### h) Multikollinearität\n",
    "Was ist Multikollinearität? Was sind ihre möglichen Ursachen und Auswirkungen? Wie kann man sie erkennen? Welche Maßnahmen gibt es, wenn Variablen in den Daten kollinear sind?"
   ]
  },
  {
   "cell_type": "markdown",
   "metadata": {},
   "source": [
    "Multikollinearität liegt vor, wenn zwei oder mehr erklärende Variablen hoch untereinander korreliert sind. Mit zunehmender Multikollinearität wird das Verfahren um die Regressionsparameter zu schätzen instabil und die Interpretation des Modells uneindeutig. Zwar ist der Schätzer im Falle hoher Multikollinearität immer noch BLU (best linear unbiased), jedoch sind die Koeffizienten sehr ungenau geschätzt und das Konfindeninterval zwar gültig, jedoch sehr breit. Dies ist darauf zurückzuführen, dass der Einfluss der einzelnen Variablen schlecht isoliert werden kann.\n",
    "\n",
    "Perfekte Mulikollinearität (exakte lineare Beziehung zwischen Regressoren) führt dazu, dass die Durchführung der linearen Regressionsalanyse unmöglich wird.\n",
    "Erkennbar wird Multikollinearität durch ein hohes Bestimmtheitsmaß (z.B. $R²$) zusammen mit niedrigen t-Werten (wenig Signifikanz) für die Regressionsparameter. Zudem kann man direkt an der paarweise Korrelation zwischen den Regressoren (größer 0,7 oder 0,8) Multikollinearität erkennen. Eine weitere Möglichkeit sind Hilfsregressionen, bei denen die erklärenden Variablen aufeinander regressiert werden. Je höher das $R²$ dieser Hilsregression, desto größer das Multikollinearitätsproblem.\n",
    "\n",
    "Ursache perfekter Multikollinearität sind beispielsweise falsch verwendete Dummyvariablen, also z.B. eine Variable isStudent und eine isNotStudent. Ursachen für beinahe Mutlikollinearität sind gemeinsame Trends oder zu viele erklärende Variablen, die fast dasselbe messen.\n",
    "\n",
    "Probleme: Insbesondere die Schätzung des Einflusses erklärenden Variable auf die abhängige Variable liegt ein Problem vor. \n",
    "\n",
    "    The coefficient estimates can swing wildly based on which other independent variables are in the model. The coefficients become very sensitive to small changes in the model.\n",
    "    Multicollinearity reduces the precision of the estimate coefficients, which weakens the statistical power of your regression model. You might not be able to trust the p-values to identify independent variables that are statistically significant.\n",
    "    https://statisticsbyjim.com/regression/multicollinearity-in-regression-analysis/\n",
    "\n",
    "Maßnahmen:\n",
    "- Zusätzliche externe Informationen: beispielsweise Zeitreihen- und Querschnittsdaten kombinieren\n",
    "- Transformation der Variablen: beispielsweise Bildung erster Differenzen bei trendbehafteten Zeitreihen\n",
    "- Variable weglassen (kann gefährlich werden: wenn beispielsweise Raucher ihr Handy in der Hosentasche aufbewahren, da eine andere Taschen der Kleidung mit der Zigarrettenschachtel belegt ist. Würde man nun die Variable istRaucher weglassen und bestimmen, ob und welchen Zusammenhang das Handy in der Hosentasche auf das Krebsrisiko hat, könnten schnell falsche Schlüsse gezogen werden)\n",
    "\n",
    "\n",
    "(https://www.uibk.ac.at/econometrics/einf/kap08la.pdf)\n"
   ]
  },
  {
   "cell_type": "code",
   "execution_count": null,
   "metadata": {},
   "outputs": [],
   "source": []
  }
 ],
 "metadata": {
  "kernelspec": {
   "display_name": "Python 3",
   "language": "python",
   "name": "python3"
  },
  "language_info": {
   "codemirror_mode": {
    "name": "ipython",
    "version": 3
   },
   "file_extension": ".py",
   "mimetype": "text/x-python",
   "name": "python",
   "nbconvert_exporter": "python",
   "pygments_lexer": "ipython3",
   "version": "3.7.3"
  }
 },
 "nbformat": 4,
 "nbformat_minor": 2
}
