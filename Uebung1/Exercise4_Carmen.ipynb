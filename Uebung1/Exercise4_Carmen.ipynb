{
 "cells": [
  {
   "cell_type": "markdown",
   "metadata": {},
   "source": [
    "# Exercise 4"
   ]
  },
  {
   "cell_type": "markdown",
   "metadata": {},
   "source": [
    "Coded by:\n",
    "1. Carmen Eitel - carmen.eitel@student.kit.edu\n",
    "\n",
    "on 01.05.2019\n",
    "\n",
    "version 1.0"
   ]
  },
  {
   "cell_type": "markdown",
   "metadata": {},
   "source": [
    "## Bibliotheken und Einstellungen"
   ]
  },
  {
   "cell_type": "code",
   "execution_count": 9,
   "metadata": {},
   "outputs": [],
   "source": [
    "# import libraries \n",
    "import numpy as np\n",
    "import pandas as pd\n",
    "import sklearn"
   ]
  },
  {
   "cell_type": "markdown",
   "metadata": {},
   "source": [
    "## Teilaufgaben"
   ]
  },
  {
   "cell_type": "markdown",
   "metadata": {},
   "source": [
    "### a) Daten einlesen und erkunden\n",
    "Lesen Sie den Datensatz Credit.csv ein. Erkunden Sie die Daten und konvertieren Sie gegebenenfalls kategorische Variablen in ein geeignetes Format (z.B. mit pandas.get_dummies() oder sklearn.model_selection.OneHotEncoder()). "
   ]
  },
  {
   "cell_type": "code",
   "execution_count": 20,
   "metadata": {},
   "outputs": [
    {
     "data": {
      "text/html": [
       "<div>\n",
       "<style scoped>\n",
       "    .dataframe tbody tr th:only-of-type {\n",
       "        vertical-align: middle;\n",
       "    }\n",
       "\n",
       "    .dataframe tbody tr th {\n",
       "        vertical-align: top;\n",
       "    }\n",
       "\n",
       "    .dataframe thead th {\n",
       "        text-align: right;\n",
       "    }\n",
       "</style>\n",
       "<table border=\"1\" class=\"dataframe\">\n",
       "  <thead>\n",
       "    <tr style=\"text-align: right;\">\n",
       "      <th></th>\n",
       "      <th>Unnamed: 0</th>\n",
       "      <th>Income</th>\n",
       "      <th>Limit</th>\n",
       "      <th>Rating</th>\n",
       "      <th>Cards</th>\n",
       "      <th>Age</th>\n",
       "      <th>Education</th>\n",
       "      <th>Gender</th>\n",
       "      <th>Student</th>\n",
       "      <th>Married</th>\n",
       "      <th>Ethnicity</th>\n",
       "      <th>Balance</th>\n",
       "    </tr>\n",
       "  </thead>\n",
       "  <tbody>\n",
       "    <tr>\n",
       "      <th>0</th>\n",
       "      <td>1</td>\n",
       "      <td>14.891</td>\n",
       "      <td>3606</td>\n",
       "      <td>283</td>\n",
       "      <td>2</td>\n",
       "      <td>34</td>\n",
       "      <td>11</td>\n",
       "      <td>Male</td>\n",
       "      <td>No</td>\n",
       "      <td>Yes</td>\n",
       "      <td>Caucasian</td>\n",
       "      <td>333</td>\n",
       "    </tr>\n",
       "    <tr>\n",
       "      <th>1</th>\n",
       "      <td>2</td>\n",
       "      <td>106.025</td>\n",
       "      <td>6645</td>\n",
       "      <td>483</td>\n",
       "      <td>3</td>\n",
       "      <td>82</td>\n",
       "      <td>15</td>\n",
       "      <td>Female</td>\n",
       "      <td>Yes</td>\n",
       "      <td>Yes</td>\n",
       "      <td>Asian</td>\n",
       "      <td>903</td>\n",
       "    </tr>\n",
       "    <tr>\n",
       "      <th>2</th>\n",
       "      <td>3</td>\n",
       "      <td>104.593</td>\n",
       "      <td>7075</td>\n",
       "      <td>514</td>\n",
       "      <td>4</td>\n",
       "      <td>71</td>\n",
       "      <td>11</td>\n",
       "      <td>Male</td>\n",
       "      <td>No</td>\n",
       "      <td>No</td>\n",
       "      <td>Asian</td>\n",
       "      <td>580</td>\n",
       "    </tr>\n",
       "    <tr>\n",
       "      <th>3</th>\n",
       "      <td>4</td>\n",
       "      <td>148.924</td>\n",
       "      <td>9504</td>\n",
       "      <td>681</td>\n",
       "      <td>3</td>\n",
       "      <td>36</td>\n",
       "      <td>11</td>\n",
       "      <td>Female</td>\n",
       "      <td>No</td>\n",
       "      <td>No</td>\n",
       "      <td>Asian</td>\n",
       "      <td>964</td>\n",
       "    </tr>\n",
       "    <tr>\n",
       "      <th>4</th>\n",
       "      <td>5</td>\n",
       "      <td>55.882</td>\n",
       "      <td>4897</td>\n",
       "      <td>357</td>\n",
       "      <td>2</td>\n",
       "      <td>68</td>\n",
       "      <td>16</td>\n",
       "      <td>Male</td>\n",
       "      <td>No</td>\n",
       "      <td>Yes</td>\n",
       "      <td>Caucasian</td>\n",
       "      <td>331</td>\n",
       "    </tr>\n",
       "  </tbody>\n",
       "</table>\n",
       "</div>"
      ],
      "text/plain": [
       "   Unnamed: 0   Income  Limit  Rating  Cards  Age  Education  Gender Student  \\\n",
       "0           1   14.891   3606     283      2   34         11    Male      No   \n",
       "1           2  106.025   6645     483      3   82         15  Female     Yes   \n",
       "2           3  104.593   7075     514      4   71         11    Male      No   \n",
       "3           4  148.924   9504     681      3   36         11  Female      No   \n",
       "4           5   55.882   4897     357      2   68         16    Male      No   \n",
       "\n",
       "  Married  Ethnicity  Balance  \n",
       "0     Yes  Caucasian      333  \n",
       "1     Yes      Asian      903  \n",
       "2      No      Asian      580  \n",
       "3      No      Asian      964  \n",
       "4     Yes  Caucasian      331  "
      ]
     },
     "execution_count": 20,
     "metadata": {},
     "output_type": "execute_result"
    }
   ],
   "source": [
    "# load dataset\n",
    "data = pd.read_csv('./data/Credit.csv')\n",
    "\n",
    "# first insight of data by checking the first 5 data samples\n",
    "data.head()"
   ]
  },
  {
   "cell_type": "code",
   "execution_count": 53,
   "metadata": {},
   "outputs": [
    {
     "data": {
      "text/plain": [
       "0    Caucasian\n",
       "1        Asian\n",
       "2        Asian\n",
       "3        Asian\n",
       "4    Caucasian\n",
       "Name: Ethnicity, dtype: category\n",
       "Categories (3, object): [African American, Asian, Caucasian]"
      ]
     },
     "execution_count": 53,
     "metadata": {},
     "output_type": "execute_result"
    }
   ],
   "source": [
    "# extract features\n",
    "\n",
    "# target variable, integer\n",
    "balance = np.array(data[\"Balance\"])\n",
    "\n",
    "# integer\n",
    "limit = np.array(data[\"Limit\"])\n",
    "rating = np.array(data[\"Rating\"])\n",
    "cards = np.array(data[\"Cards\"])\n",
    "age = np.array(data[\"Age\"])\n",
    "education = np.array(data[\"Education\"])\n",
    "\n",
    "# float\n",
    "income = np.array(data[\"Income\"])\n",
    "\n",
    "\n",
    "# binary, converted to dummy dataframe\n",
    "gender_df = pd.get_dummies(data[\"Gender\"]) # np.array(pd.get_dummies(data[\"Gender\"]))\n",
    "student_df = pd.get_dummies(data[\"Student\"]) # np.array(pd.get_dummies(data[\"Student\"]))\n",
    "married_df = pd.get_dummies(data[\"Married\"])\n",
    "\n",
    "# categorical\n",
    "ethnicity_raw = pd.Series(data[\"Ethnicity\"], dtype=\"category\") \n",
    "ethnicity_raw.head()\n"
   ]
  },
  {
   "cell_type": "code",
   "execution_count": 59,
   "metadata": {},
   "outputs": [],
   "source": [
    "# there are three values for ethnicities: African American, Asian, Caucasian\n",
    "# convert them into three dummies\n",
    "\n",
    "african_american_df = pd.get_dummies(ethnicity_raw == \"African American\")\n",
    "asian_df = pd.get_dummies(ethnicity_raw == \"Asian\")\n",
    "caucasian_df = pd.get_dummies(ethnicity_raw == \"Caucasian\")"
   ]
  },
  {
   "cell_type": "markdown",
   "metadata": {},
   "source": [
    "TODO: weiter erkunden, visualisieren etc...\n",
    "TODO: vermutlich als dataFrame zusammen geschickter"
   ]
  },
  {
   "cell_type": "markdown",
   "metadata": {},
   "source": [
    "### b) Datensatz teilen\n",
    "Separieren Sie den Datensatz in 80%-20% für Training und Testdatensatz. Was müssen Sie hier beachten?"
   ]
  },
  {
   "cell_type": "markdown",
   "metadata": {},
   "source": [
    "TODO: shuffle, split pandas.DataFrame.sample"
   ]
  },
  {
   "cell_type": "markdown",
   "metadata": {},
   "source": [
    "### c) OLS mit allen Variablen\n",
    "Erstellen Sie aus der Variable Ethnicity drei binäre Variablen Ethnicity_Caucasian, Ethnicity_Asian und Ethnicity_African. Führen Sie eine lineare Regression mit OLS als Schätzer mit diesen Variablen und allen anderen Variablen (außer Limit) durch. Berechnen Sie Root Mean Square Error (RMSE) zwischen der Vorhersage und den wahren Werteni m Test-Datensatz. Beschreiben Sie Ihre Ergebnisse."
   ]
  },
  {
   "cell_type": "markdown",
   "metadata": {},
   "source": [
    "aus a kopieren"
   ]
  },
  {
   "cell_type": "markdown",
   "metadata": {},
   "source": [
    "### d) OLS ohne Variable Ethnicity_Caucasian\n",
    "Führen Sie die Analyse in 4c) erneut durch, ohne die Variable Ethnicity_Caucasian. Vergleichen Sie diese Ergebnisse mit denen aus 4c)."
   ]
  },
  {
   "cell_type": "markdown",
   "metadata": {},
   "source": [
    "### e) OLS mit unterschiedlichen Variablen\n",
    "Führen Sie eine lineare Regression (OLS) mit folgenden Variablendurch: \n",
    "1. Income, Limit, Age\n",
    "2. Income, Rating, Age\n",
    "3. Income, Limit, Rating, Age \n",
    "\n",
    "Beschreiben Sie die Koeffizienten, Konfidenzintervalle und Signifikanzniveau. Vergleichen Sie die Ergebnisse."
   ]
  },
  {
   "cell_type": "markdown",
   "metadata": {},
   "source": [
    "### f) Korrelation\n",
    "Was ist Korrelation? Wann benutzt man Pearson Korrelation, Spearman Korrelation und Kendalls Tau? Berechnen Sie Korrelationen zwischen allen Variablen im Trainings-Datensatz. Welche Schlussfolgerung können Sie daraus ziehen?"
   ]
  },
  {
   "cell_type": "markdown",
   "metadata": {},
   "source": [
    "Anmerkung: $*$: Multiplikationszeichen\n",
    "#### Was ist Korrelation?\n",
    "Korrelation misst die Stärke und Richtung des Zusammenhangs bzw. der Abhängigkeit zwischen zwei Zufallsvariablen. (siehe Skript Statistik XXX Seite 58)\n",
    "Die Korrelation ist nicht mit Kausalität gleichzusetzen, da zwar ein Zusammenhang zwischen zwei Zufallsvariablen möglich ist, ohne dass diese sich direkt beeinflussen.\n",
    "\n",
    "#### Pearson Korrelation\n",
    "Das bekannteste skalare Zusammenhangsmaß zweier Zufallsvariablen X und Y ist der Korrelationskoeffizient\n",
    "nach Bravais-Pearson:\n",
    "\n",
    "$$Corr(X,Y) = \\rho_{BP} = \\dfrac{Cov(X,Y)}{\\sqrt{X}*\\sqrt{Y}}$$\n",
    "\n",
    "Er misst die Stärke des linearen Zusammenhangs von X und Y und hängt von den\n",
    "Randverteilungen von X und Y ab. siehe skript seite 58, 59\n",
    "Sein Wertebereich ist $[-1,1]$.\n",
    "\n",
    "#### Spearman Korrelation\n",
    "Das Korrelationsmaß Spearmans $\\rho_S$ ist unabhängig von der Randverteilung und somit ein Rangkorrelationskoeffizient.\n",
    "$$\\rho_S = \\dfrac{Cov(F_X(X), F_Y(Y))}{\\sqrt{Var(F_X(X))}*\\sqrt{F_Y(Y)}} = \\dfrac{Cov(U, V)}{\\sqrt{Var(U)}*\\sqrt{Var(V)}}$$\n",
    "\n",
    "$F_Z(Z) ist die Verteilungsfunktion der Zufallsvariable $Z$\n",
    "\n",
    "Als Rangkorrelationskoeffizient ist Spearmans's $\\rho_S$ invariant gegenüber streng monoton wachsende Transformationen $\\alpha(.)$ und $\\beta(.)$ der Ränder: \n",
    "\n",
    "$$ \\rho_{S,X,Y} = \\rho_{S,\\alpha(x), \\beta(Y)} $$\n",
    "\n",
    "Auch hier ist der Wertebereich $[-1,1]$, jedoch wird nicht die Stärke des linearen Zusammenhangs zwischen den Zufallsvariablen X und Y, sondern zwischen U und V und somit den monotonen Zusammenhangs zwischen X und Y.\n",
    "\n",
    "\n",
    "##### Kendalls $\\tau$\n",
    "\n",
    "\n",
    "#### Wann verwendet man was\n",
    "\n",
    "#### Berechnungen und Schlussfolgerung"
   ]
  },
  {
   "cell_type": "markdown",
   "metadata": {},
   "source": [
    "### g) Random Forest\n",
    "Führen Sie die Analyse in 4e) mit Random Forestanstatt der linearen Regression durch. Variieren Sie dabei den Parameter random_statemit den Werten {1, 33, 135, 123, 99, 22} und einigen selbst gewählten Werten. Berechnen Sie MSE des Test-Datensatzes. Vergleichen Sie Feature Importance. Welche Schlussfolgerung können Sie daraus ziehen?"
   ]
  },
  {
   "cell_type": "markdown",
   "metadata": {},
   "source": [
    "### h) Multikollinearität\n",
    "Was ist Multikollinearität? Was sind ihre möglichen Ursachen und Auswirkungen? Wie kann man sie erkennen? Welche Maßnahmen gibt es, wenn Variablen in den Daten kollinear sind?"
   ]
  },
  {
   "cell_type": "code",
   "execution_count": null,
   "metadata": {},
   "outputs": [],
   "source": []
  }
 ],
 "metadata": {
  "kernelspec": {
   "display_name": "Python 3",
   "language": "python",
   "name": "python3"
  },
  "language_info": {
   "codemirror_mode": {
    "name": "ipython",
    "version": 3
   },
   "file_extension": ".py",
   "mimetype": "text/x-python",
   "name": "python",
   "nbconvert_exporter": "python",
   "pygments_lexer": "ipython3",
   "version": "3.7.3"
  }
 },
 "nbformat": 4,
 "nbformat_minor": 2
}
