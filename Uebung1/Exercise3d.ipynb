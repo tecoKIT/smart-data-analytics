{
 "cells": [
  {
   "cell_type": "markdown",
   "metadata": {
    "pycharm": {}
   },
   "source": [
    "# Aufgabe 3d)"
   ]
  },
  {
   "cell_type": "markdown",
   "metadata": {},
   "source": [
    "## Aufgabenstellung\n",
    "Untersuchen Sie die Art der Variablen und die Verteilung der Zielvariablen. Gegebenenfalls ist eine Datenvorverarbeitung nötig. Nennen Sie die möglichen  Methoden.  Wählen  Sie  eine  Methode  aus  und  begründen  Sie  Ihre  Auswahl.  Bitte separieren  Sie  die  Datensätze  mit  80%  :  20%  =  Training  :  Test  und  führen  Sie  die  Methode  ohne Parameteroptimierung aus. Vergleichen Sie die Ergebnisse mit denen von vorgegebenen Methode(n).\n",
    "\n",
    "Schätzen  Sie  den  Anteil  des  Rohöls  im  Test-Datensatz,  das  in  Gasolin konvertiert  wird, anhand anderer Indikatoren im Datensatz `gasoline.csv`. <b>Baseline</b>: Beta Regression."
   ]
  },
  {
   "cell_type": "markdown",
   "metadata": {},
   "source": [
    "**Vorgehen**\n",
    "\n",
    "1. Importieren der Bibliotheken\n",
    "- Einlesen des Datensatzes\n",
    "- Vertrautmachen mit den Daten\n",
    "- Schätzen des Anteils an Rohöl"
   ]
  },
  {
   "cell_type": "markdown",
   "metadata": {},
   "source": [
    "**Zusammenfassung der Ergebnisse**\n",
    "\n",
    "Der Anteil des Rohöls lässt sich mit der Ridge-Regression vergleichsweise gut schätzen. Es gibt viele Variablen die miteinander eine hohe Korrelation aufweisen."
   ]
  },
  {
   "cell_type": "markdown",
   "metadata": {},
   "source": [
    "## Importieren der Bibliotheken"
   ]
  },
  {
   "cell_type": "code",
   "execution_count": null,
   "metadata": {},
   "outputs": [],
   "source": [
    "# Common Libraries\n",
    "import numpy as np\n",
    "import pandas as pd \n",
    "import seaborn as sns\n",
    "import matplotlib.pyplot as plt\n",
    "\n",
    "# Regression models\n",
    "from sklearn.svm import SVR, SVC\n",
    "from sklearn.linear_model import Lasso, ElasticNet, LinearRegression, Ridge\n",
    "\n",
    "# Evaluation\n",
    "from sklearn.model_selection import cross_val_score, train_test_split  # cross validation"
   ]
  },
  {
   "cell_type": "markdown",
   "metadata": {},
   "source": [
    "## Einlesen der Daten"
   ]
  },
  {
   "cell_type": "markdown",
   "metadata": {},
   "source": [
    "Die Daten werden aus der Datei \"gasoline.csv\" gelesen. Die Spalten sind mit Semikola getrennt. Nachkommastellen sind mit Kommata von den Vorkommastellen getrennt. Die Namen der Spalten werden automatisch aus der Datei gelesen."
   ]
  },
  {
   "cell_type": "code",
   "execution_count": null,
   "metadata": {},
   "outputs": [],
   "source": [
    "data = pd.read_csv('./data/gasoline.csv', sep=\";\", decimal=\",\")"
   ]
  },
  {
   "cell_type": "markdown",
   "metadata": {},
   "source": [
    "## Vertrautmachen mit den Daten"
   ]
  },
  {
   "cell_type": "code",
   "execution_count": null,
   "metadata": {
    "scrolled": true
   },
   "outputs": [],
   "source": [
    "print(data.shape) # print the number of rows and columns\n",
    "print(data.dtypes) # print the data types of the columns\n",
    "data = data.drop(\"Unnamed: 0\", axis=1)"
   ]
  },
  {
   "cell_type": "markdown",
   "metadata": {},
   "source": [
    "Die Daten umfassen 32 Einträge bei denen der Anteil von Rohöl annotiert ist, der in Benzin umgewandelt werden konnte. Dieser soll im Laufe der Aufgabe geschätzt werden. Die äußerst geringe Anzahl ein Einträgen macht die Vorhersage des Anteils voraussichtlich schwierig. Der Index wird verworfen, weil er im Folgenden nicht benötigt wird."
   ]
  },
  {
   "cell_type": "markdown",
   "metadata": {},
   "source": [
    "- Anteil des Rohöls, der in Benzin umgwandelt werden konnte (_Zielvariable_): Numerisch-Kontinuierlich zwischen 0 und 1\n",
    "    - `yield`: Float\n",
    "    \n",
    "Erkärende Variablen des Rohöls:\n",
    "\n",
    "- Gewicht: Numerisch-Kontinuierlich\n",
    "    - `gravity`: Float\n",
    "\n",
    "- Dampfdruck des Rohöls: Numerisch-Kontinuierlich\n",
    "    - `pressure`: Float \n",
    "\n",
    "- Temperatur, an der 10 % des Rohöls verdampft ist, Numerisch-Diskret\n",
    "    - `temp10`: Float\n",
    "\n",
    "- Temperatur, an der alles Rohöls verdampft ist, Numerisch-Diskret\n",
    "    - `temp`: Float\n",
    "    \n",
    "- Satzindikator, der die Konditionen des Gewichts, des Drucks und der 10% Temperatur beschreibt: Numerisch-Diskret\n",
    "    - `batch`: Float"
   ]
  },
  {
   "cell_type": "code",
   "execution_count": null,
   "metadata": {},
   "outputs": [],
   "source": [
    "# print the boxplit of the crude oil percentage column with data points\n",
    "ax = sns.boxplot(x=\"yield\", data=data)\n",
    "ax = sns.swarmplot(x=\"yield\", data=data, color=\".25\")"
   ]
  },
  {
   "cell_type": "markdown",
   "metadata": {},
   "source": [
    "Der Anteil variiert in einem Bereich zwischen 2,8 % bis 45,7 %. Auf diesem Intervall sind die Datenpunkte relativ gleichmäßig verteilt."
   ]
  },
  {
   "cell_type": "code",
   "execution_count": null,
   "metadata": {},
   "outputs": [],
   "source": [
    "# Pearson Correlation\n",
    "corr_pearson = data.corr('pearson')\n",
    "\n",
    "cmap = sns.diverging_palette(240, 10, n=100)\n",
    "\n",
    "sns.heatmap(corr_pearson, \n",
    "            xticklabels=corr_pearson.columns.values,\n",
    "            yticklabels=corr_pearson.columns.values, cmap=cmap, vmin=-1, vmax=1);\n",
    "corr_pearson"
   ]
  },
  {
   "cell_type": "markdown",
   "metadata": {},
   "source": [
    "Es gibt in dem Datensatz viele hohe Korrelationen, insbesondere zwischen `temp` und `yield`. Die Temperatur dürfte deswegen eine wichtige Rolle als erklärende Variable spielen."
   ]
  },
  {
   "cell_type": "markdown",
   "metadata": {},
   "source": [
    "## Schätzen des Anteils an Rohöl"
   ]
  },
  {
   "cell_type": "code",
   "execution_count": null,
   "metadata": {},
   "outputs": [],
   "source": [
    "# split test and train set\n",
    "data_train, data_test = train_test_split(data, test_size = 0.2, random_state = 1)\n",
    "X_train, y_train = data_train.values[:,1:], data_train.values[:,0] # define exogen and endogen\n",
    "X_test, y_test = data_test.values[:,1:], data_test.values[:,0]"
   ]
  },
  {
   "cell_type": "markdown",
   "metadata": {},
   "source": [
    "Die Beta-Regression wird mittels R umgesetzt. Dazu wird das Python-Paket rpy2, um im Notebook sowohl Python als auch R ausführen zu können."
   ]
  },
  {
   "cell_type": "code",
   "execution_count": null,
   "metadata": {},
   "outputs": [],
   "source": [
    "# enables the %%R magic, not necessary if you've already done this\n",
    "%load_ext rpy2.ipython"
   ]
  },
  {
   "cell_type": "code",
   "execution_count": null,
   "metadata": {},
   "outputs": [],
   "source": [
    "%%R\n",
    "# Install R package, if not already done\n",
    "if(!require(betareg)){install.packages(\"betareg\", repos = \"https://cran.r-project.org\")}"
   ]
  },
  {
   "cell_type": "code",
   "execution_count": null,
   "metadata": {},
   "outputs": [],
   "source": [
    "%%R -i data_train -i data_test\n",
    "# import data_train and data_test from global environment\n",
    "set.seed(4040)\n",
    "gy <- betareg(yield ~ gravity + pressure + temp10 + temp + batch, data=data_train)\n",
    "response = predict(gy, newdata=data_test, type=\"response\")\n",
    "MSE <- mean((response - data_test$yield) * (response - data_test$yield))\n",
    "RMSE <- sqrt(MSE)\n",
    "print(RMSE)"
   ]
  },
  {
   "cell_type": "code",
   "execution_count": null,
   "metadata": {},
   "outputs": [],
   "source": [
    "from rpy2 import robjects\n",
    "RMSE = robjects.r.RMSE\n",
    "RMSE"
   ]
  },
  {
   "cell_type": "markdown",
   "metadata": {},
   "source": [
    "Das Modell der Beta-Regression wird auf den Trainingsdaten trainiert und auf den Testdaten getestet. Am Ende gilt es für die anderen Modelle die Baseline von 0.38637 zu schlagen."
   ]
  },
  {
   "cell_type": "code",
   "execution_count": null,
   "metadata": {},
   "outputs": [],
   "source": [
    "def eval(model, model_name, X, y):\n",
    "    scores = cross_val_score(model, X, y, cv=2, scoring='neg_mean_squared_error')\n",
    "    scores = np.sqrt(-scores)\n",
    "    return \"{}: RMSE {}, VAR {}\".format(model_name, scores.mean(), scores.var())"
   ]
  },
  {
   "cell_type": "code",
   "execution_count": null,
   "metadata": {},
   "outputs": [],
   "source": [
    "print(eval(Lasso(),\"Lasso\", X_train, y_train))\n",
    "print(eval(ElasticNet(),\"ElasticNet\", X_train, y_train))\n",
    "print(eval(SVR(kernel=\"rbf\", gamma=0.1),\"SVM RBF\", X_train, y_train))\n",
    "print(eval(SVR(kernel=\"linear\"),\"SVM Linear\", X_train, y_train))\n",
    "print(eval(LinearRegression(),\"LinearRegression\", X_train, y_train))\n",
    "print(eval(Ridge(),\"RidgeRegression\", X_train, y_train))"
   ]
  },
  {
   "cell_type": "markdown",
   "metadata": {},
   "source": [
    "Die Ridge-Regression schlägt sich innerhalb des Trainingsdatensatz am besten."
   ]
  },
  {
   "cell_type": "code",
   "execution_count": null,
   "metadata": {},
   "outputs": [],
   "source": [
    "ridge = Ridge().fit(X_train, y_train)\n",
    "pred = ridge.predict(X_train)\n",
    "MSE = np.mean((pred - y_train) * (pred - y_train))\n",
    "RMSE = np.sqrt(MSE)\n",
    "RMSE"
   ]
  },
  {
   "cell_type": "code",
   "execution_count": null,
   "metadata": {},
   "outputs": [],
   "source": [
    "pred = ridge.predict(X_test)\n",
    "MSE = np.mean((pred - y_test) * (pred - y_test))\n",
    "RMSE = np.sqrt(MSE)\n",
    "RMSE"
   ]
  },
  {
   "cell_type": "markdown",
   "metadata": {},
   "source": [
    "Auch gegen die Baseline schlägt sich die Ridge-Regression sehr gut."
   ]
  }
 ],
 "metadata": {
  "kernelspec": {
   "display_name": "Python 3",
   "language": "python",
   "name": "python3"
  },
  "language_info": {
   "codemirror_mode": {
    "name": "ipython",
    "version": 3
   },
   "file_extension": ".py",
   "mimetype": "text/x-python",
   "name": "python",
   "nbconvert_exporter": "python",
   "pygments_lexer": "ipython3",
   "version": "3.7.3"
  },
  "toc": {
   "base_numbering": 1,
   "nav_menu": {},
   "number_sections": true,
   "sideBar": true,
   "skip_h1_title": false,
   "title_cell": "Table of Contents",
   "title_sidebar": "Contents",
   "toc_cell": false,
   "toc_position": {},
   "toc_section_display": true,
   "toc_window_display": false
  }
 },
 "nbformat": 4,
 "nbformat_minor": 2
}
