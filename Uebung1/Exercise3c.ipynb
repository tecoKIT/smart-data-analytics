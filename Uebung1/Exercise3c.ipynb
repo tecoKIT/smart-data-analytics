{
 "cells": [
  {
   "cell_type": "markdown",
   "metadata": {
    "pycharm": {}
   },
   "source": [
    "# Exercise 3 – Interpretation von Modellen"
   ]
  },
  {
   "cell_type": "markdown",
   "metadata": {
    "pycharm": {}
   },
   "source": [
    "### Folgende Teilaufgaben beschreiben die Fragestellungen. Untersuchen Sie die Art der Variablen und die Verteilung der Zielvariablen. Gegebenenfalls ist eine Datenvorverarbeitung nötig. Nennen Sie die möglichen  Methoden.  Wählen  Sie  eine  Methode  aus  und  begründen  Sie  Ihre  Auswahl.  Bitte separieren  Sie  die  Datensätze  mit  80%  :  20%  =  Training  :  Test  und  führen  Sie  die  Methode  ohne Parameteroptimierung aus. Vergleichen Sie die Ergebnisse mit denen von vorgegebenen Methode(n).\n",
    "\n",
    "### c) Welche Charakteristika eines weiblichen Krebses in `crabs.txt` finden männliche Krebs (sogenannte Satellites auf Englisch) anziehend? Schätzen Sie die Anzahl der männlichen Krebse in Test-Datensatz anhand der Charakteristika der weiblichen Krebse. Baseline: Poisson Regression."
   ]
  },
  {
   "cell_type": "markdown",
   "metadata": {
    "pycharm": {}
   },
   "source": [
    "### Importieren der Bibliotheken"
   ]
  },
  {
   "cell_type": "code",
   "execution_count": 145,
   "metadata": {
    "pycharm": {}
   },
   "outputs": [],
   "source": [
    "# Common Libraries\n",
    "import numpy as np\n",
    "import pandas as pd \n",
    "import seaborn as sns\n",
    "import matplotlib.pyplot as plt\n",
    "\n",
    "# Regression models\n",
    "from module.poisson_regression import PoissonRegression\n",
    "from sklearn.svm import SVR\n",
    "from sklearn.linear_model import Lasso, ElasticNet, LinearRegression\n",
    "\n",
    "# Evaluation\n",
    "from sklearn.model_selection import cross_val_score, train_test_split  # cross validation"
   ]
  },
  {
   "cell_type": "markdown",
   "metadata": {},
   "source": [
    "## Einlesen des Datensatzes"
   ]
  },
  {
   "cell_type": "markdown",
   "metadata": {},
   "source": [
    "Die Daten werden mithilfe der Bibliothek Pandas aus der CSV-Datei gelesen. Die Spalten werden durch eine unterschiedliche Anzahl von Leerzeichen voneinander getrennt. Dies kann durch den Regulären Ausdruck \"\\s+\" abgefangen werden. Die Namen der Variablen werden aus der Beschreibungsdatei übernommen. Der Identifier ist für die nachfolgende Analyse nicht von Relevanz und wird deswegen entfernt. Es handelt sich um eine fortlaufende, ganzzahlige Nummer um die Krebse voneinander unterscheiden zu können."
   ]
  },
  {
   "cell_type": "code",
   "execution_count": 146,
   "metadata": {},
   "outputs": [],
   "source": [
    "data = pd.read_csv('./data/crabs.txt', sep=\"\\s+\", header=None)  # whitespaces as seperators\n",
    "data.columns = [\"ID\", \"Color\", \"Spine\", \"Width\", \"Weight\", \"Sallite\"]  # define column names\n",
    "data = data.drop(\"ID\",axis=1)"
   ]
  },
  {
   "cell_type": "markdown",
   "metadata": {
    "pycharm": {}
   },
   "source": [
    "## Vertrautmachen mit den Daten"
   ]
  },
  {
   "cell_type": "code",
   "execution_count": 147,
   "metadata": {},
   "outputs": [
    {
     "name": "stdout",
     "output_type": "stream",
     "text": [
      "(173, 5)\n",
      "Color        int64\n",
      "Spine        int64\n",
      "Width      float64\n",
      "Weight     float64\n",
      "Sallite      int64\n",
      "dtype: object\n"
     ]
    },
    {
     "data": {
      "text/plain": [
       "173"
      ]
     },
     "execution_count": 147,
     "metadata": {},
     "output_type": "execute_result"
    }
   ],
   "source": [
    "print(data.shape) # print the number of rows and columns\n",
    "print(data.dtypes) # print the data types of the columns\n",
    "data[\"Sallite\"].count() # check if the number of male crabs is equal to the amount of female crabs"
   ]
  },
  {
   "cell_type": "markdown",
   "metadata": {
    "pycharm": {}
   },
   "source": [
    "Die Daten umfassen 173 weibliche Pfeilschwanzkrebse. Zu jedem Krebs wird die Helligkeit (`Color`), der Zustand des Rückens (`Spine`), die Breite des Panzers (`Width`), das Gewicht (`Weight`) sowie die Anzahl der männlichen Anhänger (`Sallite`) angegeben. Zu den 173 weiblichen Krebsen gibt es genau 173 männliche Anhänger."
   ]
  },
  {
   "cell_type": "markdown",
   "metadata": {},
   "source": [
    "- Anzahl der männlichen Anhänger (_Zielvariable_): Numerisch-Diskret (Natürliche Zahlen mit 0)\n",
    "    - `Sallite`: Integer\n",
    "    \n",
    "Erkärende Variablen der Krabben:\n",
    "\n",
    "- Helligkeit: Kategorisch-Ordinal\n",
    "    - `Color`: Integer (1 = medium light, 2 = medium, 3 = medium dark, 4 = dark)\n",
    "\n",
    "- Zustand des Rückens: Kategorisch-Ordinal\n",
    "    - `Spine`: Integer (1 = both good, 2 = one worn or broken, 3 = both worn or broker)\n",
    "\n",
    "- Gewicht in Kilogramm, Numerisch-Kontinuierlich\n",
    "    - `Weight`: Float\n",
    "\n",
    "- Breite des Panzers: Numerisch-Kontinuierlich\n",
    "    - `Width`: Float\n",
    "\n",
    "(Quelle der Einheiten und Rückenzustandsbeschreibung: https://rdrr.io/cran/rsq/man/hcrabs.html)"
   ]
  },
  {
   "cell_type": "code",
   "execution_count": 148,
   "metadata": {
    "pycharm": {
     "is_executing": false
    }
   },
   "outputs": [
    {
     "data": {
      "image/png": "[encoded data removed]",
      "text/plain": [
       "<Figure size 432x288 with 1 Axes>"
      ]
     },
     "metadata": {
      "needs_background": "light"
     },
     "output_type": "display_data"
    }
   ],
   "source": [
    "# print the boxplit of the sallite column with data points\n",
    "ax = sns.boxplot(x=\"Sallite\", data=data)\n",
    "ax = sns.swarmplot(x=\"Sallite\", data=data, color=\".25\")"
   ]
  },
  {
   "cell_type": "markdown",
   "metadata": {},
   "source": [
    "Die meisten weiblichen Krabben haben nur wenige männliche Krabben als Anhänger. Es gibt wenige weibliche Kraben zu denen sich die männlichen Kraben besonders hingezogen fühlen."
   ]
  },
  {
   "cell_type": "code",
   "execution_count": 149,
   "metadata": {},
   "outputs": [
    {
     "data": {
      "image/png": "[encoded data removed]",
      "text/plain": [
       "<Figure size 432x288 with 2 Axes>"
      ]
     },
     "metadata": {
      "needs_background": "light"
     },
     "output_type": "display_data"
    }
   ],
   "source": [
    "# Pearson Correlation\n",
    "corr_pearson = data.corr('pearson')\n",
    "\n",
    "cmap = sns.diverging_palette(240, 10, n=100)\n",
    "\n",
    "sns.heatmap(corr_pearson, \n",
    "            xticklabels=corr_pearson.columns.values,\n",
    "            yticklabels=corr_pearson.columns.values, cmap=cmap, vmin=-1, vmax=1);"
   ]
  },
  {
   "cell_type": "markdown",
   "metadata": {},
   "source": [
    "Es lässt sich klar eine Korrelation zwischen der Breite und dem Gewicht der Krabben erkennen. Die meisten Krabben haben nur wenige Partner, wenige Krabben haben sehr viele, bis zu 15, Männchen. Die Anzahl der männlichen Anhänger korreliert nicht stark mit den anderen Variablen. Deswegen lässt sich zunächst nicht eindeutig klären, was männliche Krabben anziehend finden. Tendentiell scheint hellere Farben besser zu sein als dunkele und breite, schwere Krabben scheinen zu punkten."
   ]
  },
  {
   "cell_type": "markdown",
   "metadata": {},
   "source": [
    "Da es keine nominalen Variablen gibt, die es umzuwandeln gilt und keine Daten fehlen, wird nun begonnen die exogene Variable zu schätzen."
   ]
  },
  {
   "cell_type": "markdown",
   "metadata": {},
   "source": [
    "### Schätzen der Anzahl männlicher Krebse"
   ]
  },
  {
   "cell_type": "code",
   "execution_count": 150,
   "metadata": {},
   "outputs": [],
   "source": [
    "X, y = data.values[:,:-1], data.values[:,-1]\n",
    "X_train, X_test, y_train, y_test = train_test_split(X, y, test_size = 0.2, random_state = 1)"
   ]
  },
  {
   "cell_type": "markdown",
   "metadata": {},
   "source": [
    "Es handelt sich um ein Regressionsproblem bei dem die Anzahl der männlichen Krebse anhand der anderen Größen geschätzt werden muss. $y$ bezeichnet die tatsächliche Anzahl der männlichen Krebse. $X$ ist die Matrix mit allen anderen Größen. Dadurch, dass ein Regressionsproblem vorliegt kann man schon Klassifikatoren, Clustering-Algorithmen und Methoden zur Dimensionsreduktion für die Schätzung der männlichen Anhänger ausschließen. Im Folgenden wird auf den Trainingsteil die Poisson-Regression und andere unterschiedliche Modelle ausprobiert."
   ]
  },
  {
   "cell_type": "code",
   "execution_count": 151,
   "metadata": {},
   "outputs": [
    {
     "name": "stdout",
     "output_type": "stream",
     "text": [
      "Optimization terminated successfully.\n",
      "         Current function value: 2.531548\n",
      "         Iterations 10\n",
      "Optimization terminated successfully.\n",
      "         Current function value: 2.704732\n",
      "         Iterations 10\n",
      "Optimization terminated successfully.\n",
      "         Current function value: 2.656779\n",
      "         Iterations 10\n",
      "Optimization terminated successfully.\n",
      "         Current function value: 2.735276\n",
      "         Iterations 8\n",
      "Optimization terminated successfully.\n",
      "         Current function value: 2.802714\n",
      "         Iterations 10\n"
     ]
    },
    {
     "data": {
      "text/plain": [
       "'Poisson: RMSE 3.3037781985527106, VAR 0.3664161452758746'"
      ]
     },
     "execution_count": 151,
     "metadata": {},
     "output_type": "execute_result"
    }
   ],
   "source": [
    "def eval(model, model_name, X, y):\n",
    "    scores = cross_val_score(model, X, y, cv=5, scoring='neg_mean_squared_error')\n",
    "    scores = np.sqrt(-scores)\n",
    "    return \"{}: RMSE {}, VAR {}\".format(model_name, scores.mean(), scores.var())\n",
    "\n",
    "eval(PoissonRegression(),\"Poisson\",X_train, y_train)"
   ]
  },
  {
   "cell_type": "markdown",
   "metadata": {},
   "source": [
    "Für die Poisson-Regression wurde eine Klasse erstellt die gemäß dem Adapter-Entwurfsmuster ermöglicht die Scikitlearn Crossvalidierung zu verwenden. Die Implementierung ist unter \"./module/poisson_regression.py\" zu finden. Sie basiert auf die Poisson-Regressionsimplementierung von dem Paket $statsmodels$. Der RSME ist mit dem Hintergrund, dass sehr viele Werte klein sind, relativ groß."
   ]
  },
  {
   "cell_type": "code",
   "execution_count": 152,
   "metadata": {},
   "outputs": [
    {
     "name": "stdout",
     "output_type": "stream",
     "text": [
      "Lasso: RMSE 3.058601285404473, VAR 0.18443334730406824\n",
      "ElasticNet: RMSE 3.0395706197313546, VAR 0.18441581598064283\n",
      "SVM RBF: RMSE 3.148264945667124, VAR 0.3160513181113745\n",
      "SVM Linear: RMSE 3.0606338333771737, VAR 0.34465169618605007\n",
      "LinearRegression: RMSE 3.014501722341287, VAR 0.22486445430489604\n"
     ]
    }
   ],
   "source": [
    "print(eval(Lasso(),\"Lasso\", X_train, y_train))\n",
    "print(eval(ElasticNet(),\"ElasticNet\", X_train, y_train))\n",
    "print(eval(SVR(kernel=\"rbf\", gamma=0.1),\"SVM RBF\", X_train, y_train))\n",
    "print(eval(SVR(kernel=\"linear\"),\"SVM Linear\", X_train, y_train))\n",
    "print(eval(LinearRegression(),\"LinearRegression\", X_train, y_train))"
   ]
  },
  {
   "cell_type": "markdown",
   "metadata": {},
   "source": [
    "Die lineare Regression schneidet auf den Trainingsdatensatz am besten ab. Deswegen wird nun diese Methode auf den Testdatensatz mit der Poissonregression verglichen."
   ]
  },
  {
   "cell_type": "code",
   "execution_count": 153,
   "metadata": {},
   "outputs": [
    {
     "data": {
      "text/plain": [
       "0.14502946481162748"
      ]
     },
     "execution_count": 153,
     "metadata": {},
     "output_type": "execute_result"
    }
   ],
   "source": [
    "linear = LinearRegression().fit(X_train, y_train)\n",
    "linear.score(X_train, y_train)"
   ]
  },
  {
   "cell_type": "code",
   "execution_count": 154,
   "metadata": {},
   "outputs": [
    {
     "data": {
      "text/plain": [
       "0.1495646716815906"
      ]
     },
     "execution_count": 154,
     "metadata": {},
     "output_type": "execute_result"
    }
   ],
   "source": [
    "linear.score(X_test, y_test)"
   ]
  },
  {
   "cell_type": "code",
   "execution_count": 155,
   "metadata": {},
   "outputs": [
    {
     "name": "stdout",
     "output_type": "stream",
     "text": [
      "Optimization terminated successfully.\n",
      "         Current function value: 2.699011\n",
      "         Iterations 10\n"
     ]
    },
    {
     "data": {
      "text/plain": [
       "0.11299651410653078"
      ]
     },
     "execution_count": 155,
     "metadata": {},
     "output_type": "execute_result"
    }
   ],
   "source": [
    "poisson = PoissonRegression().fit(X_train, y_train)\n",
    "poisson.score(X_train, y_train)"
   ]
  },
  {
   "cell_type": "code",
   "execution_count": 156,
   "metadata": {},
   "outputs": [
    {
     "data": {
      "text/plain": [
       "0.11844945306305034"
      ]
     },
     "execution_count": 156,
     "metadata": {},
     "output_type": "execute_result"
    }
   ],
   "source": [
    "poisson.score(X_test, y_test)"
   ]
  },
  {
   "cell_type": "markdown",
   "metadata": {},
   "source": [
    "Die Bestimmtheit des linearen Modells ist größer und damit besser als bei der Poisson-Regression. Es beschreibt besser die Daten. Die Bestimmtheit befindet sich allerdings auf einem sehr niedrigen Niveau."
   ]
  }
 ],
 "metadata": {
  "kernelspec": {
   "display_name": "Python 3",
   "language": "python",
   "name": "python3"
  },
  "language_info": {
   "codemirror_mode": {
    "name": "ipython",
    "version": 3
   },
   "file_extension": ".py",
   "mimetype": "text/x-python",
   "name": "python",
   "nbconvert_exporter": "python",
   "pygments_lexer": "ipython3",
   "version": "3.7.3"
  },
  "toc": {
   "base_numbering": 1,
   "nav_menu": {},
   "number_sections": true,
   "sideBar": true,
   "skip_h1_title": false,
   "title_cell": "Table of Contents",
   "title_sidebar": "Contents",
   "toc_cell": false,
   "toc_position": {},
   "toc_section_display": true,
   "toc_window_display": false
  }
 },
 "nbformat": 4,
 "nbformat_minor": 2
}
