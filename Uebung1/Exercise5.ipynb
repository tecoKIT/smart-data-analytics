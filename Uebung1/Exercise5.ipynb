{
 "cells": [
  {
   "cell_type": "markdown",
   "metadata": {},
   "source": [
    "# Aufgabe5 – Interpretation von Modellen"
   ]
  },
  {
   "cell_type": "markdown",
   "metadata": {},
   "source": [
    "## Notebook Beschreibung\n",
    "..."
   ]
  },
  {
   "cell_type": "markdown",
   "metadata": {},
   "source": [
    "## Bibliotheken importieren und Notebook setup"
   ]
  },
  {
   "cell_type": "code",
   "execution_count": 345,
   "metadata": {},
   "outputs": [],
   "source": [
    "# Modul Pfad setzen\n",
    "import sys\n",
    "sys.path.append('./module')\n",
    "\n",
    "\n",
    "# Bibliotheken importieren\n",
    "import matplotlib.pyplot as plt\n",
    "import seaborn as sns\n",
    "sns.set()\n",
    "import numpy as np\n",
    "import pandas as pd\n",
    "import sklearn\n",
    "from sklearn.preprocessing import LabelEncoder\n",
    "from sklearn.preprocessing import RobustScaler, StandardScaler, MinMaxScaler\n",
    "from sklearn.compose import ColumnTransformer\n",
    "from sklearn.model_selection import train_test_split, cross_val_score\n",
    "from sklearn.linear_model import LogisticRegression\n",
    "from sklearn import metrics\n",
    "\n",
    "from sklearn.tree import DecisionTreeClassifier\n",
    "from sklearn.ensemble import RandomForestClassifier\n",
    "from sklearn.ensemble import AdaBoostClassifier\n",
    "from sklearn.naive_bayes import ComplementNB\n",
    "from sklearn.svm import LinearSVC\n",
    "\n",
    "\n",
    "import statsmodels.api as sm\n",
    "import statsmodels.formula.api as smf\n",
    "\n",
    "from IPython.display import display\n"
   ]
  },
  {
   "cell_type": "markdown",
   "metadata": {},
   "source": [
    "## Analyse und Datenvorverarbeitung"
   ]
  },
  {
   "cell_type": "markdown",
   "metadata": {},
   "source": [
    "Aufgabe 5a)  \n",
    "Lesen Sie den Datensatz Hdma.csv ein und machen Sie sich mit den Daten vertraut."
   ]
  },
  {
   "cell_type": "code",
   "execution_count": 251,
   "metadata": {},
   "outputs": [
    {
     "data": {
      "text/html": [
       "<div>\n",
       "<style scoped>\n",
       "    .dataframe tbody tr th:only-of-type {\n",
       "        vertical-align: middle;\n",
       "    }\n",
       "\n",
       "    .dataframe tbody tr th {\n",
       "        vertical-align: top;\n",
       "    }\n",
       "\n",
       "    .dataframe thead th {\n",
       "        text-align: right;\n",
       "    }\n",
       "</style>\n",
       "<table border=\"1\" class=\"dataframe\">\n",
       "  <thead>\n",
       "    <tr style=\"text-align: right;\">\n",
       "      <th></th>\n",
       "      <th>dir</th>\n",
       "      <th>hir</th>\n",
       "      <th>lvr</th>\n",
       "      <th>ccs</th>\n",
       "      <th>mcs</th>\n",
       "      <th>pbcr</th>\n",
       "      <th>dmi</th>\n",
       "      <th>self</th>\n",
       "      <th>single</th>\n",
       "      <th>uria</th>\n",
       "      <th>condo</th>\n",
       "      <th>black</th>\n",
       "      <th>deny</th>\n",
       "    </tr>\n",
       "  </thead>\n",
       "  <tbody>\n",
       "    <tr>\n",
       "      <th>0</th>\n",
       "      <td>0.221</td>\n",
       "      <td>0.221</td>\n",
       "      <td>0.800000</td>\n",
       "      <td>5.0</td>\n",
       "      <td>2.0</td>\n",
       "      <td>no</td>\n",
       "      <td>no</td>\n",
       "      <td>no</td>\n",
       "      <td>no</td>\n",
       "      <td>3.9</td>\n",
       "      <td>0</td>\n",
       "      <td>no</td>\n",
       "      <td>no</td>\n",
       "    </tr>\n",
       "    <tr>\n",
       "      <th>1</th>\n",
       "      <td>0.265</td>\n",
       "      <td>0.265</td>\n",
       "      <td>0.921875</td>\n",
       "      <td>2.0</td>\n",
       "      <td>2.0</td>\n",
       "      <td>no</td>\n",
       "      <td>no</td>\n",
       "      <td>no</td>\n",
       "      <td>yes</td>\n",
       "      <td>3.2</td>\n",
       "      <td>0</td>\n",
       "      <td>no</td>\n",
       "      <td>no</td>\n",
       "    </tr>\n",
       "    <tr>\n",
       "      <th>2</th>\n",
       "      <td>0.372</td>\n",
       "      <td>0.248</td>\n",
       "      <td>0.920398</td>\n",
       "      <td>1.0</td>\n",
       "      <td>2.0</td>\n",
       "      <td>no</td>\n",
       "      <td>no</td>\n",
       "      <td>no</td>\n",
       "      <td>no</td>\n",
       "      <td>3.2</td>\n",
       "      <td>0</td>\n",
       "      <td>no</td>\n",
       "      <td>no</td>\n",
       "    </tr>\n",
       "    <tr>\n",
       "      <th>3</th>\n",
       "      <td>0.320</td>\n",
       "      <td>0.250</td>\n",
       "      <td>0.860465</td>\n",
       "      <td>1.0</td>\n",
       "      <td>2.0</td>\n",
       "      <td>no</td>\n",
       "      <td>no</td>\n",
       "      <td>no</td>\n",
       "      <td>no</td>\n",
       "      <td>4.3</td>\n",
       "      <td>0</td>\n",
       "      <td>no</td>\n",
       "      <td>no</td>\n",
       "    </tr>\n",
       "    <tr>\n",
       "      <th>4</th>\n",
       "      <td>0.360</td>\n",
       "      <td>0.350</td>\n",
       "      <td>0.600000</td>\n",
       "      <td>1.0</td>\n",
       "      <td>1.0</td>\n",
       "      <td>no</td>\n",
       "      <td>no</td>\n",
       "      <td>no</td>\n",
       "      <td>no</td>\n",
       "      <td>3.2</td>\n",
       "      <td>0</td>\n",
       "      <td>no</td>\n",
       "      <td>no</td>\n",
       "    </tr>\n",
       "  </tbody>\n",
       "</table>\n",
       "</div>"
      ],
      "text/plain": [
       "     dir    hir       lvr  ccs  mcs pbcr dmi self single  uria  condo black  \\\n",
       "0  0.221  0.221  0.800000  5.0  2.0   no  no   no     no   3.9      0    no   \n",
       "1  0.265  0.265  0.921875  2.0  2.0   no  no   no    yes   3.2      0    no   \n",
       "2  0.372  0.248  0.920398  1.0  2.0   no  no   no     no   3.2      0    no   \n",
       "3  0.320  0.250  0.860465  1.0  2.0   no  no   no     no   4.3      0    no   \n",
       "4  0.360  0.350  0.600000  1.0  1.0   no  no   no     no   3.2      0    no   \n",
       "\n",
       "  deny  \n",
       "0   no  \n",
       "1   no  \n",
       "2   no  \n",
       "3   no  \n",
       "4   no  "
      ]
     },
     "execution_count": 251,
     "metadata": {},
     "output_type": "execute_result"
    }
   ],
   "source": [
    "# Load Dataset from csv (use ; as separator)\n",
    "data = pd.read_csv('./data/Hdma.csv', sep=';')\n",
    "# Display first line to test if data was loaded correctly\n",
    "data.head()"
   ]
  },
  {
   "cell_type": "code",
   "execution_count": 252,
   "metadata": {},
   "outputs": [
    {
     "data": {
      "text/plain": [
       "(2381, 13)"
      ]
     },
     "execution_count": 252,
     "metadata": {},
     "output_type": "execute_result"
    }
   ],
   "source": [
    "# Show dataframe size\n",
    "data.shape"
   ]
  },
  {
   "cell_type": "markdown",
   "metadata": {},
   "source": [
    "Der Datensatz besteht aus 2381 Datenpunkten mit jeweils 13 Merkmalen"
   ]
  },
  {
   "cell_type": "code",
   "execution_count": 253,
   "metadata": {},
   "outputs": [
    {
     "data": {
      "text/plain": [
       "dir       False\n",
       "hir       False\n",
       "lvr       False\n",
       "ccs       False\n",
       "mcs       False\n",
       "pbcr       True\n",
       "dmi       False\n",
       "self       True\n",
       "single    False\n",
       "uria      False\n",
       "condo     False\n",
       "black     False\n",
       "deny      False\n",
       "dtype: bool"
      ]
     },
     "execution_count": 253,
     "metadata": {},
     "output_type": "execute_result"
    }
   ],
   "source": [
    "data.isnull().any()"
   ]
  },
  {
   "cell_type": "markdown",
   "metadata": {},
   "source": [
    "Die Spalten \"pbcr\" und \"self\" enthalten fehlende Daten."
   ]
  },
  {
   "cell_type": "code",
   "execution_count": 254,
   "metadata": {},
   "outputs": [
    {
     "data": {
      "text/html": [
       "<div>\n",
       "<style scoped>\n",
       "    .dataframe tbody tr th:only-of-type {\n",
       "        vertical-align: middle;\n",
       "    }\n",
       "\n",
       "    .dataframe tbody tr th {\n",
       "        vertical-align: top;\n",
       "    }\n",
       "\n",
       "    .dataframe thead th {\n",
       "        text-align: right;\n",
       "    }\n",
       "</style>\n",
       "<table border=\"1\" class=\"dataframe\">\n",
       "  <thead>\n",
       "    <tr style=\"text-align: right;\">\n",
       "      <th></th>\n",
       "      <th>dir</th>\n",
       "      <th>hir</th>\n",
       "      <th>lvr</th>\n",
       "      <th>ccs</th>\n",
       "      <th>mcs</th>\n",
       "      <th>pbcr</th>\n",
       "      <th>dmi</th>\n",
       "      <th>self</th>\n",
       "      <th>single</th>\n",
       "      <th>uria</th>\n",
       "      <th>condo</th>\n",
       "      <th>black</th>\n",
       "      <th>deny</th>\n",
       "    </tr>\n",
       "  </thead>\n",
       "  <tbody>\n",
       "    <tr>\n",
       "      <th>2380</th>\n",
       "      <td>0.330814</td>\n",
       "      <td>0.255346</td>\n",
       "      <td>0.700783</td>\n",
       "      <td>2.116387</td>\n",
       "      <td>1.721008</td>\n",
       "      <td>NaN</td>\n",
       "      <td>no</td>\n",
       "      <td>NaN</td>\n",
       "      <td>yes</td>\n",
       "      <td>3.774496</td>\n",
       "      <td>0</td>\n",
       "      <td>no</td>\n",
       "      <td>no</td>\n",
       "    </tr>\n",
       "  </tbody>\n",
       "</table>\n",
       "</div>"
      ],
      "text/plain": [
       "           dir       hir       lvr       ccs       mcs pbcr dmi self single  \\\n",
       "2380  0.330814  0.255346  0.700783  2.116387  1.721008  NaN  no  NaN    yes   \n",
       "\n",
       "          uria  condo black deny  \n",
       "2380  3.774496      0    no   no  "
      ]
     },
     "execution_count": 254,
     "metadata": {},
     "output_type": "execute_result"
    }
   ],
   "source": [
    "data[data.isnull().any(axis=1)]"
   ]
  },
  {
   "cell_type": "markdown",
   "metadata": {},
   "source": [
    "Nur in einer Zeile ist \"pbcr\" und \"self\" gleich NaN. Da es nur eine einzige Zeile mit fehlenden Daten gibt, haben wir uns entschieden diese aus dem Datensatz zu entfernen."
   ]
  },
  {
   "cell_type": "code",
   "execution_count": 255,
   "metadata": {},
   "outputs": [
    {
     "data": {
      "text/plain": [
       "(2380, 13)"
      ]
     },
     "execution_count": 255,
     "metadata": {},
     "output_type": "execute_result"
    }
   ],
   "source": [
    "data = data.drop(2380)\n",
    "data.shape"
   ]
  },
  {
   "cell_type": "markdown",
   "metadata": {},
   "source": [
    "### Art der Merkmale "
   ]
  },
  {
   "cell_type": "code",
   "execution_count": 256,
   "metadata": {},
   "outputs": [
    {
     "data": {
      "text/plain": [
       "Index(['dir', 'hir', 'lvr', 'ccs', 'mcs', 'pbcr', 'dmi', 'self', 'single',\n",
       "       'uria', 'condo', 'black', 'deny'],\n",
       "      dtype='object')"
      ]
     },
     "execution_count": 256,
     "metadata": {},
     "output_type": "execute_result"
    }
   ],
   "source": [
    "data.columns"
   ]
  },
  {
   "cell_type": "markdown",
   "metadata": {},
   "source": [
    "- `dir` numerisch-kontinuierlich \n",
    "- `hir` numerisch-kontinuierlich\n",
    "- `lvr` numerisch-kontinuierlich\n",
    "- `ccs` kategorisch-ordinal\n",
    "- `mcs` kategorisch-ordinal\n",
    "- `pbcr` kategorisch-nominal\n",
    "- `dmi` kategorisch-nominal\n",
    "- `self` kategorisch-nominal\n",
    "- `single` kategorisch-nominal\n",
    "- `uria` numerisch-kontinuierlich\n",
    "- `condo` kategorisch-nominal\n",
    "- `black` kategorisch-nominal\n",
    "- `deny` kategorisch-nominal\n",
    "\n",
    "\n",
    "Die Zielvariable der Klassifikation ist 'deny' welche angibt ob der Kreditantrag abgelehnt wurde. Es soll bestimmt werden welche Merkmale besonderen Einfluss auf diese haben. Im Speziellen soll bestimmt werden, ob es eine rassistische Diskriminierung gibt. Dafür muss das Merkmal 'black' betrachtet werden"
   ]
  },
  {
   "cell_type": "code",
   "execution_count": 257,
   "metadata": {},
   "outputs": [
    {
     "data": {
      "image/png": "[encoded data removed]",
      "text/plain": [
       "<Figure size 432x288 with 1 Axes>"
      ]
     },
     "metadata": {},
     "output_type": "display_data"
    },
    {
     "name": "stdout",
     "output_type": "stream",
     "text": [
      "Not denied: 88.0%\n",
      "Denied: 12.0%\n"
     ]
    }
   ],
   "source": [
    "sns.countplot(x='deny',data=data)\n",
    "plt.show()\n",
    "percentages = data['deny'].value_counts() / data.shape[0]\n",
    "print(\"Not denied: {:.1f}%\".format(percentages[0] * 100))\n",
    "print(\"Denied: {:.1f}%\".format(percentages[1] * 100))"
   ]
  },
  {
   "cell_type": "code",
   "execution_count": 258,
   "metadata": {},
   "outputs": [
    {
     "data": {
      "text/html": [
       "<div>\n",
       "<style scoped>\n",
       "    .dataframe tbody tr th:only-of-type {\n",
       "        vertical-align: middle;\n",
       "    }\n",
       "\n",
       "    .dataframe tbody tr th {\n",
       "        vertical-align: top;\n",
       "    }\n",
       "\n",
       "    .dataframe thead th {\n",
       "        text-align: right;\n",
       "    }\n",
       "</style>\n",
       "<table border=\"1\" class=\"dataframe\">\n",
       "  <thead>\n",
       "    <tr style=\"text-align: right;\">\n",
       "      <th></th>\n",
       "      <th>dir</th>\n",
       "      <th>hir</th>\n",
       "      <th>lvr</th>\n",
       "      <th>ccs</th>\n",
       "      <th>mcs</th>\n",
       "      <th>pbcr</th>\n",
       "      <th>dmi</th>\n",
       "      <th>self</th>\n",
       "      <th>single</th>\n",
       "      <th>uria</th>\n",
       "      <th>condo</th>\n",
       "      <th>black</th>\n",
       "      <th>deny</th>\n",
       "    </tr>\n",
       "  </thead>\n",
       "  <tbody>\n",
       "    <tr>\n",
       "      <th>0</th>\n",
       "      <td>0.221</td>\n",
       "      <td>0.221</td>\n",
       "      <td>0.800000</td>\n",
       "      <td>5.0</td>\n",
       "      <td>2.0</td>\n",
       "      <td>0</td>\n",
       "      <td>0</td>\n",
       "      <td>0</td>\n",
       "      <td>0</td>\n",
       "      <td>3.9</td>\n",
       "      <td>0</td>\n",
       "      <td>0</td>\n",
       "      <td>0</td>\n",
       "    </tr>\n",
       "    <tr>\n",
       "      <th>1</th>\n",
       "      <td>0.265</td>\n",
       "      <td>0.265</td>\n",
       "      <td>0.921875</td>\n",
       "      <td>2.0</td>\n",
       "      <td>2.0</td>\n",
       "      <td>0</td>\n",
       "      <td>0</td>\n",
       "      <td>0</td>\n",
       "      <td>1</td>\n",
       "      <td>3.2</td>\n",
       "      <td>0</td>\n",
       "      <td>0</td>\n",
       "      <td>0</td>\n",
       "    </tr>\n",
       "    <tr>\n",
       "      <th>2</th>\n",
       "      <td>0.372</td>\n",
       "      <td>0.248</td>\n",
       "      <td>0.920398</td>\n",
       "      <td>1.0</td>\n",
       "      <td>2.0</td>\n",
       "      <td>0</td>\n",
       "      <td>0</td>\n",
       "      <td>0</td>\n",
       "      <td>0</td>\n",
       "      <td>3.2</td>\n",
       "      <td>0</td>\n",
       "      <td>0</td>\n",
       "      <td>0</td>\n",
       "    </tr>\n",
       "    <tr>\n",
       "      <th>3</th>\n",
       "      <td>0.320</td>\n",
       "      <td>0.250</td>\n",
       "      <td>0.860465</td>\n",
       "      <td>1.0</td>\n",
       "      <td>2.0</td>\n",
       "      <td>0</td>\n",
       "      <td>0</td>\n",
       "      <td>0</td>\n",
       "      <td>0</td>\n",
       "      <td>4.3</td>\n",
       "      <td>0</td>\n",
       "      <td>0</td>\n",
       "      <td>0</td>\n",
       "    </tr>\n",
       "    <tr>\n",
       "      <th>4</th>\n",
       "      <td>0.360</td>\n",
       "      <td>0.350</td>\n",
       "      <td>0.600000</td>\n",
       "      <td>1.0</td>\n",
       "      <td>1.0</td>\n",
       "      <td>0</td>\n",
       "      <td>0</td>\n",
       "      <td>0</td>\n",
       "      <td>0</td>\n",
       "      <td>3.2</td>\n",
       "      <td>0</td>\n",
       "      <td>0</td>\n",
       "      <td>0</td>\n",
       "    </tr>\n",
       "  </tbody>\n",
       "</table>\n",
       "</div>"
      ],
      "text/plain": [
       "     dir    hir       lvr  ccs  mcs  pbcr  dmi  self  single  uria  condo  \\\n",
       "0  0.221  0.221  0.800000  5.0  2.0     0    0     0       0   3.9      0   \n",
       "1  0.265  0.265  0.921875  2.0  2.0     0    0     0       1   3.2      0   \n",
       "2  0.372  0.248  0.920398  1.0  2.0     0    0     0       0   3.2      0   \n",
       "3  0.320  0.250  0.860465  1.0  2.0     0    0     0       0   4.3      0   \n",
       "4  0.360  0.350  0.600000  1.0  1.0     0    0     0       0   3.2      0   \n",
       "\n",
       "   black  deny  \n",
       "0      0     0  \n",
       "1      0     0  \n",
       "2      0     0  \n",
       "3      0     0  \n",
       "4      0     0  "
      ]
     },
     "execution_count": 258,
     "metadata": {},
     "output_type": "execute_result"
    }
   ],
   "source": [
    "nominal_features = ['pbcr', 'dmi', 'self', 'single', 'condo', 'black', 'deny']\n",
    "labelencoder = LabelEncoder()\n",
    "data[nominal_features] = data[nominal_features].apply(labelencoder.fit_transform)\n",
    "data.head()"
   ]
  },
  {
   "cell_type": "code",
   "execution_count": 259,
   "metadata": {},
   "outputs": [
    {
     "data": {
      "image/png": "[encoded data removed]",
      "text/plain": [
       "<Figure size 1008x288 with 1 Axes>"
      ]
     },
     "metadata": {},
     "output_type": "display_data"
    },
    {
     "data": {
      "image/png": "[encoded data removed]",
      "text/plain": [
       "<Figure size 1008x288 with 1 Axes>"
      ]
     },
     "metadata": {},
     "output_type": "display_data"
    },
    {
     "data": {
      "image/png": "[encoded data removed]",
      "text/plain": [
       "<Figure size 1008x288 with 1 Axes>"
      ]
     },
     "metadata": {},
     "output_type": "display_data"
    }
   ],
   "source": [
    "continuous_features = ['dir', 'hir', 'lvr']\n",
    "for feature in continuous_features:\n",
    "    plt.figure(figsize=(14, 4))\n",
    "    sns.boxplot(data[feature])\n",
    "    plt.show()"
   ]
  },
  {
   "cell_type": "code",
   "execution_count": 260,
   "metadata": {},
   "outputs": [
    {
     "data": {
      "text/html": [
       "<div>\n",
       "<style scoped>\n",
       "    .dataframe tbody tr th:only-of-type {\n",
       "        vertical-align: middle;\n",
       "    }\n",
       "\n",
       "    .dataframe tbody tr th {\n",
       "        vertical-align: top;\n",
       "    }\n",
       "\n",
       "    .dataframe thead th {\n",
       "        text-align: right;\n",
       "    }\n",
       "</style>\n",
       "<table border=\"1\" class=\"dataframe\">\n",
       "  <thead>\n",
       "    <tr style=\"text-align: right;\">\n",
       "      <th></th>\n",
       "      <th>dir</th>\n",
       "      <th>hir</th>\n",
       "      <th>lvr</th>\n",
       "      <th>ccs</th>\n",
       "      <th>mcs</th>\n",
       "      <th>pbcr</th>\n",
       "      <th>dmi</th>\n",
       "      <th>self</th>\n",
       "      <th>single</th>\n",
       "      <th>uria</th>\n",
       "      <th>condo</th>\n",
       "      <th>black</th>\n",
       "      <th>deny</th>\n",
       "    </tr>\n",
       "  </thead>\n",
       "  <tbody>\n",
       "    <tr>\n",
       "      <th>1094</th>\n",
       "      <td>3.0</td>\n",
       "      <td>3.0</td>\n",
       "      <td>0.571429</td>\n",
       "      <td>1.0</td>\n",
       "      <td>3.0</td>\n",
       "      <td>0</td>\n",
       "      <td>0</td>\n",
       "      <td>1</td>\n",
       "      <td>0</td>\n",
       "      <td>10.6</td>\n",
       "      <td>0</td>\n",
       "      <td>0</td>\n",
       "      <td>1</td>\n",
       "    </tr>\n",
       "  </tbody>\n",
       "</table>\n",
       "</div>"
      ],
      "text/plain": [
       "      dir  hir       lvr  ccs  mcs  pbcr  dmi  self  single  uria  condo  \\\n",
       "1094  3.0  3.0  0.571429  1.0  3.0     0    0     1       0  10.6      0   \n",
       "\n",
       "      black  deny  \n",
       "1094      0     1  "
      ]
     },
     "execution_count": 260,
     "metadata": {},
     "output_type": "execute_result"
    }
   ],
   "source": [
    "outliers = data[data[\"dir\"]>2]\n",
    "outliers.head()"
   ]
  },
  {
   "cell_type": "code",
   "execution_count": 261,
   "metadata": {},
   "outputs": [
    {
     "data": {
      "text/plain": [
       "(2379, 13)"
      ]
     },
     "execution_count": 261,
     "metadata": {},
     "output_type": "execute_result"
    }
   ],
   "source": [
    "data.drop(outliers.index, inplace=True)\n",
    "data.shape"
   ]
  },
  {
   "cell_type": "code",
   "execution_count": 262,
   "metadata": {},
   "outputs": [
    {
     "data": {
      "image/png": "[encoded data removed]",
      "text/plain": [
       "<Figure size 864x648 with 2 Axes>"
      ]
     },
     "metadata": {},
     "output_type": "display_data"
    }
   ],
   "source": [
    "correlation_matrix = data.corr()\n",
    "fig = plt.figure(figsize=(12,9))\n",
    "sns.heatmap(correlation_matrix,vmin=-1,vmax=1,annot=True)\n",
    "plt.show()"
   ]
  },
  {
   "cell_type": "code",
   "execution_count": 263,
   "metadata": {},
   "outputs": [
    {
     "name": "stdout",
     "output_type": "stream",
     "text": [
      "Shape X_train (1903, 12)\n",
      "Shape y_train (1903,)\n",
      "Shape X_test (476, 12)\n",
      "Shape y_test (476,)\n"
     ]
    }
   ],
   "source": [
    "# Create numpy arrays for features and target\n",
    "X = data.drop([\"deny\"], axis=1)\n",
    "y = data[\"deny\"]\n",
    "# Create 80/20 train val split\n",
    "X_train, X_test, y_train, y_test = train_test_split(X, y, test_size = 0.2, random_state = 1)\n",
    "# Print resulting dataset sizes\n",
    "print(\"Shape X_train\", X_train.shape)\n",
    "print(\"Shape y_train\", y_train.shape)\n",
    "print(\"Shape X_test\", X_test.shape)\n",
    "print(\"Shape y_test\", y_test.shape)"
   ]
  },
  {
   "cell_type": "markdown",
   "metadata": {},
   "source": [
    "Wir haben uns dazu entschieden die Daten nicht zu normalisieren (z.B. durch einen StandardScaler). Hierdurch können die gelernten Koeffizienten besser interpretiert werden. Es muss daher aber auch beachtet werden, dass ein höherer Koeffizient nicht zwingend eine höhere Wichtigkeit des Merkmals bedeutet.\n",
    "\n",
    "Im Folgenden verwenden wir die statsmodels Pythonbibliothek, um die logistische Regression zu trainieren. Diese bietet gegenüber scikit-learn weitere statistische Kennwerte, wie zum Beispiel den P-Wert jedes Koeffizienten, der die Signifikanz beschreibt."
   ]
  },
  {
   "cell_type": "code",
   "execution_count": 333,
   "metadata": {},
   "outputs": [
    {
     "name": "stdout",
     "output_type": "stream",
     "text": [
      "Optimization terminated successfully.\n",
      "         Current function value: 0.270975\n",
      "         Iterations 7\n",
      "Accuracy score: 0.918\n",
      "Balanced accuracy score:0.642\n"
     ]
    },
    {
     "name": "stderr",
     "output_type": "stream",
     "text": [
      "/Users/d062356/miniconda3/envs/smart-data-analytics/lib/python3.7/site-packages/numpy/core/fromnumeric.py:2389: FutureWarning: Method .ptp is deprecated and will be removed in a future version. Use numpy.ptp instead.\n",
      "  return ptp(axis=axis, out=out, **kwargs)\n"
     ]
    }
   ],
   "source": [
    "logistic_regression = smf.Logit(y_train, sm.add_constant(X_train))\n",
    "result = logistic_regression.fit()\n",
    "coef_table = result.summary2().tables[1].round(4)\n",
    "test_prediction_proba = result.predict(sm.add_constant(X_test)) \n",
    "test_prediction_class = test_prediction_proba > 0.5\n",
    "print(\"Accuracy score: {:.3f}\".format(metrics.accuracy_score(y_test, test_prediction_class)))\n",
    "print(\"Balanced accuracy score:{:.3f}\".format(metrics.balanced_accuracy_score(y_test, test_prediction_class)))"
   ]
  },
  {
   "cell_type": "code",
   "execution_count": 334,
   "metadata": {},
   "outputs": [
    {
     "data": {
      "image/png": "[encoded data removed]",
      "text/plain": [
       "<Figure size 864x648 with 1 Axes>"
      ]
     },
     "metadata": {},
     "output_type": "display_data"
    }
   ],
   "source": [
    "def create_roc_auc_plot(y, prediction_probabilities):\n",
    "    fpr, tpr, thresholds = metrics.roc_curve(y, prediction_probabilities)\n",
    "    roc_auc = metrics.auc(fpr, tpr)\n",
    "    plt.figure(figsize=(12,9))\n",
    "    plt.title('Receiver Operating Characteristic')\n",
    "    plt.plot(fpr, tpr, label = \"AUC = {:.2f}\".format(roc_auc))\n",
    "    for i, threshold in enumerate(thresholds):\n",
    "        if i % 5 == 0:\n",
    "            plt.annotate(\"{:.3f}\".format(threshold), (fpr[i], tpr[i]))\n",
    "    plt.legend(loc = 'lower right')\n",
    "    plt.plot([0, 1], [0, 1],'--')\n",
    "    plt.xlim([0, 1])\n",
    "    plt.ylim([0, 1])\n",
    "    plt.ylabel('True Positive Rate')\n",
    "    plt.xlabel('False Positive Rate')\n",
    "    plt.show()\n",
    "create_roc_auc_plot(y_test, test_prediction_proba)"
   ]
  },
  {
   "cell_type": "code",
   "execution_count": 228,
   "metadata": {},
   "outputs": [
    {
     "data": {
      "text/html": [
       "<div>\n",
       "<style scoped>\n",
       "    .dataframe tbody tr th:only-of-type {\n",
       "        vertical-align: middle;\n",
       "    }\n",
       "\n",
       "    .dataframe tbody tr th {\n",
       "        vertical-align: top;\n",
       "    }\n",
       "\n",
       "    .dataframe thead th {\n",
       "        text-align: right;\n",
       "    }\n",
       "</style>\n",
       "<table border=\"1\" class=\"dataframe\">\n",
       "  <thead>\n",
       "    <tr style=\"text-align: right;\">\n",
       "      <th></th>\n",
       "      <th>Coef.</th>\n",
       "      <th>Std.Err.</th>\n",
       "      <th>z</th>\n",
       "      <th>P&gt;|z|</th>\n",
       "      <th>[0.025</th>\n",
       "      <th>0.975]</th>\n",
       "    </tr>\n",
       "  </thead>\n",
       "  <tbody>\n",
       "    <tr>\n",
       "      <th>const</th>\n",
       "      <td>-7.4088</td>\n",
       "      <td>0.6219</td>\n",
       "      <td>-11.9126</td>\n",
       "      <td>0.0000</td>\n",
       "      <td>-8.6278</td>\n",
       "      <td>-6.1898</td>\n",
       "    </tr>\n",
       "    <tr>\n",
       "      <th>dir</th>\n",
       "      <td>4.3168</td>\n",
       "      <td>1.1526</td>\n",
       "      <td>3.7451</td>\n",
       "      <td>0.0002</td>\n",
       "      <td>2.0576</td>\n",
       "      <td>6.5759</td>\n",
       "    </tr>\n",
       "    <tr>\n",
       "      <th>hir</th>\n",
       "      <td>0.4814</td>\n",
       "      <td>1.4209</td>\n",
       "      <td>0.3388</td>\n",
       "      <td>0.7347</td>\n",
       "      <td>-2.3035</td>\n",
       "      <td>3.2664</td>\n",
       "    </tr>\n",
       "    <tr>\n",
       "      <th>lvr</th>\n",
       "      <td>2.0774</td>\n",
       "      <td>0.5553</td>\n",
       "      <td>3.7412</td>\n",
       "      <td>0.0002</td>\n",
       "      <td>0.9891</td>\n",
       "      <td>3.1657</td>\n",
       "    </tr>\n",
       "    <tr>\n",
       "      <th>ccs</th>\n",
       "      <td>0.2920</td>\n",
       "      <td>0.0440</td>\n",
       "      <td>6.6340</td>\n",
       "      <td>0.0000</td>\n",
       "      <td>0.2057</td>\n",
       "      <td>0.3783</td>\n",
       "    </tr>\n",
       "    <tr>\n",
       "      <th>mcs</th>\n",
       "      <td>0.2218</td>\n",
       "      <td>0.1558</td>\n",
       "      <td>1.4241</td>\n",
       "      <td>0.1544</td>\n",
       "      <td>-0.0835</td>\n",
       "      <td>0.5271</td>\n",
       "    </tr>\n",
       "    <tr>\n",
       "      <th>pbcr</th>\n",
       "      <td>1.2138</td>\n",
       "      <td>0.2249</td>\n",
       "      <td>5.3958</td>\n",
       "      <td>0.0000</td>\n",
       "      <td>0.7729</td>\n",
       "      <td>1.6546</td>\n",
       "    </tr>\n",
       "    <tr>\n",
       "      <th>dmi</th>\n",
       "      <td>4.2991</td>\n",
       "      <td>0.5673</td>\n",
       "      <td>7.5781</td>\n",
       "      <td>0.0000</td>\n",
       "      <td>3.1872</td>\n",
       "      <td>5.4110</td>\n",
       "    </tr>\n",
       "    <tr>\n",
       "      <th>self</th>\n",
       "      <td>0.5647</td>\n",
       "      <td>0.2362</td>\n",
       "      <td>2.3914</td>\n",
       "      <td>0.0168</td>\n",
       "      <td>0.1019</td>\n",
       "      <td>1.0276</td>\n",
       "    </tr>\n",
       "    <tr>\n",
       "      <th>single</th>\n",
       "      <td>0.3552</td>\n",
       "      <td>0.1736</td>\n",
       "      <td>2.0467</td>\n",
       "      <td>0.0407</td>\n",
       "      <td>0.0151</td>\n",
       "      <td>0.6954</td>\n",
       "    </tr>\n",
       "    <tr>\n",
       "      <th>uria</th>\n",
       "      <td>0.0875</td>\n",
       "      <td>0.0358</td>\n",
       "      <td>2.4471</td>\n",
       "      <td>0.0144</td>\n",
       "      <td>0.0174</td>\n",
       "      <td>0.1576</td>\n",
       "    </tr>\n",
       "    <tr>\n",
       "      <th>condo</th>\n",
       "      <td>-0.0513</td>\n",
       "      <td>0.1891</td>\n",
       "      <td>-0.2711</td>\n",
       "      <td>0.7863</td>\n",
       "      <td>-0.4219</td>\n",
       "      <td>0.3194</td>\n",
       "    </tr>\n",
       "    <tr>\n",
       "      <th>black</th>\n",
       "      <td>0.6939</td>\n",
       "      <td>0.2004</td>\n",
       "      <td>3.4616</td>\n",
       "      <td>0.0005</td>\n",
       "      <td>0.3010</td>\n",
       "      <td>1.0867</td>\n",
       "    </tr>\n",
       "  </tbody>\n",
       "</table>\n",
       "</div>"
      ],
      "text/plain": [
       "         Coef.  Std.Err.        z   P>|z|  [0.025  0.975]\n",
       "const  -7.4088    0.6219 -11.9126  0.0000 -8.6278 -6.1898\n",
       "dir     4.3168    1.1526   3.7451  0.0002  2.0576  6.5759\n",
       "hir     0.4814    1.4209   0.3388  0.7347 -2.3035  3.2664\n",
       "lvr     2.0774    0.5553   3.7412  0.0002  0.9891  3.1657\n",
       "ccs     0.2920    0.0440   6.6340  0.0000  0.2057  0.3783\n",
       "mcs     0.2218    0.1558   1.4241  0.1544 -0.0835  0.5271\n",
       "pbcr    1.2138    0.2249   5.3958  0.0000  0.7729  1.6546\n",
       "dmi     4.2991    0.5673   7.5781  0.0000  3.1872  5.4110\n",
       "self    0.5647    0.2362   2.3914  0.0168  0.1019  1.0276\n",
       "single  0.3552    0.1736   2.0467  0.0407  0.0151  0.6954\n",
       "uria    0.0875    0.0358   2.4471  0.0144  0.0174  0.1576\n",
       "condo  -0.0513    0.1891  -0.2711  0.7863 -0.4219  0.3194\n",
       "black   0.6939    0.2004   3.4616  0.0005  0.3010  1.0867"
      ]
     },
     "execution_count": 228,
     "metadata": {},
     "output_type": "execute_result"
    }
   ],
   "source": [
    "coef_table"
   ]
  },
  {
   "cell_type": "code",
   "execution_count": 220,
   "metadata": {},
   "outputs": [
    {
     "data": {
      "text/html": [
       "<div>\n",
       "<style scoped>\n",
       "    .dataframe tbody tr th:only-of-type {\n",
       "        vertical-align: middle;\n",
       "    }\n",
       "\n",
       "    .dataframe tbody tr th {\n",
       "        vertical-align: top;\n",
       "    }\n",
       "\n",
       "    .dataframe thead th {\n",
       "        text-align: right;\n",
       "    }\n",
       "</style>\n",
       "<table border=\"1\" class=\"dataframe\">\n",
       "  <thead>\n",
       "    <tr style=\"text-align: right;\">\n",
       "      <th></th>\n",
       "      <th>Coef.</th>\n",
       "      <th>Std.Err.</th>\n",
       "      <th>z</th>\n",
       "      <th>P&gt;|z|</th>\n",
       "      <th>[0.025</th>\n",
       "      <th>0.975]</th>\n",
       "    </tr>\n",
       "  </thead>\n",
       "  <tbody>\n",
       "    <tr>\n",
       "      <th>const</th>\n",
       "      <td>-7.4088</td>\n",
       "      <td>0.6219</td>\n",
       "      <td>-11.9126</td>\n",
       "      <td>0.0000</td>\n",
       "      <td>-8.6278</td>\n",
       "      <td>-6.1898</td>\n",
       "    </tr>\n",
       "    <tr>\n",
       "      <th>dir</th>\n",
       "      <td>4.3168</td>\n",
       "      <td>1.1526</td>\n",
       "      <td>3.7451</td>\n",
       "      <td>0.0002</td>\n",
       "      <td>2.0576</td>\n",
       "      <td>6.5759</td>\n",
       "    </tr>\n",
       "    <tr>\n",
       "      <th>lvr</th>\n",
       "      <td>2.0774</td>\n",
       "      <td>0.5553</td>\n",
       "      <td>3.7412</td>\n",
       "      <td>0.0002</td>\n",
       "      <td>0.9891</td>\n",
       "      <td>3.1657</td>\n",
       "    </tr>\n",
       "    <tr>\n",
       "      <th>ccs</th>\n",
       "      <td>0.2920</td>\n",
       "      <td>0.0440</td>\n",
       "      <td>6.6340</td>\n",
       "      <td>0.0000</td>\n",
       "      <td>0.2057</td>\n",
       "      <td>0.3783</td>\n",
       "    </tr>\n",
       "    <tr>\n",
       "      <th>pbcr</th>\n",
       "      <td>1.2138</td>\n",
       "      <td>0.2249</td>\n",
       "      <td>5.3958</td>\n",
       "      <td>0.0000</td>\n",
       "      <td>0.7729</td>\n",
       "      <td>1.6546</td>\n",
       "    </tr>\n",
       "    <tr>\n",
       "      <th>dmi</th>\n",
       "      <td>4.2991</td>\n",
       "      <td>0.5673</td>\n",
       "      <td>7.5781</td>\n",
       "      <td>0.0000</td>\n",
       "      <td>3.1872</td>\n",
       "      <td>5.4110</td>\n",
       "    </tr>\n",
       "    <tr>\n",
       "      <th>self</th>\n",
       "      <td>0.5647</td>\n",
       "      <td>0.2362</td>\n",
       "      <td>2.3914</td>\n",
       "      <td>0.0168</td>\n",
       "      <td>0.1019</td>\n",
       "      <td>1.0276</td>\n",
       "    </tr>\n",
       "    <tr>\n",
       "      <th>single</th>\n",
       "      <td>0.3552</td>\n",
       "      <td>0.1736</td>\n",
       "      <td>2.0467</td>\n",
       "      <td>0.0407</td>\n",
       "      <td>0.0151</td>\n",
       "      <td>0.6954</td>\n",
       "    </tr>\n",
       "    <tr>\n",
       "      <th>uria</th>\n",
       "      <td>0.0875</td>\n",
       "      <td>0.0358</td>\n",
       "      <td>2.4471</td>\n",
       "      <td>0.0144</td>\n",
       "      <td>0.0174</td>\n",
       "      <td>0.1576</td>\n",
       "    </tr>\n",
       "    <tr>\n",
       "      <th>black</th>\n",
       "      <td>0.6939</td>\n",
       "      <td>0.2004</td>\n",
       "      <td>3.4616</td>\n",
       "      <td>0.0005</td>\n",
       "      <td>0.3010</td>\n",
       "      <td>1.0867</td>\n",
       "    </tr>\n",
       "  </tbody>\n",
       "</table>\n",
       "</div>"
      ],
      "text/plain": [
       "         Coef.  Std.Err.        z   P>|z|  [0.025  0.975]\n",
       "const  -7.4088    0.6219 -11.9126  0.0000 -8.6278 -6.1898\n",
       "dir     4.3168    1.1526   3.7451  0.0002  2.0576  6.5759\n",
       "lvr     2.0774    0.5553   3.7412  0.0002  0.9891  3.1657\n",
       "ccs     0.2920    0.0440   6.6340  0.0000  0.2057  0.3783\n",
       "pbcr    1.2138    0.2249   5.3958  0.0000  0.7729  1.6546\n",
       "dmi     4.2991    0.5673   7.5781  0.0000  3.1872  5.4110\n",
       "self    0.5647    0.2362   2.3914  0.0168  0.1019  1.0276\n",
       "single  0.3552    0.1736   2.0467  0.0407  0.0151  0.6954\n",
       "uria    0.0875    0.0358   2.4471  0.0144  0.0174  0.1576\n",
       "black   0.6939    0.2004   3.4616  0.0005  0.3010  1.0867"
      ]
     },
     "execution_count": 220,
     "metadata": {},
     "output_type": "execute_result"
    }
   ],
   "source": [
    "coef_table[coef_table[\"P>|z|\"] <= 0.05]"
   ]
  },
  {
   "cell_type": "code",
   "execution_count": 336,
   "metadata": {},
   "outputs": [
    {
     "data": {
      "image/png": "[encoded data removed]",
      "text/plain": [
       "<Figure size 864x648 with 1 Axes>"
      ]
     },
     "metadata": {},
     "output_type": "display_data"
    }
   ],
   "source": [
    "model_lr = LogisticRegression(solver='lbfgs')\n",
    "model_lr.fit(X_train, y_train)\n",
    "create_roc_auc_plot(y_test, model_lr.predict_proba(X_test)[:,1])"
   ]
  },
  {
   "cell_type": "markdown",
   "metadata": {},
   "source": [
    "## Vergleich verschiedener Modelle"
   ]
  },
  {
   "cell_type": "markdown",
   "metadata": {},
   "source": [
    "Instanziieren der genannten Klassifikatoren"
   ]
  },
  {
   "cell_type": "code",
   "execution_count": 347,
   "metadata": {},
   "outputs": [],
   "source": [
    "classifier_dtree = DecisionTreeClassifier(criterion = 'entropy')\n",
    "classifier_rforest = RandomForestClassifier(n_estimators = 10, random_state=0)\n",
    "classifier_adaboost = AdaBoostClassifier()\n",
    "classifier_nb = ComplementNB() #particularly suited for imbalanced data sets\n",
    "classifier_svm = LinearSVC(max_iter = 10000)\n",
    "\n",
    "classifiers = [classifier_dtree, classifier_rforest, classifier_adaboost, classifier_nb, classifier_svm]"
   ]
  },
  {
   "cell_type": "markdown",
   "metadata": {},
   "source": [
    "###### Trainieren der Klassifikatoren"
   ]
  },
  {
   "cell_type": "code",
   "execution_count": 348,
   "metadata": {},
   "outputs": [],
   "source": [
    "for classifier in classifiers:\n",
    "    classifier.fit(X_train, y_train)"
   ]
  },
  {
   "cell_type": "markdown",
   "metadata": {},
   "source": [
    "###### Vergleich der Feature Importances\n",
    "In den folgenden Zellen wird ein Vergleich der Feature Importances der einzelnen Klassifikatoren durchgeführt.\n",
    "\n",
    "Die Feature Importance, Koffizienten und _log_ der Wahrscheinlichkeit eines Features einer Klasse sind nicht direkt vergleichbar. Das liegt daran, dass sie unterschiedliche Aussagen treffen:\n",
    "\n",
    "- Feature Importance\n",
    "  - Attribut `feature_importances_` in `DecisionTreeClassifier`, `RandomForestClassifier` und `AdaBoostClassifier`)\n",
    "  - Basiert darauf, wie sehr ein Attribut dazu beiträgt, den sog. \"Information Gain\" in einem Knoten eines Entscheidungsbaums zu erhöhen bzw. die Entropie der Daten in dessen Kind-Knoten zu verringern. Bei Random Forest wird der durchschnitt über alle Entscheidungsbäume für jedes Attribut berechnet. \n",
    "\n",
    "\n",
    "- Koffizienten\n",
    "  - Attribut `coef_` in `LogisticRegression` und `LinearSVC`\n",
    "  - Die Koeffizienten, die bei der Logistischen Regression bzw. beim Trainieren einer Linearen SVM gelernt für die einzelnen Merkmale gelernt wurden.\n",
    "\n",
    "\n",
    "- _log_ der Wahrscheinlichkeit eines Features einer Klasse\n",
    "  - Attribut `feature_log_prob_` in `ComplementNB`\n",
    "  - \n",
    "  \n",
    "Aufgrund dieser Informationen ist lediglich die Reihenfolge der Attribute nach ihrer Wichtigkeit im jeweiligen Klassifikator vergleichbar."
   ]
  },
  {
   "cell_type": "code",
   "execution_count": 357,
   "metadata": {},
   "outputs": [],
   "source": [
    "# Define Method to sort the feature weightings and zip them with the feature names\n",
    "def zip_and_sort(feature_names, feature_weightings):\n",
    "    for feature, weight in sorted(zip(feature_names, feature_weightings), key=lambda x: abs(x[1]), reverse = True):\n",
    "        print('{:8s}{:.2f}'.format(feature, weight))"
   ]
  },
  {
   "cell_type": "code",
   "execution_count": 358,
   "metadata": {},
   "outputs": [
    {
     "name": "stdout",
     "output_type": "stream",
     "text": [
      "lvr     0.26\n",
      "dir     0.19\n",
      "hir     0.13\n",
      "ccs     0.10\n",
      "uria    0.10\n",
      "dmi     0.09\n",
      "pbcr    0.03\n",
      "mcs     0.03\n",
      "condo   0.02\n",
      "single  0.02\n",
      "black   0.01\n",
      "self    0.01\n",
      "\n",
      "dir     0.21\n",
      "lvr     0.19\n",
      "hir     0.16\n",
      "ccs     0.09\n",
      "dmi     0.08\n",
      "uria    0.08\n",
      "pbcr    0.05\n",
      "condo   0.03\n",
      "mcs     0.03\n",
      "black   0.03\n",
      "single  0.03\n",
      "self    0.02\n",
      "\n",
      "lvr     0.42\n",
      "dir     0.24\n",
      "hir     0.14\n",
      "ccs     0.06\n",
      "dmi     0.04\n",
      "pbcr    0.02\n",
      "self    0.02\n",
      "single  0.02\n",
      "uria    0.02\n",
      "black   0.02\n",
      "mcs     0.00\n",
      "condo   0.00\n",
      "\n",
      "dmi     8.09\n",
      "pbcr    5.28\n",
      "self    4.46\n",
      "black   4.41\n",
      "hir     3.66\n",
      "condo   3.52\n",
      "dir     3.41\n",
      "single  3.25\n",
      "lvr     2.59\n",
      "mcs     1.74\n",
      "ccs     1.59\n",
      "uria    0.95\n",
      "\n",
      "dmi     1.44\n",
      "dir     1.00\n",
      "pbcr    0.41\n",
      "lvr     0.34\n",
      "black   0.18\n",
      "hir     0.15\n",
      "self    0.11\n",
      "single  0.07\n",
      "ccs     0.07\n",
      "mcs     0.04\n",
      "uria    0.02\n",
      "condo   -0.01\n",
      "\n"
     ]
    }
   ],
   "source": [
    "feature_names = data.drop(\"deny\", axis=1).columns\n",
    "# Print sorted feature weightings for every classifier\n",
    "for feature_weightings in [#classifier_lregression.coef_[0],\n",
    "                          classifier_dtree.feature_importances_,\n",
    "                          classifier_rforest.feature_importances_,\n",
    "                          classifier_adaboost.feature_importances_,\n",
    "                          classifier_nb.feature_log_prob_[1],\n",
    "                          classifier_svm.coef_[0]]:\n",
    "    zip_and_sort(feature_names, feature_weightings)\n",
    "    print()"
   ]
  },
  {
   "cell_type": "markdown",
   "metadata": {},
   "source": [
    "###### Vorhersage im Test-Datensatz mithilfe der Klassifikatoren"
   ]
  },
  {
   "cell_type": "code",
   "execution_count": 360,
   "metadata": {},
   "outputs": [
    {
     "name": "stdout",
     "output_type": "stream",
     "text": [
      "Most Common Class        0.50\n",
      "\n",
      "DecisionTreeClassifier   0.65\n",
      "RandomForestClassifier   0.62\n",
      "AdaBoostClassifier       0.67\n",
      "ComplementNB             0.71\n",
      "LinearSVC                0.62\n"
     ]
    }
   ],
   "source": [
    "class_name = 'Most Common Class'\n",
    "score = balanced_accuracy_score(y_test, np.zeros_like(y_test))\n",
    "print('{:25s}{:.2f}\\n'.format(class_name, score))\n",
    "\n",
    "# class_name = type(classifier_lregression).__name__\n",
    "# score = balanced_accuracy_score(y_test, classifier_lregression.predict(X_test_scaled))\n",
    "# print('{:25s}{:.2f}\\n'.format(class_name, score))\n",
    "\n",
    "for classifier in classifiers:\n",
    "    class_name = type(classifier).__name__\n",
    "    score = balanced_accuracy_score(y_test, classifier.predict(X_test))\n",
    "    print('{:25s}{:.2f}'.format(class_name, score))\n"
   ]
  },
  {
   "cell_type": "code",
   "execution_count": null,
   "metadata": {},
   "outputs": [],
   "source": []
  }
 ],
 "metadata": {
  "kernelspec": {
   "display_name": "Python 3",
   "language": "python",
   "name": "python3"
  },
  "language_info": {
   "codemirror_mode": {
    "name": "ipython",
    "version": 3
   },
   "file_extension": ".py",
   "mimetype": "text/x-python",
   "name": "python",
   "nbconvert_exporter": "python",
   "pygments_lexer": "ipython3",
   "version": "3.7.3"
  },
  "toc": {
   "base_numbering": 1,
   "nav_menu": {},
   "number_sections": true,
   "sideBar": true,
   "skip_h1_title": false,
   "title_cell": "Table of Contents",
   "title_sidebar": "Contents",
   "toc_cell": false,
   "toc_position": {},
   "toc_section_display": true,
   "toc_window_display": false
  }
 },
 "nbformat": 4,
 "nbformat_minor": 2
}
