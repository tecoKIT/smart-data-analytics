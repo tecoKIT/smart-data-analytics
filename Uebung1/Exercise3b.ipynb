{
 "cells": [
  {
   "cell_type": "markdown",
   "metadata": {},
   "source": [
    "# Aufgabe 3b"
   ]
  },
  {
   "cell_type": "markdown",
   "metadata": {},
   "source": [
    "## Notebook description\n",
    "..."
   ]
  },
  {
   "cell_type": "markdown",
   "metadata": {},
   "source": [
    "## Bibliotheken importieren und Notebook setup"
   ]
  },
  {
   "cell_type": "code",
   "execution_count": 70,
   "metadata": {},
   "outputs": [],
   "source": [
    "# Modul Pfad setzen\n",
    "import sys\n",
    "sys.path.append('./module')\n",
    "\n",
    "\n",
    "# Bibliotheken importieren\n",
    "import matplotlib.pyplot as plt\n",
    "import seaborn as sns\n",
    "import numpy as np\n",
    "import pandas as pd\n",
    "import sklearn\n",
    "from sklearn.model_selection import train_test_split, cross_val_score\n",
    "from sklearn.preprocessing import StandardScaler, RobustScaler\n",
    "from sklearn.linear_model import LinearRegression, ElasticNet, Lasso, Ridge\n",
    "from sklearn import svm\n",
    "from sklearn.metrics import r2_score, mean_squared_error\n",
    "\n",
    "from scipy import stats\n",
    "\n",
    "from IPython.display import display\n"
   ]
  },
  {
   "cell_type": "markdown",
   "metadata": {},
   "source": [
    "## Analyse und Datenvorverarbeitung\n"
   ]
  },
  {
   "cell_type": "code",
   "execution_count": 71,
   "metadata": {},
   "outputs": [
    {
     "data": {
      "text/html": [
       "<div>\n",
       "<style scoped>\n",
       "    .dataframe tbody tr th:only-of-type {\n",
       "        vertical-align: middle;\n",
       "    }\n",
       "\n",
       "    .dataframe tbody tr th {\n",
       "        vertical-align: top;\n",
       "    }\n",
       "\n",
       "    .dataframe thead th {\n",
       "        text-align: right;\n",
       "    }\n",
       "</style>\n",
       "<table border=\"1\" class=\"dataframe\">\n",
       "  <thead>\n",
       "    <tr style=\"text-align: right;\">\n",
       "      <th></th>\n",
       "      <th>country_name</th>\n",
       "      <th>growth</th>\n",
       "      <th>oil</th>\n",
       "      <th>rgdp60</th>\n",
       "      <th>tradeshare</th>\n",
       "      <th>yearsschool</th>\n",
       "      <th>rev_coups</th>\n",
       "      <th>assasinations</th>\n",
       "    </tr>\n",
       "  </thead>\n",
       "  <tbody>\n",
       "    <tr>\n",
       "      <th>0</th>\n",
       "      <td>India</td>\n",
       "      <td>1.915168</td>\n",
       "      <td>0</td>\n",
       "      <td>765.999817</td>\n",
       "      <td>0.140502</td>\n",
       "      <td>1.45</td>\n",
       "      <td>0.133333</td>\n",
       "      <td>0.866667</td>\n",
       "    </tr>\n",
       "    <tr>\n",
       "      <th>1</th>\n",
       "      <td>Argentina</td>\n",
       "      <td>0.617645</td>\n",
       "      <td>0</td>\n",
       "      <td>4462.001465</td>\n",
       "      <td>0.156623</td>\n",
       "      <td>4.99</td>\n",
       "      <td>0.933333</td>\n",
       "      <td>1.933333</td>\n",
       "    </tr>\n",
       "    <tr>\n",
       "      <th>2</th>\n",
       "      <td>Japan</td>\n",
       "      <td>4.304759</td>\n",
       "      <td>0</td>\n",
       "      <td>2953.999512</td>\n",
       "      <td>0.157703</td>\n",
       "      <td>6.71</td>\n",
       "      <td>0.000000</td>\n",
       "      <td>0.200000</td>\n",
       "    </tr>\n",
       "    <tr>\n",
       "      <th>3</th>\n",
       "      <td>Brazil</td>\n",
       "      <td>2.930097</td>\n",
       "      <td>0</td>\n",
       "      <td>1783.999878</td>\n",
       "      <td>0.160405</td>\n",
       "      <td>2.89</td>\n",
       "      <td>0.100000</td>\n",
       "      <td>0.100000</td>\n",
       "    </tr>\n",
       "    <tr>\n",
       "      <th>4</th>\n",
       "      <td>United States</td>\n",
       "      <td>1.712265</td>\n",
       "      <td>0</td>\n",
       "      <td>9895.003906</td>\n",
       "      <td>0.160815</td>\n",
       "      <td>8.66</td>\n",
       "      <td>0.000000</td>\n",
       "      <td>0.433333</td>\n",
       "    </tr>\n",
       "  </tbody>\n",
       "</table>\n",
       "</div>"
      ],
      "text/plain": [
       "    country_name    growth  oil       rgdp60  tradeshare  yearsschool  \\\n",
       "0          India  1.915168    0   765.999817    0.140502         1.45   \n",
       "1      Argentina  0.617645    0  4462.001465    0.156623         4.99   \n",
       "2          Japan  4.304759    0  2953.999512    0.157703         6.71   \n",
       "3         Brazil  2.930097    0  1783.999878    0.160405         2.89   \n",
       "4  United States  1.712265    0  9895.003906    0.160815         8.66   \n",
       "\n",
       "   rev_coups  assasinations  \n",
       "0   0.133333       0.866667  \n",
       "1   0.933333       1.933333  \n",
       "2   0.000000       0.200000  \n",
       "3   0.100000       0.100000  \n",
       "4   0.000000       0.433333  "
      ]
     },
     "metadata": {},
     "output_type": "display_data"
    },
    {
     "name": "stdout",
     "output_type": "stream",
     "text": [
      "(65, 8)\n"
     ]
    }
   ],
   "source": [
    "# Load Dataset from csv\n",
    "data = pd.read_excel(\"./data/Growth.xlsx\")\n",
    "# Display first line to test if data was loaded correctly\n",
    "display(data.head())\n",
    "print(data.shape)"
   ]
  },
  {
   "cell_type": "markdown",
   "metadata": {},
   "source": [
    "### Analyse der Zielvariable growth"
   ]
  },
  {
   "cell_type": "markdown",
   "metadata": {},
   "source": [
    "Die Spalte \"growth\" beschreibt das durchschnittliche jährliche Wachstum des GDP in Prozent (von 1960 bis 1995) und ist die Zielvariable die vorhergesagt werden soll. Die Variable ist kontinuierlich. Somit hadelt es sich um ein Regressionsproblem."
   ]
  },
  {
   "cell_type": "code",
   "execution_count": 52,
   "metadata": {},
   "outputs": [
    {
     "name": "stdout",
     "output_type": "stream",
     "text": [
      "Korea, Republic of has the highest gdp growth with 7.16%\n",
      "Zaire has the lowest gdp growth with -2.81%\n"
     ]
    }
   ],
   "source": [
    "target_variable = \"growth\"\n",
    "# calculate row with max growth\n",
    "highest_gdp_growth = data.loc[data[target_variable].idxmax()]\n",
    "# calculate row with min growth\n",
    "lowest_gdp_growth = data.loc[data[target_variable].idxmin()]\n",
    "# print results\n",
    "print(\"{country_name} has the highest gdp growth with {growth:.2f}%\".format(**highest_gdp_growth))\n",
    "print(\"{country_name} has the lowest gdp growth with {growth:.2f}%\".format(**lowest_gdp_growth))"
   ]
  },
  {
   "cell_type": "markdown",
   "metadata": {},
   "source": [
    "Korea hat mit 7.16 % das höchste GDP Wachstum. In Zaire gab es hingegen einen Rückgang von 2.81% was der geringste Wert ist. "
   ]
  },
  {
   "cell_type": "code",
   "execution_count": 69,
   "metadata": {},
   "outputs": [
    {
     "data": {
      "image/png": "[encoded data removed]",
      "text/plain": [
       "<Figure size 1152x720 with 2 Axes>"
      ]
     },
     "metadata": {
      "needs_background": "light"
     },
     "output_type": "display_data"
    },
    {
     "name": "stdout",
     "output_type": "stream",
     "text": [
      "Mean: 1.9427153966747797\n",
      "Std:  1.8971197622279778\n",
      "Skewness:  0.2546346792074454\n",
      "Kurtosis:  1.2689666991505941\n"
     ]
    }
   ],
   "source": [
    "##### plot distribution plot of growth variable\n",
    "plt.figure(figsize=(16, 10))\n",
    "plt.subplot(2,1,1)\n",
    "sns.distplot(data[target_variable], bins=9)\n",
    "plt.subplot(2,1,2)\n",
    "# x-Achse skalierung\n",
    "sns.boxplot(data[target_variable])\n",
    "plt.show()\n",
    "print(\"Mean:\", data[target_variable].mean())\n",
    "print(\"Std: \", data[target_variable].std())\n",
    "print(\"Skewness: \", data[target_variable].skew())\n",
    "print(\"Kurtosis: \", data[target_variable].kurt())"
   ]
  },
  {
   "cell_type": "markdown",
   "metadata": {},
   "source": [
    "Im obigen Plot ist die Verteilung der Zielvariable \"growth\" zu sehen. Diese sieht annähernd wie eine Normalverteilung mit dem Mittelwert bei 2% aus. Die niedrige Skewness unterstützt diese Aussage, wohingegen eine Kurtosis über eins eher dagegen spricht. Dies ist durch die vielen Ausreißer zu erklären, die ein Wachstum von mehr als 6% haben. Diese lassen sich gut auf dem Boxplot erkennen."
   ]
  },
  {
   "cell_type": "markdown",
   "metadata": {},
   "source": [
    "### Analyse der Features"
   ]
  },
  {
   "cell_type": "code",
   "execution_count": 54,
   "metadata": {},
   "outputs": [
    {
     "data": {
      "text/html": [
       "<div>\n",
       "<style scoped>\n",
       "    .dataframe tbody tr th:only-of-type {\n",
       "        vertical-align: middle;\n",
       "    }\n",
       "\n",
       "    .dataframe tbody tr th {\n",
       "        vertical-align: top;\n",
       "    }\n",
       "\n",
       "    .dataframe thead th {\n",
       "        text-align: right;\n",
       "    }\n",
       "</style>\n",
       "<table border=\"1\" class=\"dataframe\">\n",
       "  <thead>\n",
       "    <tr style=\"text-align: right;\">\n",
       "      <th></th>\n",
       "      <th>oil</th>\n",
       "      <th>rgdp60</th>\n",
       "      <th>tradeshare</th>\n",
       "      <th>yearsschool</th>\n",
       "      <th>rev_coups</th>\n",
       "      <th>assasinations</th>\n",
       "    </tr>\n",
       "  </thead>\n",
       "  <tbody>\n",
       "    <tr>\n",
       "      <th>0</th>\n",
       "      <td>0</td>\n",
       "      <td>765.999817</td>\n",
       "      <td>0.140502</td>\n",
       "      <td>1.45</td>\n",
       "      <td>0.133333</td>\n",
       "      <td>0.866667</td>\n",
       "    </tr>\n",
       "    <tr>\n",
       "      <th>1</th>\n",
       "      <td>0</td>\n",
       "      <td>4462.001465</td>\n",
       "      <td>0.156623</td>\n",
       "      <td>4.99</td>\n",
       "      <td>0.933333</td>\n",
       "      <td>1.933333</td>\n",
       "    </tr>\n",
       "    <tr>\n",
       "      <th>2</th>\n",
       "      <td>0</td>\n",
       "      <td>2953.999512</td>\n",
       "      <td>0.157703</td>\n",
       "      <td>6.71</td>\n",
       "      <td>0.000000</td>\n",
       "      <td>0.200000</td>\n",
       "    </tr>\n",
       "    <tr>\n",
       "      <th>3</th>\n",
       "      <td>0</td>\n",
       "      <td>1783.999878</td>\n",
       "      <td>0.160405</td>\n",
       "      <td>2.89</td>\n",
       "      <td>0.100000</td>\n",
       "      <td>0.100000</td>\n",
       "    </tr>\n",
       "    <tr>\n",
       "      <th>4</th>\n",
       "      <td>0</td>\n",
       "      <td>9895.003906</td>\n",
       "      <td>0.160815</td>\n",
       "      <td>8.66</td>\n",
       "      <td>0.000000</td>\n",
       "      <td>0.433333</td>\n",
       "    </tr>\n",
       "  </tbody>\n",
       "</table>\n",
       "</div>"
      ],
      "text/plain": [
       "   oil       rgdp60  tradeshare  yearsschool  rev_coups  assasinations\n",
       "0    0   765.999817    0.140502         1.45   0.133333       0.866667\n",
       "1    0  4462.001465    0.156623         4.99   0.933333       1.933333\n",
       "2    0  2953.999512    0.157703         6.71   0.000000       0.200000\n",
       "3    0  1783.999878    0.160405         2.89   0.100000       0.100000\n",
       "4    0  9895.003906    0.160815         8.66   0.000000       0.433333"
      ]
     },
     "metadata": {},
     "output_type": "display_data"
    },
    {
     "name": "stdout",
     "output_type": "stream",
     "text": [
      "Anzahl der Feautres: 6\n"
     ]
    }
   ],
   "source": [
    "# define feature columns\n",
    "features = [\"oil\", \"rgdp60\", \"tradeshare\", \"yearsschool\", \"rev_coups\", \"assasinations\"]\n",
    "# display first few rows\n",
    "display(data[features].head())\n",
    "# print number of features\n",
    "print(\"Anzahl der Feautres:\", len(features))"
   ]
  },
  {
   "cell_type": "markdown",
   "metadata": {},
   "source": [
    "Jeder Datenpunkt besteht aus sechs merkmalen. Das Merkmal \"oil\" ist ein nominalskaliertes kategorisches Merkmal, da nur die Werte 0 und 1 erlaubt sind und zwischen diesen keine Reihenfolge besteht. Die anderen fünf Merkmale sind kontinuierlich und verhältnisskaliert. Das Bedeutet, dass sie einen absoluten Nullpunkt besitzten und sie in ein Verhältnis gestellt werden können (z.B. doppelt so groß).\n",
    "\n",
    "Zunächst wird nun das einzige kategorische Merkmal betrachtet, da es möglicherweise transformiert werden muss."
   ]
  },
  {
   "cell_type": "code",
   "execution_count": 55,
   "metadata": {},
   "outputs": [
    {
     "data": {
      "text/plain": [
       "oil\n",
       "0    65\n",
       "dtype: int64"
      ]
     },
     "execution_count": 55,
     "metadata": {},
     "output_type": "execute_result"
    }
   ],
   "source": [
    "# count different values of oil\n",
    "data.groupby(\"oil\").size()"
   ]
  },
  {
   "cell_type": "markdown",
   "metadata": {},
   "source": [
    "Der Wert für \"oil\" ist immer 0. Dieses Merkmal liefert daher keine Informationen und kann ignoriert werden. Die Spalte wird aus der Liste der Merkmale gelöscht."
   ]
  },
  {
   "cell_type": "code",
   "execution_count": 56,
   "metadata": {},
   "outputs": [],
   "source": [
    "# drop feature \"oil\"\n",
    "features.remove(\"oil\")"
   ]
  },
  {
   "cell_type": "markdown",
   "metadata": {},
   "source": [
    "Die anderen Merkmale sind alle kontinuierlich. Um einen Überblick zu bekommen wird für alle Minimum, Maximum, Durchschnitt und Standardabweichung berechnet."
   ]
  },
  {
   "cell_type": "code",
   "execution_count": 74,
   "metadata": {},
   "outputs": [
    {
     "data": {
      "text/html": [
       "<div>\n",
       "<style scoped>\n",
       "    .dataframe tbody tr th:only-of-type {\n",
       "        vertical-align: middle;\n",
       "    }\n",
       "\n",
       "    .dataframe tbody tr th {\n",
       "        vertical-align: top;\n",
       "    }\n",
       "\n",
       "    .dataframe thead th {\n",
       "        text-align: right;\n",
       "    }\n",
       "</style>\n",
       "<table border=\"1\" class=\"dataframe\">\n",
       "  <thead>\n",
       "    <tr style=\"text-align: right;\">\n",
       "      <th></th>\n",
       "      <th>rgdp60</th>\n",
       "      <th>tradeshare</th>\n",
       "      <th>yearsschool</th>\n",
       "      <th>rev_coups</th>\n",
       "      <th>assasinations</th>\n",
       "    </tr>\n",
       "  </thead>\n",
       "  <tbody>\n",
       "    <tr>\n",
       "      <th>min</th>\n",
       "      <td>366.999939</td>\n",
       "      <td>0.140502</td>\n",
       "      <td>0.200000</td>\n",
       "      <td>0.00000</td>\n",
       "      <td>0.000000</td>\n",
       "    </tr>\n",
       "    <tr>\n",
       "      <th>max</th>\n",
       "      <td>9895.003906</td>\n",
       "      <td>1.992616</td>\n",
       "      <td>10.070000</td>\n",
       "      <td>0.97037</td>\n",
       "      <td>2.466667</td>\n",
       "    </tr>\n",
       "    <tr>\n",
       "      <th>mean</th>\n",
       "      <td>3103.784649</td>\n",
       "      <td>0.564703</td>\n",
       "      <td>3.985077</td>\n",
       "      <td>0.16745</td>\n",
       "      <td>0.277564</td>\n",
       "    </tr>\n",
       "    <tr>\n",
       "      <th>std</th>\n",
       "      <td>2512.656846</td>\n",
       "      <td>0.289270</td>\n",
       "      <td>2.542000</td>\n",
       "      <td>0.22468</td>\n",
       "      <td>0.491528</td>\n",
       "    </tr>\n",
       "  </tbody>\n",
       "</table>\n",
       "</div>"
      ],
      "text/plain": [
       "           rgdp60  tradeshare  yearsschool  rev_coups  assasinations\n",
       "min    366.999939    0.140502     0.200000    0.00000       0.000000\n",
       "max   9895.003906    1.992616    10.070000    0.97037       2.466667\n",
       "mean  3103.784649    0.564703     3.985077    0.16745       0.277564\n",
       "std   2512.656846    0.289270     2.542000    0.22468       0.491528"
      ]
     },
     "metadata": {},
     "output_type": "display_data"
    },
    {
     "data": {
      "text/html": [
       "<div>\n",
       "<style scoped>\n",
       "    .dataframe tbody tr th:only-of-type {\n",
       "        vertical-align: middle;\n",
       "    }\n",
       "\n",
       "    .dataframe tbody tr th {\n",
       "        vertical-align: top;\n",
       "    }\n",
       "\n",
       "    .dataframe thead th {\n",
       "        text-align: right;\n",
       "    }\n",
       "</style>\n",
       "<table border=\"1\" class=\"dataframe\">\n",
       "  <thead>\n",
       "    <tr style=\"text-align: right;\">\n",
       "      <th></th>\n",
       "      <th>country_name</th>\n",
       "      <th>tradeshare</th>\n",
       "    </tr>\n",
       "  </thead>\n",
       "  <tbody>\n",
       "    <tr>\n",
       "      <th>64</th>\n",
       "      <td>Malta</td>\n",
       "      <td>1.992616</td>\n",
       "    </tr>\n",
       "  </tbody>\n",
       "</table>\n",
       "</div>"
      ],
      "text/plain": [
       "   country_name  tradeshare\n",
       "64        Malta    1.992616"
      ]
     },
     "metadata": {},
     "output_type": "display_data"
    }
   ],
   "source": [
    "# show min, max, mean and standard deviation of continious features\n",
    "display(data[features].aggregate([\"min\", \"max\", \"mean\", \"std\"]))\n",
    "display(data[data[\"tradeshare\"]>1.9][[\"country_name\", \"tradeshare\"]])"
   ]
  },
  {
   "cell_type": "markdown",
   "metadata": {},
   "source": [
    "Dieser erste Überblick zeigt, dass das Merkmal \"rgdp60\" betragsmäßig sehr viel größer ist als die anderen Merkmale. Dies kann zu Problemen beim Training führen. Daher ist es sehr wichtig alle Merkmale vor dem Training zu normalisieren.  \n",
    "Bei dem Merkmal \"tradeshare\" fällt der sehr hohe Wert von fast 2 auf, den das Land Malta besitzt. Die Summe der Importe und Exporte ist dort doppelt so groß wie das GDP. \n",
    "Um genaure Einsichten in die Verteilung der Merkmale zu gewinnen, wird jeweils ein Histogramm und ein Boxplot erstellt."
   ]
  },
  {
   "cell_type": "code",
   "execution_count": 72,
   "metadata": {},
   "outputs": [
    {
     "data": {
      "image/png": "[encoded data removed]",
      "text/plain": [
       "<Figure size 1152x1440 with 10 Axes>"
      ]
     },
     "metadata": {
      "needs_background": "light"
     },
     "output_type": "display_data"
    }
   ],
   "source": [
    "# set figure size\n",
    "plt.figure(figsize=(16, len(features) * 4))\n",
    "# create grid with one row for each feature\n",
    "gs = plt.GridSpec(len(features), 2)\n",
    "# iterate all feautres\n",
    "for i, col in enumerate(features):\n",
    "    # draw histogram\n",
    "    ax = plt.subplot(gs[i,0])\n",
    "    sns.distplot(data[col], kde=False)\n",
    "    # draw boxplot\n",
    "    ax = plt.subplot(gs[i,1])\n",
    "    sns.boxplot(data[col])"
   ]
  },
  {
   "cell_type": "markdown",
   "metadata": {},
   "source": [
    "Im obersten Plot ist zu erkennen, dass die meisten Länder ein durchschnittliches GDP zwischen 0 und 2000 USD besitzen und einige weitere Länder gibt, die ein höheres GDP gibt. Hierbei gibt es allerdings keine extremen Ausreißer, die sich von den anderen Werten sehr stark unterscheiden. Dies ist auch im Boxplot zu sehen.  \n",
    "Im Plot des Merkmals \"tradeshare\" ist, wie zuvor besprochen, Malta mit einem Wert von fast 2 zu sehen. Auf dem Boxplot ist nochmals zu erkennen, wie weit Malta damit von allen anderen Ländern entfernt ist und somit einen extremen Ausreißer darstellt. Man könnte überlegen diesen Datenpunkt deshalb zu entfernen. Aufgrund der bereits sehr geringen Menge an Trainingsdaten wurde sich aber dagegen entschieden.  \n",
    "Eine weitere Anzahl von hohen Ausreißern ist bei \"rev_coups\" und vorallem bei \"assasinations\" zu sehen. Dies ist allerdings zu erwarten, da es in den aller meisten Ländern weder zu Revolutionen noch zu Attentaten kommt und somit politisch unstabile Länder zu ausreißern werden."
   ]
  },
  {
   "cell_type": "markdown",
   "metadata": {},
   "source": [
    "Um eine mögliche Beziehung zwischen den gegebenen Merkmalen und der Zielvariable zu bestimmen, wird ein Punktdiagramm für jedes Merkmal erstellt. "
   ]
  },
  {
   "cell_type": "code",
   "execution_count": 59,
   "metadata": {},
   "outputs": [
    {
     "data": {
      "image/png": "[encoded data removed]",
      "text/plain": [
       "<Figure size 864x1440 with 5 Axes>"
      ]
     },
     "metadata": {
      "needs_background": "light"
     },
     "output_type": "display_data"
    }
   ],
   "source": [
    "# set figure and grid size\n",
    "plt.figure(figsize=(12, len(features) * 4))\n",
    "gs = plt.GridSpec(len(features), 1)\n",
    "# greate scatter plot for each feature with feature on the x-axis and target variable on the y-axis\n",
    "for i, feature in enumerate(features):\n",
    "    ax = plt.subplot(gs[i])\n",
    "    sns.scatterplot(data[feature], data[target_variable])"
   ]
  },
  {
   "cell_type": "markdown",
   "metadata": {},
   "source": [
    "Der erste Plot stellt den Zusammenhang zwischen dem absoluten GDP in 1960 und dem durchschnittlichen GDP Wachstum zwischen 1960 und 1995 dar. Es fällt auf, dass Länder mit einem geringen GDP die höchsten und gleichzeitig auch die Niedrigsten Wachstumsraten haben. Je höher das initiale GDP, desto näher pendelt sich das Wachstum der Länder bei ca. 2% ein. Dies macht Sinn, da Länder mit einem geringen GDP mehr \"Raum nach oben\" haben und ein starker Wachstum realitisch ist. Gleichzeitig kann es für Länder mit einem geringen GDP schwierig sein, sich wirtschaftlich zu entwickeln und somit kaum Wachstum erziehlen. Für ein Land, welches bereits eine funktionierende Wirtschaft mit einem hohen GDP hat, ist ein Wachstum leichter zu erziehlen. Allerdings ist dieses dann nicht so extrem wie das von Entwicklungsländern. Allgemein gibt es also eine Abhängigkeit zwischen initialem GDP und wachstum, diese ist aber nicht linear.  \n",
    "Bei \"tradeshare\" und \"yearschool\" scheint es eine leichte positive Korrelation zu geben, allerdings sind die Datenpunkte sehr verstreut und bilden keine klare Gerade. Die Merkmale \"rev_coups\" und \"assasinations\" haben hingegen eher eine negative Korrelation mit dem Wachstum.  \n",
    "Um diese Korrelationen genauer zu untersuchen und auch mögliche Multikollinearität zu finden wird im Folgenden eine Korrelationsmatrix erstellt.  "
   ]
  },
  {
   "cell_type": "code",
   "execution_count": 60,
   "metadata": {},
   "outputs": [
    {
     "data": {
      "image/png": "[encoded data removed]",
      "text/plain": [
       "<Figure size 864x648 with 2 Axes>"
      ]
     },
     "metadata": {
      "needs_background": "light"
     },
     "output_type": "display_data"
    }
   ],
   "source": [
    "# create correlation matrix of target variable and feaures\n",
    "correlation_matrix = data[[target_variable] + features].corr()\n",
    "# set figure size\n",
    "fig = plt.figure(figsize=(12,9))\n",
    "# visualize correlation matrix as heatmap\n",
    "sns.heatmap(correlation_matrix,vmin=-1,vmax=1,annot=True)\n",
    "plt.show()"
   ]
  },
  {
   "cell_type": "markdown",
   "metadata": {},
   "source": [
    "Wie zuvor schon aus dem Punktdiagramm gelesen wurde beeinflussen \"trageshare\" und \"yearschool\" das Wachstum jeweils positiv. Die Korrelation ist mit 0.35 und 0.33 allerdings nicht besonders hoch. Auch die negative Korrelation von \"rev_coups\" und \"assasinations\" mit dem Wachstum kann aus der Matrix entnommen werden, allerdings ist diese noch geringer.  \n",
    "Abgesehen davon sticht die hohe Korrelation von \"rgdp60\" und \"yearschool\" mit 0.82 heraus. Da Länder mit einem hohen GDP meist schon hoch entwickelte Industriestaaten sind, ist hier auch die Schulzeit meist hoch, da gut ausgebildete Fachkräfte benötigt werden. Diese hohe Multikollinearität sollte bei der Modellauswahl berücksichtigt werden."
   ]
  },
  {
   "cell_type": "markdown",
   "metadata": {},
   "source": [
    "### Train/Test split erstellen"
   ]
  },
  {
   "cell_type": "markdown",
   "metadata": {},
   "source": [
    "Die Daten werden in 80% Trainingsdaten und 20% Testdaten separiert"
   ]
  },
  {
   "cell_type": "code",
   "execution_count": 83,
   "metadata": {},
   "outputs": [
    {
     "name": "stdout",
     "output_type": "stream",
     "text": [
      "Shape X_train (52, 5)\n",
      "Shape y_train (52,)\n",
      "Shape X_test (13, 5)\n",
      "Shape y_test (13,)\n"
     ]
    }
   ],
   "source": [
    "# Create numpy arrays for features and target\n",
    "X = data[features].to_numpy()\n",
    "y = data[target_variable].to_numpy()\n",
    "# Create 80/20 train val split\n",
    "X_train, X_test, y_train, y_test = train_test_split(X, y, test_size = 0.2, random_state = 1)\n",
    "# Print resulting dataset sizes\n",
    "print(\"Shape X_train\", X_train.shape)\n",
    "print(\"Shape y_train\", y_train.shape)\n",
    "print(\"Shape X_test\", X_test.shape)\n",
    "print(\"Shape y_test\", y_test.shape)"
   ]
  },
  {
   "cell_type": "markdown",
   "metadata": {},
   "source": [
    "Die Merkmale des Datensatzes sind unterschiedlich skaliert. So sind die Beträge des Merkmals rgdp60 sehr viel größer als die der anderen Merkmale. Eine Möglichkeit dies zu beheben ist das Abziehen des Mittelwertes und anschließendes Teilen durch die Varianz für jedes Merkmal. Dies kann durch die sklearn Klasse StandardScaler umgesetzt werden. Bei der Datenalalyse hat sich allerdings herausgestellt, dass es bei einigen Merkmalen extreme Ausreißer gibt. Diese Beeinflussen den Mittelwert und Varianz stark, wodurch eine suboptimale Skalierung durch den StandardScaler entstehen kann. Daher wird im Folgenden der RobustScaler verwendet, welcher ähnlich wie der StandardScaler funktioniert, allerdings robust gegenüber Ausreißern ist, da der Median und Interquartilsabstand statt Mittelwert und Varianz verwendet wird. (https://scikit-learn.org/stable/modules/generated/sklearn.preprocessing.RobustScaler.html)"
   ]
  },
  {
   "cell_type": "code",
   "execution_count": 84,
   "metadata": {},
   "outputs": [],
   "source": [
    "# Use StandardScaler to transform data to zero mean and unit variance\n",
    "sc = RobustScaler()\n",
    "# Fit and transform on training data\n",
    "X_train = sc.fit_transform(X_train)\n",
    "# Only apply transformation to test data\n",
    "X_test = sc.transform(X_test)"
   ]
  },
  {
   "cell_type": "markdown",
   "metadata": {},
   "source": [
    "## Modellauswahl und -training"
   ]
  },
  {
   "cell_type": "markdown",
   "metadata": {},
   "source": [
    "Es gibt viele Regressionsmodelle, die für die Vorhersage des GDP-Wachstums verwendet werden können. Da die Zielvariable annähernd normalverteilt ist könnte eine lineare Regression ausprobiert werden.\n",
    "Diese ist allerdings anfällig gegenüber ausreißern und kann zu Problemen bei Multikollinearität führen. Daher kommen regularisierte Regreionsmodelle in Frage, die diese Probleme reduzieren. Hierzu gehören zum Beispiel:\n",
    "- Lasso-Regression mit L1 Regularisierung\n",
    "- Ridge-Regression mit L2 Regularisierung\n",
    "- ElasticNet-Regression mit L1 und L2 Regularisierung\n",
    "\n",
    "\n",
    "Nachteil ist bei diesen Modellen allerdings, dass es Hypterparameter gibt, die gesetzt werden müssen.\n",
    "Um auch nicht lineare Abhängigkeiten abbilden zu können, könnte auch ein nicht lineares Modell eingesetzt werden. Zum Beispiel eine SVM mit RBF-Kernel.\n",
    "\n",
    "\n",
    "Um die Performance der Modelle bestimmen zu können, gibt es verschiedene Metriken, die bei einem Regressionsproblem angewendet werden können. Im folgenden wird der root of mean squared error (RMSE) verwendet. Dieser ist leicht zu interpretieren, da die Einheit gleich mit der Zielvariable ist. Alternativ hätte zum Beispiel auch der $R^2$ score verwendet werden können.\n",
    "\n",
    "\n",
    "Die oben aufgelisteten Modelle werden jeweils auf dem Trainingsdatensatz getestet, um zu entscheiden welches Modell danach weiter verwendet werden soll. Hierfür wird n-fold cross validation verwendet. Dabei wird der Trainingsdatensatz mehrmals zufällig in einen Trainings- und Validationdatensatz aufgeteilt und jeweils das Modell evaluiert."
   ]
  },
  {
   "cell_type": "code",
   "execution_count": 85,
   "metadata": {},
   "outputs": [],
   "source": [
    "# Helper function that performs cross validation for a given model and a data set with labels\n",
    "def cross_validate_model(model, X, y):\n",
    "    # perform cross validation and use negative mean squared error as score\n",
    "    scores = cross_val_score(model, X, y, cv=10, scoring=\"neg_mean_squared_error\")\n",
    "    # convert score to RMSE\n",
    "    scores = np.sqrt(-scores)\n",
    "    # print result\n",
    "    print(\"{:16}: average score: {:.2f} variance: {:.3f}\".format(model.__class__.__name__, scores.mean(), scores.var()))"
   ]
  },
  {
   "cell_type": "code",
   "execution_count": 87,
   "metadata": {},
   "outputs": [
    {
     "name": "stdout",
     "output_type": "stream",
     "text": [
      "LinearRegression: average score: 1.59 variance: 0.240\n",
      "Lasso           : average score: 1.60 variance: 0.243\n",
      "ElasticNet      : average score: 1.72 variance: 0.456\n",
      "Ridge           : average score: 1.58 variance: 0.269\n",
      "SVR             : average score: 1.62 variance: 0.530\n"
     ]
    }
   ],
   "source": [
    "# Models to evaluate on\n",
    "model_candidates = [\n",
    "    LinearRegression(),\n",
    "    Lasso(alpha=0.01),\n",
    "    ElasticNet(),\n",
    "    Ridge(),\n",
    "    svm.SVR(kernel=\"rbf\", gamma='auto')\n",
    "]\n",
    "# evaluate each model\n",
    "for model in model_candidates:\n",
    "    cross_validate_model(model, X_train, y_train)"
   ]
  },
  {
   "cell_type": "markdown",
   "metadata": {},
   "source": [
    "Das Ergebnis der Cross Validation mit den verschiedenen Modellen zeigt, dass die lineare Regression den besten durchschnittlichen Score erreicht und auch die Varianz am geringsten ist. Obwohl die lineare Regression das einfachste Modell ist und von Ausreißern und Multikollinearität negativ beeinflusst wird, liefert dieses Modell das beste Ergebnis. Dies liegt auch daran, dass für die anderen Modelle Hyperparameter existieren, die hier nicht optimiert wurden (z.B. durch grid search).   \n",
    "Im Folgenden wird daher die lineare Regression für eine Evaluation auf dem Testdatensatz verwendet und mit der Baseline verglichen."
   ]
  },
  {
   "cell_type": "markdown",
   "metadata": {},
   "source": [
    "## Model evaluation"
   ]
  },
  {
   "cell_type": "markdown",
   "metadata": {},
   "source": [
    "Zur Evaluation des gewählten Modells wird es auf den gesamten Trainingsdaten trainiert und danach auf den Testdaten der erreichte Score berechnet. Zum Vergleich wird auch der Score des vorgegebenen Baseline Modells verwendet, welches immer das Durchschnittliche Wachstum im Traingsdatensatz vorher sagt."
   ]
  },
  {
   "cell_type": "code",
   "execution_count": 88,
   "metadata": {},
   "outputs": [
    {
     "name": "stdout",
     "output_type": "stream",
     "text": [
      "Linear regression test score: 1.549316491249273\n"
     ]
    }
   ],
   "source": [
    "# Create linear regression model and train it\n",
    "lr = LinearRegression()\n",
    "lr.fit(X_train, y_train)\n",
    "# Make predictions on test set\n",
    "lr_prediction = lr.predict(X_test)\n",
    "# Calculate RMSE score on predictions\n",
    "lr_test_score = np.sqrt(mean_squared_error(y_test, lr_prediction))\n",
    "print(\"Linear regression test score (RMSE):\", lr_test_score)"
   ]
  },
  {
   "cell_type": "code",
   "execution_count": 89,
   "metadata": {},
   "outputs": [
    {
     "name": "stdout",
     "output_type": "stream",
     "text": [
      "Baseline (predict mean) test score: 2.031266318633236\n"
     ]
    }
   ],
   "source": [
    "# Create predictions by predicting the mean growth of the train set for each entry in the test set\n",
    "mean_prediction = np.repeat(y_train.mean(), y_test.shape[0])\n",
    "# Calculate RMSE score on predictions\n",
    "mean_test_score = np.sqrt(mean_squared_error(y_test, mean_prediction))\n",
    "print(\"Baseline (predict mean) test score (RMSE):\", mean_test_score)"
   ]
  },
  {
   "cell_type": "markdown",
   "metadata": {},
   "source": [
    "Es ist zu sehen, dass das lineare Regressionsmodell mit 1.55 einen besseren Score erreicht als die Baseline. Um das Ergebnis der linearen Regression weiter zu analysieren, wird im Folgenden das Residuum der Vorhersagen in einem Plot visualisiert. Auf der x-Achse sind die vorhergesagten Werte aufgetragen und auf der y-Achse jeweils der Fehler zum korrekten Wert."
   ]
  },
  {
   "cell_type": "code",
   "execution_count": 90,
   "metadata": {},
   "outputs": [
    {
     "data": {
      "image/png": "[encoded data removed]",
      "text/plain": [
       "<Figure size 648x288 with 1 Axes>"
      ]
     },
     "metadata": {
      "needs_background": "light"
     },
     "output_type": "display_data"
    }
   ],
   "source": [
    "fig = plt.figure(figsize=(9,4))\n",
    "# Create scatter plot with predictions on the x-axis and residuals on the y-axis\n",
    "sns.scatterplot(lr_prediction, y_test - lr_prediction)\n",
    "# Draw horizontal line through y=0\n",
    "plt.gca().axhline(linestyle=\"--\")\n",
    "plt.show()"
   ]
  },
  {
   "cell_type": "markdown",
   "metadata": {},
   "source": [
    "In dem Plot ist zu erkennen, dass ungefähr gleich viele Punkte über und unter der Linie liegen und es kein sichtbares Muster gibt. Dies deutet darauf hin, dass die lineare Regression ein gutes Modell gelernt hat, welches nicht leicht verbessert werden kann. Es fällt allerdings auch auf, dass es nur sehr wenige Datenpunkte im Testdatensatz gibt. Dies liegt daran, dass der komplette Datensatz nur aus 65 Datenpunkten besteht. Bei so wenigen Daten kann es bei einer zufälligen Aufteilung von Trainings- und Testdatensatz dazu kommen, dass die Verteilung des Traingsdatensatzes nicht der des Testdatensatzes entspricht. Diese Annahme wird bei dem Training von Modellen aber gemacht. Bei einer anderen Aufteilung der Trainings und Testdaten ist das Ergebnis also möglicherweise sehr unterschiedlich."
   ]
  }
 ],
 "metadata": {
  "kernelspec": {
   "display_name": "Python 3",
   "language": "python",
   "name": "python3"
  },
  "language_info": {
   "codemirror_mode": {
    "name": "ipython",
    "version": 3
   },
   "file_extension": ".py",
   "mimetype": "text/x-python",
   "name": "python",
   "nbconvert_exporter": "python",
   "pygments_lexer": "ipython3",
   "version": "3.7.3"
  }
 },
 "nbformat": 4,
 "nbformat_minor": 2
}
