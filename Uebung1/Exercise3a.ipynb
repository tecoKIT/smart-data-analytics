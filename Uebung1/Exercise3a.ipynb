{
 "cells": [
  {
   "cell_type": "markdown",
   "metadata": {
    "pycharm": {}
   },
   "source": [
    "# Aufgabe 3 – Fragestellungen und Zielvariablen begrenzen die Methodenauswahl"
   ]
  },
  {
   "cell_type": "markdown",
   "metadata": {
    "pycharm": {}
   },
   "source": [
    "# Aufgabe 3a)"
   ]
  },
  {
   "cell_type": "markdown",
   "metadata": {
    "pycharm": {}
   },
   "source": [
    "**Aufgabenstellung**\n",
    "\n",
    "Untersuchen Sie die Art der Variablen und die Verteilung der Zielvariablen. Gegebenenfalls ist eine Datenvorverarbeitung nötig. Nennen Sie die möglichen Methoden. Wählen Sie eine Methode aus und begründen Sie Ihre Auswahl. Bitte separieren Sie die Datensätze mit 80% : 20% = Training : Test und führen Sie die Methode ohne Parameteroptimierung aus. Vergleichen Sie die Ergebnisse mit denen von vorgegebenen Methode(n).\n",
    "\n",
    "Der Datensatz `employment_08_09.xlsx` beinhaltet die sozioökonomischen Daten der Arbeitskräfte in den USA im April 2008 und Angaben, ob sie im April 2009 weiterhin angestellt sind. Alle Befragten waren im April 2008 angestellt. Sagen Sie basierend auf den 2008er Informationen vorher, welche Arbeitskraft 2009 arbeitslos wird. Haben ältere Arbeitskräfte ein höheres Risiko für Arbeitslosigkeit während der Finanzkrise 2008-2009?"
   ]
  },
  {
   "cell_type": "markdown",
   "metadata": {},
   "source": [
    "**Vorgehen**\n",
    "\n",
    "1. Modul-Importe und Einstellungen\n",
    "- Einlesen des Datensatzes\n",
    "- Untersuchung der Merkmale\n",
    "- Verteilung der Zielvariable\n",
    "- Datenvorverarbeitung\n",
    "- Training und Modellauswahl\n",
    "- Schlussfolgerungen"
   ]
  },
  {
   "cell_type": "markdown",
   "metadata": {
    "pycharm": {}
   },
   "source": [
    "**Zusammenfassung der Ergebnisse**\n",
    "\n",
    "Der Datensatz ist stark unbalanciert, was das Training erschwert. Nach eingehender Analyse ist das Ergebnis, dass ältere Arbeitskräfte kein höheres Risiko für Arbeitslosigkeit während der Finanzkrise haben."
   ]
  },
  {
   "cell_type": "markdown",
   "metadata": {
    "pycharm": {}
   },
   "source": [
    "## Modul-Importe und Einstellungen"
   ]
  },
  {
   "cell_type": "markdown",
   "metadata": {
    "pycharm": {}
   },
   "source": [
    "In diesem Abschnitt werden die benötigten Python-Module mithilfe von `import` importiert."
   ]
  },
  {
   "cell_type": "code",
   "execution_count": 54,
   "metadata": {
    "pycharm": {
     "is_executing": false
    }
   },
   "outputs": [],
   "source": [
    "# Set Module Path\n",
    "import sys\n",
    "sys.path.append('./module')\n",
    "\n",
    "# Own Modules\n",
    "import one_hot\n",
    "\n",
    "# Common Libraries\n",
    "import pandas as pd\n",
    "import numpy as np\n",
    "import seaborn as sns\n",
    "import matplotlib.pyplot as plt\n",
    "\n",
    "# SimpleImputer from sklearn (Can replace missing values)\n",
    "from sklearn.impute import SimpleImputer\n",
    "\n",
    "# OneHotEncoder from sklearn (Can do one-hot encoding)\n",
    "from sklearn.preprocessing import OneHotEncoder\n",
    "\n",
    "# Import train_test_split from sklearn (Can do splitting)\n",
    "from sklearn.model_selection import train_test_split\n",
    "\n",
    "# Import Scalers from sklearn (Can do feature scaling)\n",
    "from sklearn.preprocessing import StandardScaler, RobustScaler\n",
    "\n",
    "# Metrics\n",
    "from sklearn.metrics import accuracy_score, balanced_accuracy_score, confusion_matrix\n",
    "\n",
    "# Classifiers\n",
    "import statsmodels.api as sm\n",
    "import statsmodels.formula.api as smf\n",
    "from sklearn.linear_model import LinearRegression\n",
    "from sklearn.linear_model import LogisticRegression\n",
    "from sklearn.tree import DecisionTreeClassifier"
   ]
  },
  {
   "cell_type": "markdown",
   "metadata": {
    "pycharm": {}
   },
   "source": [
    "## Einlesen des Datensatzes"
   ]
  },
  {
   "cell_type": "markdown",
   "metadata": {
    "pycharm": {}
   },
   "source": [
    "In diesem Abschnitt wird der Datensatz als Excel-Datei (`.xlsx`) mithilfe von `pandas` eingelesen."
   ]
  },
  {
   "cell_type": "code",
   "execution_count": 2,
   "metadata": {
    "pycharm": {}
   },
   "outputs": [],
   "source": [
    "# Load dataset from Excel file\n",
    "data = pd.read_excel('./data/employment_08_09.xlsx')"
   ]
  },
  {
   "cell_type": "markdown",
   "metadata": {
    "pycharm": {}
   },
   "source": [
    "## Untersuchung der Merkmale"
   ]
  },
  {
   "cell_type": "markdown",
   "metadata": {
    "pycharm": {}
   },
   "source": [
    "In der [Beschreibung des Datensatzes](./data/employment_08_09_description.pdf) wird unter anderem folgende Information gegeben:\n",
    "\n",
    "\"These data file contains data on 5412 workers who were survey in the April 2008 Current Population Survey and reported that they were employed. The data file contains their employment status in April 2009, one year later, along with some additional variables.\""
   ]
  },
  {
   "cell_type": "markdown",
   "metadata": {
    "pycharm": {}
   },
   "source": [
    "Zunächst soll überprüft werden, ob der Datensatz vollständig geladen wurde."
   ]
  },
  {
   "cell_type": "code",
   "execution_count": 3,
   "metadata": {
    "pycharm": {}
   },
   "outputs": [
    {
     "name": "stdout",
     "output_type": "stream",
     "text": [
      "<class 'pandas.core.frame.DataFrame'>\n",
      "RangeIndex: 5412 entries, 0 to 5411\n",
      "Data columns (total 21 columns):\n",
      "age             5412 non-null int64\n",
      "race            5412 non-null int64\n",
      "earnwke         4773 non-null float64\n",
      "employed        5412 non-null int64\n",
      "unemployed      5412 non-null int64\n",
      "married         5412 non-null int64\n",
      "union           5412 non-null int64\n",
      "ne_states       5412 non-null int64\n",
      "so_states       5412 non-null int64\n",
      "ce_states       5412 non-null int64\n",
      "we_states       5412 non-null int64\n",
      "government      5412 non-null int64\n",
      "private         5412 non-null int64\n",
      "self            5412 non-null int64\n",
      "educ_lths       5412 non-null int64\n",
      "educ_hs         5412 non-null int64\n",
      "educ_somecol    5412 non-null int64\n",
      "educ_aa         5412 non-null int64\n",
      "educ_bac        5412 non-null int64\n",
      "educ_adv        5412 non-null int64\n",
      "female          5412 non-null int64\n",
      "dtypes: float64(1), int64(20)\n",
      "memory usage: 888.0 KB\n"
     ]
    }
   ],
   "source": [
    "# Get info on Datasat\n",
    "data.info()"
   ]
  },
  {
   "cell_type": "markdown",
   "metadata": {
    "pycharm": {}
   },
   "source": [
    "Anmerkungen: \n",
    "- Alle 5412 Datensätze wurden geladen und \n",
    "- Es gibt nur in der Spalte `earnwke` fehlende Werte"
   ]
  },
  {
   "cell_type": "markdown",
   "metadata": {
    "pycharm": {}
   },
   "source": [
    "#### Beschreibung und Einordnung der Merkamle"
   ]
  },
  {
   "cell_type": "markdown",
   "metadata": {
    "pycharm": {}
   },
   "source": [
    "Die [Beschreibung des Datensatzes](./data/employment_08_09_description.pdf) enhält zudem Informationen zur Bedeutung der Spalten. In der folgenden Zelle ist diese mit einer Einordnung der Merkmale angereichert."
   ]
  },
  {
   "cell_type": "markdown",
   "metadata": {
    "pycharm": {}
   },
   "source": [
    "- Beschäftigungsstatus des Arbeiters im Jahr 2009 (_Zielvariable_): Kategorisch-Nominal\n",
    "    - `employed`: Integer (= 1, wenn im Jahr 2009 noch angestellt)\n",
    "    - `unemployed`: Integer (= 1, wenn im Jahr 2009 nicht mehr angestellt)\n",
    "    \n",
    "Informationen über den Arbeiter im Jahr 2008:\n",
    "\n",
    "- Alter: Numerisch-Kontinuierlich\n",
    "    - `age`: Integer\n",
    "\n",
    "- Geschlecht: Kategorisch-Nominal\n",
    "    - `female`: Integer (= 1, wenn weiblich)\n",
    "\n",
    "- Familienstand: Kategorisch-Nominal\n",
    "    - `married`: Integer (= 1, wenn Verheiratet)\n",
    "\n",
    "- Selbst-Identifizierte Rasse, Kategorisch-Nominal\n",
    "    - `race`: Integer (weiß=1, schwarz=2, andere=3)\n",
    "\n",
    "- Gewerkschaftszugehörigkeit: Kategorisch-Nominal\n",
    "    - `union`: Integer (= 1, wenn Gewerkschaftsmitglied)\n",
    "\n",
    "- Bundesstaats-Angehörigkeit: Kategorisch-Nominal\n",
    "    - `ne_states`: Integer (= 1, wenn von Nordost-Staat)\n",
    "    - `so_states`: Integer (= 1, wenn von Südstaat)\n",
    "    - `ce_states`: Integer (= 1, wenn von zentralem Staat)\n",
    "    - `we_states`: Integer (= 1, wenn von Weststaat)\n",
    "\n",
    "- Angestelltenverhältnis: Kategorisch-Nominal\n",
    "    - `private`: Integer (= 1, wenn angestellt in privatem Betrieb)\n",
    "    - `government`: Integer (= 1, wenn angestellt von der Regierung)\n",
    "    - `self`: Integer (= 1, wenn selbstständig)\n",
    "\n",
    "- Höchster Abschluss: Kategorisch-Ordinal\n",
    "    - `educ_lths`: Integer (= 1, wenn höchster Abschluss niedriger als High-School)\n",
    "    - `educ_hs`: Integer (= 1, wenn höchster Abschluss ist High-School)\n",
    "    - `educ_somecol`: Integer (= 1, wenn höchster Abschluss ist College)\n",
    "    - `educ_aa`: Integer (= 1, wenn höchster Abschluss ist AA)\n",
    "    - `educ_ba`: Integer (= 1, wenn höchster Abschluss ist BA oder BS)\n",
    "    - `educ_adv`: Integer (= 1, wenn höchster Abschluss fortgeschritten)\n",
    "\n",
    "- Durschnittliches wöchentliches Einkommen: Numerisch-Kontinuierlich\n",
    "    - `earnwke`: Float\n",
    "\n",
    "\n"
   ]
  },
  {
   "cell_type": "markdown",
   "metadata": {},
   "source": [
    "#### Untersuchung der Verteilung der numerisch-kontinuierlichen Merkamle"
   ]
  },
  {
   "cell_type": "markdown",
   "metadata": {},
   "source": [
    "Im Folgenden soll die Verteilung der kontinuierlichen Merkmale mithilfe von Box-Whisker-Plots untersucht werden."
   ]
  },
  {
   "cell_type": "code",
   "execution_count": 53,
   "metadata": {},
   "outputs": [
    {
     "data": {
      "image/png": "[encoded data removed]",
      "text/plain": [
       "<Figure size 1008x288 with 1 Axes>"
      ]
     },
     "metadata": {
      "needs_background": "light"
     },
     "output_type": "display_data"
    },
    {
     "data": {
      "image/png": "[encoded data removed]",
      "text/plain": [
       "<Figure size 1008x288 with 1 Axes>"
      ]
     },
     "metadata": {
      "needs_background": "light"
     },
     "output_type": "display_data"
    }
   ],
   "source": [
    "# Selecting continuous features\n",
    "continuous_features = ['age', 'earnwke']\n",
    "# Drawing Box Plots with outliers for selected features\n",
    "for feature in continuous_features:\n",
    "    plt.figure(figsize=(14, 4))\n",
    "    sns.boxplot(data[feature])"
   ]
  },
  {
   "cell_type": "markdown",
   "metadata": {},
   "source": [
    "Beim Alter der befragten Arbeiter gibt es keine Ausreißer. Die Ausreißer beim wöchentlichen Einkommen liegen so nah beieinander, dass sie nicht auffällig wirken."
   ]
  },
  {
   "cell_type": "markdown",
   "metadata": {
    "pycharm": {}
   },
   "source": [
    "## Verteilung der Zielvariable"
   ]
  },
  {
   "cell_type": "markdown",
   "metadata": {
    "pycharm": {}
   },
   "source": [
    "###### Analyse"
   ]
  },
  {
   "cell_type": "markdown",
   "metadata": {
    "pycharm": {}
   },
   "source": [
    "Bevor Aussagen über die Verteilung der Zielvariable gemacht werden, soll analysiert überprüft werden, ob inkonsistente oder unvollständige Datensätze bezüglich der Zielvariable vorliegen."
   ]
  },
  {
   "cell_type": "code",
   "execution_count": 4,
   "metadata": {
    "pycharm": {}
   },
   "outputs": [
    {
     "data": {
      "text/plain": [
       "0"
      ]
     },
     "execution_count": 4,
     "metadata": {},
     "output_type": "execute_result"
    }
   ],
   "source": [
    "# Number of objects with contradiction (employed and unemployed)\n",
    "data[(data['employed']==1) & (data['unemployed']==1)].count()[0]"
   ]
  },
  {
   "cell_type": "markdown",
   "metadata": {
    "pycharm": {}
   },
   "source": [
    "Es gibt keine Datenobjekte, die eine ungültige Beschäftigungsinformation enthalten, bei welcher der Arbeiter gleichzeitig beschäftigt und nicht beschäftigt ist."
   ]
  },
  {
   "cell_type": "code",
   "execution_count": 5,
   "metadata": {
    "pycharm": {}
   },
   "outputs": [
    {
     "data": {
      "text/plain": [
       "435"
      ]
     },
     "execution_count": 5,
     "metadata": {},
     "output_type": "execute_result"
    }
   ],
   "source": [
    "# Are there objects with no information (not employed and not unemployed)\n",
    "data[(data['employed']==0) & (data['unemployed']==0)].count()[0]"
   ]
  },
  {
   "cell_type": "markdown",
   "metadata": {
    "pycharm": {}
   },
   "source": [
    "Es gibt 435 Datenobjekte, die keine Information über den Beschäftigungsstatus 2009 enthalten. Diese sollten bei der Datenvorverarbeitung entfernt werden, da sie zum Trainieren / Testen nicht verwendet werden können."
   ]
  },
  {
   "cell_type": "markdown",
   "metadata": {
    "pycharm": {}
   },
   "source": [
    "###### Graphische Darstellung"
   ]
  },
  {
   "cell_type": "markdown",
   "metadata": {
    "pycharm": {}
   },
   "source": [
    "Ermitteln der Daten für die graphische Darstellung."
   ]
  },
  {
   "cell_type": "code",
   "execution_count": 6,
   "metadata": {
    "pycharm": {}
   },
   "outputs": [],
   "source": [
    "# Preparing values for the barplot\n",
    "employed = data[data['employed']==1].count()[0]\n",
    "unemployed = data[data['unemployed']==1].count()[0]\n",
    "no_information = data[(data['employed']==0) & (data['unemployed']==0)].count()[0]"
   ]
  },
  {
   "cell_type": "markdown",
   "metadata": {
    "pycharm": {}
   },
   "source": [
    "Graphische Darstellung der Verteilung mithilfe von `seaborn` und einem neuen `dataframe` zur Beschriftung der Achsen."
   ]
  },
  {
   "cell_type": "code",
   "execution_count": 7,
   "metadata": {
    "pycharm": {}
   },
   "outputs": [
    {
     "data": {
      "image/png": "[encoded data removed]",
      "text/plain": [
       "<Figure size 432x288 with 1 Axes>"
      ]
     },
     "metadata": {
      "needs_background": "light"
     },
     "output_type": "display_data"
    }
   ],
   "source": [
    "# Instanciating a new dataframe to have a nice barplot with descriptions\n",
    "plot_data = pd.DataFrame({'Employment Status 2009': ['employed', 'unemployed', 'no_information'], \n",
    "                          'Number of Employees': [employed, unemployed, no_information]})\n",
    "# Draw the barplot with seaborn\n",
    "ax = sns.barplot(x='Employment Status 2009', y='Number of Employees', data=plot_data, ci=None)"
   ]
  },
  {
   "cell_type": "markdown",
   "metadata": {
    "pycharm": {}
   },
   "source": [
    "Erkenntnis: Die Zielvariable ist sehr ungleich verteilt.\n",
    "\n",
    "Anmerkung: Datenobjekte ohne Beschäftigungsstatus 2009 werden bei der Datenvorverarbeitung entfernt, da sie zum Trainieren / Testen nicht verwendet werden können."
   ]
  },
  {
   "cell_type": "markdown",
   "metadata": {
    "pycharm": {}
   },
   "source": [
    "###### Ermittlung der prozentualen Verteilung der Zielvariable"
   ]
  },
  {
   "cell_type": "code",
   "execution_count": 8,
   "metadata": {
    "pycharm": {}
   },
   "outputs": [
    {
     "data": {
      "text/plain": [
       "0.951979103877838"
      ]
     },
     "execution_count": 8,
     "metadata": {},
     "output_type": "execute_result"
    }
   ],
   "source": [
    "# Ratio of employed workers (without datapoints with no information)\n",
    "employed / (employed + unemployed)"
   ]
  },
  {
   "cell_type": "markdown",
   "metadata": {
    "pycharm": {}
   },
   "source": [
    "Erkenntnis: Nur ungefähr 5% der Arbeiter hatten im Jahr 2008 keine Beschäftigung mehr. Hierbei handelt es sich also um einen unbalancierten Datensatz."
   ]
  },
  {
   "cell_type": "markdown",
   "metadata": {
    "pycharm": {}
   },
   "source": [
    "## Datenvorverarbeitung"
   ]
  },
  {
   "cell_type": "markdown",
   "metadata": {
    "pycharm": {}
   },
   "source": [
    "In diesem Abschnitt werden die Daten in Hinblick auf das Training der Modelle vorverarbeitet."
   ]
  },
  {
   "cell_type": "markdown",
   "metadata": {
    "pycharm": {}
   },
   "source": [
    "###### 1. Entfernen der Datenobjekte ohne Beschäftigungsinformation 2009"
   ]
  },
  {
   "cell_type": "code",
   "execution_count": 9,
   "metadata": {
    "pycharm": {}
   },
   "outputs": [],
   "source": [
    "# Determine rows with no information about Employment Status 2009\n",
    "rows_no_onformation = data[(data['employed']==0) & (data['unemployed']==0)]\n",
    "\n",
    "# Drop those rows with no information\n",
    "data.drop(rows_no_onformation.index, inplace=True)"
   ]
  },
  {
   "cell_type": "markdown",
   "metadata": {
    "pycharm": {}
   },
   "source": [
    "Neue Größe des Datensatzes überprüfen"
   ]
  },
  {
   "cell_type": "code",
   "execution_count": 10,
   "metadata": {
    "pycharm": {}
   },
   "outputs": [
    {
     "data": {
      "text/plain": [
       "(4977, 21)"
      ]
     },
     "execution_count": 10,
     "metadata": {},
     "output_type": "execute_result"
    }
   ],
   "source": [
    "# New size of the dataframe\n",
    "data.shape"
   ]
  },
  {
   "cell_type": "markdown",
   "metadata": {
    "pycharm": {}
   },
   "source": [
    "###### 2. Trennen der unabhängigen Daten (`X`) von den abhängigen Daten (Zielvariable `y`)"
   ]
  },
  {
   "cell_type": "markdown",
   "metadata": {
    "pycharm": {}
   },
   "source": [
    "Mermale `X` sind alle Daten außer die Spalten der Zielvariable:"
   ]
  },
  {
   "cell_type": "code",
   "execution_count": 11,
   "metadata": {
    "pycharm": {}
   },
   "outputs": [],
   "source": [
    "# Don't include Employment Information 2009 in the features\n",
    "X = data.drop(['employed', 'unemployed'], axis=1)"
   ]
  },
  {
   "cell_type": "markdown",
   "metadata": {
    "pycharm": {}
   },
   "source": [
    "Überprüfen, ob die Spalten der Zielvariable entfernt wurde."
   ]
  },
  {
   "cell_type": "code",
   "execution_count": 12,
   "metadata": {
    "pycharm": {}
   },
   "outputs": [
    {
     "data": {
      "text/plain": [
       "Index(['age', 'race', 'earnwke', 'married', 'union', 'ne_states', 'so_states',\n",
       "       'ce_states', 'we_states', 'government', 'private', 'self', 'educ_lths',\n",
       "       'educ_hs', 'educ_somecol', 'educ_aa', 'educ_bac', 'educ_adv', 'female'],\n",
       "      dtype='object')"
      ]
     },
     "execution_count": 12,
     "metadata": {},
     "output_type": "execute_result"
    }
   ],
   "source": [
    "# Check if Employment Information was removed by printing out the feature columns\n",
    "X.columns"
   ]
  },
  {
   "cell_type": "markdown",
   "metadata": {
    "pycharm": {}
   },
   "source": [
    "Erstellen der Zielvaribale `y`."
   ]
  },
  {
   "cell_type": "code",
   "execution_count": 13,
   "metadata": {
    "pycharm": {
     "is_executing": false
    }
   },
   "outputs": [],
   "source": [
    "# Output variable is the Employment Information 2009\n",
    "y = data[['employed', 'unemployed']]"
   ]
  },
  {
   "cell_type": "markdown",
   "metadata": {
    "pycharm": {}
   },
   "source": [
    "###### 3. Fehlende Daten in der Spalte `earnwke` ergänzen"
   ]
  },
  {
   "cell_type": "markdown",
   "metadata": {
    "pycharm": {}
   },
   "source": [
    "Fehlende Daten sollen durch das durchschnittliche Einkommen ersetzt werden.  \n",
    "\n",
    "Anmerkung: Dieses Vorgehen könnte problematisch sein, da nur bei Selbstständige Arbeitern diese Angabe fehlt, was die folgende Zelle zeigt."
   ]
  },
  {
   "cell_type": "code",
   "execution_count": 14,
   "metadata": {},
   "outputs": [
    {
     "name": "stdout",
     "output_type": "stream",
     "text": [
      "Number of missing earnwke values:\t\t 570\n",
      "Number of missing earnwke values where self==1:\t 570\n"
     ]
    }
   ],
   "source": [
    "print(\"Number of missing earnwke values:\\t\\t\", X[X['earnwke'].isnull()].shape[0])\n",
    "print(\"Number of missing earnwke values where self==1:\\t\", X[X['earnwke'].isnull()]['self'].value_counts()[1])"
   ]
  },
  {
   "cell_type": "markdown",
   "metadata": {},
   "source": [
    "Dennoch sollen aus Mangel an besseren Optionen diese fehlenden Werte durch das durchschnittliche Einkommen ersetzt werden:"
   ]
  },
  {
   "cell_type": "code",
   "execution_count": 15,
   "metadata": {
    "pycharm": {}
   },
   "outputs": [],
   "source": [
    "# Instanciate SimpleImputer with np.nan and strategy 'mean' (replaces missing values with mean)\n",
    "imputer = SimpleImputer(missing_values = np.nan, strategy = 'mean')\n",
    "\n",
    "# Fit the Imputer on the data and transform it\n",
    "X[[\"earnwke\"]] = imputer.fit_transform(X[[\"earnwke\"]].to_numpy())"
   ]
  },
  {
   "cell_type": "markdown",
   "metadata": {
    "pycharm": {}
   },
   "source": [
    "Überprüfen, ob fehlende Werte ersetzt wurden."
   ]
  },
  {
   "cell_type": "code",
   "execution_count": 16,
   "metadata": {
    "pycharm": {}
   },
   "outputs": [
    {
     "name": "stdout",
     "output_type": "stream",
     "text": [
      "<class 'pandas.core.frame.DataFrame'>\n",
      "Int64Index: 4977 entries, 0 to 5411\n",
      "Data columns (total 1 columns):\n",
      "earnwke    4977 non-null float64\n",
      "dtypes: float64(1)\n",
      "memory usage: 77.8 KB\n"
     ]
    }
   ],
   "source": [
    "# Check if missing values are replaced\n",
    "X[[\"earnwke\"]].info()"
   ]
  },
  {
   "cell_type": "markdown",
   "metadata": {
    "pycharm": {}
   },
   "source": [
    "Das Ersetzen der Werte war erfolgreich."
   ]
  },
  {
   "cell_type": "markdown",
   "metadata": {
    "pycharm": {}
   },
   "source": [
    "###### 4. Überprüfen der One-Hot encodierten Daten"
   ]
  },
  {
   "cell_type": "markdown",
   "metadata": {
    "pycharm": {}
   },
   "source": [
    "Bei One-Hot enkodierten Daten können Inkonsistenzen auftreten. Das Modul `one_hot.py` enthält eine Funktion namens `is_one_hot_encoded`, die solche Inkonsistenzen erkennen kann. Die folgende Zelle überprüft die one-hot-enkodierten Informationen mithilfe dieser Funkion auf Inkonsistenzen."
   ]
  },
  {
   "cell_type": "code",
   "execution_count": 17,
   "metadata": {
    "pycharm": {}
   },
   "outputs": [
    {
     "data": {
      "text/plain": [
       "[True, True, True]"
      ]
     },
     "execution_count": 17,
     "metadata": {},
     "output_type": "execute_result"
    }
   ],
   "source": [
    "# Check columns for correct one-hot encoding\n",
    "[ one_hot.is_one_hot_encoded(X[['ne_states', 'so_states', 'ce_states', 'we_states']]),\n",
    "  one_hot.is_one_hot_encoded(X[['government', 'private', 'self']]),\n",
    "  one_hot.is_one_hot_encoded(X[['educ_lths', 'educ_hs', 'educ_somecol', 'educ_aa', 'educ_bac', 'educ_adv']])]"
   ]
  },
  {
   "cell_type": "markdown",
   "metadata": {
    "pycharm": {}
   },
   "source": [
    "Erkenntnis: Die Informatioen über _Bundesstaats-Angehörigkeit_, _Beschäftigungsverhältnis_ und _höchster Abschluss_ sind korrekt und vollständig One-Hot-Enkodiert. Es gibt keine Widersprüchlichkeiten oder fehlende Informationen."
   ]
  },
  {
   "cell_type": "markdown",
   "metadata": {},
   "source": [
    "Da das Merkmal _höchster Abschluss_ kategorisch-ordinal ist, kann man dieses in einer Variable kodieren, was in der folgenden Zelle geschieht. Dafür wird die Funktion `one_hot_to_ordinal`verwendet, die ebenfalls im Modul `one_hot.py` enthalten ist.\n",
    "\n",
    "Die anderen one-hot-enkodierten kategorischen Merkmale sollten nicht umgewandelt werden, da sie nicht ordinal sind."
   ]
  },
  {
   "cell_type": "code",
   "execution_count": 18,
   "metadata": {
    "pycharm": {}
   },
   "outputs": [],
   "source": [
    "# Create the 'educ' column on basis of the 'educ_' columns\n",
    "X['educ'] = one_hot.one_hot_to_ordinal(X[['educ_lths', 'educ_hs', 'educ_somecol', 'educ_aa', 'educ_bac', 'educ_adv']])\n",
    "X = X.drop(['educ_lths', 'educ_hs', 'educ_somecol', 'educ_aa', 'educ_bac', 'educ_adv'], axis=1)\n",
    "\n",
    "# Create the 'employment' column on basis of the corresponding columns\n",
    "# X['employment'] = one_hot_to_ordinal(X[['self', 'government', 'private']])\n",
    "# X = X.drop(['self', 'government', 'private'], axis=1)\n",
    "\n",
    "# Create the 'state' column on basis of the corresponding columns\n",
    "# X['state'] = one_hot_to_ordinal(X[['ne_states', 'so_states', 'ce_states', 'we_states']])\n",
    "# X = X.drop(['ne_states', 'so_states', 'ce_states', 'we_states'], axis=1)"
   ]
  },
  {
   "cell_type": "markdown",
   "metadata": {},
   "source": [
    "Überprüfen, ob die Spalte `educ` hinzugefügt wurde und die anderen Spalten entfernt wurden."
   ]
  },
  {
   "cell_type": "code",
   "execution_count": 19,
   "metadata": {
    "pycharm": {}
   },
   "outputs": [
    {
     "data": {
      "text/plain": [
       "Index(['age', 'race', 'earnwke', 'married', 'union', 'ne_states', 'so_states',\n",
       "       'ce_states', 'we_states', 'government', 'private', 'self', 'female',\n",
       "       'educ'],\n",
       "      dtype='object')"
      ]
     },
     "execution_count": 19,
     "metadata": {},
     "output_type": "execute_result"
    }
   ],
   "source": [
    "# Check column names\n",
    "X.columns"
   ]
  },
  {
   "cell_type": "markdown",
   "metadata": {},
   "source": [
    "Überprüfen, ob die Zielvariable ohne Inkonsistenzen one-hot encodiert ist:"
   ]
  },
  {
   "cell_type": "code",
   "execution_count": 20,
   "metadata": {
    "pycharm": {}
   },
   "outputs": [
    {
     "data": {
      "text/plain": [
       "True"
      ]
     },
     "execution_count": 20,
     "metadata": {},
     "output_type": "execute_result"
    }
   ],
   "source": [
    "# Check if output variable is one-hot encoded\n",
    "one_hot.is_one_hot_encoded(y[['employed', 'unemployed']])"
   ]
  },
  {
   "cell_type": "markdown",
   "metadata": {
    "pycharm": {}
   },
   "source": [
    "Erkenntnis: Das Entfernen der Datenobjekte mit fehlenden Informationen über das _Beschäftigungsstatus 2009_ (Schritt 1) hat funktioniert."
   ]
  },
  {
   "cell_type": "markdown",
   "metadata": {
    "pycharm": {}
   },
   "source": [
    "Die Spalte `unemployed` kann jetzt entfertn werden, da sie gegenüber der Spalte `employed` keine neuen Informationen enthält:"
   ]
  },
  {
   "cell_type": "code",
   "execution_count": 21,
   "metadata": {
    "pycharm": {}
   },
   "outputs": [
    {
     "data": {
      "text/plain": [
       "Index(['employed'], dtype='object')"
      ]
     },
     "execution_count": 21,
     "metadata": {},
     "output_type": "execute_result"
    }
   ],
   "source": [
    "# Removing the column `unemployed` from y\n",
    "y = y.drop(['unemployed'], axis=1)\n",
    "\n",
    "# Check if it worked\n",
    "y.columns"
   ]
  },
  {
   "cell_type": "markdown",
   "metadata": {},
   "source": [
    "Das Entfernen der Spalte `unemployed` war erfolgreich."
   ]
  },
  {
   "cell_type": "markdown",
   "metadata": {
    "pycharm": {}
   },
   "source": [
    "###### 5. One-Hot Enkodierung"
   ]
  },
  {
   "cell_type": "markdown",
   "metadata": {},
   "source": [
    "Die Information über die selbstidentifizierte Rassenzugehörigkeit ist in den Daten numerisch in einer Spalte numerisch enkodiert. Da es sich jedoch um ein Attribut ohne Ordnung handelt (nominal), sollte diese Information one-hot-enkodiert werden. Dies geschieht in der folgenden Zelle:"
   ]
  },
  {
   "cell_type": "code",
   "execution_count": 22,
   "metadata": {
    "pycharm": {}
   },
   "outputs": [],
   "source": [
    "# Instanciate OneHotEncoder with determined indices\n",
    "onehotencoder = OneHotEncoder(categories = 'auto')\n",
    "\n",
    "# Compute one-hot encoded columns\n",
    "race_one_hot = onehotencoder.fit_transform(X[['race']]).toarray()\n",
    "\n",
    "# Remove original column\n",
    "X = X.drop(['race'], axis=1)\n",
    "\n",
    "# Add one-hot encoded columns\n",
    "X['race_white'], X['race_black'], X['race_other'] = np.split(race_one_hot, indices_or_sections=3, axis=1)"
   ]
  },
  {
   "cell_type": "markdown",
   "metadata": {},
   "source": [
    "Überprüfuen, ob die entsprechenden Spalten hinzugefügt wurden:"
   ]
  },
  {
   "cell_type": "code",
   "execution_count": 23,
   "metadata": {
    "pycharm": {}
   },
   "outputs": [
    {
     "data": {
      "text/plain": [
       "Index(['age', 'earnwke', 'married', 'union', 'ne_states', 'so_states',\n",
       "       'ce_states', 'we_states', 'government', 'private', 'self', 'female',\n",
       "       'educ', 'race_white', 'race_black', 'race_other'],\n",
       "      dtype='object')"
      ]
     },
     "execution_count": 23,
     "metadata": {},
     "output_type": "execute_result"
    }
   ],
   "source": [
    "# Check if it worked\n",
    "X.columns"
   ]
  },
  {
   "cell_type": "markdown",
   "metadata": {},
   "source": [
    "Erkenntnis: Die Spalten wurden erfolgreich hinzugefügt."
   ]
  },
  {
   "cell_type": "markdown",
   "metadata": {
    "pycharm": {}
   },
   "source": [
    "###### 6. Auteilung in Trainings-  und Test-Daten"
   ]
  },
  {
   "cell_type": "markdown",
   "metadata": {},
   "source": [
    "Auteilen der Daten in Trainings- und Testdaten im Verhältnis 80:20."
   ]
  },
  {
   "cell_type": "code",
   "execution_count": 24,
   "metadata": {
    "pycharm": {}
   },
   "outputs": [],
   "source": [
    "# Split into training and test data (random_state for deterministic output)\n",
    "X_train, X_test, y_train, y_test = train_test_split(X, y, test_size = 0.2, random_state = 1)"
   ]
  },
  {
   "cell_type": "markdown",
   "metadata": {
    "pycharm": {}
   },
   "source": [
    "###### 7. Feature-Scaling"
   ]
  },
  {
   "cell_type": "markdown",
   "metadata": {},
   "source": [
    "Skalierung der Daten."
   ]
  },
  {
   "cell_type": "code",
   "execution_count": 25,
   "metadata": {
    "pycharm": {}
   },
   "outputs": [],
   "source": [
    "# Instanciate Robust Scaler\n",
    "sc_X = RobustScaler()\n",
    "# Fit Scaler on Training data and transform it\n",
    "X_train = sc_X.fit_transform(X_train)\n",
    "# Transform Test data alike\n",
    "X_test = sc_X.transform(X_test)"
   ]
  },
  {
   "cell_type": "markdown",
   "metadata": {
    "pycharm": {}
   },
   "source": [
    "## Training und Evaluation"
   ]
  },
  {
   "cell_type": "markdown",
   "metadata": {
    "pycharm": {}
   },
   "source": [
    "###### Mögliche Methoden"
   ]
  },
  {
   "cell_type": "markdown",
   "metadata": {
    "pycharm": {}
   },
   "source": [
    "Es handelt sich bei der Entscheidung, ob ein Beschäftigter aus dem Jahr 2008 auch im Jahr 2009 noch beschäftigt ist, um eine Klassifikationsaufgabe. \n",
    "\n",
    "Zudem soll bestimmt werden, ob ältere Arbeitskräfte ein ein höheres Risiko für Arbeitslosigkeit im Jahr 2009 haben. \n",
    "\n",
    "Deshalb sollte eine Klassifikations-Methode gewählt werden, bei der nach dem Training bestimmt werden kann, welche Features besonders großen Einfluss auf die Klassifikation haben.\n",
    "\n",
    "Mögliche Methoden hierfür sind unter anderem _Logistische Regression_ und _Entscheidungsbäume_.  \n",
    "In der Aufgabenstellung sind als Baseline _Lineare Regression_ und _häufigste Klasse_ angegeben."
   ]
  },
  {
   "cell_type": "markdown",
   "metadata": {
    "pycharm": {}
   },
   "source": [
    "Aufgrund der Tatsache, dass es sich um einen unbalancierten Datensatz handelt, wird neben der Metrik \"accuracy_score\" zusätzlich die Metrik \"balanced_accuracy_score\" verwendet, welche den durschnittlichen Recall auf allen Klassen berechnet und deshalb für unbalancierte Datensätze gut geeignet ist.\n",
    "\n",
    "Siehe auch: https://scikit-learn.org/stable/modules/generated/sklearn.metrics.balanced_accuracy_score.html"
   ]
  },
  {
   "cell_type": "markdown",
   "metadata": {
    "pycharm": {}
   },
   "source": [
    "###### Baseline: Häufigste Klasse"
   ]
  },
  {
   "cell_type": "markdown",
   "metadata": {},
   "source": [
    "Als erste Baseline soll das Vorschlagen der am häufigsten Auftretenden Klasse untersucht werden."
   ]
  },
  {
   "cell_type": "code",
   "execution_count": 26,
   "metadata": {
    "pycharm": {}
   },
   "outputs": [
    {
     "data": {
      "text/plain": [
       "0.953529264004019"
      ]
     },
     "execution_count": 26,
     "metadata": {},
     "output_type": "execute_result"
    }
   ],
   "source": [
    "# Accuracy on Training Data when always predicting employed=1\n",
    "accuracy_score(y_train, np.ones_like(y_train))"
   ]
  },
  {
   "cell_type": "code",
   "execution_count": 27,
   "metadata": {
    "pycharm": {}
   },
   "outputs": [
    {
     "data": {
      "text/plain": [
       "0.9457831325301205"
      ]
     },
     "execution_count": 27,
     "metadata": {},
     "output_type": "execute_result"
    }
   ],
   "source": [
    "# Accuracy on Test Data when always predicting employed=1\n",
    "accuracy_score(y_test, np.ones_like(y_test))"
   ]
  },
  {
   "cell_type": "code",
   "execution_count": 28,
   "metadata": {
    "pycharm": {}
   },
   "outputs": [
    {
     "data": {
      "text/plain": [
       "0.5"
      ]
     },
     "execution_count": 28,
     "metadata": {},
     "output_type": "execute_result"
    }
   ],
   "source": [
    "# Balanced Accuracy when always predicting employed=1\n",
    "balanced_accuracy_score(y_test, np.ones_like(y_test))"
   ]
  },
  {
   "cell_type": "markdown",
   "metadata": {
    "pycharm": {}
   },
   "source": [
    "Wie erwartet, erreicht man mit der Vorhersage der häufigsten Klasse eine Accuracy von ca 95% und eine Balanced Accuracy von 0,5. Der Recall für `employed=1` ist nämlich 1 und der Recall für `employed=0` ist 0, was zu einem Durchscnitt von 0,5 führt."
   ]
  },
  {
   "cell_type": "markdown",
   "metadata": {
    "pycharm": {}
   },
   "source": [
    "###### Baseline: Lineare Regression"
   ]
  },
  {
   "cell_type": "markdown",
   "metadata": {},
   "source": [
    "Als zweite Baseline soll ein Klassifikator basierend auf linearer Regression untersucht werden."
   ]
  },
  {
   "cell_type": "code",
   "execution_count": 29,
   "metadata": {
    "pycharm": {}
   },
   "outputs": [],
   "source": [
    "# Train linear Regression\n",
    "model_lir = LinearRegression().fit(X_train, y_train['employed'])"
   ]
  },
  {
   "cell_type": "code",
   "execution_count": 91,
   "metadata": {},
   "outputs": [],
   "source": [
    "# Define Classification prediction function for linear Regression\n",
    "def predict_lir(X):\n",
    "    threshold = 0.95\n",
    "    predictions = model_lir.predict(X)\n",
    "    predictions[predictions>=threshold] = 1\n",
    "    predictions[predictions<threshold] = 0\n",
    "    return predictions"
   ]
  },
  {
   "cell_type": "code",
   "execution_count": 92,
   "metadata": {
    "pycharm": {}
   },
   "outputs": [
    {
     "data": {
      "text/plain": [
       "0.5609143431298669"
      ]
     },
     "execution_count": 92,
     "metadata": {},
     "output_type": "execute_result"
    }
   ],
   "source": [
    "# Accuracy Scores\n",
    "accuracy_score(y_train, predict_lir(X_train))"
   ]
  },
  {
   "cell_type": "code",
   "execution_count": 93,
   "metadata": {
    "pycharm": {}
   },
   "outputs": [
    {
     "data": {
      "text/plain": [
       "0.5532128514056225"
      ]
     },
     "execution_count": 93,
     "metadata": {},
     "output_type": "execute_result"
    }
   ],
   "source": [
    "# Accuracy on Test Data\n",
    "accuracy_score(y_test, predict_lir(X_test))"
   ]
  },
  {
   "cell_type": "code",
   "execution_count": 94,
   "metadata": {
    "pycharm": {}
   },
   "outputs": [
    {
     "data": {
      "text/plain": [
       "0.643779369464301"
      ]
     },
     "execution_count": 94,
     "metadata": {},
     "output_type": "execute_result"
    }
   ],
   "source": [
    "# Calculate Balanced Accuracy on Training\n",
    "balanced_accuracy_score(y_train, predict_lir(X_train))"
   ]
  },
  {
   "cell_type": "code",
   "execution_count": 95,
   "metadata": {
    "pycharm": {}
   },
   "outputs": [
    {
     "data": {
      "text/plain": [
       "0.6328733191790517"
      ]
     },
     "execution_count": 95,
     "metadata": {},
     "output_type": "execute_result"
    }
   ],
   "source": [
    "# Calculate Balanced Accuracy\n",
    "balanced_accuracy_score(y_test, predict_lir(X_test))"
   ]
  },
  {
   "cell_type": "code",
   "execution_count": 96,
   "metadata": {
    "pycharm": {}
   },
   "outputs": [
    {
     "name": "stdout",
     "output_type": "stream",
     "text": [
      "tn: 39, fp: 15\n",
      "fn: 430, tp: 512\n"
     ]
    }
   ],
   "source": [
    "# Print confusion Matrix\n",
    "print(\"tn: {}, fp: {}\\nfn: {}, tp: {}\".format(*confusion_matrix(y_test, predict_lir(X_test)).ravel()))"
   ]
  },
  {
   "cell_type": "markdown",
   "metadata": {
    "pycharm": {}
   },
   "source": [
    "Die Metriken zeigen für den Klassifikator basierend auf linearer Regression bessere Ergebnisse (Balanced Accuracy von 64%) als für den Klassifikator, der Objekte immer der häufigsten Klasse zuordnet.\n",
    "\n",
    "Die Konfusionsmatrix bestätigt, dass manche Datenobjekte auch negativ klassifiziert werden."
   ]
  },
  {
   "cell_type": "markdown",
   "metadata": {
    "pycharm": {}
   },
   "source": [
    "###### Logistische Regression "
   ]
  },
  {
   "cell_type": "markdown",
   "metadata": {},
   "source": [
    "In den folgenden Zellen wird ein Klassifikator trainiert, der auf logistischer Regression basiert. Es wird der Parameter `class_weight = balanced` mitgegeben, um die unterrepräsentierte Klasse (`unemployed`) höher zu gewichten, da es sich um einen unbalancierten Datensatz handelt."
   ]
  },
  {
   "cell_type": "code",
   "execution_count": 35,
   "metadata": {
    "pycharm": {}
   },
   "outputs": [],
   "source": [
    "# Train Logistic regression classifier with balanced class weight\n",
    "model_lr = LogisticRegression(solver='lbfgs', class_weight = 'balanced').fit(X_train, y_train['employed'])"
   ]
  },
  {
   "cell_type": "code",
   "execution_count": 36,
   "metadata": {
    "pycharm": {}
   },
   "outputs": [
    {
     "data": {
      "text/plain": [
       "0.6016076362722934"
      ]
     },
     "execution_count": 36,
     "metadata": {},
     "output_type": "execute_result"
    }
   ],
   "source": [
    "# Accuracy on Training Data\n",
    "model_lr.score(X_train, y_train)"
   ]
  },
  {
   "cell_type": "code",
   "execution_count": 37,
   "metadata": {
    "pycharm": {}
   },
   "outputs": [
    {
     "data": {
      "text/plain": [
       "0.5913654618473896"
      ]
     },
     "execution_count": 37,
     "metadata": {},
     "output_type": "execute_result"
    }
   ],
   "source": [
    "# Accuracy on Test Data\n",
    "model_lr.score(X_test, y_test)"
   ]
  },
  {
   "cell_type": "code",
   "execution_count": 38,
   "metadata": {
    "pycharm": {},
    "scrolled": true
   },
   "outputs": [
    {
     "data": {
      "text/plain": [
       "0.635586223165841"
      ]
     },
     "execution_count": 38,
     "metadata": {},
     "output_type": "execute_result"
    }
   ],
   "source": [
    "# Calculate Balanced Accuracy\n",
    "balanced_accuracy_score(y_test, model_lr.predict(X_test))"
   ]
  },
  {
   "cell_type": "code",
   "execution_count": 39,
   "metadata": {
    "pycharm": {}
   },
   "outputs": [
    {
     "name": "stdout",
     "output_type": "stream",
     "text": [
      "tn: 37, fp: 17\n",
      "fn: 390, tp: 552\n"
     ]
    }
   ],
   "source": [
    "# Print confusion Matrix\n",
    "print(\"tn: {}, fp: {}\\nfn: {}, tp: {}\".format(*confusion_matrix(y_test, model_lr.predict(X_test)).ravel().ravel()))"
   ]
  },
  {
   "cell_type": "markdown",
   "metadata": {
    "pycharm": {}
   },
   "source": [
    "Auch wenn die Accuracy bei der logistischen Regression mit `class_weight = balanced` schlechter ist, zeigt die Metrik \"Balanced Accuracy\" Ergebnisse als die beiden Baseline-Methoden.\n",
    "\n",
    "An der Konfusionsmatrix ist zu erkennen, dass dieser Klassifikator nicht alle Daten der häufigsten Klasse zuordnet."
   ]
  },
  {
   "cell_type": "markdown",
   "metadata": {
    "pycharm": {}
   },
   "source": [
    "###### Entscheidungsbaum (Decision Tree)"
   ]
  },
  {
   "cell_type": "markdown",
   "metadata": {},
   "source": [
    "Als weitere mögliche Klassifikations-Methode soll ein Entscheidungsbaum untersucht werden, bei dem ebenfalls der Parameter `class_weight = 'balanced'` gesetzt wird, da es ich um einen unbalanvierten Datensatz handelt."
   ]
  },
  {
   "cell_type": "code",
   "execution_count": 40,
   "metadata": {
    "pycharm": {}
   },
   "outputs": [],
   "source": [
    "# Train decision tree classifier with balanced class weight\n",
    "model_dt = DecisionTreeClassifier(class_weight = 'balanced').fit(X_train, y_train)"
   ]
  },
  {
   "cell_type": "code",
   "execution_count": 41,
   "metadata": {
    "pycharm": {}
   },
   "outputs": [
    {
     "data": {
      "text/plain": [
       "0.9994976136649083"
      ]
     },
     "execution_count": 41,
     "metadata": {},
     "output_type": "execute_result"
    }
   ],
   "source": [
    "# Accuracy on Training Data\n",
    "model_dt.score(X_train, y_train)"
   ]
  },
  {
   "cell_type": "code",
   "execution_count": 42,
   "metadata": {
    "pycharm": {}
   },
   "outputs": [
    {
     "data": {
      "text/plain": [
       "0.9046184738955824"
      ]
     },
     "execution_count": 42,
     "metadata": {},
     "output_type": "execute_result"
    }
   ],
   "source": [
    "# Accuracy on Test Data\n",
    "model_dt.score(X_test, y_test)"
   ]
  },
  {
   "cell_type": "code",
   "execution_count": 43,
   "metadata": {
    "pycharm": {}
   },
   "outputs": [
    {
     "data": {
      "text/plain": [
       "0.4956947393253126"
      ]
     },
     "execution_count": 43,
     "metadata": {},
     "output_type": "execute_result"
    }
   ],
   "source": [
    "# Calculate Balanced Accuracy\n",
    "balanced_accuracy_score(y_test, model_dt.predict(X_test))"
   ]
  },
  {
   "cell_type": "markdown",
   "metadata": {
    "pycharm": {}
   },
   "source": [
    "Die Metriken zeigen für den Klassifikator basierend auf einem Entscheidungsbaum, dass er zwar sehr gut gelernt hat, die Trainingsdaten zu klassifizieren, jedoch auf den Testdaten eine schlechtere Accuracy hat. Zudem ist die Balanced Accuracy auf den Testdaten sogar leicht schlechter als bei der Baseline."
   ]
  },
  {
   "cell_type": "markdown",
   "metadata": {
    "pycharm": {}
   },
   "source": [
    "## Schlussfolgerungen"
   ]
  },
  {
   "cell_type": "markdown",
   "metadata": {
    "pycharm": {}
   },
   "source": [
    "###### Haben ältere Arbeitskräfte ein höheres Risiko für Arbeitslosigkeit während der Finanzkrise 2008-2009?"
   ]
  },
  {
   "cell_type": "markdown",
   "metadata": {
    "pycharm": {}
   },
   "source": [
    "Um diese Frage zu beantworten, wird im Folgenden das beste Modell verwendet, um zu bestimmen, wie groß der Einfluss der einzelnen Merkmale auf die Zielvariable ist. Dabei handelt es sich um einen Klassifikator basierend auf \"Logistischer Regression\"."
   ]
  },
  {
   "cell_type": "markdown",
   "metadata": {
    "pycharm": {}
   },
   "source": [
    "Dieser Klassifikator trainiert Koeffizienten für die verschiedenen Merkmale. Da die Merkmale im letzten Schritt der Datenvorverarbeitung normalisiert wurden, können die trainierten Koeffizienten verwendet werden, um zu bestimmen, wie groß der Einfluss des jeweililgen Merkmals auf die Zielvariable ist. Dazu muss der absolute Wert des Koeffizienten betrachtet werden.\n",
    "\n",
    "Siehe auch: https://blog.minitab.com/blog/adventures-in-statistics-2/how-to-identify-the-most-important-predictor-variables-in-regression-models"
   ]
  },
  {
   "cell_type": "markdown",
   "metadata": {
    "pycharm": {}
   },
   "source": [
    "In der folgenden Liste sind  die Merkmale nach ihrem Einfluss auf die Zielvariable sortiert:"
   ]
  },
  {
   "cell_type": "code",
   "execution_count": 44,
   "metadata": {
    "pycharm": {}
   },
   "outputs": [
    {
     "data": {
      "text/plain": [
       "[('private', -0.9439263208995942),\n",
       " ('government', 0.7301012920667432),\n",
       " ('married', 0.6694344363294701),\n",
       " ('educ', 0.45356123856895836),\n",
       " ('female', 0.43547721755363555),\n",
       " ('race_white', 0.2437032490595812),\n",
       " ('union', -0.24172135304982126),\n",
       " ('self', 0.21382502883285437),\n",
       " ('race_black', -0.20614304976988002),\n",
       " ('age', -0.12594776826896437),\n",
       " ('earnwke', 0.08269847213372948),\n",
       " ('so_states', -0.061774686302069885),\n",
       " ('ne_states', 0.049573599178904734),\n",
       " ('ce_states', 0.03769139592661085),\n",
       " ('race_other', -0.037560199289700745),\n",
       " ('we_states', -0.02447946800989969)]"
      ]
     },
     "execution_count": 44,
     "metadata": {},
     "output_type": "execute_result"
    }
   ],
   "source": [
    "# Feature importance according to Logistic Regression Classifier\n",
    "sorted(zip(X.columns.tolist(), model_lr.coef_[0]), key=lambda x: abs(x[1]), reverse = True)"
   ]
  },
  {
   "cell_type": "markdown",
   "metadata": {
    "pycharm": {}
   },
   "source": [
    "Laut dieser Liste hat das Merkmal `age`  auf die Arbeitslosigkeit nur den zehnt-größten Einfluss von insgesamt 16 Variablen. Dessen Koeffizient hat einen Betrag von `0.13`, während der Betrag des größten Koeffizients (`private`) `0.94` ist."
   ]
  },
  {
   "cell_type": "markdown",
   "metadata": {
    "pycharm": {}
   },
   "source": [
    "Die Frage, ob ältere Arbeitskräfte ein höheres Risiko für Arbeitslosigkeit haben, ist daher mit \"Nein\" zu beantworten."
   ]
  }
 ],
 "metadata": {
  "kernelspec": {
   "display_name": "Python 3",
   "language": "python",
   "name": "python3"
  },
  "language_info": {
   "codemirror_mode": {
    "name": "ipython",
    "version": 3
   },
   "file_extension": ".py",
   "mimetype": "text/x-python",
   "name": "python",
   "nbconvert_exporter": "python",
   "pygments_lexer": "ipython3",
   "version": "3.7.3"
  },
  "toc": {
   "base_numbering": 1,
   "nav_menu": {},
   "number_sections": true,
   "sideBar": true,
   "skip_h1_title": false,
   "title_cell": "Table of Contents",
   "title_sidebar": "Contents",
   "toc_cell": false,
   "toc_position": {},
   "toc_section_display": true,
   "toc_window_display": false
  }
 },
 "nbformat": 4,
 "nbformat_minor": 2
}
