{
 "cells": [
  {
   "cell_type": "markdown",
   "metadata": {
    "pycharm": {}
   },
   "source": [
    "# Exercise 3 – Interpretation von Modellen"
   ]
  },
  {
   "cell_type": "markdown",
   "metadata": {
    "pycharm": {}
   },
   "source": [
    "### a) Der Datensatz `employment_08_09.xlsx` beinhaltet die sozioökonomischen Daten der Arbeitskräfte in den USA im April 2008 und Angaben, ob sie im April 2009 weiterhin angestellt sind. Alle Befragten waren im April 2008 angestellt. Sagen Sie basierend auf den 2008er Informationen vorher, welche Arbeitskraft 2009 arbeitslos wird. Haben ältere Arbeitskräfte ein höheres Risiko für Arbeitslosigkeit während der Finanzkrise 2008-2009?"
   ]
  },
  {
   "cell_type": "markdown",
   "metadata": {
    "pycharm": {}
   },
   "source": [
    "###### Einlesen des Datensatzes"
   ]
  },
  {
   "cell_type": "code",
   "execution_count": 24,
   "metadata": {
    "pycharm": {}
   },
   "outputs": [],
   "source": [
    "import pandas as pd\n",
    "\n",
    "# load dataset\n",
    "data = pd.read_excel('./data/employment_08_09.xlsx')"
   ]
  },
  {
   "cell_type": "markdown",
   "metadata": {},
   "source": [
    "These data file contains data on 5412 workers who were survey in the April 2008 Current Population Survey and reported that they were employed. The data file contains their employment status in April 2009, one year later, along with some additional variables."
   ]
  },
  {
   "cell_type": "code",
   "execution_count": 94,
   "metadata": {},
   "outputs": [
    {
     "data": {
      "text/plain": [
       "(5412, 21)"
      ]
     },
     "execution_count": 94,
     "metadata": {},
     "output_type": "execute_result"
    }
   ],
   "source": [
    "data.shape"
   ]
  },
  {
   "cell_type": "code",
   "execution_count": 146,
   "metadata": {},
   "outputs": [
    {
     "data": {
      "text/html": [
       "<div>\n",
       "<style scoped>\n",
       "    .dataframe tbody tr th:only-of-type {\n",
       "        vertical-align: middle;\n",
       "    }\n",
       "\n",
       "    .dataframe tbody tr th {\n",
       "        vertical-align: top;\n",
       "    }\n",
       "\n",
       "    .dataframe thead th {\n",
       "        text-align: right;\n",
       "    }\n",
       "</style>\n",
       "<table border=\"1\" class=\"dataframe\">\n",
       "  <thead>\n",
       "    <tr style=\"text-align: right;\">\n",
       "      <th></th>\n",
       "      <th>age</th>\n",
       "      <th>race</th>\n",
       "      <th>earnwke</th>\n",
       "      <th>employed</th>\n",
       "      <th>unemployed</th>\n",
       "      <th>married</th>\n",
       "      <th>union</th>\n",
       "      <th>ne_states</th>\n",
       "      <th>so_states</th>\n",
       "      <th>ce_states</th>\n",
       "      <th>...</th>\n",
       "      <th>government</th>\n",
       "      <th>private</th>\n",
       "      <th>self</th>\n",
       "      <th>educ_lths</th>\n",
       "      <th>educ_hs</th>\n",
       "      <th>educ_somecol</th>\n",
       "      <th>educ_aa</th>\n",
       "      <th>educ_bac</th>\n",
       "      <th>educ_adv</th>\n",
       "      <th>female</th>\n",
       "    </tr>\n",
       "  </thead>\n",
       "  <tbody>\n",
       "    <tr>\n",
       "      <th>0</th>\n",
       "      <td>53</td>\n",
       "      <td>1</td>\n",
       "      <td>NaN</td>\n",
       "      <td>1</td>\n",
       "      <td>0</td>\n",
       "      <td>1</td>\n",
       "      <td>0</td>\n",
       "      <td>0</td>\n",
       "      <td>0</td>\n",
       "      <td>1</td>\n",
       "      <td>...</td>\n",
       "      <td>0</td>\n",
       "      <td>0</td>\n",
       "      <td>1</td>\n",
       "      <td>0</td>\n",
       "      <td>0</td>\n",
       "      <td>1</td>\n",
       "      <td>0</td>\n",
       "      <td>0</td>\n",
       "      <td>0</td>\n",
       "      <td>0</td>\n",
       "    </tr>\n",
       "    <tr>\n",
       "      <th>1</th>\n",
       "      <td>39</td>\n",
       "      <td>1</td>\n",
       "      <td>NaN</td>\n",
       "      <td>1</td>\n",
       "      <td>0</td>\n",
       "      <td>1</td>\n",
       "      <td>0</td>\n",
       "      <td>0</td>\n",
       "      <td>0</td>\n",
       "      <td>1</td>\n",
       "      <td>...</td>\n",
       "      <td>0</td>\n",
       "      <td>0</td>\n",
       "      <td>1</td>\n",
       "      <td>0</td>\n",
       "      <td>0</td>\n",
       "      <td>0</td>\n",
       "      <td>0</td>\n",
       "      <td>1</td>\n",
       "      <td>0</td>\n",
       "      <td>1</td>\n",
       "    </tr>\n",
       "    <tr>\n",
       "      <th>2</th>\n",
       "      <td>41</td>\n",
       "      <td>1</td>\n",
       "      <td>500.0</td>\n",
       "      <td>1</td>\n",
       "      <td>0</td>\n",
       "      <td>1</td>\n",
       "      <td>0</td>\n",
       "      <td>0</td>\n",
       "      <td>1</td>\n",
       "      <td>0</td>\n",
       "      <td>...</td>\n",
       "      <td>0</td>\n",
       "      <td>1</td>\n",
       "      <td>0</td>\n",
       "      <td>0</td>\n",
       "      <td>0</td>\n",
       "      <td>1</td>\n",
       "      <td>0</td>\n",
       "      <td>0</td>\n",
       "      <td>0</td>\n",
       "      <td>1</td>\n",
       "    </tr>\n",
       "    <tr>\n",
       "      <th>3</th>\n",
       "      <td>27</td>\n",
       "      <td>1</td>\n",
       "      <td>520.0</td>\n",
       "      <td>1</td>\n",
       "      <td>0</td>\n",
       "      <td>1</td>\n",
       "      <td>0</td>\n",
       "      <td>0</td>\n",
       "      <td>1</td>\n",
       "      <td>0</td>\n",
       "      <td>...</td>\n",
       "      <td>0</td>\n",
       "      <td>1</td>\n",
       "      <td>0</td>\n",
       "      <td>1</td>\n",
       "      <td>0</td>\n",
       "      <td>0</td>\n",
       "      <td>0</td>\n",
       "      <td>0</td>\n",
       "      <td>0</td>\n",
       "      <td>0</td>\n",
       "    </tr>\n",
       "    <tr>\n",
       "      <th>4</th>\n",
       "      <td>29</td>\n",
       "      <td>3</td>\n",
       "      <td>615.0</td>\n",
       "      <td>1</td>\n",
       "      <td>0</td>\n",
       "      <td>0</td>\n",
       "      <td>0</td>\n",
       "      <td>0</td>\n",
       "      <td>1</td>\n",
       "      <td>0</td>\n",
       "      <td>...</td>\n",
       "      <td>1</td>\n",
       "      <td>0</td>\n",
       "      <td>0</td>\n",
       "      <td>0</td>\n",
       "      <td>0</td>\n",
       "      <td>0</td>\n",
       "      <td>0</td>\n",
       "      <td>0</td>\n",
       "      <td>1</td>\n",
       "      <td>0</td>\n",
       "    </tr>\n",
       "  </tbody>\n",
       "</table>\n",
       "<p>5 rows × 21 columns</p>\n",
       "</div>"
      ],
      "text/plain": [
       "   age  race  earnwke  employed  unemployed  married  union  ne_states  \\\n",
       "0   53     1      NaN         1           0        1      0          0   \n",
       "1   39     1      NaN         1           0        1      0          0   \n",
       "2   41     1    500.0         1           0        1      0          0   \n",
       "3   27     1    520.0         1           0        1      0          0   \n",
       "4   29     3    615.0         1           0        0      0          0   \n",
       "\n",
       "   so_states  ce_states  ...  government  private  self  educ_lths  educ_hs  \\\n",
       "0          0          1  ...           0        0     1          0        0   \n",
       "1          0          1  ...           0        0     1          0        0   \n",
       "2          1          0  ...           0        1     0          0        0   \n",
       "3          1          0  ...           0        1     0          1        0   \n",
       "4          1          0  ...           1        0     0          0        0   \n",
       "\n",
       "   educ_somecol  educ_aa  educ_bac  educ_adv  female  \n",
       "0             1        0         0         0       0  \n",
       "1             0        0         1         0       1  \n",
       "2             1        0         0         0       1  \n",
       "3             0        0         0         0       0  \n",
       "4             0        0         0         1       0  \n",
       "\n",
       "[5 rows x 21 columns]"
      ]
     },
     "execution_count": 146,
     "metadata": {},
     "output_type": "execute_result"
    }
   ],
   "source": [
    "data.head()"
   ]
  },
  {
   "cell_type": "markdown",
   "metadata": {
    "pycharm": {}
   },
   "source": [
    "####  Untersuchen Sie die Art der Variablen und die Verteilung der Zielvariablen."
   ]
  },
  {
   "cell_type": "markdown",
   "metadata": {},
   "source": [
    "###### Art der Variablen"
   ]
  },
  {
   "cell_type": "markdown",
   "metadata": {},
   "source": [
    "- `employed`: Im Jahr 2009 noch angestellt, Integer-Indikator\n",
    "- `unemployed`: Im Jahr 2009 nicht mehr angestellt, Integer-Indikator\n",
    "\n",
    "\n",
    "- `age`: Alter, Integer (kontinuierlich)\n",
    "\n",
    "\n",
    "- `female`: Geschlecht (weiblich=1), Integer-Indikator\n",
    "\n",
    "\n",
    "- `married`: Verheiratet (ja=1), Integer-Indikator\n",
    "\n",
    "\n",
    "- `race`: Rasse (weiß=1, schwarz=2, andere=3), Integer-Indikator\n",
    "\n",
    "\n",
    "- `union`: Gewerkschaftsmitglied (ja=1), Integer-Indikator\n",
    "\n",
    "\n",
    "- `ne_states`: Von Nordost-Staat (ja=1), Integer-Indikator\n",
    "- `so_states`: Von Südstaat (ja=1), Integer-Indikator\n",
    "- `ce_states`: Von zentralem Staat (ja=1), Integer-Indikator\n",
    "- `we_states`: Von westlichem Staat (ja=1), Iteger-Indikator\n",
    "\n",
    "\n",
    "- `private`: Angestellt in privatem Betrieb (ja=1), Integer-Indikator\n",
    "- `government`: Angestellt von der Regierung, (ja=1), Integer-Indikator\n",
    "- `self`: Selbstständig (ja=1)\n",
    "\n",
    "\n",
    "- `educ_lths`: Höschster Abschluss niedriger als High-School (ja=1), Integer-Indikator\n",
    "- `educ_hs`: Höchster Abschluss ist High-School (ja=1), Integer-Indikator\n",
    "- `educ_somecol`: Höchster Abschluss ist College (ja=1), Integer-Indikator\n",
    "- `educ_aa`: Höchster Abschluss ist AA (ja=1), Integer-Indikator\n",
    "- `educ_ba`: Höchster Abschluss ist BA oder BS (ja=1), Integer-Indikator\n",
    "- `educ_adv`: Höchster Abschluss fortgeschritten (ja=1), Integer-Indikator\n",
    "\n",
    "\n",
    "- `earnwke`: Durschnittliches wöchentliches Einkommen, Float (kontinuierlich)"
   ]
  },
  {
   "cell_type": "markdown",
   "metadata": {},
   "source": [
    "**Erkenntnisse**:\n",
    "- Manche Variablen sind numerisch-kontinuierlich (Alter, Einkommen)\n",
    "- Manche Kategorie-Variablen sind one-hot enkodiert (Angestellt 2009, Staat, Angestelltenverhältnis, Abschluss)\n",
    "- Andere Kategorie-Variablen sind Integer-enkodiert (Geschlecht, Verheiratet, Rasse, Gewerkschaftsmitglied)\n",
    "\n",
    "--> Letztere sollten auch one-hot enkodiert werden"
   ]
  },
  {
   "cell_type": "markdown",
   "metadata": {},
   "source": [
    "**Überprüfen, ob Staaten one-hot enkodiert sind:**"
   ]
  },
  {
   "cell_type": "code",
   "execution_count": 138,
   "metadata": {},
   "outputs": [
    {
     "data": {
      "text/plain": [
       "5412"
      ]
     },
     "execution_count": 138,
     "metadata": {},
     "output_type": "execute_result"
    }
   ],
   "source": [
    "# Number of objects where at least one state field is == 1 (should be 5412)\n",
    "(data[data['ne_states']==1].count() + data[data['so_states']==1].count() + data[data['ce_states']==1].count() + data[data['we_states']==1].count())[0]"
   ]
  },
  {
   "cell_type": "code",
   "execution_count": 139,
   "metadata": {},
   "outputs": [
    {
     "data": {
      "text/plain": [
       "0"
      ]
     },
     "execution_count": 139,
     "metadata": {},
     "output_type": "execute_result"
    }
   ],
   "source": [
    "# Number of objects where every state field is == 0 (should be 0)\n",
    "data[(data['ne_states']==0) & (data['so_states']==0) & (data['ce_states']==0) & (data['we_states']==0)].count()[0]"
   ]
  },
  {
   "cell_type": "markdown",
   "metadata": {},
   "source": [
    "###### Verteilung der Zielvariable"
   ]
  },
  {
   "cell_type": "code",
   "execution_count": 183,
   "metadata": {},
   "outputs": [
    {
     "data": {
      "text/plain": [
       "0"
      ]
     },
     "execution_count": 183,
     "metadata": {},
     "output_type": "execute_result"
    }
   ],
   "source": [
    "# Number of objects with contradiction (employed and unemployed)\n",
    "data[(data['employed']==1) & (data['unemployed']==1)].count()[0]"
   ]
  },
  {
   "cell_type": "code",
   "execution_count": 184,
   "metadata": {},
   "outputs": [
    {
     "data": {
      "text/plain": [
       "435"
      ]
     },
     "execution_count": 184,
     "metadata": {},
     "output_type": "execute_result"
    }
   ],
   "source": [
    "# Number of objects with no information (not employed and not unemployed)\n",
    "data[(data['employed']==0) & (data['unemployed']==0)].count()[0]"
   ]
  },
  {
   "cell_type": "code",
   "execution_count": 185,
   "metadata": {},
   "outputs": [],
   "source": [
    "# Preparing values for the barplot\n",
    "employed = data[data['employed']==1].count()[0]\n",
    "unemployed = data[data['unemployed']==1].count()[0]\n",
    "no_information = data[(data['employed']==0) & (data['unemployed']==0)].count()[0]"
   ]
  },
  {
   "cell_type": "code",
   "execution_count": 192,
   "metadata": {},
   "outputs": [
    {
     "data": {
      "image/png": "[encoded data removed]",
      "text/plain": [
       "<Figure size 432x288 with 1 Axes>"
      ]
     },
     "metadata": {},
     "output_type": "display_data"
    }
   ],
   "source": [
    "# Instanciating a new dataframe to have a nice barplot with descriptions\n",
    "plot_data = pd.DataFrame({'Employment Status 2009': ['employed', 'unemployed', 'no_information'], 'Employees': [employed, unemployed, no_information]})\n",
    "# Drawing the barplot\n",
    "ax = sns.barplot(x='Employment Status 2009', y='Employees', data=plot_data, ci=None)\n",
    "\n",
    "# Alternative (without descriptions)\n",
    "# ax = sns.barplot(data=[[employed], [unemployed], [no_information]], ci=None)"
   ]
  },
  {
   "cell_type": "markdown",
   "metadata": {},
   "source": [
    "**Erkenntnis:**\n",
    "\n",
    "Datenobjekte ohne Beschäftigungsinformation 2009 können zum Trainieren / Testen nicht verwendet werden und sollten deshalb bei der Datenvorverarbeitung entfernt werden."
   ]
  },
  {
   "cell_type": "markdown",
   "metadata": {},
   "source": [
    "###### Datenvorverarbeitung"
   ]
  },
  {
   "cell_type": "markdown",
   "metadata": {},
   "source": [
    "1. Entfernen der Datenobjekte ohne Beschäftigungsinformation 2009"
   ]
  },
  {
   "cell_type": "code",
   "execution_count": 196,
   "metadata": {},
   "outputs": [],
   "source": [
    "# Set rows with no information about Employment Status 2009 no NaN\n",
    "data_cleaned = data.where(cond=(data['employed']==1) | (data['unemployed']==1))\n",
    "\n",
    "# Removing those rows from the dataframe\n",
    "data_cleaned = data_cleaned.dropna(how='all')"
   ]
  },
  {
   "cell_type": "code",
   "execution_count": 198,
   "metadata": {},
   "outputs": [
    {
     "data": {
      "text/plain": [
       "(4977, 21)"
      ]
     },
     "execution_count": 198,
     "metadata": {},
     "output_type": "execute_result"
    }
   ],
   "source": [
    "# New size of the dataframe\n",
    "data_cleaned.shape"
   ]
  },
  {
   "cell_type": "markdown",
   "metadata": {},
   "source": [
    "2. Trennen der unabhängigen Daten (`X`) von den abhängigen Daten (Zielvariable `y`)"
   ]
  },
  {
   "cell_type": "code",
   "execution_count": 219,
   "metadata": {},
   "outputs": [],
   "source": [
    "X_df = data_cleaned.drop(['employed', 'unemployed'], axis=1)\n",
    "X = X_df.values"
   ]
  },
  {
   "cell_type": "code",
   "execution_count": 222,
   "metadata": {},
   "outputs": [
    {
     "data": {
      "text/plain": [
       "Index(['age', 'race', 'earnwke', 'married', 'union', 'ne_states', 'so_states',\n",
       "       'ce_states', 'we_states', 'government', 'private', 'self', 'educ_lths',\n",
       "       'educ_hs', 'educ_somecol', 'educ_aa', 'educ_bac', 'educ_adv', 'female'],\n",
       "      dtype='object')"
      ]
     },
     "execution_count": 222,
     "metadata": {},
     "output_type": "execute_result"
    }
   ],
   "source": [
    "X_df.columns"
   ]
  },
  {
   "cell_type": "code",
   "execution_count": 224,
   "metadata": {},
   "outputs": [],
   "source": [
    "y_df = data_cleaned[['employed', 'unemployed']]\n",
    "y = y_df.values"
   ]
  },
  {
   "cell_type": "markdown",
   "metadata": {},
   "source": [
    "3. One-Hot Enkodierung"
   ]
  },
  {
   "cell_type": "code",
   "execution_count": 200,
   "metadata": {},
   "outputs": [],
   "source": [
    "# Import OneHotEncoder from sklearn\n",
    "from sklearn.preprocessing import OneHotEncoder"
   ]
  },
  {
   "cell_type": "code",
   "execution_count": null,
   "metadata": {},
   "outputs": [],
   "source": [
    "onehotencoder = OneHotEncoder(categorical_features = [0])"
   ]
  }
 ],
 "metadata": {
  "kernelspec": {
   "display_name": "Python 3",
   "language": "python",
   "name": "python3"
  },
  "language_info": {
   "codemirror_mode": {
    "name": "ipython",
    "version": 3
   },
   "file_extension": ".py",
   "mimetype": "text/x-python",
   "name": "python",
   "nbconvert_exporter": "python",
   "pygments_lexer": "ipython3",
   "version": "3.7.3"
  },
  "toc": {
   "base_numbering": 1,
   "nav_menu": {},
   "number_sections": true,
   "sideBar": true,
   "skip_h1_title": false,
   "title_cell": "Table of Contents",
   "title_sidebar": "Contents",
   "toc_cell": false,
   "toc_position": {},
   "toc_section_display": true,
   "toc_window_display": false
  }
 },
 "nbformat": 4,
 "nbformat_minor": 2
}
