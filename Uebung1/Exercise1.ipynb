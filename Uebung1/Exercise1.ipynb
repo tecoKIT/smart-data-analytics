{
 "cells": [
  {
   "cell_type": "markdown",
   "metadata": {},
   "source": [
    "# Aufgabe 1: Vergleichbarkeit und Reproduzierbarkeit"
   ]
  },
  {
   "cell_type": "markdown",
   "metadata": {},
   "source": [
    "In dieser Aufgabe sollen die vier folgenden Fragen beantwortet werden. "
   ]
  },
  {
   "cell_type": "markdown",
   "metadata": {},
   "source": [
    "## a) Warum vergleicht man die Algorithmen, Modelle, Performance-Metriken usw.?"
   ]
  },
  {
   "cell_type": "markdown",
   "metadata": {},
   "source": [
    "In _Smart Data Analytics_ führt man diese Vergleiche für die wissenschaftliche Informationsgewinnung aus Daten durch. Anschließend ist es möglich, aus diesen gewonnenen Informationen Schlussfolgerungen zu ziehen, mithilfe derer Fragestellungen gelöst und bestmögliche Entscheidunghilfen gegeben werden können.\n",
    "\n",
    "Dabei ist zu beachten, dass verschiedene Metriken unterschiedliche Aspekte abdecken. Sie sollten deshalb abhängig von der jeweiligen Fragestellung bzw. des Ziels der Analyse und der verfügbaren Daten gewählt werden.\n",
    "\n",
    "Ebenfalls ist die Auswahl von geeigneten Algorithmen domänenabhängig. Nach der Algorithmenauswahl müssen diese anhand der ausgewählten Metriken verglichen werden."
   ]
  },
  {
   "cell_type": "markdown",
   "metadata": {},
   "source": [
    "## b) Was versteht man unter Reproduzierbarkeit bezüglich Datenanalytik?"
   ]
  },
  {
   "cell_type": "markdown",
   "metadata": {},
   "source": [
    "In der Datenanalytik versteht man unter Reproduzierbarkeit, dass eine veröffentlichte Analyse-Pipeline für alle Nutzer exakt die gleichen Ergebnisse liefert wie für den Wissenschaftler, der die Pipeline erstellt hat. Das hat den Vorteil, dass einen Konsens über die aus den Daten abzuleitenden Schlussfolgerungen erreicht werden kann. \n",
    "\n",
    "Dass Reproduzierbarkeit nicht leicht zu erreichen ist, zeigt die aktuelle sogenannte [\"Replication Crisis\"](https://en.wikipedia.org/wiki/Replication_crisis). Aus diesem Grund ist es besoners wichtig, auf in der Datenanalytik auf Reproduzierbarkeit zu achten."
   ]
  },
  {
   "cell_type": "markdown",
   "metadata": {},
   "source": [
    "## c) Was muss man beachten, damit die Ergebnisse vergleichbar und reproduzierbar sind?"
   ]
  },
  {
   "cell_type": "markdown",
   "metadata": {},
   "source": [
    "Für die Vergleichbarkeit und Reproduzierbarkeit von Ergebnissen sind folgende Punkte zu beachten:\n",
    "\n",
    "- **Verfügbarkeit von Daten und Metadaten**  \n",
    "Daten und Metadaten sollten in allen Fällen verfügbar sein. Andernfalls gibt es keine Möglichkeit, die Analyse zu reporduzieren.\n",
    "\n",
    "\n",
    "- **Transparenz von Code und Abhängigkeiten**  \n",
    "Es sollte vollkommene Transparenz bezüglich des gesamten Programmcodes und aller Abhängigkeiten herrschen. Dazu zählt auch die Zugänglichkeit der Abhängigkeiten und die Angabe der zu verwendenden Versionen.\n",
    "\n",
    "\n",
    "- **Einfache Installierbarkeit**  \n",
    "Im Idealfall sollte die Analyse nach einem einfachen Installationsschritt sofort ausgeführt werden können, welcher automatisch alle Abhängigkeiten installiert.\n",
    "\n",
    "\n",
    "- **Reproduzierbarkeit der Laufzeitumgebung**  \n",
    "Dieser Punkt bedeutet, dass die installierte Software sich auf jedem Rechner gleich verhalten sollte, was aufgrund mehrerer verfügbarer Architekturen oft nicht leicht zu erreichen ist."
   ]
  },
  {
   "cell_type": "markdown",
   "metadata": {},
   "source": [
    "- **_Random Seed_ bei stochastischen Prozessen**  \n",
    "Selbst wenn alle vorhergehenden Punkte erfüllt sind, kann es trotzdem noch sein, dass der gleiche Programmcode unterschiedliche Ergebnisse liefert. Das ist möglich, wenn stochastische Prozesse eine Rolle spielen, wie beispielsweise beim zufälligen Teilen eines Datensatzes in Trainings- und Testdaten. In diesem Fall sollte – wenn möglich ein sogenannter _random seed_ gesetzt werden. Wenn das nicht geht, können die Ergebnisse unter keinen umständen exakt reproduzierbar sein."
   ]
  },
  {
   "cell_type": "markdown",
   "metadata": {},
   "source": [
    "Es ist darauf zu achten, dass bei der Veröffentlichung einer Analyse-Pipeline alle Punkte berücksichtigt werden und deren Resultat veröffentlich wird."
   ]
  },
  {
   "cell_type": "markdown",
   "metadata": {},
   "source": [
    "## d) Geben Sie die `requirement.txt` Datei für Python und den Ausdruck der Sitzungsinformation von R (`sessionInfo()`) mit Ihrer Lösung zum Übungsblatt 1 ab.\n"
   ]
  },
  {
   "cell_type": "markdown",
   "metadata": {},
   "source": [
    "Für Python wurde die Datei `requirements.txt` zur Verfügung gestellt: [Link](./requirements.txt)  \n",
    "Der Ausdruck der Sitzungsinformationen `sessionInfo()` von R ist hier zu finden: [Link](./sessionInfo.txt)"
   ]
  },
  {
   "cell_type": "markdown",
   "metadata": {},
   "source": [
    "## Quellen"
   ]
  },
  {
   "cell_type": "markdown",
   "metadata": {},
   "source": [
    "- _Wikipedia_ – Data Analysis [Link](https://en.wikipedia.org/wiki/Data_analysis)\n",
    "- Akalin, Altuna – Scientific Data Analysis Pipelines and Reproducibility, 2018 [Link]( https://towardsdatascience.com/scientific-data-analysis-pipelines-and-reproducibility-75ff9df5b4c5)"
   ]
  }
 ],
 "metadata": {
  "kernelspec": {
   "display_name": "Python 3",
   "language": "python",
   "name": "python3"
  },
  "language_info": {
   "codemirror_mode": {
    "name": "ipython",
    "version": 3
   },
   "file_extension": ".py",
   "mimetype": "text/x-python",
   "name": "python",
   "nbconvert_exporter": "python",
   "pygments_lexer": "ipython3",
   "version": "3.7.3"
  },
  "toc": {
   "base_numbering": 1,
   "nav_menu": {},
   "number_sections": true,
   "sideBar": true,
   "skip_h1_title": false,
   "title_cell": "Table of Contents",
   "title_sidebar": "Contents",
   "toc_cell": false,
   "toc_position": {},
   "toc_section_display": true,
   "toc_window_display": false
  }
 },
 "nbformat": 4,
 "nbformat_minor": 2
}
