{
 "cells": [
  {
   "cell_type": "markdown",
   "metadata": {},
   "source": [
    "# Aufgabe 1: Einleitung"
   ]
  },
  {
   "cell_type": "markdown",
   "metadata": {},
   "source": [
    "Die SDIL-Platform ist die leistungsstarke in-memory Computing-Infrastruktur des SDIL, die vom Steinbruch Centre for Computing (SCC) betrieben wird und Software und Hardware auf dem neusten Stand der Technik bietet. Sie bietet eine vielfältige Auswahl an Big Data und in-memory Technologien auf den Platformen von SAP HANA, Software AG Terracotta, Huawei FusionInsight und der IBM Open Platform."
   ]
  },
  {
   "cell_type": "markdown",
   "metadata": {},
   "source": [
    "Aufgabenstellung:\n",
    "\n",
    "- Lesen Sie das Kapitel 10.1 (S. 73) der [SDIL Documentation](http://www.sdil.de/sdil-platform-documentation.pdf) und erstellen Sie die Anaconda Umgebung für Ihr Projekt.  \n",
    "--> Wir haben wie beschrieben eine Anaconda-Umgebung erstellt.\n",
    "  \n",
    "- Lesen Sie das Kapitel 4.2 (S. 22) des [SDIL Tutorials](http://www.sdil.de/sdil-platform-tutorials.pdf).  \n",
    "  --> Im Folgenden werden die einzelnen Schritte des Tutorials durchgeführt und kommentiert."
   ]
  },
  {
   "cell_type": "markdown",
   "metadata": {},
   "source": [
    "## 4.2 Einführung in den Datensatz"
   ]
  },
  {
   "cell_type": "markdown",
   "metadata": {},
   "source": [
    "In dem Tutorial geht es um den bekannten \"Iris Flower Dataset\" (deutsch: Schwertlilien-Datensatz), der das Aussehen der Blumen beschreibt und sie in verschiedene Arten einteilt. \n",
    "\n",
    "Das Aussehen wird mithilfe der Länge und Breite (gemessen in cm) der Kelchblätter (_sepal_) und Kronblätter (_petal_) beschrieben.  \n",
    "Die Lilien-Arten sind _setosa_, _versicolor_ und _virginica_."
   ]
  },
  {
   "cell_type": "markdown",
   "metadata": {},
   "source": [
    "Die Folgenden Code-Snippets basieren auf dem [SDIL-Iris-Tutorial](https://git.sdil.kit.edu/sdil-tutorials/iris_tutorial/blob/master/iris_tutorial.ipynb)."
   ]
  },
  {
   "cell_type": "markdown",
   "metadata": {},
   "source": [
    "## 4.2.1 Starten des Jupyter-Notebooks"
   ]
  },
  {
   "cell_type": "markdown",
   "metadata": {},
   "source": [
    "Folgende Schritte wurden erfolgreich durchgeführt:\n",
    "\n",
    "- Einloggen\n",
    "- Erstellen der Python-Umgebung\n",
    "- Erstellen dieses Notebooks\n",
    "\n",
    "Um die Dateistruktur des Repositories einheitlich zu halten, wurde das Notebook nicht in `iris_tutorial.ipynb` umbenannt.\n",
    "\n",
    "Weiterhin wurde vor der Erstellung des Notebooks das GitHub-Repository der Praktikumsgruppe geklont, um eine Versionsverwaltung zu haben.\n",
    "\n",
    "Zusatz: Um nicht jedes Mal eine Remote-Desktop Verbindung zu SDIL aufbauen zu müssen, wurde mit dem folgenden Befehl eine Möglichkeit gefunden, die Website unter `notebooks.sdil.kit.edu:8000`, die normalerweise nur innerhalb des Remote-Desktops zur Verfügung steht, auch im lokalen Browser unter `localhost:8080` zugänglich zu machen:\n",
    "\n",
    "    ssh -L localhost:8080:notebooks.sdil.kit.edu:8000 <user>@login-l.sdil.kit.edu"
   ]
  },
  {
   "cell_type": "markdown",
   "metadata": {},
   "source": [
    "###### Laden der Bibliotheken"
   ]
  },
  {
   "cell_type": "markdown",
   "metadata": {},
   "source": [
    "Zunächst werden im Tutorial die benötigten Bibliotheken geladen."
   ]
  },
  {
   "cell_type": "code",
   "execution_count": 1,
   "metadata": {},
   "outputs": [],
   "source": [
    "# Load libraries\n",
    "import pandas\n",
    "# from pandas.tools.plotting import scatter_matrix\n",
    "from pandas.plotting import scatter_matrix # scatter_matrix was moved\n",
    "import matplotlib.pyplot as plt\n",
    "# from sklearn import cross_validation\n",
    "from sklearn.model_selection import cross_validate # moved\n",
    "from sklearn.metrics import classification_report\n",
    "from sklearn.metrics import confusion_matrix\n",
    "from sklearn.metrics import accuracy_score\n",
    "from sklearn.linear_model import LogisticRegression\n",
    "from sklearn.tree import DecisionTreeClassifier\n",
    "from sklearn.neighbors import KNeighborsClassifier\n",
    "from sklearn.discriminant_analysis import LinearDiscriminantAnalysis\n",
    "from sklearn.naive_bayes import GaussianNB\n",
    "from sklearn.svm import SVC\n",
    "\n",
    "# additionally load seaborn (not in the tutorial)\n",
    "import seaborn as sns\n",
    "from sklearn.model_selection import train_test_split\n",
    "from sklearn.model_selection import cross_val_score\n",
    "from scipy import stats"
   ]
  },
  {
   "cell_type": "markdown",
   "metadata": {},
   "source": [
    "## 4.2.2 Laden der Daten"
   ]
  },
  {
   "cell_type": "markdown",
   "metadata": {},
   "source": [
    "Laden der Daten mithilfe von `pandas` unter Angabe der Spaltennamen."
   ]
  },
  {
   "cell_type": "code",
   "execution_count": 2,
   "metadata": {},
   "outputs": [],
   "source": [
    "# Load dataset\n",
    "url = \"https://archive.ics.uci.edu/ml/machine-learning-databases/iris/iris.data\"\n",
    "names = ['sepal-length', 'sepal-width', 'petal-length', 'petal-width', 'class']\n",
    "dataset = pandas.read_csv(url, names=names)"
   ]
  },
  {
   "cell_type": "markdown",
   "metadata": {},
   "source": [
    "## Daten-Exploration"
   ]
  },
  {
   "cell_type": "markdown",
   "metadata": {},
   "source": [
    "Ansehen der Struktur der Daten und der erste Zeilen des Datensatzes."
   ]
  },
  {
   "cell_type": "code",
   "execution_count": 3,
   "metadata": {},
   "outputs": [
    {
     "name": "stdout",
     "output_type": "stream",
     "text": [
      "(150, 5)\n"
     ]
    }
   ],
   "source": [
    "# shape\n",
    "print(dataset.shape)"
   ]
  },
  {
   "cell_type": "code",
   "execution_count": 4,
   "metadata": {
    "scrolled": false
   },
   "outputs": [
    {
     "name": "stdout",
     "output_type": "stream",
     "text": [
      "    sepal-length  sepal-width  petal-length  petal-width        class\n",
      "0            5.1          3.5           1.4          0.2  Iris-setosa\n",
      "1            4.9          3.0           1.4          0.2  Iris-setosa\n",
      "2            4.7          3.2           1.3          0.2  Iris-setosa\n",
      "3            4.6          3.1           1.5          0.2  Iris-setosa\n",
      "4            5.0          3.6           1.4          0.2  Iris-setosa\n",
      "5            5.4          3.9           1.7          0.4  Iris-setosa\n",
      "6            4.6          3.4           1.4          0.3  Iris-setosa\n",
      "7            5.0          3.4           1.5          0.2  Iris-setosa\n",
      "8            4.4          2.9           1.4          0.2  Iris-setosa\n",
      "9            4.9          3.1           1.5          0.1  Iris-setosa\n",
      "10           5.4          3.7           1.5          0.2  Iris-setosa\n",
      "11           4.8          3.4           1.6          0.2  Iris-setosa\n",
      "12           4.8          3.0           1.4          0.1  Iris-setosa\n",
      "13           4.3          3.0           1.1          0.1  Iris-setosa\n",
      "14           5.8          4.0           1.2          0.2  Iris-setosa\n",
      "15           5.7          4.4           1.5          0.4  Iris-setosa\n",
      "16           5.4          3.9           1.3          0.4  Iris-setosa\n",
      "17           5.1          3.5           1.4          0.3  Iris-setosa\n",
      "18           5.7          3.8           1.7          0.3  Iris-setosa\n",
      "19           5.1          3.8           1.5          0.3  Iris-setosa\n"
     ]
    }
   ],
   "source": [
    "# head\n",
    "print(dataset.head(20))"
   ]
  },
  {
   "cell_type": "markdown",
   "metadata": {},
   "source": [
    "## 4.2.4 Daten-Visualisierung"
   ]
  },
  {
   "cell_type": "markdown",
   "metadata": {},
   "source": [
    "Nutzung von Box-Whisker-Plots, Histogrammen und Scatter-Plots für jedes Merkmal zur Datenvisualisierung.\n",
    "Um die Diagramme größer darzustellen, wurde eine benutzerdefinierte Größe festgelegt."
   ]
  },
  {
   "cell_type": "code",
   "execution_count": 5,
   "metadata": {},
   "outputs": [],
   "source": [
    "# Set custom figure Size\n",
    "plt.rcParams['figure.figsize'] = [7, 7]"
   ]
  },
  {
   "cell_type": "code",
   "execution_count": 6,
   "metadata": {},
   "outputs": [
    {
     "data": {
      "image/png": "[encoded data removed]",
      "text/plain": [
       "<Figure size 504x504 with 4 Axes>"
      ]
     },
     "metadata": {
      "needs_background": "light"
     },
     "output_type": "display_data"
    }
   ],
   "source": [
    "# box and whisker plots\n",
    "dataset.plot(kind='box', subplots=True, layout=(2,2), sharex=False, sharey=False)\n",
    "plt.show()"
   ]
  },
  {
   "cell_type": "code",
   "execution_count": 7,
   "metadata": {},
   "outputs": [
    {
     "data": {
      "image/png": "[encoded data removed]",
      "text/plain": [
       "<Figure size 504x504 with 4 Axes>"
      ]
     },
     "metadata": {
      "needs_background": "light"
     },
     "output_type": "display_data"
    }
   ],
   "source": [
    "# histograms\n",
    "dataset.hist()\n",
    "plt.show()"
   ]
  },
  {
   "cell_type": "code",
   "execution_count": 8,
   "metadata": {},
   "outputs": [
    {
     "data": {
      "image/png": "[encoded data removed]",
      "text/plain": [
       "<Figure size 504x504 with 16 Axes>"
      ]
     },
     "metadata": {
      "needs_background": "light"
     },
     "output_type": "display_data"
    }
   ],
   "source": [
    "# scatter plot matrix\n",
    "scatter_matrix(dataset)\n",
    "plt.show()"
   ]
  },
  {
   "cell_type": "markdown",
   "metadata": {},
   "source": [
    "Eine Datenvorverarbeitung ist im Tutorial nicht vorgesehen, aber auch nicht nötig, da es keine akuten Anzeichen für Ausreißer gibt und die Korrelation der Merkmale gering ist."
   ]
  },
  {
   "cell_type": "markdown",
   "metadata": {},
   "source": [
    "###### Verteilung der Zielvariable"
   ]
  },
  {
   "cell_type": "markdown",
   "metadata": {},
   "source": [
    "Im Gegensatz zum Vorgehen im Tutorial soll zusätzlich die Verteilung der Zielvariable betrachtet werden"
   ]
  },
  {
   "cell_type": "code",
   "execution_count": 9,
   "metadata": {},
   "outputs": [
    {
     "data": {
      "text/plain": [
       "<matplotlib.axes._subplots.AxesSubplot at 0x7f8ad0a244e0>"
      ]
     },
     "execution_count": 9,
     "metadata": {},
     "output_type": "execute_result"
    },
    {
     "data": {
      "image/png": "[encoded data removed]",
      "text/plain": [
       "<Figure size 504x504 with 1 Axes>"
      ]
     },
     "metadata": {
      "needs_background": "light"
     },
     "output_type": "display_data"
    }
   ],
   "source": [
    "# create a countplot that shows the class distribution\n",
    "sns.countplot(x='class',data=dataset)"
   ]
  },
  {
   "cell_type": "markdown",
   "metadata": {},
   "source": [
    "Es handelt sich um einen perfekt balancierten Datensatz, weil alle Klassen gleich oft in den Daten vorhanden sind."
   ]
  },
  {
   "cell_type": "markdown",
   "metadata": {},
   "source": [
    "## 4.2.5 Algorithmen-Evaluation"
   ]
  },
  {
   "cell_type": "markdown",
   "metadata": {},
   "source": [
    "Die Algorithmen Evaluation gliedert sich in mehrere Schritte:"
   ]
  },
  {
   "cell_type": "markdown",
   "metadata": {},
   "source": [
    "###### 1. Aufteilen des Datensatzes in Trainings- und Testdaten"
   ]
  },
  {
   "cell_type": "markdown",
   "metadata": {},
   "source": [
    "Für das Aufteilen wird das Verhältnis von Trainings- und Testdaten auf 80:20 gesetzt. Zudem wird zur Reproduktion der Ergebnisse der Random-Seed auf 7 gesetzt."
   ]
  },
  {
   "cell_type": "code",
   "execution_count": 10,
   "metadata": {},
   "outputs": [],
   "source": [
    "# Split-out validation dataset\n",
    "array = dataset.values\n",
    "X = array[:,0:4]\n",
    "Y = array[:,4]\n",
    "test_size = 0.20\n",
    "seed = 7\n",
    "# X_train, X_validation, Y_train, Y_validation = cross_validation.train_test_split(X, Y, test_size=test_size, random_state=seed)\n",
    "X_train, X_validation, Y_train, Y_validation = train_test_split(X, Y, test_size=test_size, random_state=seed)"
   ]
  },
  {
   "cell_type": "markdown",
   "metadata": {},
   "source": [
    "###### 2. Vorbereiten der Metrik"
   ]
  },
  {
   "cell_type": "markdown",
   "metadata": {},
   "source": [
    "Im späteren Verlauf soll 10-Fold-Cross-Validation verwendet werden. Dabei wird der Trainings-Datensatz zufällig in 10 Teile aufgeteilt, wobei anschließend 9 von diesen Teilen zum Training und der übrige Teil zum Testen benutzt wird. Dieser Vorgang wird 10 Mal für verschiedene zufällige Aufteilungen des Datensatzes durchgeführt.\n",
    "\n",
    "In jedem Schritt wird der Test-Teil der Daten benutzt, um eine Metrik für das trainierte Modell zu berechnen. Am Ende kann beispielsweise der Durchschnitt der Werte für diese Metrik berechnet werden."
   ]
  },
  {
   "cell_type": "markdown",
   "metadata": {},
   "source": [
    "**Antwort zu Aufgabe 1a: Warum ist accuracy eine geeignete Metrik für diese Klassifikationsaufgabe?**\n",
    "\n",
    "In diesem Tutorial wird als Metrik die sogenannte _Accuracy_ benutzt (deutsch: Trefferquote). Die ist eine geeignete Metrik für die vorliegende Klassifikationsaufgabe, weil es sich um eine Klassifikationsaufgabe für einen perfekt balancierten Datensatz handelt."
   ]
  },
  {
   "cell_type": "code",
   "execution_count": 11,
   "metadata": {},
   "outputs": [],
   "source": [
    "# Test options and evaluation metric\n",
    "seed = 7\n",
    "scoring = 'accuracy'"
   ]
  },
  {
   "cell_type": "markdown",
   "metadata": {},
   "source": [
    "###### 3. Erstellen verschiedener Modelle und Evaluation"
   ]
  },
  {
   "cell_type": "markdown",
   "metadata": {},
   "source": [
    "Es werden verschiedene Modelle zur Evaluation erstellt:\n",
    "\n",
    "- Logistic Regression (LR)\n",
    "- Linear Discriminant Analysis (LDA)\n",
    "- K-Nearest Neighbors (KNN)\n",
    "- Classification and Regression Trees (CART) • Gaussian Naive Bayes (NB)\n",
    "- Support Vector Machines (SVM)"
   ]
  },
  {
   "cell_type": "code",
   "execution_count": 12,
   "metadata": {},
   "outputs": [],
   "source": [
    "# Spot Check Algorithms\n",
    "models = []\n",
    "models.append(('LR', LogisticRegression()))\n",
    "models.append(('LDA', LinearDiscriminantAnalysis()))\n",
    "models.append(('KNN', KNeighborsClassifier()))\n",
    "models.append(('CART', DecisionTreeClassifier()))\n",
    "models.append(('NB', GaussianNB()))\n",
    "models.append(('SVM', SVC()))"
   ]
  },
  {
   "cell_type": "markdown",
   "metadata": {},
   "source": [
    "Hierbei handelt es sich um eine Mischung aus einfachen linearen (`LR` und `LDA`) und nichtlinearen (`KNN`, `CART`, `NB`, `SVM`) Algorithmen."
   ]
  },
  {
   "cell_type": "markdown",
   "metadata": {},
   "source": [
    "###### 4. Training und Evaluation der Modelle"
   ]
  },
  {
   "cell_type": "markdown",
   "metadata": {},
   "source": [
    "In der anschließenden Zelle wird jedes Modell 10-fach kreuzvalidiert und die Ergebnisse für jedes Modell in der Liste `results` gespeichtert."
   ]
  },
  {
   "cell_type": "code",
   "execution_count": 13,
   "metadata": {},
   "outputs": [
    {
     "name": "stdout",
     "output_type": "stream",
     "text": [
      "LR    0.9673 (0.0401)\n",
      "LDA   0.9749 (0.0385)\n",
      "KNN   0.9817 (0.0369)\n",
      "CART  0.9826 (0.0349)\n",
      "NB    0.9666 (0.0411)\n",
      "SVM   0.9917 (0.0250)\n"
     ]
    },
    {
     "name": "stderr",
     "output_type": "stream",
     "text": [
      "/home/carmen/anaconda3/envs/python3_5-SmartDataAnalytics/lib/python3.5/site-packages/sklearn/linear_model/logistic.py:432: FutureWarning: Default solver will be changed to 'lbfgs' in 0.22. Specify a solver to silence this warning.\n",
      "  FutureWarning)\n",
      "/home/carmen/anaconda3/envs/python3_5-SmartDataAnalytics/lib/python3.5/site-packages/sklearn/linear_model/logistic.py:469: FutureWarning: Default multi_class will be changed to 'auto' in 0.22. Specify the multi_class option to silence this warning.\n",
      "  \"this warning.\", FutureWarning)\n",
      "/home/carmen/anaconda3/envs/python3_5-SmartDataAnalytics/lib/python3.5/site-packages/sklearn/linear_model/logistic.py:432: FutureWarning: Default solver will be changed to 'lbfgs' in 0.22. Specify a solver to silence this warning.\n",
      "  FutureWarning)\n",
      "/home/carmen/anaconda3/envs/python3_5-SmartDataAnalytics/lib/python3.5/site-packages/sklearn/linear_model/logistic.py:469: FutureWarning: Default multi_class will be changed to 'auto' in 0.22. Specify the multi_class option to silence this warning.\n",
      "  \"this warning.\", FutureWarning)\n",
      "/home/carmen/anaconda3/envs/python3_5-SmartDataAnalytics/lib/python3.5/site-packages/sklearn/linear_model/logistic.py:432: FutureWarning: Default solver will be changed to 'lbfgs' in 0.22. Specify a solver to silence this warning.\n",
      "  FutureWarning)\n",
      "/home/carmen/anaconda3/envs/python3_5-SmartDataAnalytics/lib/python3.5/site-packages/sklearn/linear_model/logistic.py:469: FutureWarning: Default multi_class will be changed to 'auto' in 0.22. Specify the multi_class option to silence this warning.\n",
      "  \"this warning.\", FutureWarning)\n",
      "/home/carmen/anaconda3/envs/python3_5-SmartDataAnalytics/lib/python3.5/site-packages/sklearn/linear_model/logistic.py:432: FutureWarning: Default solver will be changed to 'lbfgs' in 0.22. Specify a solver to silence this warning.\n",
      "  FutureWarning)\n",
      "/home/carmen/anaconda3/envs/python3_5-SmartDataAnalytics/lib/python3.5/site-packages/sklearn/linear_model/logistic.py:469: FutureWarning: Default multi_class will be changed to 'auto' in 0.22. Specify the multi_class option to silence this warning.\n",
      "  \"this warning.\", FutureWarning)\n",
      "/home/carmen/anaconda3/envs/python3_5-SmartDataAnalytics/lib/python3.5/site-packages/sklearn/linear_model/logistic.py:432: FutureWarning: Default solver will be changed to 'lbfgs' in 0.22. Specify a solver to silence this warning.\n",
      "  FutureWarning)\n",
      "/home/carmen/anaconda3/envs/python3_5-SmartDataAnalytics/lib/python3.5/site-packages/sklearn/linear_model/logistic.py:469: FutureWarning: Default multi_class will be changed to 'auto' in 0.22. Specify the multi_class option to silence this warning.\n",
      "  \"this warning.\", FutureWarning)\n",
      "/home/carmen/anaconda3/envs/python3_5-SmartDataAnalytics/lib/python3.5/site-packages/sklearn/linear_model/logistic.py:432: FutureWarning: Default solver will be changed to 'lbfgs' in 0.22. Specify a solver to silence this warning.\n",
      "  FutureWarning)\n",
      "/home/carmen/anaconda3/envs/python3_5-SmartDataAnalytics/lib/python3.5/site-packages/sklearn/linear_model/logistic.py:469: FutureWarning: Default multi_class will be changed to 'auto' in 0.22. Specify the multi_class option to silence this warning.\n",
      "  \"this warning.\", FutureWarning)\n",
      "/home/carmen/anaconda3/envs/python3_5-SmartDataAnalytics/lib/python3.5/site-packages/sklearn/linear_model/logistic.py:432: FutureWarning: Default solver will be changed to 'lbfgs' in 0.22. Specify a solver to silence this warning.\n",
      "  FutureWarning)\n",
      "/home/carmen/anaconda3/envs/python3_5-SmartDataAnalytics/lib/python3.5/site-packages/sklearn/linear_model/logistic.py:469: FutureWarning: Default multi_class will be changed to 'auto' in 0.22. Specify the multi_class option to silence this warning.\n",
      "  \"this warning.\", FutureWarning)\n",
      "/home/carmen/anaconda3/envs/python3_5-SmartDataAnalytics/lib/python3.5/site-packages/sklearn/linear_model/logistic.py:432: FutureWarning: Default solver will be changed to 'lbfgs' in 0.22. Specify a solver to silence this warning.\n",
      "  FutureWarning)\n",
      "/home/carmen/anaconda3/envs/python3_5-SmartDataAnalytics/lib/python3.5/site-packages/sklearn/linear_model/logistic.py:469: FutureWarning: Default multi_class will be changed to 'auto' in 0.22. Specify the multi_class option to silence this warning.\n",
      "  \"this warning.\", FutureWarning)\n",
      "/home/carmen/anaconda3/envs/python3_5-SmartDataAnalytics/lib/python3.5/site-packages/sklearn/linear_model/logistic.py:432: FutureWarning: Default solver will be changed to 'lbfgs' in 0.22. Specify a solver to silence this warning.\n",
      "  FutureWarning)\n",
      "/home/carmen/anaconda3/envs/python3_5-SmartDataAnalytics/lib/python3.5/site-packages/sklearn/linear_model/logistic.py:469: FutureWarning: Default multi_class will be changed to 'auto' in 0.22. Specify the multi_class option to silence this warning.\n",
      "  \"this warning.\", FutureWarning)\n",
      "/home/carmen/anaconda3/envs/python3_5-SmartDataAnalytics/lib/python3.5/site-packages/sklearn/linear_model/logistic.py:432: FutureWarning: Default solver will be changed to 'lbfgs' in 0.22. Specify a solver to silence this warning.\n",
      "  FutureWarning)\n",
      "/home/carmen/anaconda3/envs/python3_5-SmartDataAnalytics/lib/python3.5/site-packages/sklearn/linear_model/logistic.py:469: FutureWarning: Default multi_class will be changed to 'auto' in 0.22. Specify the multi_class option to silence this warning.\n",
      "  \"this warning.\", FutureWarning)\n",
      "/home/carmen/anaconda3/envs/python3_5-SmartDataAnalytics/lib/python3.5/site-packages/sklearn/svm/base.py:193: FutureWarning: The default value of gamma will change from 'auto' to 'scale' in version 0.22 to account better for unscaled features. Set gamma explicitly to 'auto' or 'scale' to avoid this warning.\n",
      "  \"avoid this warning.\", FutureWarning)\n",
      "/home/carmen/anaconda3/envs/python3_5-SmartDataAnalytics/lib/python3.5/site-packages/sklearn/svm/base.py:193: FutureWarning: The default value of gamma will change from 'auto' to 'scale' in version 0.22 to account better for unscaled features. Set gamma explicitly to 'auto' or 'scale' to avoid this warning.\n",
      "  \"avoid this warning.\", FutureWarning)\n",
      "/home/carmen/anaconda3/envs/python3_5-SmartDataAnalytics/lib/python3.5/site-packages/sklearn/svm/base.py:193: FutureWarning: The default value of gamma will change from 'auto' to 'scale' in version 0.22 to account better for unscaled features. Set gamma explicitly to 'auto' or 'scale' to avoid this warning.\n",
      "  \"avoid this warning.\", FutureWarning)\n",
      "/home/carmen/anaconda3/envs/python3_5-SmartDataAnalytics/lib/python3.5/site-packages/sklearn/svm/base.py:193: FutureWarning: The default value of gamma will change from 'auto' to 'scale' in version 0.22 to account better for unscaled features. Set gamma explicitly to 'auto' or 'scale' to avoid this warning.\n",
      "  \"avoid this warning.\", FutureWarning)\n",
      "/home/carmen/anaconda3/envs/python3_5-SmartDataAnalytics/lib/python3.5/site-packages/sklearn/svm/base.py:193: FutureWarning: The default value of gamma will change from 'auto' to 'scale' in version 0.22 to account better for unscaled features. Set gamma explicitly to 'auto' or 'scale' to avoid this warning.\n",
      "  \"avoid this warning.\", FutureWarning)\n",
      "/home/carmen/anaconda3/envs/python3_5-SmartDataAnalytics/lib/python3.5/site-packages/sklearn/svm/base.py:193: FutureWarning: The default value of gamma will change from 'auto' to 'scale' in version 0.22 to account better for unscaled features. Set gamma explicitly to 'auto' or 'scale' to avoid this warning.\n",
      "  \"avoid this warning.\", FutureWarning)\n",
      "/home/carmen/anaconda3/envs/python3_5-SmartDataAnalytics/lib/python3.5/site-packages/sklearn/svm/base.py:193: FutureWarning: The default value of gamma will change from 'auto' to 'scale' in version 0.22 to account better for unscaled features. Set gamma explicitly to 'auto' or 'scale' to avoid this warning.\n",
      "  \"avoid this warning.\", FutureWarning)\n",
      "/home/carmen/anaconda3/envs/python3_5-SmartDataAnalytics/lib/python3.5/site-packages/sklearn/svm/base.py:193: FutureWarning: The default value of gamma will change from 'auto' to 'scale' in version 0.22 to account better for unscaled features. Set gamma explicitly to 'auto' or 'scale' to avoid this warning.\n",
      "  \"avoid this warning.\", FutureWarning)\n",
      "/home/carmen/anaconda3/envs/python3_5-SmartDataAnalytics/lib/python3.5/site-packages/sklearn/svm/base.py:193: FutureWarning: The default value of gamma will change from 'auto' to 'scale' in version 0.22 to account better for unscaled features. Set gamma explicitly to 'auto' or 'scale' to avoid this warning.\n",
      "  \"avoid this warning.\", FutureWarning)\n",
      "/home/carmen/anaconda3/envs/python3_5-SmartDataAnalytics/lib/python3.5/site-packages/sklearn/svm/base.py:193: FutureWarning: The default value of gamma will change from 'auto' to 'scale' in version 0.22 to account better for unscaled features. Set gamma explicitly to 'auto' or 'scale' to avoid this warning.\n",
      "  \"avoid this warning.\", FutureWarning)\n"
     ]
    }
   ],
   "source": [
    "# evaluate each model in turn\n",
    "results = []\n",
    "names = []\n",
    "for name, model in models:\n",
    "    #cv_results=cross_validate.cross_val_score(model, X_train, Y_train, cv=10, scoring=scoring)\n",
    "    cv_results=cross_val_score(model, X_train, Y_train, cv=10, scoring=scoring)\n",
    "    results.append(cv_results)\n",
    "    names.append(name)\n",
    "    msg = \"{:5s} {:1.4f} ({:1.4f})\".format(name, cv_results.mean(), cv_results.std())\n",
    "    print(msg)"
   ]
  },
  {
   "cell_type": "markdown",
   "metadata": {},
   "source": [
    "*Erkenntnis*: `SVM` hat mit 0.99 die höchste Accuracy. Danach folgt `KNN` mit 0.98."
   ]
  },
  {
   "cell_type": "markdown",
   "metadata": {
    "collapsed": true
   },
   "source": [
    "*Bemerkung*: Im Tutorial hat sich an dieser Stelle ein Fehler eingeschlichen. Obwohl im enthaltenen Screenshot die gleichen Ergebnisse zu sehen sind wie hier, finden sich im Text andere Werte. Aus diesen geht hervor, dass `KNN` die höchste Accuracy hat (und nicht `SVM`)."
   ]
  },
  {
   "cell_type": "markdown",
   "metadata": {},
   "source": [
    "###### 5. Vergleich der Algorithmen"
   ]
  },
  {
   "cell_type": "markdown",
   "metadata": {},
   "source": [
    "In den folgenden Zellen sehen wir uns die Ergebnisse genauer an."
   ]
  },
  {
   "cell_type": "code",
   "execution_count": 14,
   "metadata": {},
   "outputs": [
    {
     "data": {
      "text/html": [
       "<div>\n",
       "<style scoped>\n",
       "    .dataframe tbody tr th:only-of-type {\n",
       "        vertical-align: middle;\n",
       "    }\n",
       "\n",
       "    .dataframe tbody tr th {\n",
       "        vertical-align: top;\n",
       "    }\n",
       "\n",
       "    .dataframe thead th {\n",
       "        text-align: right;\n",
       "    }\n",
       "</style>\n",
       "<table border=\"1\" class=\"dataframe\">\n",
       "  <thead>\n",
       "    <tr style=\"text-align: right;\">\n",
       "      <th></th>\n",
       "      <th>0</th>\n",
       "      <th>1</th>\n",
       "      <th>2</th>\n",
       "      <th>3</th>\n",
       "      <th>4</th>\n",
       "      <th>5</th>\n",
       "      <th>6</th>\n",
       "      <th>7</th>\n",
       "      <th>8</th>\n",
       "      <th>9</th>\n",
       "    </tr>\n",
       "  </thead>\n",
       "  <tbody>\n",
       "    <tr>\n",
       "      <th>LR</th>\n",
       "      <td>1.0</td>\n",
       "      <td>1.0</td>\n",
       "      <td>0.923077</td>\n",
       "      <td>1.0</td>\n",
       "      <td>1.0</td>\n",
       "      <td>0.916667</td>\n",
       "      <td>0.916667</td>\n",
       "      <td>0.916667</td>\n",
       "      <td>1.000000</td>\n",
       "      <td>1.0</td>\n",
       "    </tr>\n",
       "    <tr>\n",
       "      <th>LDA</th>\n",
       "      <td>1.0</td>\n",
       "      <td>1.0</td>\n",
       "      <td>0.923077</td>\n",
       "      <td>1.0</td>\n",
       "      <td>1.0</td>\n",
       "      <td>0.916667</td>\n",
       "      <td>1.000000</td>\n",
       "      <td>1.000000</td>\n",
       "      <td>0.909091</td>\n",
       "      <td>1.0</td>\n",
       "    </tr>\n",
       "    <tr>\n",
       "      <th>KNN</th>\n",
       "      <td>1.0</td>\n",
       "      <td>1.0</td>\n",
       "      <td>1.000000</td>\n",
       "      <td>1.0</td>\n",
       "      <td>1.0</td>\n",
       "      <td>0.916667</td>\n",
       "      <td>1.000000</td>\n",
       "      <td>1.000000</td>\n",
       "      <td>1.000000</td>\n",
       "      <td>0.9</td>\n",
       "    </tr>\n",
       "    <tr>\n",
       "      <th>CART</th>\n",
       "      <td>1.0</td>\n",
       "      <td>1.0</td>\n",
       "      <td>1.000000</td>\n",
       "      <td>1.0</td>\n",
       "      <td>1.0</td>\n",
       "      <td>0.916667</td>\n",
       "      <td>1.000000</td>\n",
       "      <td>1.000000</td>\n",
       "      <td>0.909091</td>\n",
       "      <td>1.0</td>\n",
       "    </tr>\n",
       "    <tr>\n",
       "      <th>NB</th>\n",
       "      <td>1.0</td>\n",
       "      <td>1.0</td>\n",
       "      <td>0.923077</td>\n",
       "      <td>1.0</td>\n",
       "      <td>1.0</td>\n",
       "      <td>0.916667</td>\n",
       "      <td>1.000000</td>\n",
       "      <td>0.916667</td>\n",
       "      <td>0.909091</td>\n",
       "      <td>1.0</td>\n",
       "    </tr>\n",
       "    <tr>\n",
       "      <th>SVM</th>\n",
       "      <td>1.0</td>\n",
       "      <td>1.0</td>\n",
       "      <td>1.000000</td>\n",
       "      <td>1.0</td>\n",
       "      <td>1.0</td>\n",
       "      <td>0.916667</td>\n",
       "      <td>1.000000</td>\n",
       "      <td>1.000000</td>\n",
       "      <td>1.000000</td>\n",
       "      <td>1.0</td>\n",
       "    </tr>\n",
       "  </tbody>\n",
       "</table>\n",
       "</div>"
      ],
      "text/plain": [
       "        0    1         2    3    4         5         6         7         8  \\\n",
       "LR    1.0  1.0  0.923077  1.0  1.0  0.916667  0.916667  0.916667  1.000000   \n",
       "LDA   1.0  1.0  0.923077  1.0  1.0  0.916667  1.000000  1.000000  0.909091   \n",
       "KNN   1.0  1.0  1.000000  1.0  1.0  0.916667  1.000000  1.000000  1.000000   \n",
       "CART  1.0  1.0  1.000000  1.0  1.0  0.916667  1.000000  1.000000  0.909091   \n",
       "NB    1.0  1.0  0.923077  1.0  1.0  0.916667  1.000000  0.916667  0.909091   \n",
       "SVM   1.0  1.0  1.000000  1.0  1.0  0.916667  1.000000  1.000000  1.000000   \n",
       "\n",
       "        9  \n",
       "LR    1.0  \n",
       "LDA   1.0  \n",
       "KNN   0.9  \n",
       "CART  1.0  \n",
       "NB    1.0  \n",
       "SVM   1.0  "
      ]
     },
     "metadata": {},
     "output_type": "display_data"
    }
   ],
   "source": [
    "# Show the results list\n",
    "accuracies = pandas.DataFrame(results, index=names)\n",
    "display(accuracies)"
   ]
  },
  {
   "cell_type": "code",
   "execution_count": 15,
   "metadata": {},
   "outputs": [
    {
     "data": {
      "image/png": "[encoded data removed]",
      "text/plain": [
       "<Figure size 504x504 with 1 Axes>"
      ]
     },
     "metadata": {
      "needs_background": "light"
     },
     "output_type": "display_data"
    }
   ],
   "source": [
    "# Compare Algorithms\n",
    "fig = plt.figure()\n",
    "fig.suptitle('Algorithm Comparison')\n",
    "ax = fig.add_subplot(111)\n",
    "plt.boxplot(results)\n",
    "ax.set_xticklabels(names)\n",
    "plt.show()"
   ]
  },
  {
   "cell_type": "markdown",
   "metadata": {},
   "source": [
    "Es ist zu erkennen, dass KNN und SVM die Daten sehr häufig exakt trennen können."
   ]
  },
  {
   "cell_type": "markdown",
   "metadata": {},
   "source": [
    "## Vorhersagen auf dem Test-Datensatz"
   ]
  },
  {
   "cell_type": "markdown",
   "metadata": {},
   "source": [
    "Im folgenden soll das beste Modell (im Tutorial `KNN`, hier `SVM`) noch mit den Testdaten validiert werden."
   ]
  },
  {
   "cell_type": "code",
   "execution_count": 16,
   "metadata": {},
   "outputs": [
    {
     "name": "stdout",
     "output_type": "stream",
     "text": [
      "0.9333333333333333\n",
      "[[ 7  0  0]\n",
      " [ 0 10  2]\n",
      " [ 0  0 11]]\n",
      "                 precision    recall  f1-score   support\n",
      "\n",
      "    Iris-setosa       1.00      1.00      1.00         7\n",
      "Iris-versicolor       1.00      0.83      0.91        12\n",
      " Iris-virginica       0.85      1.00      0.92        11\n",
      "\n",
      "       accuracy                           0.93        30\n",
      "      macro avg       0.95      0.94      0.94        30\n",
      "   weighted avg       0.94      0.93      0.93        30\n",
      "\n"
     ]
    },
    {
     "name": "stderr",
     "output_type": "stream",
     "text": [
      "/home/carmen/anaconda3/envs/python3_5-SmartDataAnalytics/lib/python3.5/site-packages/sklearn/svm/base.py:193: FutureWarning: The default value of gamma will change from 'auto' to 'scale' in version 0.22 to account better for unscaled features. Set gamma explicitly to 'auto' or 'scale' to avoid this warning.\n",
      "  \"avoid this warning.\", FutureWarning)\n"
     ]
    }
   ],
   "source": [
    "# Make predictions on validation dataset\n",
    "# cls = KNeighborsClassifier()\n",
    "cls = SVC()\n",
    "cls.fit(X_train, Y_train)\n",
    "predictions = cls.predict(X_validation)\n",
    "print(accuracy_score(Y_validation, predictions))\n",
    "print(confusion_matrix(Y_validation, predictions))\n",
    "print(classification_report(Y_validation, predictions))"
   ]
  },
  {
   "cell_type": "markdown",
   "metadata": {
    "collapsed": true
   },
   "source": [
    "Wir erreichen eine Accuracy von 93%.  \n",
    "In der Konfusionsmatrix ist zu erkennen, dass 2 Datensätze falsch klassifiziert wurden (Werte außerhalb der Hauptdiagonale).  \n",
    "Aufgrund dieser falsch klassifizierten Datensätze sind Precision/Recall und damit auch der F1-Score der entsprechenden Klassen kleiner als 1."
   ]
  },
  {
   "cell_type": "markdown",
   "metadata": {},
   "source": [
    "## Antwort zu Aufgabe 1b: Stimmen Sie der Aussage des Tutorials zu? \n",
    "\n",
    "Abgesehen von dem Fehler, der sich eingeschlichen hat, bekommen wir dieselben Ergebnisse. Augenscheinlich schneidet die SVM am besten ab. Die statistische Signifikanz dessen wird in Teilaufgaben c geprüft und darauf basierend entschieden, ob die SVM auch aus statistischer Sicht am besten abschneidet."
   ]
  },
  {
   "cell_type": "markdown",
   "metadata": {},
   "source": [
    "## Antwort zu Aufgabe 1c: Ist ein durchschnittliche _accuracy_ eines Modells statistisch signifikant besser als das von anderen Modellen? \n",
    "\n",
    "Zunächst muss die Art des Problems definiert werden. Hier wird nach einem Verfahren zur Untersuchung von Unterschieden von Mittelwerten, also einer zentralen Tendenz, verlangt. Problematisch ist jedoch, dass keine unabhängigen Stichproben vorhanden sind, d.h. die Accuracies der einzenlen Folds der Klassifikatoren basieren auf derselben Stichprobe. Im Folgenden werden zunächst zwei Klassifikatoren gegeneinander getestet. Laut https://www.methodenberatung.uzh.ch/de/datenanalyse_spss/unterschiede/zentral.html muss nun entschieden werden, ob die Variablen normal-, ordinal- oder intervallskalliert sind und ob die Normalverteilungsannahme gültig ist. Bei der Accuracy trifft die Voraussetzung \"mindestens intervallskaliert\" zu. Der t-Test für verbundene Stichprobe fordert eine Normalverteilung der zugrundeliegenden Variablen. Diese ist für hinreichend große n, also einen hinreichend großen Umfang der Stichprobe, aufgrund des Zentralen Grenzwertsatzes gegeben. Allerdings umfasst die Stichprobe der Accuracies hier 10, sodass nicht von einer Normalverteilung ausgegangen werden kann. Daher entscheiden wir uns für den Wilcoxon-Test, der keine Verteilung fordert. Im Folgednen Link wird der Unterschied zwischen Wilcoxon Signed Rank Test und dem Paired Student’s t-test (t-Test für verbundene Stichproben) erläutert und erklärt, wie der Wilcoxon-Test funktioniert:\n",
    "https://www.datascienceblog.net/post/statistical_test/signed_wilcox_rank_test/\n",
    "\n",
    "Allerdings wird auf folgender Seite darauf hingewiesen, dass wir eigentlich mindestens 20 Observationen pro Klassifikator bräuchten, damit der Test effektiv wird. Die ist leider nicht gegeben. Man könnte stattdessen 20 Fold Crossvalidation durchführen, um dieses konkrete Problem zu beheben. https://machinelearningmastery.com/nonparametric-statistical-significance-tests-in-python/\n",
    "\n",
    "\n",
    "\n",
    "https://www.methodenberatung.uzh.ch/de/datenanalyse_spss.html"
   ]
  },
  {
   "cell_type": "markdown",
   "metadata": {},
   "source": [
    "### Wilcoxon-Test"
   ]
  },
  {
   "cell_type": "code",
   "execution_count": 22,
   "metadata": {},
   "outputs": [],
   "source": [
    "# get accuracies of different classifiers\n",
    "accuracies_lr = accuracies.loc['LR',:]\n",
    "accuracies_lda = accuracies.loc['LDA',:]\n",
    "accuracies_knn = accuracies.loc['KNN',:]\n",
    "accuracies_cart = accuracies.loc['CART',:]\n",
    "accuracies_nb = accuracies.loc['NB',:]\n",
    "accuracies_svm = accuracies.loc['SVM',:]"
   ]
  },
  {
   "cell_type": "markdown",
   "metadata": {},
   "source": [
    "Im Folgenden wird die statistische Signifikanz des Unterschieds zwischen dem Klassifikator mit der höchsten Mean Accuracy (SVM) und dem der kleinsten (Logistic Regression) untersucht. Dabei wird mit einem Signifikanzniveau von 0,05 getestet.\n",
    "\n",
    "H0-Hypothese: Stichprobenverteilung gleich\n",
    "\n",
    "H1-Hypothese: Stichprobenverteilung ungleich --> unterschiedliche Mittelwerte"
   ]
  },
  {
   "cell_type": "code",
   "execution_count": 52,
   "metadata": {},
   "outputs": [],
   "source": [
    "# define level of significance\n",
    "alpha = 0.05\n",
    "\n",
    "# define function to interpert test results\n",
    "def interpret_test(alpha, pvalue):\n",
    "    if p > alpha:\n",
    "        print('Same distributions (fail to reject H0), p-value: ' + str(pvalue))\n",
    "    else:\n",
    "        print('Different distributions (reject H0), p-value: ' + str(pvalue))"
   ]
  },
  {
   "cell_type": "code",
   "execution_count": 48,
   "metadata": {},
   "outputs": [
    {
     "name": "stdout",
     "output_type": "stream",
     "text": [
      "Same distributions (fail to reject H0), p-value: 0.10247043485974937\n"
     ]
    }
   ],
   "source": [
    "# wilcoxon test with svm and lr\n",
    "_, p_wilcoxon_svm_lr =stats.wilcoxon(accuracies_lr, accuracies_svm, zero_method=\"wilcox\")\n",
    "interpret_test(alpha, p_wilcoxon_svm_lr)"
   ]
  },
  {
   "cell_type": "markdown",
   "metadata": {},
   "source": [
    "Es ist zu erkennen, dass der p-Wert bei ca. 0,1024 liegt und damit größer als die geforderten 0,05. Damit kann basieren auf der vorliegenden Stichprobe und einem Signifikanzniveau von 0,05 statistisch nicht bewiese werden, dass die SVM besser als die Logistische Regression ist.\n",
    "Folgend kann der Aussage des Tutorial nicht zugestimmt werden. Im Folgenden wird gezeigt, dass die SVM basierend auf einem Signifikanzniveau von 0,05 und gemessen anhand der Accuracy nicht besser ist als ein anderer getester Klassifikator."
   ]
  },
  {
   "cell_type": "code",
   "execution_count": 49,
   "metadata": {
    "scrolled": false
   },
   "outputs": [
    {
     "name": "stdout",
     "output_type": "stream",
     "text": [
      "lda and smv:\n",
      "Same distributions (fail to reject H0), p-value: 0.17971249487899976\n",
      "knn and smv:\n",
      "Same distributions (fail to reject H0), p-value: 0.31731050786291415\n",
      "cart and smv:\n",
      "Same distributions (fail to reject H0), p-value: 0.31731050786291415\n",
      "nb and smv:\n",
      "Same distributions (fail to reject H0), p-value: 0.10880943004054568\n"
     ]
    }
   ],
   "source": [
    "# wilcoxon test with svm and all other classifiers\n",
    "print('lda and smv:')\n",
    "_, pvalue_lda_svm = stats.wilcoxon(accuracies_lda, accuracies_svm, zero_method=\"wilcox\")\n",
    "interpret_test(alpha, pvalue_lda_svm)\n",
    "\n",
    "print('knn and smv:')\n",
    "_, pvalue_knn_svm = stats.wilcoxon(accuracies_knn, accuracies_svm, zero_method=\"wilcox\")\n",
    "interpret_test(alpha, pvalue_knn_svm)\n",
    "\n",
    "print('cart and smv:')\n",
    "_, pvalue_cart_svm = stats.wilcoxon(accuracies_cart, accuracies_svm, zero_method=\"wilcox\")\n",
    "interpret_test(alpha, pvalue_cart_svm)\n",
    "\n",
    "print('nb and smv:')\n",
    "_, pvalue_nb_svm = stats.wilcoxon(accuracies_nb, accuracies_svm, zero_method=\"wilcox\")\n",
    "interpret_test(alpha, pvalue_nb_svm)"
   ]
  },
  {
   "cell_type": "markdown",
   "metadata": {},
   "source": [
    "### t-Test für verbundene Stichproben"
   ]
  },
  {
   "cell_type": "markdown",
   "metadata": {},
   "source": [
    "Im Folgenden wird der t-Test für verbundene Stichproben zum Vergleich durchgeführt, obwohl wir nicht von einer Normalverteilung ausgehen. "
   ]
  },
  {
   "cell_type": "code",
   "execution_count": 50,
   "metadata": {},
   "outputs": [
    {
     "name": "stdout",
     "output_type": "stream",
     "text": [
      "Same distributions (fail to reject H0), p-value: 0.08137961902196346\n"
     ]
    }
   ],
   "source": [
    "# paired t-test\n",
    "_, p_t_test = stats.ttest_rel(accuracies_lr, accuracies_svm)\n",
    "interpret_test(alpha, p_t_test)"
   ]
  },
  {
   "cell_type": "markdown",
   "metadata": {},
   "source": [
    "Auch dieser Test würde zu dem Ergebnis kommen, dass die SVM statistisch basierend auf einem Signifikanzniveau von 0,05 nicht besser als die logistische Regression ist. Allerdings wäre der p-Wert geringer. Mit einem Signifikanzniveau von 0,1 wäre der Unterschied der zwischen SVM und logistischer Regression signifikant."
   ]
  },
  {
   "cell_type": "markdown",
   "metadata": {},
   "source": [
    "### Friedman-Test"
   ]
  },
  {
   "cell_type": "markdown",
   "metadata": {},
   "source": [
    "Eine weitere Möglichkeit besteht darin, nicht zwei Klassifikatoren gegeneinander zu testen, sondern alle gegeneinander. Der Friedman-Test bietet die Möglichkeit, größer 2 Stufen (mehr als zwei Variablen) abhängiger Stichproben ohne eine zugrundeliegende Normalverteilung gegeneinander auf zentrale Tendenz zu testen. Auch hierbei wird ein Signifikanzniveau von 0,05 gewählt."
   ]
  },
  {
   "cell_type": "code",
   "execution_count": 51,
   "metadata": {},
   "outputs": [
    {
     "name": "stdout",
     "output_type": "stream",
     "text": [
      "Same distributions (fail to reject H0), p-value: 0.2955570040424875\n"
     ]
    }
   ],
   "source": [
    "_, p_friedman = stats.friedmanchisquare(accuracies_lr, accuracies_lda, accuracies_knn, accuracies_cart, accuracies_nb, accuracies_svm)\n",
    "interpret_test(alpha, p_friedman)"
   ]
  },
  {
   "cell_type": "markdown",
   "metadata": {},
   "source": [
    "Auch hier kann von keinem signifikanten Unterschied der Klassifikatoren ausgegangen werden."
   ]
  }
 ],
 "metadata": {
  "anaconda-cloud": {},
  "kernelspec": {
   "display_name": "Python 3",
   "language": "python",
   "name": "python3"
  },
  "language_info": {
   "codemirror_mode": {
    "name": "ipython",
    "version": 3
   },
   "file_extension": ".py",
   "mimetype": "text/x-python",
   "name": "python",
   "nbconvert_exporter": "python",
   "pygments_lexer": "ipython3",
   "version": "3.5.6"
  }
 },
 "nbformat": 4,
 "nbformat_minor": 1
}
