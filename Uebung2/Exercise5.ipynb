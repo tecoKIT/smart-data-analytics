{
 "cells": [
  {
   "cell_type": "markdown",
   "metadata": {},
   "source": [
    "# Aufgabe 5: Batch System"
   ]
  },
  {
   "cell_type": "markdown",
   "metadata": {},
   "source": [
    "SDIL bietet ein sogenanntes Batch-System, um die SDIL-Resourcen effizient zu nutzen und eine Störung zwischen Nutzern zu vermeiden. "
   ]
  },
  {
   "cell_type": "markdown",
   "metadata": {},
   "source": [
    "In dieser Aufgabe sollen die Klassifikationsaufgaben aus [Aufgabe 3](./Exercise3.ipynb) mittels dieses Batch-Systems ausgeführt werden. Die nötigen Schritte sollen in diesem Notebook beschrieben werden."
   ]
  },
  {
   "cell_type": "markdown",
   "metadata": {},
   "source": [
    "## Setup"
   ]
  },
  {
   "cell_type": "markdown",
   "metadata": {},
   "source": [
    "Zur Benutzung des Batch-Systems sind laut dem Tutorial \"How To Use Batch System on SDIL\" folgende Dinge nötig:\n",
    "\n",
    "1. Eine Conda Environment\n",
    "2. Eine Job-Datei\n",
    "3. Eine Script-Datei\n",
    "4. Die auszuführende Python-Datei"
   ]
  },
  {
   "cell_type": "markdown",
   "metadata": {},
   "source": [
    "Um den Inhalt einiger Dateien zu zeigen, wird die Funktion `print_file` definiert, welche den Inhalt von Dateien anzeigen kann."
   ]
  },
  {
   "cell_type": "code",
   "execution_count": 1,
   "metadata": {},
   "outputs": [],
   "source": [
    "def print_file(path):\n",
    "    f = open(path, 'r')\n",
    "    print(f.read())\n",
    "    f.close()"
   ]
  },
  {
   "cell_type": "markdown",
   "metadata": {},
   "source": [
    "###### Conda Environment"
   ]
  },
  {
   "cell_type": "markdown",
   "metadata": {},
   "source": [
    "Wir verwenden die gleiche Conda Environment wie in Aufgabe 1 mit dem Namen `aufgabe1`."
   ]
  },
  {
   "cell_type": "markdown",
   "metadata": {},
   "source": [
    "###### Job-Datei"
   ]
  },
  {
   "cell_type": "markdown",
   "metadata": {},
   "source": [
    "Eine Job-Datei mit dem Namen `job_exercise5.job` wurde wie im Tutorial beschrieben angelegt. Im Folgenden ist ihr Inhalt zu sehen. Dabei werden 32 CPU-Kerne angefragt, da in Aufgabe 3 `n_jobs` maximal auf 32 gesetzt wird."
   ]
  },
  {
   "cell_type": "code",
   "execution_count": 2,
   "metadata": {},
   "outputs": [
    {
     "name": "stdout",
     "output_type": "stream",
     "text": [
      "cmd = Exercise5/script_exercise5.sh\n",
      "request_memory = 16GB\n",
      "request_cpus = 32 \n",
      "+REQUESTED_WALLTIME = 4\n",
      "notify_user = uiuqb@student.kit.edu\n",
      "notification = Always\n",
      "when_to_transfer_output = ON_EXIT_OR_EVICT\n",
      "should_transfer_files = YES\n",
      "transfer_input_files = data\n",
      "output = Exercise5/log/$(Cluster)-$(Process)_job.out\n",
      "error = Exercise5/log/$(Cluster)-$(Process)_job.error\n",
      "log = Exercise5/log/$(Cluster)- $(Process)_job.log\n",
      "queue 1\n",
      "\n"
     ]
    }
   ],
   "source": [
    "print_file('Exercise5/job_exercise5.job')"
   ]
  },
  {
   "cell_type": "markdown",
   "metadata": {},
   "source": [
    "###### Script-Datei"
   ]
  },
  {
   "cell_type": "markdown",
   "metadata": {},
   "source": [
    "Eine Script-Datei mit dem Namen `script_exercise5.sh` wurde wie im Tutorial beschrieben angelegt. Im Folgenden ist ihr Inhalt zu sehen:"
   ]
  },
  {
   "cell_type": "code",
   "execution_count": 3,
   "metadata": {},
   "outputs": [
    {
     "name": "stdout",
     "output_type": "stream",
     "text": [
      "#!/usr/bin/bash\n",
      "\n",
      "#setup anaconda\n",
      ". /etc/profile.d/anaconda.sh\n",
      "setup-anaconda\n",
      "# activate conda env\n",
      "source activate aufgabe1\n",
      "\n",
      "# run python\n",
      "python /smartdata/uiuqb/smart-data-analytics/Uebung2/Exercise5/Exercise3.py\n",
      "\n"
     ]
    }
   ],
   "source": [
    "print_file('Exercise5/script_exercise5.sh')"
   ]
  },
  {
   "cell_type": "markdown",
   "metadata": {},
   "source": [
    "###### Python-Datei"
   ]
  },
  {
   "cell_type": "markdown",
   "metadata": {},
   "source": [
    "Ein Python-Skript mit dem Namen `Exercise3.py` wurde mit den folgenden Befehlen erstellt und in den Ordner `Exercise5` verschoben:\n",
    "\n",
    "1. Erstellen: `jupyter nbconvert --to script Exercise3.ipynb`\n",
    "2. Verschieben: `mv Exercise3.py Exercise5/Exercise3.py`"
   ]
  },
  {
   "cell_type": "markdown",
   "metadata": {},
   "source": [
    "## Ausführen des Jobs"
   ]
  },
  {
   "cell_type": "markdown",
   "metadata": {},
   "source": [
    "Zum Ausführen des Jobs wurde folgender Befehl ausgeführt:  \n",
    "\n",
    "    condor_submit Exercise5/job_exercise5.job"
   ]
  },
  {
   "cell_type": "markdown",
   "metadata": {},
   "source": [
    "## Auswertung der Ergebnisse"
   ]
  },
  {
   "cell_type": "markdown",
   "metadata": {},
   "source": [
    "Die Ergebnisse werden vom Batch-Job in den Ordner `log` geschrieben. \n",
    "Beispielsweise sind in der Datei [105434-0_job.out](Exercise5/log/105106-0_job.out) die Konsolenausgaben der Ausführung zu sehen."
   ]
  },
  {
   "cell_type": "markdown",
   "metadata": {},
   "source": [
    "Da uns aufgefallen ist, dass die Ausführungszeiten leicht variieren, haben wir den Batch-Job 3 Mal ausgeführt:\n",
    "\n",
    "- [105434-0_job.out](Exercise5/log/105106-0_job.out)\n",
    "- [105435-0_job.out](Exercise5/log/105111-0_job.out)\n",
    "- [105436-0_job.out](Exercise5/log/105112-0_job.out)"
   ]
  },
  {
   "cell_type": "markdown",
   "metadata": {},
   "source": [
    "Da wir auf die Reproduzierbarkeit unserer Ergebnisse geachtet haben, ist bei allen Ausgaben die selben Ergebnisse zu beobachten.  \n",
    "Lediglich die Laufzeiten unterscheiden sich."
   ]
  },
  {
   "cell_type": "markdown",
   "metadata": {
    "collapsed": true
   },
   "source": [
    "Diese Laufzeiten werden im Folgenden mithilfe von `pandas` graphisch ausgewertet.  \n",
    "Aus diesem Grund muss diese Bibliothek hier importiert werden."
   ]
  },
  {
   "cell_type": "code",
   "execution_count": 4,
   "metadata": {},
   "outputs": [],
   "source": [
    "# Import Pandas to read data\n",
    "import pandas as pd"
   ]
  },
  {
   "cell_type": "markdown",
   "metadata": {},
   "source": [
    "#### Iris Flower Dataset"
   ]
  },
  {
   "cell_type": "markdown",
   "metadata": {},
   "source": [
    "Zunächst sollen die Laufzeiten für den Iris-Datensatz ausgewertet werden. Dazu werden zunächst die entsprechenden Zeilen aus den Log-Dateien gelesen."
   ]
  },
  {
   "cell_type": "code",
   "execution_count": 5,
   "metadata": {},
   "outputs": [],
   "source": [
    "# Read Data from log files\n",
    "times_iris_1 = pd.read_csv('Exercise5/log/105434-0_job.out', delimiter=\" \", skipinitialspace=True, nrows=32)\n",
    "times_iris_2 = pd.read_csv('Exercise5/log/105435-0_job.out', delimiter=\" \", skipinitialspace=True, nrows=32)\n",
    "times_iris_3 = pd.read_csv('Exercise5/log/105436-0_job.out', delimiter=\" \", skipinitialspace=True, nrows=32)"
   ]
  },
  {
   "cell_type": "markdown",
   "metadata": {},
   "source": [
    "Anschließendes aggregieren der Daten in einen einzigen `Dataframe`:"
   ]
  },
  {
   "cell_type": "code",
   "execution_count": 6,
   "metadata": {},
   "outputs": [],
   "source": [
    "# Aggregate data into one dataframe\n",
    "times_iris = times_iris_1\n",
    "times_iris['times2'] = times_iris_2['times']\n",
    "times_iris['times3'] = times_iris_3['times']"
   ]
  },
  {
   "cell_type": "markdown",
   "metadata": {},
   "source": [
    "Definieren der Funktion zum Plotten der Laufzeiten:"
   ]
  },
  {
   "cell_type": "code",
   "execution_count": 7,
   "metadata": {},
   "outputs": [],
   "source": [
    "# Define function to visualize the computing times\n",
    "def plot_times(times):\n",
    "    # Create the plot\n",
    "    plot = times.plot(x='n_jobs', legend=False)\n",
    "    # Set plot labels\n",
    "    plot.set(xlabel=\"n_jobs\", ylabel=\"Time in seconds\")"
   ]
  },
  {
   "cell_type": "markdown",
   "metadata": {},
   "source": [
    "- _Plot der einzelnen Laufzeiten_"
   ]
  },
  {
   "cell_type": "code",
   "execution_count": 8,
   "metadata": {},
   "outputs": [],
   "source": [
    "plot_times(times_iris)"
   ]
  },
  {
   "cell_type": "markdown",
   "metadata": {},
   "source": [
    "- _Plot der durchschnittlichen Laufzeiten_ (mit vorheriger Berechnung)"
   ]
  },
  {
   "cell_type": "code",
   "execution_count": 9,
   "metadata": {},
   "outputs": [
    {
     "data": {
      "image/png": "[encoded data removed]",
      "text/plain": [
       "<matplotlib.figure.Figure at 0x2acc74878eb8>"
      ]
     },
     "metadata": {},
     "output_type": "display_data"
    }
   ],
   "source": [
    "times_iris['average'] = times_iris.drop('n_jobs', axis=1).mean(axis=1)\n",
    "plot_times(times_iris[['n_jobs', 'average']])"
   ]
  },
  {
   "cell_type": "markdown",
   "metadata": {},
   "source": [
    "Es ist zu erkennen, dass für den Iris-Flower-Datensatz auch bei einer CPU-Anzahl von 32 eine Erhöhung des `n_jobs`-Parameters negative Auswirkungen auf die Laufzeit hat.\n",
    "\n",
    "Das könnte darauf zurückzuführen sein, dass es sich hierbei um einen eher kleinen Datensatz handelt und deshalb die Berechnung für das Multiprocessing überproportional viel Laufzeit benötigt."
   ]
  },
  {
   "cell_type": "markdown",
   "metadata": {},
   "source": [
    "#### Heart Disease UCI Dataset"
   ]
  },
  {
   "cell_type": "markdown",
   "metadata": {},
   "source": [
    "Abschließend sollen die Laufzeiten für den Heart-Desease-Datensatz ausgewertet werden. Dazu werden zunächst die entsprechenden Zeilen aus den Log-Dateien gelesen."
   ]
  },
  {
   "cell_type": "code",
   "execution_count": 10,
   "metadata": {},
   "outputs": [],
   "source": [
    "times_heart_1 = pd.read_csv('Exercise5/log/105434-0_job.out', delimiter=\" \", skipinitialspace=True, skiprows=37, nrows=32)\n",
    "times_heart_2 = pd.read_csv('Exercise5/log/105435-0_job.out', delimiter=\" \", skipinitialspace=True, skiprows=37, nrows=32)\n",
    "times_heart_3 = pd.read_csv('Exercise5/log/105436-0_job.out', delimiter=\" \", skipinitialspace=True, skiprows=37, nrows=32)"
   ]
  },
  {
   "cell_type": "markdown",
   "metadata": {},
   "source": [
    "Anschließendes aggregieren der Daten in einen einzigen `Dataframe`:"
   ]
  },
  {
   "cell_type": "code",
   "execution_count": 11,
   "metadata": {},
   "outputs": [],
   "source": [
    "times_heart = times_heart_1\n",
    "times_heart['times2'] = times_heart_2['times']\n",
    "times_heart['times3'] = times_heart_3['times']"
   ]
  },
  {
   "cell_type": "markdown",
   "metadata": {},
   "source": [
    "- _Plot der einzelnen Laufzeiten_"
   ]
  },
  {
   "cell_type": "code",
   "execution_count": 12,
   "metadata": {},
   "outputs": [
    {
     "data": {
      "image/png": "[encoded data removed]",
      "text/plain": [
       "<matplotlib.figure.Figure at 0x2acc748f3c50>"
      ]
     },
     "metadata": {},
     "output_type": "display_data"
    }
   ],
   "source": [
    "plot_times(times_heart)"
   ]
  },
  {
   "cell_type": "markdown",
   "metadata": {},
   "source": [
    "- _Plot der durchschnittlichen Laufzeiten_ (mit vorheriger Berechnung)"
   ]
  },
  {
   "cell_type": "code",
   "execution_count": 13,
   "metadata": {
    "scrolled": true
   },
   "outputs": [
    {
     "data": {
      "image/png": "[encoded data removed]",
      "text/plain": [
       "<matplotlib.figure.Figure at 0x2acc748f3e10>"
      ]
     },
     "metadata": {},
     "output_type": "display_data"
    }
   ],
   "source": [
    "times_heart['average'] = times_heart.drop('n_jobs', axis=1).mean(axis=1)\n",
    "plot_times(times_heart[['n_jobs', 'average']])"
   ]
  },
  {
   "cell_type": "markdown",
   "metadata": {},
   "source": [
    "Es ist zu erkennen, dass bei diesem Datensatz und einer CPU-Anzahl von 32 das Erhöhen des `n_jobs`-Parameters zu küzeren Laufzeiten führt. Es lohnt sich also, bei großen Datensätzen diese Möglichkeiten von SDIL zu nutzen."
   ]
  }
 ],
 "metadata": {
  "anaconda-cloud": {},
  "kernelspec": {
   "display_name": "Python [conda env:aufgabe1]",
   "language": "python",
   "name": "conda-env-aufgabe1-py"
  },
  "language_info": {
   "codemirror_mode": {
    "name": "ipython",
    "version": 3
   },
   "file_extension": ".py",
   "mimetype": "text/x-python",
   "name": "python",
   "nbconvert_exporter": "python",
   "pygments_lexer": "ipython3",
   "version": "3.5.4"
  }
 },
 "nbformat": 4,
 "nbformat_minor": 1
}
