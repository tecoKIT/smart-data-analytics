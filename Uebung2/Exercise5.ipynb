{
 "cells": [
  {
   "cell_type": "markdown",
   "metadata": {},
   "source": [
    "# Aufgabe 5: Batch System"
   ]
  },
  {
   "cell_type": "markdown",
   "metadata": {},
   "source": [
    "SDIL bietet ein sogenanntes Batch-System, um die SDIL-Resourcen effizient zu nutzen und eine Störung zwischen Nutzern zu vermeiden. "
   ]
  },
  {
   "cell_type": "markdown",
   "metadata": {},
   "source": [
    "In dieser Aufgabe sollen die Klassifikationsaufgaben aus [Aufgabe 3](./Exercise3.ipynb) mittels dieses Batch-Systems ausgeführt werden. Die nötigen Schritte sollen in diesem Notebook beschrieben werden."
   ]
  },
  {
   "cell_type": "markdown",
   "metadata": {},
   "source": [
    "## Setup"
   ]
  },
  {
   "cell_type": "markdown",
   "metadata": {},
   "source": [
    "Zur Benutzung des Batch-Systems sind laut dem Tutorial \"How To Use Batch System on SDIL\" folgende Dinge nötig:\n",
    "\n",
    "1. Eine Conda Environment\n",
    "2. Eine Job-Datei\n",
    "3. Eine Script-Datei\n",
    "4. Die auszuführende Python-Datei"
   ]
  },
  {
   "cell_type": "markdown",
   "metadata": {},
   "source": [
    "Um den Inhalt einiger Dateien zu zeigen, wird die Funktion `print_file` definiert, welche den Inhalt von Dateien anzeigen kann."
   ]
  },
  {
   "cell_type": "code",
   "execution_count": 15,
   "metadata": {
    "collapsed": true
   },
   "outputs": [],
   "source": [
    "def print_file(path):\n",
    "    f = open(path, 'r')\n",
    "    print(f.read())\n",
    "    f.close()"
   ]
  },
  {
   "cell_type": "markdown",
   "metadata": {},
   "source": [
    "###### Conda Environment"
   ]
  },
  {
   "cell_type": "markdown",
   "metadata": {},
   "source": [
    "Wir verwenden die gleiche Conda Environment wie in Aufgabe 1 mit dem Namen `aufgabe1`."
   ]
  },
  {
   "cell_type": "markdown",
   "metadata": {},
   "source": [
    "###### Job-Datei"
   ]
  },
  {
   "cell_type": "markdown",
   "metadata": {},
   "source": [
    "Eine Job-Datei mit dem Namen `job_exercise5.job` wurde wie im Tutorial beschrieben angelegt. Im Folgenden ist ihr Inhalt zu sehen:"
   ]
  },
  {
   "cell_type": "code",
   "execution_count": 20,
   "metadata": {},
   "outputs": [
    {
     "name": "stdout",
     "output_type": "stream",
     "text": [
      "cmd = Exercise5/script_exercise5.sh\n",
      "request_memory = 16GB\n",
      "request_cpus = 1 \n",
      "+REQUESTED_WALLTIME = 4\n",
      "notify_user = uiuqb@student.kit.edu\n",
      "notification = Always\n",
      "when_to_transfer_output = ON_EXIT_OR_EVICT\n",
      "should_transfer_files = YES\n",
      "transfer_input_files = data\n",
      "output = Exercise5/log/$(Cluster)-$(Process)_job.out\n",
      "error = Exercise5/log/$(Cluster)-$(Process)_job.error\n",
      "log = Exercise5/log/$(Cluster)- $(Process)_job.log\n",
      "queue 1\n",
      "\n"
     ]
    }
   ],
   "source": [
    "print_file('Exercise5/job_exercise5.job')"
   ]
  },
  {
   "cell_type": "markdown",
   "metadata": {},
   "source": [
    "###### Script-Datei"
   ]
  },
  {
   "cell_type": "markdown",
   "metadata": {},
   "source": [
    "Eine Script-Datei mit dem Namen `script_exercise5.sh` wurde wie im Tutorial beschrieben angelegt. Im Folgenden ist ihr Inhalt zu sehen:"
   ]
  },
  {
   "cell_type": "code",
   "execution_count": 21,
   "metadata": {},
   "outputs": [
    {
     "name": "stdout",
     "output_type": "stream",
     "text": [
      "#!/usr/bin/bash\n",
      "\n",
      "#setup anaconda\n",
      ". /etc/profile.d/anaconda.sh\n",
      "setup-anaconda\n",
      "# activate conda env\n",
      "source activate aufgabe1\n",
      "\n",
      "# run python\n",
      "python /smartdata/uiuqb/smart-data-analytics/Uebung2/Exercise5/Exercise3.py\n",
      "\n"
     ]
    }
   ],
   "source": [
    "print_file('Exercise5/script_exercise5.sh')"
   ]
  },
  {
   "cell_type": "markdown",
   "metadata": {},
   "source": [
    "###### Python-Datei"
   ]
  },
  {
   "cell_type": "markdown",
   "metadata": {},
   "source": [
    "Ein Python-Skript mit dem Namen `Exercise3.py` wurde mit den folgenden Befehlen erstellt und in den Ordner `Exercise5` verschoben:\n",
    "\n",
    "1. Erstellen: `jupyter nbconvert --to script Exercise3.ipynb`\n",
    "2. Verschieben: `mv Exercise3.py Exercise5/Exercise3.py`"
   ]
  },
  {
   "cell_type": "markdown",
   "metadata": {},
   "source": [
    "## Ausführen des Jobs"
   ]
  },
  {
   "cell_type": "markdown",
   "metadata": {},
   "source": [
    "Zum Ausführen des Jobs wurde folgender Befehl ausgeführt:  \n",
    "\n",
    "    condor_submit Exercise5/job_exercise5.job"
   ]
  },
  {
   "cell_type": "markdown",
   "metadata": {},
   "source": [
    "## Auswertung der Ergebnisse"
   ]
  },
  {
   "cell_type": "code",
   "execution_count": null,
   "metadata": {
    "collapsed": true
   },
   "outputs": [],
   "source": [
    "print_file('Exercise5/errors/')"
   ]
  }
 ],
 "metadata": {
  "anaconda-cloud": {},
  "kernelspec": {
   "display_name": "Python [conda env:aufgabe1]",
   "language": "python",
   "name": "conda-env-aufgabe1-py"
  },
  "language_info": {
   "codemirror_mode": {
    "name": "ipython",
    "version": 3
   },
   "file_extension": ".py",
   "mimetype": "text/x-python",
   "name": "python",
   "nbconvert_exporter": "python",
   "pygments_lexer": "ipython3",
   "version": "3.5.4"
  }
 },
 "nbformat": 4,
 "nbformat_minor": 1
}
