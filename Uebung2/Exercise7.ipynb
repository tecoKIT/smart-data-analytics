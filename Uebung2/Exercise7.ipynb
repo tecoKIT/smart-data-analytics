{
 "cells": [
  {
   "cell_type": "markdown",
   "metadata": {},
   "source": [
    "# Aufgabe 7: AutoML"
   ]
  },
  {
   "cell_type": "markdown",
   "metadata": {},
   "source": [
    "AutoML stellt Methoden und Prozesse zur Verfügung, um maschinelles Lernen auch Nicht-Machine-Learning-Experten zugänglich zu machen. Die Universität Freiburg hat eine Internetseite mit weiterführenden Informationen und einigen AutoML-Packages zusammengestellt, die unter folgenden Link zu erreichen ist: https://www.ml4aad.org/automl/."
   ]
  },
  {
   "cell_type": "markdown",
   "metadata": {},
   "source": [
    "###### (a) Wählen Sie ein AutoML Package. Begründen Sie Ihre Auswahl."
   ]
  },
  {
   "cell_type": "markdown",
   "metadata": {},
   "source": [
    "Wir haben uns für _H2O AutoML_ entschieden, weil es in Hinblick auf die Reproduzierbarkeit der Ergebnisse am leichtesten auf verschiedenen Plattformen installierbar ist.\n",
    "\n",
    "Bei _auto-sklearn_ beispielsweise fehlten die Berechtigungen, um die benötigten Dependencies auf SDIL zu installieren.\n",
    "Für andere AutoML-Bibliotheken wurde lediglich ein git-repo zur Verfügung gestellt, weshalb diese nicht einfach über eine `requirements.txt` installiert werden können.\n",
    "\n",
    "Zudem fanden wir die Dokumentation zu _H2O AutoML_ auf den ersten Blick sehr übersichtlich."
   ]
  },
  {
   "cell_type": "markdown",
   "metadata": {},
   "source": [
    "###### (b) Führen Sie die Klassifikationsaufgabe von Aufgabe 3 mit AutoML durch. Vergleichen Sie die Ergebnisse mit den Ergebnissen aus Aufgabe 3."
   ]
  },
  {
   "cell_type": "markdown",
   "metadata": {},
   "source": [
    "http://docs.h2o.ai/h2o/latest-stable/h2o-docs/automl.html"
   ]
  },
  {
   "cell_type": "code",
   "execution_count": 1,
   "metadata": {},
   "outputs": [
    {
     "data": {
      "text/html": [
       "<style>.rendered_html table {width:auto !important;}</style>"
      ],
      "text/plain": [
       "<IPython.core.display.HTML object>"
      ]
     },
     "execution_count": 1,
     "metadata": {},
     "output_type": "execute_result"
    }
   ],
   "source": [
    "# Import Libraries\n",
    "import time\n",
    "import multiprocessing\n",
    "\n",
    "import pandas as pd\n",
    "import numpy as np\n",
    "\n",
    "from sklearn import svm\n",
    "from sklearn import model_selection\n",
    "from sklearn.model_selection import GridSearchCV\n",
    "\n",
    "import h2o\n",
    "from h2o.automl import H2OAutoML\n",
    "from h2o.frame import H2OFrame\n",
    "\n",
    "from sklearn.metrics import classification_report\n",
    "from sklearn.metrics import confusion_matrix\n",
    "from sklearn.metrics import accuracy_score\n",
    "\n",
    "# Fix for display error of tables\n",
    "from IPython.core.display import HTML\n",
    "HTML(\"<style>.rendered_html table {width:auto !important;}</style>\")"
   ]
  },
  {
   "cell_type": "code",
   "execution_count": 2,
   "metadata": {},
   "outputs": [
    {
     "name": "stdout",
     "output_type": "stream",
     "text": [
      "Checking whether there is an H2O instance running at http://localhost:54321..... not found.\n",
      "Attempting to start a local H2O server...\n",
      "  Java Version: openjdk version \"1.8.0_152-release\"; OpenJDK Runtime Environment (build 1.8.0_152-release-1056-b12); OpenJDK 64-Bit Server VM (build 25.152-b12, mixed mode)\n",
      "  Starting server from /Users/d062356/miniconda3/envs/smart-data-analytics/h2o_jar/h2o.jar\n",
      "  Ice root: /var/folders/g3/8_fmjvcd5t3fqv5m5c3zz20m0000gn/T/tmprqtgkwgs\n",
      "  JVM stdout: /var/folders/g3/8_fmjvcd5t3fqv5m5c3zz20m0000gn/T/tmprqtgkwgs/h2o_d062356_started_from_python.out\n",
      "  JVM stderr: /var/folders/g3/8_fmjvcd5t3fqv5m5c3zz20m0000gn/T/tmprqtgkwgs/h2o_d062356_started_from_python.err\n",
      "  Server is running at http://127.0.0.1:54321\n",
      "Connecting to H2O server at http://127.0.0.1:54321... successful.\n",
      "Warning: Your H2O cluster version is too old (1 year, 2 months and 19 days)! Please download and install the latest version from http://h2o.ai/download/\n"
     ]
    },
    {
     "data": {
      "text/html": [
       "<div style=\"overflow:auto\"><table style=\"width:50%\"><tr><td>H2O cluster uptime:</td>\n",
       "<td>02 secs</td></tr>\n",
       "<tr><td>H2O cluster timezone:</td>\n",
       "<td>Europe/Berlin</td></tr>\n",
       "<tr><td>H2O data parsing timezone:</td>\n",
       "<td>UTC</td></tr>\n",
       "<tr><td>H2O cluster version:</td>\n",
       "<td>3.18.0.2</td></tr>\n",
       "<tr><td>H2O cluster version age:</td>\n",
       "<td>1 year, 2 months and 19 days !!!</td></tr>\n",
       "<tr><td>H2O cluster name:</td>\n",
       "<td>H2O_from_python_d062356_5ql9sa</td></tr>\n",
       "<tr><td>H2O cluster total nodes:</td>\n",
       "<td>1</td></tr>\n",
       "<tr><td>H2O cluster free memory:</td>\n",
       "<td>3.556 Gb</td></tr>\n",
       "<tr><td>H2O cluster total cores:</td>\n",
       "<td>8</td></tr>\n",
       "<tr><td>H2O cluster allowed cores:</td>\n",
       "<td>8</td></tr>\n",
       "<tr><td>H2O cluster status:</td>\n",
       "<td>accepting new members, healthy</td></tr>\n",
       "<tr><td>H2O connection url:</td>\n",
       "<td>http://127.0.0.1:54321</td></tr>\n",
       "<tr><td>H2O connection proxy:</td>\n",
       "<td>None</td></tr>\n",
       "<tr><td>H2O internal security:</td>\n",
       "<td>False</td></tr>\n",
       "<tr><td>H2O API Extensions:</td>\n",
       "<td>XGBoost, Algos, AutoML, Core V3, Core V4</td></tr>\n",
       "<tr><td>Python version:</td>\n",
       "<td>3.6.8 final</td></tr></table></div>"
      ],
      "text/plain": [
       "--------------------------  ----------------------------------------\n",
       "H2O cluster uptime:         02 secs\n",
       "H2O cluster timezone:       Europe/Berlin\n",
       "H2O data parsing timezone:  UTC\n",
       "H2O cluster version:        3.18.0.2\n",
       "H2O cluster version age:    1 year, 2 months and 19 days !!!\n",
       "H2O cluster name:           H2O_from_python_d062356_5ql9sa\n",
       "H2O cluster total nodes:    1\n",
       "H2O cluster free memory:    3.556 Gb\n",
       "H2O cluster total cores:    8\n",
       "H2O cluster allowed cores:  8\n",
       "H2O cluster status:         accepting new members, healthy\n",
       "H2O connection url:         http://127.0.0.1:54321\n",
       "H2O connection proxy:\n",
       "H2O internal security:      False\n",
       "H2O API Extensions:         XGBoost, Algos, AutoML, Core V3, Core V4\n",
       "Python version:             3.6.8 final\n",
       "--------------------------  ----------------------------------------"
      ]
     },
     "metadata": {},
     "output_type": "display_data"
    }
   ],
   "source": [
    "# initialize h2o\n",
    "h2o.init()"
   ]
  },
  {
   "cell_type": "code",
   "execution_count": 3,
   "metadata": {},
   "outputs": [],
   "source": [
    "# Load dataset iris\n",
    "url = \"https://archive.ics.uci.edu/ml/machine-learning-databases/iris/iris.data\"\n",
    "names = ['sepal-length', 'sepal-width', 'petal-length', 'petal-width', 'class']\n",
    "iris = pd.read_csv(url, names=names)"
   ]
  },
  {
   "cell_type": "code",
   "execution_count": 4,
   "metadata": {},
   "outputs": [],
   "source": [
    "# Split-out validation dataset\n",
    "array = iris.values\n",
    "X = array[:,0:4]\n",
    "Y = array[:,4]\n",
    "test_size = 0.20\n",
    "seed = 7\n",
    "X_train, X_test, y_train, y_test = model_selection.train_test_split(X, Y, test_size=test_size, random_state=seed)"
   ]
  },
  {
   "cell_type": "code",
   "execution_count": 5,
   "metadata": {},
   "outputs": [
    {
     "name": "stdout",
     "output_type": "stream",
     "text": [
      "Parse progress: |█████████████████████████████████████████████████████████| 100%\n",
      "Parse progress: |█████████████████████████████████████████████████████████| 100%\n"
     ]
    }
   ],
   "source": [
    "# prepare data by creating a train and test array and transforming it into an h2o frame\n",
    "train_array = np.column_stack([X_train, y_train])\n",
    "test_array = np.column_stack([X_test, y_test])\n",
    "\n",
    "train = H2OFrame(python_obj=train_array, column_names=names)\n",
    "test = H2OFrame(python_obj=test_array, column_names=names)"
   ]
  },
  {
   "cell_type": "code",
   "execution_count": 6,
   "metadata": {},
   "outputs": [],
   "source": [
    "# Identify predictors and response\n",
    "x = names\n",
    "y = \"class\"\n",
    "x.remove(y)"
   ]
  },
  {
   "cell_type": "code",
   "execution_count": 7,
   "metadata": {},
   "outputs": [
    {
     "name": "stdout",
     "output_type": "stream",
     "text": [
      "AutoML progress: |████████████████████████████████████████████████████████| 100%\n",
      "Parse progress: |█████████████████████████████████████████████████████████| 100%\n"
     ]
    }
   ],
   "source": [
    "# set number of models to 20 and start training\n",
    "aml = H2OAutoML(max_models=20, seed=1, nfolds=10)\n",
    "aml.train(x=x, y=y, training_frame=train)                                 "
   ]
  },
  {
   "cell_type": "code",
   "execution_count": 8,
   "metadata": {},
   "outputs": [
    {
     "data": {
      "text/html": [
       "<table>\n",
       "<thead>\n",
       "<tr><th>model_id                                             </th><th style=\"text-align: right;\">  mean_per_class_error</th></tr>\n",
       "</thead>\n",
       "<tbody>\n",
       "<tr><td>GBM_grid_0_AutoML_20190525_162151_model_15           </td><td style=\"text-align: right;\">              0.011111</td></tr>\n",
       "<tr><td>DRF_0_AutoML_20190525_162151                         </td><td style=\"text-align: right;\">              0.011111</td></tr>\n",
       "<tr><td>XRT_0_AutoML_20190525_162151                         </td><td style=\"text-align: right;\">              0.011111</td></tr>\n",
       "<tr><td>DeepLearning_grid_0_AutoML_20190525_162151_model_0   </td><td style=\"text-align: right;\">              0.011111</td></tr>\n",
       "<tr><td>GBM_grid_0_AutoML_20190525_162151_model_8            </td><td style=\"text-align: right;\">              0.022222</td></tr>\n",
       "<tr><td>GBM_grid_0_AutoML_20190525_162151_model_11           </td><td style=\"text-align: right;\">              0.022222</td></tr>\n",
       "<tr><td>GLM_grid_0_AutoML_20190525_162151_model_0            </td><td style=\"text-align: right;\">              0.022222</td></tr>\n",
       "<tr><td>GBM_grid_0_AutoML_20190525_162151_model_9            </td><td style=\"text-align: right;\">              0.022222</td></tr>\n",
       "<tr><td>StackedEnsemble_AllModels_0_AutoML_20190525_162151   </td><td style=\"text-align: right;\">              0.022222</td></tr>\n",
       "<tr><td>GBM_grid_0_AutoML_20190525_162151_model_2            </td><td style=\"text-align: right;\">              0.033333</td></tr>\n",
       "<tr><td>GBM_grid_0_AutoML_20190525_162151_model_14           </td><td style=\"text-align: right;\">              0.033333</td></tr>\n",
       "<tr><td>GBM_grid_0_AutoML_20190525_162151_model_12           </td><td style=\"text-align: right;\">              0.033333</td></tr>\n",
       "<tr><td>GBM_grid_0_AutoML_20190525_162151_model_10           </td><td style=\"text-align: right;\">              0.033333</td></tr>\n",
       "<tr><td>GBM_grid_0_AutoML_20190525_162151_model_1            </td><td style=\"text-align: right;\">              0.033333</td></tr>\n",
       "<tr><td>GBM_grid_0_AutoML_20190525_162151_model_13           </td><td style=\"text-align: right;\">              0.033333</td></tr>\n",
       "<tr><td>GBM_grid_0_AutoML_20190525_162151_model_3            </td><td style=\"text-align: right;\">              0.033333</td></tr>\n",
       "<tr><td>GBM_grid_0_AutoML_20190525_162151_model_5            </td><td style=\"text-align: right;\">              0.033333</td></tr>\n",
       "<tr><td>GBM_grid_0_AutoML_20190525_162151_model_0            </td><td style=\"text-align: right;\">              0.033333</td></tr>\n",
       "<tr><td>DeepLearning_0_AutoML_20190525_162151                </td><td style=\"text-align: right;\">              0.044444</td></tr>\n",
       "<tr><td>GBM_grid_0_AutoML_20190525_162151_model_7            </td><td style=\"text-align: right;\">              0.144444</td></tr>\n",
       "<tr><td>GBM_grid_0_AutoML_20190525_162151_model_4            </td><td style=\"text-align: right;\">              0.144444</td></tr>\n",
       "<tr><td>StackedEnsemble_BestOfFamily_0_AutoML_20190525_162151</td><td style=\"text-align: right;\">              0.666667</td></tr>\n",
       "</tbody>\n",
       "</table>"
      ]
     },
     "metadata": {},
     "output_type": "display_data"
    },
    {
     "data": {
      "text/plain": []
     },
     "metadata": {},
     "output_type": "display_data"
    }
   ],
   "source": [
    "# View the AutoML Leaderboard\n",
    "lb = aml.leaderboard\n",
    "display(lb.head(rows=lb.nrows)) # Print all rows instead of default (10 rows)"
   ]
  },
  {
   "cell_type": "code",
   "execution_count": 9,
   "metadata": {
    "scrolled": false
   },
   "outputs": [
    {
     "name": "stdout",
     "output_type": "stream",
     "text": [
      "Model Details\n",
      "=============\n",
      "H2OGradientBoostingEstimator :  Gradient Boosting Machine\n",
      "Model Key:  GBM_grid_0_AutoML_20190525_162151_model_15\n",
      "\n",
      "\n",
      "ModelMetricsMultinomial: gbm\n",
      "** Reported on train data. **\n",
      "\n",
      "MSE: 8.349901175356046e-06\n",
      "RMSE: 0.002889619555470243\n",
      "LogLoss: 0.0007618680879659699\n",
      "Mean Per-Class Error: 0.0\n",
      "Confusion Matrix: Row labels: Actual class; Column labels: Predicted class\n",
      "\n"
     ]
    },
    {
     "data": {
      "text/html": [
       "<div style=\"overflow:auto\"><table style=\"width:50%\"><tr><td><b>Iris-setosa</b></td>\n",
       "<td><b>Iris-versicolor</b></td>\n",
       "<td><b>Iris-virginica</b></td>\n",
       "<td><b>Error</b></td>\n",
       "<td><b>Rate</b></td></tr>\n",
       "<tr><td>29.0</td>\n",
       "<td>0.0</td>\n",
       "<td>0.0</td>\n",
       "<td>0.0</td>\n",
       "<td>0 / 29</td></tr>\n",
       "<tr><td>0.0</td>\n",
       "<td>30.0</td>\n",
       "<td>0.0</td>\n",
       "<td>0.0</td>\n",
       "<td>0 / 30</td></tr>\n",
       "<tr><td>0.0</td>\n",
       "<td>0.0</td>\n",
       "<td>30.0</td>\n",
       "<td>0.0</td>\n",
       "<td>0 / 30</td></tr>\n",
       "<tr><td>29.0</td>\n",
       "<td>30.0</td>\n",
       "<td>30.0</td>\n",
       "<td>0.0</td>\n",
       "<td>0 / 89</td></tr></table></div>"
      ],
      "text/plain": [
       "Iris-setosa    Iris-versicolor    Iris-virginica    Error    Rate\n",
       "-------------  -----------------  ----------------  -------  ------\n",
       "29             0                  0                 0        0 / 29\n",
       "0              30                 0                 0        0 / 30\n",
       "0              0                  30                0        0 / 30\n",
       "29             30                 30                0        0 / 89"
      ]
     },
     "metadata": {},
     "output_type": "display_data"
    },
    {
     "name": "stdout",
     "output_type": "stream",
     "text": [
      "Top-3 Hit Ratios: \n"
     ]
    },
    {
     "data": {
      "text/html": [
       "<div style=\"overflow:auto\"><table style=\"width:50%\"><tr><td><b>k</b></td>\n",
       "<td><b>hit_ratio</b></td></tr>\n",
       "<tr><td>1</td>\n",
       "<td>1.0</td></tr>\n",
       "<tr><td>2</td>\n",
       "<td>1.0</td></tr>\n",
       "<tr><td>3</td>\n",
       "<td>1.0</td></tr></table></div>"
      ],
      "text/plain": [
       "k    hit_ratio\n",
       "---  -----------\n",
       "1    1\n",
       "2    1\n",
       "3    1"
      ]
     },
     "metadata": {},
     "output_type": "display_data"
    },
    {
     "name": "stdout",
     "output_type": "stream",
     "text": [
      "\n",
      "ModelMetricsMultinomial: gbm\n",
      "** Reported on validation data. **\n",
      "\n",
      "MSE: 0.029858859578529552\n",
      "RMSE: 0.17279716310903243\n",
      "LogLoss: 0.10589490037197341\n",
      "Mean Per-Class Error: 0.037037037037037035\n",
      "Confusion Matrix: Row labels: Actual class; Column labels: Predicted class\n",
      "\n"
     ]
    },
    {
     "data": {
      "text/html": [
       "<div style=\"overflow:auto\"><table style=\"width:50%\"><tr><td><b>Iris-setosa</b></td>\n",
       "<td><b>Iris-versicolor</b></td>\n",
       "<td><b>Iris-virginica</b></td>\n",
       "<td><b>Error</b></td>\n",
       "<td><b>Rate</b></td></tr>\n",
       "<tr><td>14.0</td>\n",
       "<td>0.0</td>\n",
       "<td>0.0</td>\n",
       "<td>0.0</td>\n",
       "<td>0 / 14</td></tr>\n",
       "<tr><td>0.0</td>\n",
       "<td>8.0</td>\n",
       "<td>0.0</td>\n",
       "<td>0.0</td>\n",
       "<td>0 / 8</td></tr>\n",
       "<tr><td>0.0</td>\n",
       "<td>1.0</td>\n",
       "<td>8.0</td>\n",
       "<td>0.1111111</td>\n",
       "<td>1 / 9</td></tr>\n",
       "<tr><td>14.0</td>\n",
       "<td>9.0</td>\n",
       "<td>8.0</td>\n",
       "<td>0.0322581</td>\n",
       "<td>1 / 31</td></tr></table></div>"
      ],
      "text/plain": [
       "Iris-setosa    Iris-versicolor    Iris-virginica    Error      Rate\n",
       "-------------  -----------------  ----------------  ---------  ------\n",
       "14             0                  0                 0          0 / 14\n",
       "0              8                  0                 0          0 / 8\n",
       "0              1                  8                 0.111111   1 / 9\n",
       "14             9                  8                 0.0322581  1 / 31"
      ]
     },
     "metadata": {},
     "output_type": "display_data"
    },
    {
     "name": "stdout",
     "output_type": "stream",
     "text": [
      "Top-3 Hit Ratios: \n"
     ]
    },
    {
     "data": {
      "text/html": [
       "<div style=\"overflow:auto\"><table style=\"width:50%\"><tr><td><b>k</b></td>\n",
       "<td><b>hit_ratio</b></td></tr>\n",
       "<tr><td>1</td>\n",
       "<td>0.9677419</td></tr>\n",
       "<tr><td>2</td>\n",
       "<td>1.0</td></tr>\n",
       "<tr><td>3</td>\n",
       "<td>1.0</td></tr></table></div>"
      ],
      "text/plain": [
       "k    hit_ratio\n",
       "---  -----------\n",
       "1    0.967742\n",
       "2    1\n",
       "3    1"
      ]
     },
     "metadata": {},
     "output_type": "display_data"
    },
    {
     "name": "stdout",
     "output_type": "stream",
     "text": [
      "\n",
      "ModelMetricsMultinomial: gbm\n",
      "** Reported on cross-validation data. **\n",
      "\n",
      "MSE: 0.011864144793886748\n",
      "RMSE: 0.1089226550993261\n",
      "LogLoss: 0.03798343286985158\n",
      "Mean Per-Class Error: 0.011111111111111112\n",
      "Confusion Matrix: Row labels: Actual class; Column labels: Predicted class\n",
      "\n"
     ]
    },
    {
     "data": {
      "text/html": [
       "<div style=\"overflow:auto\"><table style=\"width:50%\"><tr><td><b>Iris-setosa</b></td>\n",
       "<td><b>Iris-versicolor</b></td>\n",
       "<td><b>Iris-virginica</b></td>\n",
       "<td><b>Error</b></td>\n",
       "<td><b>Rate</b></td></tr>\n",
       "<tr><td>29.0</td>\n",
       "<td>0.0</td>\n",
       "<td>0.0</td>\n",
       "<td>0.0</td>\n",
       "<td>0 / 29</td></tr>\n",
       "<tr><td>0.0</td>\n",
       "<td>30.0</td>\n",
       "<td>0.0</td>\n",
       "<td>0.0</td>\n",
       "<td>0 / 30</td></tr>\n",
       "<tr><td>0.0</td>\n",
       "<td>1.0</td>\n",
       "<td>29.0</td>\n",
       "<td>0.0333333</td>\n",
       "<td>1 / 30</td></tr>\n",
       "<tr><td>29.0</td>\n",
       "<td>31.0</td>\n",
       "<td>29.0</td>\n",
       "<td>0.0112360</td>\n",
       "<td>1 / 89</td></tr></table></div>"
      ],
      "text/plain": [
       "Iris-setosa    Iris-versicolor    Iris-virginica    Error      Rate\n",
       "-------------  -----------------  ----------------  ---------  ------\n",
       "29             0                  0                 0          0 / 29\n",
       "0              30                 0                 0          0 / 30\n",
       "0              1                  29                0.0333333  1 / 30\n",
       "29             31                 29                0.011236   1 / 89"
      ]
     },
     "metadata": {},
     "output_type": "display_data"
    },
    {
     "name": "stdout",
     "output_type": "stream",
     "text": [
      "Top-3 Hit Ratios: \n"
     ]
    },
    {
     "data": {
      "text/html": [
       "<div style=\"overflow:auto\"><table style=\"width:50%\"><tr><td><b>k</b></td>\n",
       "<td><b>hit_ratio</b></td></tr>\n",
       "<tr><td>1</td>\n",
       "<td>0.9887641</td></tr>\n",
       "<tr><td>2</td>\n",
       "<td>1.0</td></tr>\n",
       "<tr><td>3</td>\n",
       "<td>1.0</td></tr></table></div>"
      ],
      "text/plain": [
       "k    hit_ratio\n",
       "---  -----------\n",
       "1    0.988764\n",
       "2    1\n",
       "3    1"
      ]
     },
     "metadata": {},
     "output_type": "display_data"
    },
    {
     "name": "stdout",
     "output_type": "stream",
     "text": [
      "Cross-Validation Metrics Summary: \n"
     ]
    },
    {
     "data": {
      "text/html": [
       "<div style=\"overflow:auto\"><table style=\"width:50%\"><tr><td><b></b></td>\n",
       "<td><b>mean</b></td>\n",
       "<td><b>sd</b></td>\n",
       "<td><b>cv_1_valid</b></td>\n",
       "<td><b>cv_2_valid</b></td>\n",
       "<td><b>cv_3_valid</b></td>\n",
       "<td><b>cv_4_valid</b></td>\n",
       "<td><b>cv_5_valid</b></td>\n",
       "<td><b>cv_6_valid</b></td>\n",
       "<td><b>cv_7_valid</b></td>\n",
       "<td><b>cv_8_valid</b></td>\n",
       "<td><b>cv_9_valid</b></td>\n",
       "<td><b>cv_10_valid</b></td></tr>\n",
       "<tr><td>accuracy</td>\n",
       "<td>0.9888889</td>\n",
       "<td>0.0235702</td>\n",
       "<td>1.0</td>\n",
       "<td>1.0</td>\n",
       "<td>1.0</td>\n",
       "<td>1.0</td>\n",
       "<td>1.0</td>\n",
       "<td>1.0</td>\n",
       "<td>1.0</td>\n",
       "<td>0.8888889</td>\n",
       "<td>1.0</td>\n",
       "<td>1.0</td></tr>\n",
       "<tr><td>err</td>\n",
       "<td>0.0111111</td>\n",
       "<td>0.0235702</td>\n",
       "<td>0.0</td>\n",
       "<td>0.0</td>\n",
       "<td>0.0</td>\n",
       "<td>0.0</td>\n",
       "<td>0.0</td>\n",
       "<td>0.0</td>\n",
       "<td>0.0</td>\n",
       "<td>0.1111111</td>\n",
       "<td>0.0</td>\n",
       "<td>0.0</td></tr>\n",
       "<tr><td>err_count</td>\n",
       "<td>0.1</td>\n",
       "<td>0.2121320</td>\n",
       "<td>0.0</td>\n",
       "<td>0.0</td>\n",
       "<td>0.0</td>\n",
       "<td>0.0</td>\n",
       "<td>0.0</td>\n",
       "<td>0.0</td>\n",
       "<td>0.0</td>\n",
       "<td>1.0</td>\n",
       "<td>0.0</td>\n",
       "<td>0.0</td></tr>\n",
       "<tr><td>logloss</td>\n",
       "<td>0.0375999</td>\n",
       "<td>0.0299332</td>\n",
       "<td>0.0370365</td>\n",
       "<td>0.0000455</td>\n",
       "<td>0.0000001</td>\n",
       "<td>0.0738255</td>\n",
       "<td>0.0766432</td>\n",
       "<td>0.0125085</td>\n",
       "<td>0.0000000</td>\n",
       "<td>0.1327098</td>\n",
       "<td>0.0397612</td>\n",
       "<td>0.0034691</td></tr>\n",
       "<tr><td>max_per_class_error</td>\n",
       "<td>0.0166667</td>\n",
       "<td>0.0353553</td>\n",
       "<td>0.0</td>\n",
       "<td>0.0</td>\n",
       "<td>0.0</td>\n",
       "<td>0.0</td>\n",
       "<td>0.0</td>\n",
       "<td>0.0</td>\n",
       "<td>0.0</td>\n",
       "<td>0.1666667</td>\n",
       "<td>0.0</td>\n",
       "<td>0.0</td></tr>\n",
       "<tr><td>mean_per_class_accuracy</td>\n",
       "<td>0.9944444</td>\n",
       "<td>0.0117851</td>\n",
       "<td>1.0</td>\n",
       "<td>1.0</td>\n",
       "<td>1.0</td>\n",
       "<td>1.0</td>\n",
       "<td>1.0</td>\n",
       "<td>1.0</td>\n",
       "<td>1.0</td>\n",
       "<td>0.9444444</td>\n",
       "<td>1.0</td>\n",
       "<td>1.0</td></tr>\n",
       "<tr><td>mean_per_class_error</td>\n",
       "<td>0.0055556</td>\n",
       "<td>0.0117851</td>\n",
       "<td>0.0</td>\n",
       "<td>0.0</td>\n",
       "<td>0.0</td>\n",
       "<td>0.0</td>\n",
       "<td>0.0</td>\n",
       "<td>0.0</td>\n",
       "<td>0.0</td>\n",
       "<td>0.0555556</td>\n",
       "<td>0.0</td>\n",
       "<td>0.0</td></tr>\n",
       "<tr><td>mse</td>\n",
       "<td>0.0117332</td>\n",
       "<td>0.0110742</td>\n",
       "<td>0.0087176</td>\n",
       "<td>0.0000000</td>\n",
       "<td>0.0000000</td>\n",
       "<td>0.0252963</td>\n",
       "<td>0.0251847</td>\n",
       "<td>0.0011720</td>\n",
       "<td>0.0000000</td>\n",
       "<td>0.0491780</td>\n",
       "<td>0.0077064</td>\n",
       "<td>0.0000768</td></tr>\n",
       "<tr><td>r2</td>\n",
       "<td>0.9755917</td>\n",
       "<td>0.0253430</td>\n",
       "<td>0.9886109</td>\n",
       "<td>1.0</td>\n",
       "<td>1.0</td>\n",
       "<td>0.9620555</td>\n",
       "<td>0.9215399</td>\n",
       "<td>0.9978425</td>\n",
       "<td>1.0</td>\n",
       "<td>0.8951733</td>\n",
       "<td>0.9908204</td>\n",
       "<td>0.999874</td></tr>\n",
       "<tr><td>rmse</td>\n",
       "<td>0.0763781</td>\n",
       "<td>0.0543119</td>\n",
       "<td>0.0933680</td>\n",
       "<td>0.0001242</td>\n",
       "<td>0.0000001</td>\n",
       "<td>0.1590482</td>\n",
       "<td>0.1586970</td>\n",
       "<td>0.0342342</td>\n",
       "<td>0.0000000</td>\n",
       "<td>0.2217611</td>\n",
       "<td>0.0877860</td>\n",
       "<td>0.0087620</td></tr></table></div>"
      ],
      "text/plain": [
       "                         mean        sd         cv_1_valid    cv_2_valid    cv_3_valid    cv_4_valid    cv_5_valid    cv_6_valid    cv_7_valid    cv_8_valid    cv_9_valid    cv_10_valid\n",
       "-----------------------  ----------  ---------  ------------  ------------  ------------  ------------  ------------  ------------  ------------  ------------  ------------  -------------\n",
       "accuracy                 0.988889    0.0235702  1             1             1             1             1             1             1             0.888889      1             1\n",
       "err                      0.0111111   0.0235702  0             0             0             0             0             0             0             0.111111      0             0\n",
       "err_count                0.1         0.212132   0             0             0             0             0             0             0             1             0             0\n",
       "logloss                  0.0375999   0.0299332  0.0370365     4.54959e-05   5.98264e-08   0.0738255     0.0766432     0.0125085     3.29466e-09   0.13271       0.0397612     0.00346907\n",
       "max_per_class_error      0.0166667   0.0353553  0             0             0             0             0             0             0             0.166667      0             0\n",
       "mean_per_class_accuracy  0.994444    0.0117851  1             1             1             1             1             1             1             0.944444      1             1\n",
       "mean_per_class_error     0.00555556  0.0117851  0             0             0             0             0             0             0             0.0555556     0             0\n",
       "mse                      0.0117332   0.0110742  0.00871758    1.54135e-08   1.46006e-14   0.0252963     0.0251847     0.00117198    3.38481e-17   0.049178      0.00770637    7.67729e-05\n",
       "r2                       0.975592    0.025343   0.988611      1             1             0.962055      0.92154       0.997842      1             0.895173      0.99082       0.999874\n",
       "rmse                     0.0763781   0.0543119  0.093368      0.000124151   1.20833e-07   0.159048      0.158697      0.0342342     5.81792e-09   0.221761      0.087786      0.00876202"
      ]
     },
     "metadata": {},
     "output_type": "display_data"
    },
    {
     "name": "stdout",
     "output_type": "stream",
     "text": [
      "Scoring History: \n"
     ]
    },
    {
     "data": {
      "text/html": [
       "<div style=\"overflow:auto\"><table style=\"width:50%\"><tr><td><b></b></td>\n",
       "<td><b>timestamp</b></td>\n",
       "<td><b>duration</b></td>\n",
       "<td><b>number_of_trees</b></td>\n",
       "<td><b>training_rmse</b></td>\n",
       "<td><b>training_logloss</b></td>\n",
       "<td><b>training_classification_error</b></td>\n",
       "<td><b>validation_rmse</b></td>\n",
       "<td><b>validation_logloss</b></td>\n",
       "<td><b>validation_classification_error</b></td></tr>\n",
       "<tr><td></td>\n",
       "<td>2019-05-25 16:22:49</td>\n",
       "<td>37.129 sec</td>\n",
       "<td>0.0</td>\n",
       "<td>0.6666667</td>\n",
       "<td>1.0986123</td>\n",
       "<td>0.6292135</td>\n",
       "<td>0.6666667</td>\n",
       "<td>1.0986123</td>\n",
       "<td>0.7419355</td></tr>\n",
       "<tr><td></td>\n",
       "<td>2019-05-25 16:22:49</td>\n",
       "<td>37.132 sec</td>\n",
       "<td>5.0</td>\n",
       "<td>0.5506816</td>\n",
       "<td>0.8005047</td>\n",
       "<td>0.0337079</td>\n",
       "<td>0.5457821</td>\n",
       "<td>0.7897308</td>\n",
       "<td>0.0322581</td></tr>\n",
       "<tr><td></td>\n",
       "<td>2019-05-25 16:22:49</td>\n",
       "<td>37.135 sec</td>\n",
       "<td>10.0</td>\n",
       "<td>0.4380941</td>\n",
       "<td>0.5758320</td>\n",
       "<td>0.0</td>\n",
       "<td>0.4346034</td>\n",
       "<td>0.5698682</td>\n",
       "<td>0.0322581</td></tr>\n",
       "<tr><td></td>\n",
       "<td>2019-05-25 16:22:49</td>\n",
       "<td>37.138 sec</td>\n",
       "<td>15.0</td>\n",
       "<td>0.3411544</td>\n",
       "<td>0.4145133</td>\n",
       "<td>0.0112360</td>\n",
       "<td>0.3351579</td>\n",
       "<td>0.4052222</td>\n",
       "<td>0.0322581</td></tr>\n",
       "<tr><td></td>\n",
       "<td>2019-05-25 16:22:49</td>\n",
       "<td>37.141 sec</td>\n",
       "<td>20.0</td>\n",
       "<td>0.2762060</td>\n",
       "<td>0.3176195</td>\n",
       "<td>0.0</td>\n",
       "<td>0.2755377</td>\n",
       "<td>0.3145307</td>\n",
       "<td>0.0322581</td></tr>\n",
       "<tr><td>---</td>\n",
       "<td>---</td>\n",
       "<td>---</td>\n",
       "<td>---</td>\n",
       "<td>---</td>\n",
       "<td>---</td>\n",
       "<td>---</td>\n",
       "<td>---</td>\n",
       "<td>---</td>\n",
       "<td>---</td></tr>\n",
       "<tr><td></td>\n",
       "<td>2019-05-25 16:22:49</td>\n",
       "<td>37.311 sec</td>\n",
       "<td>240.0</td>\n",
       "<td>0.0039662</td>\n",
       "<td>0.0010404</td>\n",
       "<td>0.0</td>\n",
       "<td>0.1721981</td>\n",
       "<td>0.1032757</td>\n",
       "<td>0.0322581</td></tr>\n",
       "<tr><td></td>\n",
       "<td>2019-05-25 16:22:49</td>\n",
       "<td>37.315 sec</td>\n",
       "<td>245.0</td>\n",
       "<td>0.0037415</td>\n",
       "<td>0.0009760</td>\n",
       "<td>0.0</td>\n",
       "<td>0.1718068</td>\n",
       "<td>0.1015712</td>\n",
       "<td>0.0322581</td></tr>\n",
       "<tr><td></td>\n",
       "<td>2019-05-25 16:22:49</td>\n",
       "<td>37.319 sec</td>\n",
       "<td>250.0</td>\n",
       "<td>0.0033777</td>\n",
       "<td>0.0008805</td>\n",
       "<td>0.0</td>\n",
       "<td>0.1725126</td>\n",
       "<td>0.1046043</td>\n",
       "<td>0.0322581</td></tr>\n",
       "<tr><td></td>\n",
       "<td>2019-05-25 16:22:49</td>\n",
       "<td>37.323 sec</td>\n",
       "<td>255.0</td>\n",
       "<td>0.0030105</td>\n",
       "<td>0.0007845</td>\n",
       "<td>0.0</td>\n",
       "<td>0.1732275</td>\n",
       "<td>0.1079951</td>\n",
       "<td>0.0322581</td></tr>\n",
       "<tr><td></td>\n",
       "<td>2019-05-25 16:22:49</td>\n",
       "<td>37.325 sec</td>\n",
       "<td>256.0</td>\n",
       "<td>0.0028896</td>\n",
       "<td>0.0007619</td>\n",
       "<td>0.0</td>\n",
       "<td>0.1727972</td>\n",
       "<td>0.1058949</td>\n",
       "<td>0.0322581</td></tr></table></div>"
      ],
      "text/plain": [
       "     timestamp            duration    number_of_trees    training_rmse         training_logloss       training_classification_error    validation_rmse      validation_logloss    validation_classification_error\n",
       "---  -------------------  ----------  -----------------  --------------------  ---------------------  -------------------------------  -------------------  --------------------  ---------------------------------\n",
       "     2019-05-25 16:22:49  37.129 sec  0.0                0.6666666666666661    1.0986122886681084     0.6292134831460674               0.6666666666666667   1.0986122886681104    0.7419354838709677\n",
       "     2019-05-25 16:22:49  37.132 sec  5.0                0.5506816410787105    0.8005047392174571     0.033707865168539325             0.5457820812084995   0.789730804187998     0.03225806451612903\n",
       "     2019-05-25 16:22:49  37.135 sec  10.0               0.4380941375026858    0.5758319796326994     0.0                              0.43460344389895766  0.5698681624396363    0.03225806451612903\n",
       "     2019-05-25 16:22:49  37.138 sec  15.0               0.34115437086893574   0.414513275177708      0.011235955056179775             0.33515789298402787  0.4052221538536994    0.03225806451612903\n",
       "     2019-05-25 16:22:49  37.141 sec  20.0               0.2762059569961727    0.31761948174665694    0.0                              0.27553773980342994  0.31453070311770664   0.03225806451612903\n",
       "---  ---                  ---         ---                ---                   ---                    ---                              ---                  ---                   ---\n",
       "     2019-05-25 16:22:49  37.311 sec  240.0              0.003966178416756533  0.001040356152368516   0.0                              0.172198066257037    0.10327573830849818   0.03225806451612903\n",
       "     2019-05-25 16:22:49  37.315 sec  245.0              0.003741490382055205  0.0009759689058308045  0.0                              0.17180679976543806  0.10157121078458872   0.03225806451612903\n",
       "     2019-05-25 16:22:49  37.319 sec  250.0              0.003377749644207863  0.0008805145220108146  0.0                              0.17251256132173615  0.10460434918776602   0.03225806451612903\n",
       "     2019-05-25 16:22:49  37.323 sec  255.0              0.003010486595760493  0.0007844860623340406  0.0                              0.17322745287647398  0.10799511735948097   0.03225806451612903\n",
       "     2019-05-25 16:22:49  37.325 sec  256.0              0.002889619555470243  0.0007618680879659699  0.0                              0.17279716310903243  0.10589490037197341   0.03225806451612903"
      ]
     },
     "metadata": {},
     "output_type": "display_data"
    },
    {
     "name": "stdout",
     "output_type": "stream",
     "text": [
      "\n",
      "See the whole table with table.as_data_frame()\n",
      "Variable Importances: \n"
     ]
    },
    {
     "data": {
      "text/html": [
       "<div style=\"overflow:auto\"><table style=\"width:50%\"><tr><td><b>variable</b></td>\n",
       "<td><b>relative_importance</b></td>\n",
       "<td><b>scaled_importance</b></td>\n",
       "<td><b>percentage</b></td></tr>\n",
       "<tr><td>petal-length</td>\n",
       "<td>249.9416351</td>\n",
       "<td>1.0</td>\n",
       "<td>0.4871671</td></tr>\n",
       "<tr><td>petal-width</td>\n",
       "<td>176.8065033</td>\n",
       "<td>0.7073912</td>\n",
       "<td>0.3446177</td></tr>\n",
       "<tr><td>sepal-length</td>\n",
       "<td>58.3064194</td>\n",
       "<td>0.2332801</td>\n",
       "<td>0.1136464</td></tr>\n",
       "<tr><td>sepal-width</td>\n",
       "<td>27.9966202</td>\n",
       "<td>0.1120126</td>\n",
       "<td>0.0545689</td></tr></table></div>"
      ],
      "text/plain": [
       "variable      relative_importance    scaled_importance    percentage\n",
       "------------  ---------------------  -------------------  ------------\n",
       "petal-length  249.942                1                    0.487167\n",
       "petal-width   176.807                0.707391             0.344618\n",
       "sepal-length  58.3064                0.23328              0.113646\n",
       "sepal-width   27.9966                0.112013             0.0545689"
      ]
     },
     "metadata": {},
     "output_type": "display_data"
    },
    {
     "data": {
      "text/plain": []
     },
     "metadata": {},
     "output_type": "display_data"
    }
   ],
   "source": [
    "# The leader model is stored here\n",
    "display(aml.leader)"
   ]
  },
  {
   "cell_type": "code",
   "execution_count": 10,
   "metadata": {},
   "outputs": [
    {
     "name": "stdout",
     "output_type": "stream",
     "text": [
      "gbm prediction progress: |████████████████████████████████████████████████| 100%\n"
     ]
    }
   ],
   "source": [
    "# predict on test data\n",
    "predictions = aml.leader.predict(test).as_data_frame()['predict'].tolist()"
   ]
  },
  {
   "cell_type": "code",
   "execution_count": 11,
   "metadata": {},
   "outputs": [],
   "source": [
    "# get target for test data\n",
    "y_test = test.as_data_frame()['class'].tolist()"
   ]
  },
  {
   "cell_type": "code",
   "execution_count": 12,
   "metadata": {
    "scrolled": true
   },
   "outputs": [
    {
     "name": "stdout",
     "output_type": "stream",
     "text": [
      "0.8666666666666667\n",
      "[[ 7  0  0]\n",
      " [ 0 10  2]\n",
      " [ 0  2  9]]\n",
      "                 precision    recall  f1-score   support\n",
      "\n",
      "    Iris-setosa       1.00      1.00      1.00         7\n",
      "Iris-versicolor       0.83      0.83      0.83        12\n",
      " Iris-virginica       0.82      0.82      0.82        11\n",
      "\n",
      "       accuracy                           0.87        30\n",
      "      macro avg       0.88      0.88      0.88        30\n",
      "   weighted avg       0.87      0.87      0.87        30\n",
      "\n"
     ]
    }
   ],
   "source": [
    "# print results\n",
    "print(accuracy_score(y_test, predictions))\n",
    "print(confusion_matrix(y_test, predictions))\n",
    "print(classification_report(y_test, predictions))"
   ]
  },
  {
   "cell_type": "markdown",
   "metadata": {},
   "source": [
    "Der DeepLearning-Ansatz wird von AutoML als der geeignetste betrachtet. Dieser erreicht auf den Trainingsdaten eine Accuracy von 0.8667 (Deep Learning-Ansätze sind hier leider nicht reproduzierbar: \"H2O Deep Learning models are not reproducible by default for performance reasons\", http://docs.h2o.ai/h2o/latest-stable/h2o-docs/automl.html#automl-interface)und liegt damit unterhalb der Accuracy des Models mit der höchsten Accuracy aus Aufgabe drei (0.967). "
   ]
  },
  {
   "cell_type": "markdown",
   "metadata": {},
   "source": [
    "# Zweiter Datensatz"
   ]
  },
  {
   "cell_type": "code",
   "execution_count": 13,
   "metadata": {
    "scrolled": true
   },
   "outputs": [
    {
     "data": {
      "text/html": [
       "<div>\n",
       "<style scoped>\n",
       "    .dataframe tbody tr th:only-of-type {\n",
       "        vertical-align: middle;\n",
       "    }\n",
       "\n",
       "    .dataframe tbody tr th {\n",
       "        vertical-align: top;\n",
       "    }\n",
       "\n",
       "    .dataframe thead th {\n",
       "        text-align: right;\n",
       "    }\n",
       "</style>\n",
       "<table border=\"1\" class=\"dataframe\">\n",
       "  <thead>\n",
       "    <tr style=\"text-align: right;\">\n",
       "      <th></th>\n",
       "      <th>age</th>\n",
       "      <th>sex</th>\n",
       "      <th>chest_pain_type</th>\n",
       "      <th>resting_blood_pressure</th>\n",
       "      <th>cholesterol</th>\n",
       "      <th>fasting_blood_sugar</th>\n",
       "      <th>rest_ecg</th>\n",
       "      <th>max_heart_rate_achieved</th>\n",
       "      <th>exercise_induced_angina</th>\n",
       "      <th>st_depression</th>\n",
       "      <th>st_slope</th>\n",
       "      <th>num_major_vessels</th>\n",
       "      <th>thalassemia</th>\n",
       "      <th>target</th>\n",
       "    </tr>\n",
       "  </thead>\n",
       "  <tbody>\n",
       "    <tr>\n",
       "      <th>0</th>\n",
       "      <td>age</td>\n",
       "      <td>sex</td>\n",
       "      <td>cp</td>\n",
       "      <td>trestbps</td>\n",
       "      <td>chol</td>\n",
       "      <td>fbs</td>\n",
       "      <td>restecg</td>\n",
       "      <td>thalach</td>\n",
       "      <td>exang</td>\n",
       "      <td>oldpeak</td>\n",
       "      <td>slope</td>\n",
       "      <td>ca</td>\n",
       "      <td>thal</td>\n",
       "      <td>target</td>\n",
       "    </tr>\n",
       "    <tr>\n",
       "      <th>1</th>\n",
       "      <td>63</td>\n",
       "      <td>1</td>\n",
       "      <td>3</td>\n",
       "      <td>145</td>\n",
       "      <td>233</td>\n",
       "      <td>1</td>\n",
       "      <td>0</td>\n",
       "      <td>150</td>\n",
       "      <td>0</td>\n",
       "      <td>2.3</td>\n",
       "      <td>0</td>\n",
       "      <td>0</td>\n",
       "      <td>1</td>\n",
       "      <td>1</td>\n",
       "    </tr>\n",
       "    <tr>\n",
       "      <th>2</th>\n",
       "      <td>37</td>\n",
       "      <td>1</td>\n",
       "      <td>2</td>\n",
       "      <td>130</td>\n",
       "      <td>250</td>\n",
       "      <td>0</td>\n",
       "      <td>1</td>\n",
       "      <td>187</td>\n",
       "      <td>0</td>\n",
       "      <td>3.5</td>\n",
       "      <td>0</td>\n",
       "      <td>0</td>\n",
       "      <td>2</td>\n",
       "      <td>1</td>\n",
       "    </tr>\n",
       "    <tr>\n",
       "      <th>3</th>\n",
       "      <td>41</td>\n",
       "      <td>0</td>\n",
       "      <td>1</td>\n",
       "      <td>130</td>\n",
       "      <td>204</td>\n",
       "      <td>0</td>\n",
       "      <td>0</td>\n",
       "      <td>172</td>\n",
       "      <td>0</td>\n",
       "      <td>1.4</td>\n",
       "      <td>2</td>\n",
       "      <td>0</td>\n",
       "      <td>2</td>\n",
       "      <td>1</td>\n",
       "    </tr>\n",
       "    <tr>\n",
       "      <th>4</th>\n",
       "      <td>56</td>\n",
       "      <td>1</td>\n",
       "      <td>1</td>\n",
       "      <td>120</td>\n",
       "      <td>236</td>\n",
       "      <td>0</td>\n",
       "      <td>1</td>\n",
       "      <td>178</td>\n",
       "      <td>0</td>\n",
       "      <td>0.8</td>\n",
       "      <td>2</td>\n",
       "      <td>0</td>\n",
       "      <td>2</td>\n",
       "      <td>1</td>\n",
       "    </tr>\n",
       "  </tbody>\n",
       "</table>\n",
       "</div>"
      ],
      "text/plain": [
       "   age  sex chest_pain_type resting_blood_pressure cholesterol  \\\n",
       "0  age  sex              cp               trestbps        chol   \n",
       "1   63    1               3                    145         233   \n",
       "2   37    1               2                    130         250   \n",
       "3   41    0               1                    130         204   \n",
       "4   56    1               1                    120         236   \n",
       "\n",
       "  fasting_blood_sugar rest_ecg max_heart_rate_achieved  \\\n",
       "0                 fbs  restecg                 thalach   \n",
       "1                   1        0                     150   \n",
       "2                   0        1                     187   \n",
       "3                   0        0                     172   \n",
       "4                   0        1                     178   \n",
       "\n",
       "  exercise_induced_angina st_depression st_slope num_major_vessels  \\\n",
       "0                   exang       oldpeak    slope                ca   \n",
       "1                       0           2.3        0                 0   \n",
       "2                       0           3.5        0                 0   \n",
       "3                       0           1.4        2                 0   \n",
       "4                       0           0.8        2                 0   \n",
       "\n",
       "  thalassemia  target  \n",
       "0        thal  target  \n",
       "1           1       1  \n",
       "2           2       1  \n",
       "3           2       1  \n",
       "4           2       1  "
      ]
     },
     "execution_count": 13,
     "metadata": {},
     "output_type": "execute_result"
    }
   ],
   "source": [
    "# Load dataset\n",
    "url_heart = \"./data/heart.csv\"\n",
    "names_heart =  ['age', 'sex', 'chest_pain_type', 'resting_blood_pressure', 'cholesterol', \n",
    "                 'fasting_blood_sugar', 'rest_ecg', 'max_heart_rate_achieved', 'exercise_induced_angina',\n",
    "                 'st_depression', 'st_slope', 'num_major_vessels', 'thalassemia', 'target']\n",
    "heart = pd.read_csv(url_heart, names=names_heart)\n",
    "heart.head()"
   ]
  },
  {
   "cell_type": "code",
   "execution_count": 14,
   "metadata": {},
   "outputs": [
    {
     "data": {
      "text/html": [
       "<div>\n",
       "<style scoped>\n",
       "    .dataframe tbody tr th:only-of-type {\n",
       "        vertical-align: middle;\n",
       "    }\n",
       "\n",
       "    .dataframe tbody tr th {\n",
       "        vertical-align: top;\n",
       "    }\n",
       "\n",
       "    .dataframe thead th {\n",
       "        text-align: right;\n",
       "    }\n",
       "</style>\n",
       "<table border=\"1\" class=\"dataframe\">\n",
       "  <thead>\n",
       "    <tr style=\"text-align: right;\">\n",
       "      <th></th>\n",
       "      <th>age</th>\n",
       "      <th>sex</th>\n",
       "      <th>chest_pain_type</th>\n",
       "      <th>resting_blood_pressure</th>\n",
       "      <th>cholesterol</th>\n",
       "      <th>fasting_blood_sugar</th>\n",
       "      <th>rest_ecg</th>\n",
       "      <th>max_heart_rate_achieved</th>\n",
       "      <th>exercise_induced_angina</th>\n",
       "      <th>st_depression</th>\n",
       "      <th>st_slope</th>\n",
       "      <th>num_major_vessels</th>\n",
       "      <th>thalassemia</th>\n",
       "      <th>target</th>\n",
       "    </tr>\n",
       "  </thead>\n",
       "  <tbody>\n",
       "    <tr>\n",
       "      <th>1</th>\n",
       "      <td>63</td>\n",
       "      <td>1</td>\n",
       "      <td>3</td>\n",
       "      <td>145</td>\n",
       "      <td>233</td>\n",
       "      <td>1</td>\n",
       "      <td>0</td>\n",
       "      <td>150</td>\n",
       "      <td>0</td>\n",
       "      <td>2.3</td>\n",
       "      <td>0</td>\n",
       "      <td>0</td>\n",
       "      <td>1</td>\n",
       "      <td>1</td>\n",
       "    </tr>\n",
       "    <tr>\n",
       "      <th>2</th>\n",
       "      <td>37</td>\n",
       "      <td>1</td>\n",
       "      <td>2</td>\n",
       "      <td>130</td>\n",
       "      <td>250</td>\n",
       "      <td>0</td>\n",
       "      <td>1</td>\n",
       "      <td>187</td>\n",
       "      <td>0</td>\n",
       "      <td>3.5</td>\n",
       "      <td>0</td>\n",
       "      <td>0</td>\n",
       "      <td>2</td>\n",
       "      <td>1</td>\n",
       "    </tr>\n",
       "    <tr>\n",
       "      <th>3</th>\n",
       "      <td>41</td>\n",
       "      <td>0</td>\n",
       "      <td>1</td>\n",
       "      <td>130</td>\n",
       "      <td>204</td>\n",
       "      <td>0</td>\n",
       "      <td>0</td>\n",
       "      <td>172</td>\n",
       "      <td>0</td>\n",
       "      <td>1.4</td>\n",
       "      <td>2</td>\n",
       "      <td>0</td>\n",
       "      <td>2</td>\n",
       "      <td>1</td>\n",
       "    </tr>\n",
       "    <tr>\n",
       "      <th>4</th>\n",
       "      <td>56</td>\n",
       "      <td>1</td>\n",
       "      <td>1</td>\n",
       "      <td>120</td>\n",
       "      <td>236</td>\n",
       "      <td>0</td>\n",
       "      <td>1</td>\n",
       "      <td>178</td>\n",
       "      <td>0</td>\n",
       "      <td>0.8</td>\n",
       "      <td>2</td>\n",
       "      <td>0</td>\n",
       "      <td>2</td>\n",
       "      <td>1</td>\n",
       "    </tr>\n",
       "    <tr>\n",
       "      <th>5</th>\n",
       "      <td>57</td>\n",
       "      <td>0</td>\n",
       "      <td>0</td>\n",
       "      <td>120</td>\n",
       "      <td>354</td>\n",
       "      <td>0</td>\n",
       "      <td>1</td>\n",
       "      <td>163</td>\n",
       "      <td>1</td>\n",
       "      <td>0.6</td>\n",
       "      <td>2</td>\n",
       "      <td>0</td>\n",
       "      <td>2</td>\n",
       "      <td>1</td>\n",
       "    </tr>\n",
       "  </tbody>\n",
       "</table>\n",
       "</div>"
      ],
      "text/plain": [
       "  age sex chest_pain_type resting_blood_pressure cholesterol  \\\n",
       "1  63   1               3                    145         233   \n",
       "2  37   1               2                    130         250   \n",
       "3  41   0               1                    130         204   \n",
       "4  56   1               1                    120         236   \n",
       "5  57   0               0                    120         354   \n",
       "\n",
       "  fasting_blood_sugar rest_ecg max_heart_rate_achieved  \\\n",
       "1                   1        0                     150   \n",
       "2                   0        1                     187   \n",
       "3                   0        0                     172   \n",
       "4                   0        1                     178   \n",
       "5                   0        1                     163   \n",
       "\n",
       "  exercise_induced_angina st_depression st_slope num_major_vessels  \\\n",
       "1                       0           2.3        0                 0   \n",
       "2                       0           3.5        0                 0   \n",
       "3                       0           1.4        2                 0   \n",
       "4                       0           0.8        2                 0   \n",
       "5                       1           0.6        2                 0   \n",
       "\n",
       "  thalassemia target  \n",
       "1           1      1  \n",
       "2           2      1  \n",
       "3           2      1  \n",
       "4           2      1  \n",
       "5           2      1  "
      ]
     },
     "execution_count": 14,
     "metadata": {},
     "output_type": "execute_result"
    }
   ],
   "source": [
    "# drop first row\n",
    "heart = heart.drop(heart.index[0])\n",
    "heart.head()"
   ]
  },
  {
   "cell_type": "code",
   "execution_count": 15,
   "metadata": {},
   "outputs": [],
   "source": [
    "# Split-out validation dataset\n",
    "array_heart = heart.values\n",
    "X_heart = array_heart[:,0:13]\n",
    "Y_heart = array_heart[:,13]\n",
    "test_size_heart = 0.20\n",
    "seed_heart = 10\n",
    "X_heart_train, X_heart_test, y_heart_train, y_heart_test = model_selection.train_test_split(X_heart, Y_heart, test_size=test_size_heart, random_state=seed_heart)"
   ]
  },
  {
   "cell_type": "code",
   "execution_count": 16,
   "metadata": {},
   "outputs": [
    {
     "name": "stdout",
     "output_type": "stream",
     "text": [
      "Parse progress: |█████████████████████████████████████████████████████████| 100%\n",
      "Parse progress: |█████████████████████████████████████████████████████████| 100%\n"
     ]
    }
   ],
   "source": [
    "# prepare data by creating a train and test array and transforming it into an h2o frame\n",
    "train_heart_array = np.column_stack([X_heart_train, y_heart_train])\n",
    "test_heart_array = np.column_stack([X_heart_test, y_heart_test])\n",
    "\n",
    "train_heart = H2OFrame(python_obj=train_heart_array, column_names=names_heart)\n",
    "test_heart = H2OFrame(python_obj=test_heart_array, column_names=names_heart)"
   ]
  },
  {
   "cell_type": "code",
   "execution_count": 17,
   "metadata": {},
   "outputs": [],
   "source": [
    "# Identify predictors and response\n",
    "x_heart = names_heart\n",
    "y_heart = \"target\"\n",
    "x_heart.remove(y_heart)"
   ]
  },
  {
   "cell_type": "code",
   "execution_count": 18,
   "metadata": {},
   "outputs": [
    {
     "name": "stdout",
     "output_type": "stream",
     "text": [
      "AutoML progress: |████████████████████████████████████████████████████████| 100%\n",
      "Parse progress: |█████████████████████████████████████████████████████████| 100%\n"
     ]
    }
   ],
   "source": [
    "# set number of models to 20 and start training\n",
    "aml_heart = H2OAutoML(max_models=20, seed=1, nfolds=10)\n",
    "aml_heart.train(x=x_heart, y=y_heart, training_frame=train_heart)                                 "
   ]
  },
  {
   "cell_type": "code",
   "execution_count": 19,
   "metadata": {},
   "outputs": [
    {
     "data": {
      "text/html": [
       "<table>\n",
       "<thead>\n",
       "<tr><th>model_id                                             </th><th style=\"text-align: right;\">  mean_residual_deviance</th><th style=\"text-align: right;\">    rmse</th><th style=\"text-align: right;\">     mae</th><th style=\"text-align: right;\">   rmsle</th></tr>\n",
       "</thead>\n",
       "<tbody>\n",
       "<tr><td>StackedEnsemble_AllModels_0_AutoML_20190525_162343   </td><td style=\"text-align: right;\">                0.111374</td><td style=\"text-align: right;\">0.333728</td><td style=\"text-align: right;\">0.246481</td><td style=\"text-align: right;\">0.234103</td></tr>\n",
       "<tr><td>StackedEnsemble_BestOfFamily_0_AutoML_20190525_162343</td><td style=\"text-align: right;\">                0.112304</td><td style=\"text-align: right;\">0.335118</td><td style=\"text-align: right;\">0.248627</td><td style=\"text-align: right;\">0.234248</td></tr>\n",
       "<tr><td>DeepLearning_grid_0_AutoML_20190525_162343_model_0   </td><td style=\"text-align: right;\">                0.121459</td><td style=\"text-align: right;\">0.34851 </td><td style=\"text-align: right;\">0.261562</td><td style=\"text-align: right;\">0.251839</td></tr>\n",
       "<tr><td>XRT_0_AutoML_20190525_162343                         </td><td style=\"text-align: right;\">                0.123401</td><td style=\"text-align: right;\">0.351284</td><td style=\"text-align: right;\">0.253637</td><td style=\"text-align: right;\">0.245572</td></tr>\n",
       "<tr><td>GLM_grid_0_AutoML_20190525_162343_model_0            </td><td style=\"text-align: right;\">                0.12545 </td><td style=\"text-align: right;\">0.35419 </td><td style=\"text-align: right;\">0.284097</td><td style=\"text-align: right;\">0.24988 </td></tr>\n",
       "<tr><td>DeepLearning_grid_0_AutoML_20190525_162343_model_5   </td><td style=\"text-align: right;\">                0.130154</td><td style=\"text-align: right;\">0.360768</td><td style=\"text-align: right;\">0.274528</td><td style=\"text-align: right;\">0.257425</td></tr>\n",
       "<tr><td>GBM_grid_0_AutoML_20190525_162343_model_5            </td><td style=\"text-align: right;\">                0.130494</td><td style=\"text-align: right;\">0.36124 </td><td style=\"text-align: right;\">0.29209 </td><td style=\"text-align: right;\">0.253636</td></tr>\n",
       "<tr><td>DeepLearning_grid_0_AutoML_20190525_162343_model_2   </td><td style=\"text-align: right;\">                0.131651</td><td style=\"text-align: right;\">0.362837</td><td style=\"text-align: right;\">0.286262</td><td style=\"text-align: right;\">0.256   </td></tr>\n",
       "<tr><td>DRF_0_AutoML_20190525_162343                         </td><td style=\"text-align: right;\">                0.131691</td><td style=\"text-align: right;\">0.362893</td><td style=\"text-align: right;\">0.249952</td><td style=\"text-align: right;\">0.251953</td></tr>\n",
       "<tr><td>GBM_grid_0_AutoML_20190525_162343_model_2            </td><td style=\"text-align: right;\">                0.133861</td><td style=\"text-align: right;\">0.365871</td><td style=\"text-align: right;\">0.270722</td><td style=\"text-align: right;\">0.254411</td></tr>\n",
       "<tr><td>GBM_grid_0_AutoML_20190525_162343_model_3            </td><td style=\"text-align: right;\">                0.134076</td><td style=\"text-align: right;\">0.366163</td><td style=\"text-align: right;\">0.270683</td><td style=\"text-align: right;\">0.254664</td></tr>\n",
       "<tr><td>GBM_grid_0_AutoML_20190525_162343_model_1            </td><td style=\"text-align: right;\">                0.1343  </td><td style=\"text-align: right;\">0.36647 </td><td style=\"text-align: right;\">0.271343</td><td style=\"text-align: right;\">0.254619</td></tr>\n",
       "<tr><td>DeepLearning_grid_0_AutoML_20190525_162343_model_6   </td><td style=\"text-align: right;\">                0.13618 </td><td style=\"text-align: right;\">0.369026</td><td style=\"text-align: right;\">0.27593 </td><td style=\"text-align: right;\">0.263038</td></tr>\n",
       "<tr><td>DeepLearning_grid_0_AutoML_20190525_162343_model_4   </td><td style=\"text-align: right;\">                0.136224</td><td style=\"text-align: right;\">0.369086</td><td style=\"text-align: right;\">0.280046</td><td style=\"text-align: right;\">0.277382</td></tr>\n",
       "<tr><td>DeepLearning_grid_0_AutoML_20190525_162343_model_1   </td><td style=\"text-align: right;\">                0.139071</td><td style=\"text-align: right;\">0.372922</td><td style=\"text-align: right;\">0.287504</td><td style=\"text-align: right;\">0.26295 </td></tr>\n",
       "<tr><td>GBM_grid_0_AutoML_20190525_162343_model_9            </td><td style=\"text-align: right;\">                0.141071</td><td style=\"text-align: right;\">0.375594</td><td style=\"text-align: right;\">0.269175</td><td style=\"text-align: right;\">0.260894</td></tr>\n",
       "<tr><td>GBM_grid_0_AutoML_20190525_162343_model_8            </td><td style=\"text-align: right;\">                0.142745</td><td style=\"text-align: right;\">0.377817</td><td style=\"text-align: right;\">0.263601</td><td style=\"text-align: right;\">0.261166</td></tr>\n",
       "<tr><td>DeepLearning_grid_0_AutoML_20190525_162343_model_3   </td><td style=\"text-align: right;\">                0.151023</td><td style=\"text-align: right;\">0.388617</td><td style=\"text-align: right;\">0.300207</td><td style=\"text-align: right;\">0.284195</td></tr>\n",
       "<tr><td>GBM_grid_0_AutoML_20190525_162343_model_0            </td><td style=\"text-align: right;\">                0.151278</td><td style=\"text-align: right;\">0.388944</td><td style=\"text-align: right;\">0.275203</td><td style=\"text-align: right;\">0.269308</td></tr>\n",
       "<tr><td>DeepLearning_0_AutoML_20190525_162343                </td><td style=\"text-align: right;\">                0.152558</td><td style=\"text-align: right;\">0.390587</td><td style=\"text-align: right;\">0.304398</td><td style=\"text-align: right;\">0.2869  </td></tr>\n",
       "<tr><td>GBM_grid_0_AutoML_20190525_162343_model_7            </td><td style=\"text-align: right;\">                0.244261</td><td style=\"text-align: right;\">0.494228</td><td style=\"text-align: right;\">0.490204</td><td style=\"text-align: right;\">0.347241</td></tr>\n",
       "<tr><td>GBM_grid_0_AutoML_20190525_162343_model_4            </td><td style=\"text-align: right;\">                0.245322</td><td style=\"text-align: right;\">0.4953  </td><td style=\"text-align: right;\">0.491239</td><td style=\"text-align: right;\">0.34795 </td></tr>\n",
       "</tbody>\n",
       "</table>"
      ]
     },
     "metadata": {},
     "output_type": "display_data"
    },
    {
     "data": {
      "text/plain": []
     },
     "metadata": {},
     "output_type": "display_data"
    }
   ],
   "source": [
    "# View the AutoML Leaderboard\n",
    "lb_heart = aml_heart.leaderboard\n",
    "display(lb_heart.head(rows=lb_heart.nrows)) # Print all rows instead of default (10 rows)"
   ]
  },
  {
   "cell_type": "code",
   "execution_count": 20,
   "metadata": {
    "scrolled": true
   },
   "outputs": [
    {
     "name": "stdout",
     "output_type": "stream",
     "text": [
      "Model Details\n",
      "=============\n",
      "H2OStackedEnsembleEstimator :  Stacked Ensemble\n",
      "Model Key:  StackedEnsemble_AllModels_0_AutoML_20190525_162343\n",
      "No model summary for this model\n",
      "\n",
      "\n",
      "ModelMetricsRegressionGLM: stackedensemble\n",
      "** Reported on train data. **\n",
      "\n",
      "MSE: 0.003931911832168075\n",
      "RMSE: 0.06270495859314536\n",
      "MAE: 0.04907276895578059\n",
      "RMSLE: 0.0446905019968733\n",
      "R^2: 0.9840227074756345\n",
      "Mean Residual Deviance: 0.003931911832168075\n",
      "Null degrees of freedom: 191\n",
      "Residual degrees of freedom: 185\n",
      "Null deviance: 47.25\n",
      "Residual deviance: 0.7549270717762703\n",
      "AIC: -502.54446726863966\n",
      "\n",
      "ModelMetricsRegressionGLM: stackedensemble\n",
      "** Reported on validation data. **\n",
      "\n",
      "MSE: 0.12618346556015075\n",
      "RMSE: 0.35522312081303314\n",
      "MAE: 0.2586696685420625\n",
      "RMSLE: 0.23477350712671397\n",
      "R^2: 0.46441652988051463\n",
      "Mean Residual Deviance: 0.12618346556015075\n",
      "Null degrees of freedom: 49\n",
      "Residual degrees of freedom: 43\n",
      "Null deviance: 11.9453125\n",
      "Residual deviance: 6.309173278007538\n",
      "AIC: 54.392935560116854\n",
      "\n",
      "ModelMetricsRegressionGLM: stackedensemble\n",
      "** Reported on cross-validation data. **\n",
      "\n",
      "MSE: 0.11137439150591856\n",
      "RMSE: 0.3337280202588907\n",
      "MAE: 0.2464812786746804\n",
      "RMSLE: 0.23410317603393105\n",
      "R^2: 0.5474310440394421\n",
      "Mean Residual Deviance: 0.11137439150591856\n",
      "Null degrees of freedom: 191\n",
      "Residual degrees of freedom: 184\n",
      "Null deviance: 47.88133200294862\n",
      "Residual deviance: 21.383883169136364\n",
      "AIC: 141.4596882685954\n"
     ]
    },
    {
     "data": {
      "text/plain": []
     },
     "metadata": {},
     "output_type": "display_data"
    }
   ],
   "source": [
    "# The leader model is stored here\n",
    "display(aml_heart.leader)"
   ]
  },
  {
   "cell_type": "code",
   "execution_count": 21,
   "metadata": {},
   "outputs": [
    {
     "name": "stdout",
     "output_type": "stream",
     "text": [
      "stackedensemble prediction progress: |████████████████████████████████████| 100%\n"
     ]
    }
   ],
   "source": [
    "# predict on test data\n",
    "predictions_heart = aml_heart.leader.predict(test_heart).as_data_frame()['predict'].tolist()"
   ]
  },
  {
   "cell_type": "code",
   "execution_count": 22,
   "metadata": {},
   "outputs": [],
   "source": [
    "# get target for test data\n",
    "y_heart_test = test_heart.as_data_frame()['target'].tolist()\n",
    "\n",
    "# predictions are continuous --> set threshold for final prediction to 0.5\n",
    "predictions_heart = pd.DataFrame(predictions_heart)\n",
    "mask = predictions_heart>0.5\n",
    "predictions_heart_binary = mask.astype(int)"
   ]
  },
  {
   "cell_type": "code",
   "execution_count": 23,
   "metadata": {},
   "outputs": [],
   "source": [
    "# for comparability with ex 3\n",
    "def sensitivity_score(y_true, y_pred):\n",
    "    tn, fp, fn, tp = confusion_matrix(y_true, y_pred).ravel()\n",
    "    sensitivity = tp / (tp + fn)\n",
    "    return sensitivity\n",
    "\n",
    "def specificity_score(y_true, y_pred):\n",
    "    tn, fp, fn, tp = confusion_matrix(y_true, y_pred).ravel()\n",
    "    specificity = tn / (tn + fp)\n",
    "    return specificity"
   ]
  },
  {
   "cell_type": "code",
   "execution_count": 24,
   "metadata": {
    "scrolled": false
   },
   "outputs": [
    {
     "name": "stdout",
     "output_type": "stream",
     "text": [
      "accuracy: 0.8032786885245902\n",
      "sensitivity:0.8461538461538461\n",
      "specificity:0.7714285714285715\n"
     ]
    }
   ],
   "source": [
    "# print results\n",
    "print('accuracy: '+ str(accuracy_score(y_heart_test, predictions_heart_binary)))\n",
    "print('sensitivity:' + str(sensitivity_score(y_heart_test, predictions_heart_binary)))\n",
    "print('specificity:' + str(specificity_score(y_heart_test, predictions_heart_binary)))\n",
    "\n",
    "#print(confusion_matrix(y_heart_test, predictions_heart_binary))\n",
    "#print(classification_report(y_heart_test, predictions_heart_binary))"
   ]
  },
  {
   "cell_type": "markdown",
   "metadata": {},
   "source": [
    "Hier ist die Accuracy mit ca. 0,8033 identisch zu der in Aufgabe 3 erreichten. Sensitivity weicht mit 0,8462 relativ gering von der in Aufgabe 3 erreichten (0,8077) ab. Auch die Specificity weicht mit 0,0,7714 von der in Aufgabe 3 erreichten (0,8). Ohne dies mit einem statistischen Test zu belegen, werden die Ergebnisse als mit denen der Aufgabe drei vergleichbar eingeschätzt."
   ]
  },
  {
   "cell_type": "markdown",
   "metadata": {},
   "source": [
    "###### (c) Was ist Ihre Meinung zu AutoML?"
   ]
  },
  {
   "cell_type": "markdown",
   "metadata": {},
   "source": [
    "- AutoML nimmt einem viel Arbeit ab, was gerade für Anfänger hilfreich ist. Allerdings verliert man hierdurch auch etwas Kontrolle. Die Ergebnisse sind scheinbar schlechter als in Aufgabe 3. Jedoch ist es schwer nachzuvollziehen wieso, da eben alles automatisch passiert. Zudem ist nicht klar, wieso welche Modelle getestet wurden. \n",
    "\n",
    "- \"AutoML can only guarantee reproducibility under certain conditions. H2O Deep Learning models are not reproducible by default for performance reasons\", dies ist natürlich sehr ungünstig.http://docs.h2o.ai/h2o/latest-stable/h2o-docs/automl.html#automl-interface, die eingeschränkte Reproduzierbarkeit ist ein Problem.\n",
    "\n",
    "- Das Training dauert relativ lange, weshalb es etwas enttäuschend ist, das beim Iris-Datensatz keine zu Aufgabe 3 vergleichbaren Ergebnisse erzielt werden konnten. \n",
    "\n",
    "- \"goal of finding the “best” model without any prior knowledge\", https://medium.com/analytics-vidhya/gentle-introduction-to-automl-from-h2o-ai-a42b393b4ba2 --> diese Erfahrung können wir zumindest hinsichtlich des Datensatzes Iris nicht teilen. Man kann mit wenig Ahnung ein akzeptables Ergebnis erreichen, jedoch waren unsere Ergebnisse nicht im sehr guten Bereich.\n",
    "\n",
    "- \"The current version of AutoML trains and cross-validates the following algorithms (in the following order): three pre-specified XGBoost GBM (Gradient Boosting Machine) models, a fixed grid of GLMs, a default Random Forest (DRF), five pre-specified H2O GBMs, a near-default Deep Neural Net, an Extremely Randomized Forest (XRT), a random grid of XGBoost GBMs, a random grid of H2O GBMs, and a random grid of Deep Neural Nets. In some cases, there will not be enough time to complete all the algorithms, so some may be missing from teh leaderboard. AutoML then trains two Stacked Ensemble models.\" http://docs.h2o.ai/h2o/latest-stable/h2o-docs/automl.html --> Unseres Erachtens nach sollten noch mehr verschiedene Modelle ausprobiert werden. "
   ]
  },
  {
   "cell_type": "code",
   "execution_count": null,
   "metadata": {},
   "outputs": [],
   "source": []
  }
 ],
 "metadata": {
  "anaconda-cloud": {},
  "kernelspec": {
   "display_name": "Python 3",
   "language": "python",
   "name": "python3"
  },
  "language_info": {
   "codemirror_mode": {
    "name": "ipython",
    "version": 3
   },
   "file_extension": ".py",
   "mimetype": "text/x-python",
   "name": "python",
   "nbconvert_exporter": "python",
   "pygments_lexer": "ipython3",
   "version": "3.5.6"
  }
 },
 "nbformat": 4,
 "nbformat_minor": 1
}
