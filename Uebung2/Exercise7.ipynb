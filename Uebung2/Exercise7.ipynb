{
 "cells": [
  {
   "cell_type": "markdown",
   "metadata": {},
   "source": [
    "# Aufgabe 7: AutoML"
   ]
  },
  {
   "cell_type": "markdown",
   "metadata": {},
   "source": [
    "Unter AutoML versteht man...\n",
    "\n",
    "https://www.ml4aad.org/automl/"
   ]
  },
  {
   "cell_type": "markdown",
   "metadata": {},
   "source": [
    "###### (a) Wählen Sie ein AutoML Package. Begründen Sie Ihre Auswahl."
   ]
  },
  {
   "cell_type": "markdown",
   "metadata": {},
   "source": [
    "Wir haben uns für _H2O AutoML_ entschieden, weil es in Hinblick auf die Reproduzierbarkeit der Ergebnisse am leichtesten auf verschiedenen Plattformen installierbar ist.\n",
    "\n",
    "Bei _auto-sklearn_ beispielsweise fehlten die Berechtigungen, um die benötigten Dependencies auf SDIL zu installieren.\n",
    "Für andere AutoML-Bibliotheken wurde lediglich ein git-repo zur Verfügung gestellt, weshalb diese nicht einfach über eine `requirements.txt` installiert werden können.\n",
    "\n",
    "Zudem fanden wir die Dokumentation zu _H2O AutoML_ auf den ersten Blick sehr übersichtlich und den Funktionsumfang sehr umfangreich."
   ]
  },
  {
   "cell_type": "markdown",
   "metadata": {},
   "source": [
    "###### (b) Führen Sie die Klassifikationsaufgabe von Aufgabe 3 mit AutoML durch. Vergleichen Sie die Ergebnisse mit den Ergebnissen aus Aufgabe 3."
   ]
  },
  {
   "cell_type": "markdown",
   "metadata": {},
   "source": [
    "http://docs.h2o.ai/h2o/latest-stable/h2o-docs/automl.html"
   ]
  },
  {
   "cell_type": "code",
   "execution_count": 79,
   "metadata": {},
   "outputs": [],
   "source": [
    "# Import Libraries\n",
    "import time\n",
    "import multiprocessing\n",
    "\n",
    "import pandas as pd\n",
    "import numpy as np\n",
    "\n",
    "from sklearn import svm\n",
    "from sklearn import model_selection\n",
    "from sklearn.model_selection import GridSearchCV\n",
    "\n",
    "import h2o\n",
    "from h2o.automl import H2OAutoML\n",
    "from h2o.frame import H2OFrame\n",
    "\n",
    "from sklearn.metrics import classification_report\n",
    "from sklearn.metrics import confusion_matrix\n",
    "from sklearn.metrics import accuracy_score"
   ]
  },
  {
   "cell_type": "code",
   "execution_count": 2,
   "metadata": {},
   "outputs": [
    {
     "name": "stdout",
     "output_type": "stream",
     "text": [
      "Checking whether there is an H2O instance running at http://localhost:54321. connected.\n",
      "Warning: Your H2O cluster version is too old (3 months and 27 days)! Please download and install the latest version from http://h2o.ai/download/\n"
     ]
    },
    {
     "data": {
      "text/html": [
       "<div style=\"overflow:auto\"><table style=\"width:50%\"><tr><td>H2O cluster uptime:</td>\n",
       "<td>31 mins 32 secs</td></tr>\n",
       "<tr><td>H2O cluster timezone:</td>\n",
       "<td>Europe/Berlin</td></tr>\n",
       "<tr><td>H2O data parsing timezone:</td>\n",
       "<td>UTC</td></tr>\n",
       "<tr><td>H2O cluster version:</td>\n",
       "<td>3.22.1.2</td></tr>\n",
       "<tr><td>H2O cluster version age:</td>\n",
       "<td>3 months and 27 days !!!</td></tr>\n",
       "<tr><td>H2O cluster name:</td>\n",
       "<td>H2O_from_python_uiuqb_97w3zp</td></tr>\n",
       "<tr><td>H2O cluster total nodes:</td>\n",
       "<td>1</td></tr>\n",
       "<tr><td>H2O cluster free memory:</td>\n",
       "<td>954 Mb</td></tr>\n",
       "<tr><td>H2O cluster total cores:</td>\n",
       "<td>1</td></tr>\n",
       "<tr><td>H2O cluster allowed cores:</td>\n",
       "<td>1</td></tr>\n",
       "<tr><td>H2O cluster status:</td>\n",
       "<td>locked, healthy</td></tr>\n",
       "<tr><td>H2O connection url:</td>\n",
       "<td>http://localhost:54321</td></tr>\n",
       "<tr><td>H2O connection proxy:</td>\n",
       "<td>None</td></tr>\n",
       "<tr><td>H2O internal security:</td>\n",
       "<td>False</td></tr>\n",
       "<tr><td>H2O API Extensions:</td>\n",
       "<td>XGBoost, Algos, AutoML, Core V3, Core V4</td></tr>\n",
       "<tr><td>Python version:</td>\n",
       "<td>3.5.4 final</td></tr></table></div>"
      ],
      "text/plain": [
       "--------------------------  ----------------------------------------\n",
       "H2O cluster uptime:         31 mins 32 secs\n",
       "H2O cluster timezone:       Europe/Berlin\n",
       "H2O data parsing timezone:  UTC\n",
       "H2O cluster version:        3.22.1.2\n",
       "H2O cluster version age:    3 months and 27 days !!!\n",
       "H2O cluster name:           H2O_from_python_uiuqb_97w3zp\n",
       "H2O cluster total nodes:    1\n",
       "H2O cluster free memory:    954 Mb\n",
       "H2O cluster total cores:    1\n",
       "H2O cluster allowed cores:  1\n",
       "H2O cluster status:         locked, healthy\n",
       "H2O connection url:         http://localhost:54321\n",
       "H2O connection proxy:\n",
       "H2O internal security:      False\n",
       "H2O API Extensions:         XGBoost, Algos, AutoML, Core V3, Core V4\n",
       "Python version:             3.5.4 final\n",
       "--------------------------  ----------------------------------------"
      ]
     },
     "metadata": {},
     "output_type": "display_data"
    }
   ],
   "source": [
    "h2o.init()"
   ]
  },
  {
   "cell_type": "code",
   "execution_count": 85,
   "metadata": {},
   "outputs": [],
   "source": [
    "# Load dataset\n",
    "url = \"https://archive.ics.uci.edu/ml/machine-learning-databases/iris/iris.data\"\n",
    "names = ['sepal-length', 'sepal-width', 'petal-length', 'petal-width', 'class']\n",
    "iris = pd.read_csv(url, names=names)"
   ]
  },
  {
   "cell_type": "code",
   "execution_count": 74,
   "metadata": {
    "collapsed": true
   },
   "outputs": [],
   "source": [
    "# Split-out validation dataset\n",
    "array = iris.values\n",
    "X = array[:,0:4]\n",
    "Y = array[:,4]\n",
    "test_size = 0.20\n",
    "seed = 7\n",
    "X_train, X_test, y_train, y_test = model_selection.train_test_split(X, Y, test_size=test_size, random_state=seed)"
   ]
  },
  {
   "cell_type": "code",
   "execution_count": 88,
   "metadata": {},
   "outputs": [
    {
     "name": "stdout",
     "output_type": "stream",
     "text": [
      "Parse progress: |█████████████████████████████████████████████████████████| 100%\n",
      "Parse progress: |█████████████████████████████████████████████████████████| 100%\n"
     ]
    }
   ],
   "source": [
    "train_array = np.column_stack([X_train, y_train])\n",
    "test_array = np.column_stack([X_test, y_test])\n",
    "\n",
    "train = H2OFrame(python_obj=train_array, column_names=names)\n",
    "test = H2OFrame(python_obj=test_array, column_names=names)"
   ]
  },
  {
   "cell_type": "code",
   "execution_count": 89,
   "metadata": {},
   "outputs": [],
   "source": [
    "# Identify predictors and response\n",
    "x = names\n",
    "y = \"class\"\n",
    "x.remove(y)"
   ]
  },
  {
   "cell_type": "code",
   "execution_count": 90,
   "metadata": {},
   "outputs": [
    {
     "name": "stdout",
     "output_type": "stream",
     "text": [
      "AutoML progress: |████████████████████████████████████████████████████████| 100%\n"
     ]
    }
   ],
   "source": [
    "aml = H2OAutoML(max_models=20, seed=1)\n",
    "aml.train(x=x, y=y, training_frame=train)                                 "
   ]
  },
  {
   "cell_type": "code",
   "execution_count": 91,
   "metadata": {},
   "outputs": [
    {
     "data": {
      "text/html": [
       "<table>\n",
       "<thead>\n",
       "<tr><th>model_id                                           </th><th style=\"text-align: right;\">  mean_per_class_error</th><th style=\"text-align: right;\">  logloss</th><th style=\"text-align: right;\">    rmse</th><th style=\"text-align: right;\">       mse</th></tr>\n",
       "</thead>\n",
       "<tbody>\n",
       "<tr><td>DeepLearning_grid_1_AutoML_20190516_165455_model_2 </td><td style=\"text-align: right;\">            0.00854701</td><td style=\"text-align: right;\">0.0290967</td><td style=\"text-align: right;\">0.08829 </td><td style=\"text-align: right;\">0.00779513</td></tr>\n",
       "<tr><td>DeepLearning_grid_1_AutoML_20190516_165455_model_3 </td><td style=\"text-align: right;\">            0.0175439 </td><td style=\"text-align: right;\">0.0583454</td><td style=\"text-align: right;\">0.130914</td><td style=\"text-align: right;\">0.0171384 </td></tr>\n",
       "<tr><td>StackedEnsemble_BestOfFamily_AutoML_20190516_165455</td><td style=\"text-align: right;\">            0.0258659 </td><td style=\"text-align: right;\">0.156888 </td><td style=\"text-align: right;\">0.169384</td><td style=\"text-align: right;\">0.0286908 </td></tr>\n",
       "<tr><td>XRT_1_AutoML_20190516_165455                       </td><td style=\"text-align: right;\">            0.0258659 </td><td style=\"text-align: right;\">0.0630758</td><td style=\"text-align: right;\">0.141359</td><td style=\"text-align: right;\">0.0199824 </td></tr>\n",
       "<tr><td>DeepLearning_grid_1_AutoML_20190516_165455_model_1 </td><td style=\"text-align: right;\">            0.0260909 </td><td style=\"text-align: right;\">0.143455 </td><td style=\"text-align: right;\">0.157654</td><td style=\"text-align: right;\">0.0248548 </td></tr>\n",
       "<tr><td>DRF_1_AutoML_20190516_165455                       </td><td style=\"text-align: right;\">            0.0346379 </td><td style=\"text-align: right;\">0.0609861</td><td style=\"text-align: right;\">0.139426</td><td style=\"text-align: right;\">0.0194396 </td></tr>\n",
       "<tr><td>StackedEnsemble_AllModels_AutoML_20190516_165455   </td><td style=\"text-align: right;\">            0.0346379 </td><td style=\"text-align: right;\">0.146685 </td><td style=\"text-align: right;\">0.163812</td><td style=\"text-align: right;\">0.0268342 </td></tr>\n",
       "<tr><td>GLM_grid_1_AutoML_20190516_165455_model_1          </td><td style=\"text-align: right;\">            0.0346379 </td><td style=\"text-align: right;\">0.0649054</td><td style=\"text-align: right;\">0.139925</td><td style=\"text-align: right;\">0.0195791 </td></tr>\n",
       "<tr><td>GBM_1_AutoML_20190516_165455                       </td><td style=\"text-align: right;\">            0.0346379 </td><td style=\"text-align: right;\">0.105274 </td><td style=\"text-align: right;\">0.160896</td><td style=\"text-align: right;\">0.0258876 </td></tr>\n",
       "<tr><td>XGBoost_1_AutoML_20190516_165455                   </td><td style=\"text-align: right;\">            0.0346379 </td><td style=\"text-align: right;\">0.171388 </td><td style=\"text-align: right;\">0.186674</td><td style=\"text-align: right;\">0.0348473 </td></tr>\n",
       "<tr><td>XGBoost_grid_1_AutoML_20190516_165455_model_2      </td><td style=\"text-align: right;\">            0.0346379 </td><td style=\"text-align: right;\">0.148853 </td><td style=\"text-align: right;\">0.184476</td><td style=\"text-align: right;\">0.0340313 </td></tr>\n",
       "<tr><td>XGBoost_2_AutoML_20190516_165455                   </td><td style=\"text-align: right;\">            0.0348628 </td><td style=\"text-align: right;\">0.330616 </td><td style=\"text-align: right;\">0.288234</td><td style=\"text-align: right;\">0.0830789 </td></tr>\n",
       "<tr><td>XGBoost_grid_1_AutoML_20190516_165455_model_3      </td><td style=\"text-align: right;\">            0.0348628 </td><td style=\"text-align: right;\">0.413033 </td><td style=\"text-align: right;\">0.344126</td><td style=\"text-align: right;\">0.118423  </td></tr>\n",
       "<tr><td>GBM_4_AutoML_20190516_165455                       </td><td style=\"text-align: right;\">            0.0431849 </td><td style=\"text-align: right;\">0.0890359</td><td style=\"text-align: right;\">0.154961</td><td style=\"text-align: right;\">0.0240128 </td></tr>\n",
       "<tr><td>GBM_grid_1_AutoML_20190516_165455_model_1          </td><td style=\"text-align: right;\">            0.0431849 </td><td style=\"text-align: right;\">0.192227 </td><td style=\"text-align: right;\">0.202886</td><td style=\"text-align: right;\">0.0411628 </td></tr>\n",
       "<tr><td>GBM_2_AutoML_20190516_165455                       </td><td style=\"text-align: right;\">            0.0431849 </td><td style=\"text-align: right;\">0.0890359</td><td style=\"text-align: right;\">0.154961</td><td style=\"text-align: right;\">0.0240128 </td></tr>\n",
       "<tr><td>XGBoost_grid_1_AutoML_20190516_165455_model_4      </td><td style=\"text-align: right;\">            0.0431849 </td><td style=\"text-align: right;\">0.161107 </td><td style=\"text-align: right;\">0.186194</td><td style=\"text-align: right;\">0.0346681 </td></tr>\n",
       "<tr><td>GBM_3_AutoML_20190516_165455                       </td><td style=\"text-align: right;\">            0.0431849 </td><td style=\"text-align: right;\">0.0890359</td><td style=\"text-align: right;\">0.154961</td><td style=\"text-align: right;\">0.0240128 </td></tr>\n",
       "<tr><td>GBM_grid_1_AutoML_20190516_165455_model_2          </td><td style=\"text-align: right;\">            0.0431849 </td><td style=\"text-align: right;\">0.276363 </td><td style=\"text-align: right;\">0.202865</td><td style=\"text-align: right;\">0.0411543 </td></tr>\n",
       "<tr><td>DeepLearning_1_AutoML_20190516_165455              </td><td style=\"text-align: right;\">            0.0517319 </td><td style=\"text-align: right;\">0.205693 </td><td style=\"text-align: right;\">0.233109</td><td style=\"text-align: right;\">0.0543396 </td></tr>\n",
       "<tr><td>XGBoost_3_AutoML_20190516_165455                   </td><td style=\"text-align: right;\">            0.0787224 </td><td style=\"text-align: right;\">0.542158 </td><td style=\"text-align: right;\">0.42057 </td><td style=\"text-align: right;\">0.176879  </td></tr>\n",
       "<tr><td>XGBoost_grid_1_AutoML_20190516_165455_model_1      </td><td style=\"text-align: right;\">            0.308006  </td><td style=\"text-align: right;\">0.56731  </td><td style=\"text-align: right;\">0.454019</td><td style=\"text-align: right;\">0.206133  </td></tr>\n",
       "</tbody>\n",
       "</table>"
      ]
     },
     "metadata": {},
     "output_type": "display_data"
    },
    {
     "data": {
      "text/plain": []
     },
     "execution_count": 91,
     "metadata": {},
     "output_type": "execute_result"
    }
   ],
   "source": [
    "# View the AutoML Leaderboard\n",
    "lb = aml.leaderboard\n",
    "lb.head(rows=lb.nrows)  # Print all rows instead of default (10 rows)"
   ]
  },
  {
   "cell_type": "code",
   "execution_count": 92,
   "metadata": {
    "scrolled": false
   },
   "outputs": [
    {
     "name": "stdout",
     "output_type": "stream",
     "text": [
      "Model Details\n",
      "=============\n",
      "H2ODeepLearningEstimator :  Deep Learning\n",
      "Model Key:  DeepLearning_grid_1_AutoML_20190516_165455_model_2\n",
      "\n",
      "\n",
      "ModelMetricsMultinomial: deeplearning\n",
      "** Reported on train data. **\n",
      "\n",
      "MSE: 0.007474681306671697\n",
      "RMSE: 0.08645623925820332\n",
      "LogLoss: 0.025204705450012653\n",
      "Mean Per-Class Error: 0.008547008547008546\n",
      "Confusion Matrix: Row labels: Actual class; Column labels: Predicted class\n",
      "\n"
     ]
    },
    {
     "data": {
      "text/html": [
       "<div style=\"overflow:auto\"><table style=\"width:50%\"><tr><td><b>Iris-setosa</b></td>\n",
       "<td><b>Iris-versicolor</b></td>\n",
       "<td><b>Iris-virginica</b></td>\n",
       "<td><b>Error</b></td>\n",
       "<td><b>Rate</b></td></tr>\n",
       "<tr><td>43.0</td>\n",
       "<td>0.0</td>\n",
       "<td>0.0</td>\n",
       "<td>0.0</td>\n",
       "<td>0 / 43</td></tr>\n",
       "<tr><td>0.0</td>\n",
       "<td>38.0</td>\n",
       "<td>0.0</td>\n",
       "<td>0.0</td>\n",
       "<td>0 / 38</td></tr>\n",
       "<tr><td>0.0</td>\n",
       "<td>1.0</td>\n",
       "<td>38.0</td>\n",
       "<td>0.0256410</td>\n",
       "<td>1 / 39</td></tr>\n",
       "<tr><td>43.0</td>\n",
       "<td>39.0</td>\n",
       "<td>38.0</td>\n",
       "<td>0.0083333</td>\n",
       "<td>1 / 120</td></tr></table></div>"
      ],
      "text/plain": [
       "Iris-setosa    Iris-versicolor    Iris-virginica    Error       Rate\n",
       "-------------  -----------------  ----------------  ----------  -------\n",
       "43             0                  0                 0           0 / 43\n",
       "0              38                 0                 0           0 / 38\n",
       "0              1                  38                0.025641    1 / 39\n",
       "43             39                 38                0.00833333  1 / 120"
      ]
     },
     "metadata": {},
     "output_type": "display_data"
    },
    {
     "name": "stdout",
     "output_type": "stream",
     "text": [
      "Top-3 Hit Ratios: \n"
     ]
    },
    {
     "data": {
      "text/html": [
       "<div style=\"overflow:auto\"><table style=\"width:50%\"><tr><td><b>k</b></td>\n",
       "<td><b>hit_ratio</b></td></tr>\n",
       "<tr><td>1</td>\n",
       "<td>0.9916667</td></tr>\n",
       "<tr><td>2</td>\n",
       "<td>1.0</td></tr>\n",
       "<tr><td>3</td>\n",
       "<td>1.0</td></tr></table></div>"
      ],
      "text/plain": [
       "k    hit_ratio\n",
       "---  -----------\n",
       "1    0.991667\n",
       "2    1\n",
       "3    1"
      ]
     },
     "metadata": {},
     "output_type": "display_data"
    },
    {
     "name": "stdout",
     "output_type": "stream",
     "text": [
      "\n",
      "ModelMetricsMultinomial: deeplearning\n",
      "** Reported on cross-validation data. **\n",
      "\n",
      "MSE: 0.00779512787135134\n",
      "RMSE: 0.08829002135774654\n",
      "LogLoss: 0.029096689585768266\n",
      "Mean Per-Class Error: 0.008547008547008546\n",
      "Confusion Matrix: Row labels: Actual class; Column labels: Predicted class\n",
      "\n"
     ]
    },
    {
     "data": {
      "text/html": [
       "<div style=\"overflow:auto\"><table style=\"width:50%\"><tr><td><b>Iris-setosa</b></td>\n",
       "<td><b>Iris-versicolor</b></td>\n",
       "<td><b>Iris-virginica</b></td>\n",
       "<td><b>Error</b></td>\n",
       "<td><b>Rate</b></td></tr>\n",
       "<tr><td>43.0</td>\n",
       "<td>0.0</td>\n",
       "<td>0.0</td>\n",
       "<td>0.0</td>\n",
       "<td>0 / 43</td></tr>\n",
       "<tr><td>0.0</td>\n",
       "<td>38.0</td>\n",
       "<td>0.0</td>\n",
       "<td>0.0</td>\n",
       "<td>0 / 38</td></tr>\n",
       "<tr><td>0.0</td>\n",
       "<td>1.0</td>\n",
       "<td>38.0</td>\n",
       "<td>0.0256410</td>\n",
       "<td>1 / 39</td></tr>\n",
       "<tr><td>43.0</td>\n",
       "<td>39.0</td>\n",
       "<td>38.0</td>\n",
       "<td>0.0083333</td>\n",
       "<td>1 / 120</td></tr></table></div>"
      ],
      "text/plain": [
       "Iris-setosa    Iris-versicolor    Iris-virginica    Error       Rate\n",
       "-------------  -----------------  ----------------  ----------  -------\n",
       "43             0                  0                 0           0 / 43\n",
       "0              38                 0                 0           0 / 38\n",
       "0              1                  38                0.025641    1 / 39\n",
       "43             39                 38                0.00833333  1 / 120"
      ]
     },
     "metadata": {},
     "output_type": "display_data"
    },
    {
     "name": "stdout",
     "output_type": "stream",
     "text": [
      "Top-3 Hit Ratios: \n"
     ]
    },
    {
     "data": {
      "text/html": [
       "<div style=\"overflow:auto\"><table style=\"width:50%\"><tr><td><b>k</b></td>\n",
       "<td><b>hit_ratio</b></td></tr>\n",
       "<tr><td>1</td>\n",
       "<td>0.9916667</td></tr>\n",
       "<tr><td>2</td>\n",
       "<td>1.0</td></tr>\n",
       "<tr><td>3</td>\n",
       "<td>1.0</td></tr></table></div>"
      ],
      "text/plain": [
       "k    hit_ratio\n",
       "---  -----------\n",
       "1    0.991667\n",
       "2    1\n",
       "3    1"
      ]
     },
     "metadata": {},
     "output_type": "display_data"
    },
    {
     "name": "stdout",
     "output_type": "stream",
     "text": [
      "Cross-Validation Metrics Summary: \n"
     ]
    },
    {
     "data": {
      "text/html": [
       "<div style=\"overflow:auto\"><table style=\"width:50%\"><tr><td><b></b></td>\n",
       "<td><b>mean</b></td>\n",
       "<td><b>sd</b></td>\n",
       "<td><b>cv_1_valid</b></td>\n",
       "<td><b>cv_2_valid</b></td>\n",
       "<td><b>cv_3_valid</b></td>\n",
       "<td><b>cv_4_valid</b></td>\n",
       "<td><b>cv_5_valid</b></td></tr>\n",
       "<tr><td>accuracy</td>\n",
       "<td>0.9916667</td>\n",
       "<td>0.0117851</td>\n",
       "<td>1.0</td>\n",
       "<td>0.9583333</td>\n",
       "<td>1.0</td>\n",
       "<td>1.0</td>\n",
       "<td>1.0</td></tr>\n",
       "<tr><td>err</td>\n",
       "<td>0.0083333</td>\n",
       "<td>0.0117851</td>\n",
       "<td>0.0</td>\n",
       "<td>0.0416667</td>\n",
       "<td>0.0</td>\n",
       "<td>0.0</td>\n",
       "<td>0.0</td></tr>\n",
       "<tr><td>err_count</td>\n",
       "<td>0.2</td>\n",
       "<td>0.2828427</td>\n",
       "<td>0.0</td>\n",
       "<td>1.0</td>\n",
       "<td>0.0</td>\n",
       "<td>0.0</td>\n",
       "<td>0.0</td></tr>\n",
       "<tr><td>logloss</td>\n",
       "<td>0.0290967</td>\n",
       "<td>0.0231850</td>\n",
       "<td>0.0035988</td>\n",
       "<td>0.0796856</td>\n",
       "<td>0.0011681</td>\n",
       "<td>0.0568024</td>\n",
       "<td>0.0042285</td></tr>\n",
       "<tr><td>max_per_class_error</td>\n",
       "<td>0.0285714</td>\n",
       "<td>0.0404061</td>\n",
       "<td>0.0</td>\n",
       "<td>0.1428571</td>\n",
       "<td>0.0</td>\n",
       "<td>0.0</td>\n",
       "<td>0.0</td></tr>\n",
       "<tr><td>mean_per_class_accuracy</td>\n",
       "<td>0.9904762</td>\n",
       "<td>0.0134687</td>\n",
       "<td>1.0</td>\n",
       "<td>0.9523810</td>\n",
       "<td>1.0</td>\n",
       "<td>1.0</td>\n",
       "<td>1.0</td></tr>\n",
       "<tr><td>mean_per_class_error</td>\n",
       "<td>0.0095238</td>\n",
       "<td>0.0134687</td>\n",
       "<td>0.0</td>\n",
       "<td>0.0476191</td>\n",
       "<td>0.0</td>\n",
       "<td>0.0</td>\n",
       "<td>0.0</td></tr>\n",
       "<tr><td>mse</td>\n",
       "<td>0.0077951</td>\n",
       "<td>0.0075004</td>\n",
       "<td>0.0002641</td>\n",
       "<td>0.0272133</td>\n",
       "<td>0.0000049</td>\n",
       "<td>0.0112099</td>\n",
       "<td>0.0002835</td></tr>\n",
       "<tr><td>r2</td>\n",
       "<td>0.9874415</td>\n",
       "<td>0.0120686</td>\n",
       "<td>0.9996831</td>\n",
       "<td>0.9563375</td>\n",
       "<td>0.9999919</td>\n",
       "<td>0.9816043</td>\n",
       "<td>0.9995907</td></tr>\n",
       "<tr><td>rmse</td>\n",
       "<td>0.0612290</td>\n",
       "<td>0.0449785</td>\n",
       "<td>0.0162514</td>\n",
       "<td>0.1649645</td>\n",
       "<td>0.0022158</td>\n",
       "<td>0.1058766</td>\n",
       "<td>0.0168367</td></tr></table></div>"
      ],
      "text/plain": [
       "                         mean        sd          cv_1_valid    cv_2_valid    cv_3_valid    cv_4_valid    cv_5_valid\n",
       "-----------------------  ----------  ----------  ------------  ------------  ------------  ------------  ------------\n",
       "accuracy                 0.991667    0.0117851   1             0.958333      1             1             1\n",
       "err                      0.00833333  0.0117851   0             0.0416667     0             0             0\n",
       "err_count                0.2         0.282843    0             1             0             0             0\n",
       "logloss                  0.0290967   0.023185    0.00359882    0.0796856     0.00116806    0.0568024     0.00422853\n",
       "max_per_class_error      0.0285714   0.0404061   0             0.142857      0             0             0\n",
       "mean_per_class_accuracy  0.990476    0.0134687   1             0.952381      1             1             1\n",
       "mean_per_class_error     0.00952381  0.0134687   0             0.0476191     0             0             0\n",
       "mse                      0.00779513  0.00750036  0.000264109   0.0272133     4.90993e-06   0.0112099     0.000283474\n",
       "r2                       0.987442    0.0120686   0.999683      0.956337      0.999992      0.981604      0.999591\n",
       "rmse                     0.061229    0.0449785   0.0162514     0.164965      0.00221584    0.105877      0.0168367"
      ]
     },
     "metadata": {},
     "output_type": "display_data"
    },
    {
     "name": "stdout",
     "output_type": "stream",
     "text": [
      "Scoring History: \n"
     ]
    },
    {
     "data": {
      "text/html": [
       "<div style=\"overflow:auto\"><table style=\"width:50%\"><tr><td><b></b></td>\n",
       "<td><b>timestamp</b></td>\n",
       "<td><b>duration</b></td>\n",
       "<td><b>training_speed</b></td>\n",
       "<td><b>epochs</b></td>\n",
       "<td><b>iterations</b></td>\n",
       "<td><b>samples</b></td>\n",
       "<td><b>training_rmse</b></td>\n",
       "<td><b>training_logloss</b></td>\n",
       "<td><b>training_r2</b></td>\n",
       "<td><b>training_classification_error</b></td></tr>\n",
       "<tr><td></td>\n",
       "<td>2019-05-16 16:57:23</td>\n",
       "<td> 0.000 sec</td>\n",
       "<td>None</td>\n",
       "<td>0.0</td>\n",
       "<td>0</td>\n",
       "<td>0.0</td>\n",
       "<td>nan</td>\n",
       "<td>nan</td>\n",
       "<td>nan</td>\n",
       "<td>nan</td></tr>\n",
       "<tr><td></td>\n",
       "<td>2019-05-16 16:57:24</td>\n",
       "<td> 1 min 12.438 sec</td>\n",
       "<td>3287 obs/sec</td>\n",
       "<td>10.0</td>\n",
       "<td>1</td>\n",
       "<td>1200.0</td>\n",
       "<td>0.1315996</td>\n",
       "<td>0.0637520</td>\n",
       "<td>0.9746146</td>\n",
       "<td>0.0333333</td></tr>\n",
       "<tr><td></td>\n",
       "<td>2019-05-16 16:57:29</td>\n",
       "<td> 1 min 17.522 sec</td>\n",
       "<td>5961 obs/sec</td>\n",
       "<td>270.0</td>\n",
       "<td>27</td>\n",
       "<td>32400.0</td>\n",
       "<td>0.0792858</td>\n",
       "<td>0.0216034</td>\n",
       "<td>0.9907856</td>\n",
       "<td>0.0083333</td></tr>\n",
       "<tr><td></td>\n",
       "<td>2019-05-16 16:57:34</td>\n",
       "<td> 1 min 22.606 sec</td>\n",
       "<td>6623 obs/sec</td>\n",
       "<td>580.0</td>\n",
       "<td>58</td>\n",
       "<td>69600.0</td>\n",
       "<td>0.0741273</td>\n",
       "<td>0.0146360</td>\n",
       "<td>0.9919456</td>\n",
       "<td>0.0083333</td></tr>\n",
       "<tr><td></td>\n",
       "<td>2019-05-16 16:57:39</td>\n",
       "<td> 1 min 27.630 sec</td>\n",
       "<td>7035 obs/sec</td>\n",
       "<td>910.0</td>\n",
       "<td>91</td>\n",
       "<td>109200.0</td>\n",
       "<td>0.0701612</td>\n",
       "<td>0.0136194</td>\n",
       "<td>0.9927845</td>\n",
       "<td>0.0083333</td></tr>\n",
       "<tr><td></td>\n",
       "<td>2019-05-16 16:57:41</td>\n",
       "<td> 1 min 29.567 sec</td>\n",
       "<td>7153 obs/sec</td>\n",
       "<td>1040.0</td>\n",
       "<td>104</td>\n",
       "<td>124800.0</td>\n",
       "<td>0.0864562</td>\n",
       "<td>0.0252047</td>\n",
       "<td>0.9890436</td>\n",
       "<td>0.0083333</td></tr></table></div>"
      ],
      "text/plain": [
       "    timestamp            duration          training_speed    epochs    iterations    samples    training_rmse    training_logloss    training_r2    training_classification_error\n",
       "--  -------------------  ----------------  ----------------  --------  ------------  ---------  ---------------  ------------------  -------------  -------------------------------\n",
       "    2019-05-16 16:57:23  0.000 sec                           0         0             0          nan              nan                 nan            nan\n",
       "    2019-05-16 16:57:24  1 min 12.438 sec  3287 obs/sec      10        1             1200       0.1316           0.063752            0.974615       0.0333333\n",
       "    2019-05-16 16:57:29  1 min 17.522 sec  5961 obs/sec      270       27            32400      0.0792858        0.0216034           0.990786       0.00833333\n",
       "    2019-05-16 16:57:34  1 min 22.606 sec  6623 obs/sec      580       58            69600      0.0741273        0.014636            0.991946       0.00833333\n",
       "    2019-05-16 16:57:39  1 min 27.630 sec  7035 obs/sec      910       91            109200     0.0701612        0.0136194           0.992784       0.00833333\n",
       "    2019-05-16 16:57:41  1 min 29.567 sec  7153 obs/sec      1040      104           124800     0.0864562        0.0252047           0.989044       0.00833333"
      ]
     },
     "metadata": {},
     "output_type": "display_data"
    },
    {
     "name": "stdout",
     "output_type": "stream",
     "text": [
      "Variable Importances: \n"
     ]
    },
    {
     "data": {
      "text/html": [
       "<div style=\"overflow:auto\"><table style=\"width:50%\"><tr><td><b>variable</b></td>\n",
       "<td><b>relative_importance</b></td>\n",
       "<td><b>scaled_importance</b></td>\n",
       "<td><b>percentage</b></td></tr>\n",
       "<tr><td>petal-width</td>\n",
       "<td>1.0</td>\n",
       "<td>1.0</td>\n",
       "<td>0.3595691</td></tr>\n",
       "<tr><td>petal-length</td>\n",
       "<td>0.8634027</td>\n",
       "<td>0.8634027</td>\n",
       "<td>0.3104530</td></tr>\n",
       "<tr><td>sepal-width</td>\n",
       "<td>0.5144761</td>\n",
       "<td>0.5144761</td>\n",
       "<td>0.1849897</td></tr>\n",
       "<tr><td>sepal-length</td>\n",
       "<td>0.4032277</td>\n",
       "<td>0.4032277</td>\n",
       "<td>0.1449882</td></tr></table></div>"
      ],
      "text/plain": [
       "variable      relative_importance    scaled_importance    percentage\n",
       "------------  ---------------------  -------------------  ------------\n",
       "petal-width   1                      1                    0.359569\n",
       "petal-length  0.863403               0.863403             0.310453\n",
       "sepal-width   0.514476               0.514476             0.18499\n",
       "sepal-length  0.403228               0.403228             0.144988"
      ]
     },
     "metadata": {},
     "output_type": "display_data"
    },
    {
     "data": {
      "text/plain": []
     },
     "execution_count": 92,
     "metadata": {},
     "output_type": "execute_result"
    }
   ],
   "source": [
    "# The leader model is stored here\n",
    "aml.leader"
   ]
  },
  {
   "cell_type": "code",
   "execution_count": 96,
   "metadata": {},
   "outputs": [
    {
     "name": "stdout",
     "output_type": "stream",
     "text": [
      "deeplearning prediction progress: |███████████████████████████████████████| 100%\n"
     ]
    }
   ],
   "source": [
    "# If you need to generate predictions on a test set, you can make\n",
    "# predictions directly on the `\"H2OAutoML\"` object, or on the leader\n",
    "# model object directly\n",
    "\n",
    "predictions = aml.leader.predict(test).as_data_frame()['predict'].tolist()"
   ]
  },
  {
   "cell_type": "code",
   "execution_count": 97,
   "metadata": {
    "collapsed": true
   },
   "outputs": [],
   "source": [
    "y_test = test.as_data_frame()['class'].tolist()"
   ]
  },
  {
   "cell_type": "code",
   "execution_count": 98,
   "metadata": {},
   "outputs": [
    {
     "name": "stdout",
     "output_type": "stream",
     "text": [
      "0.8666666666666667\n",
      "[[ 7  0  0]\n",
      " [ 0 10  2]\n",
      " [ 0  2  9]]\n",
      "                 precision    recall  f1-score   support\n",
      "\n",
      "    Iris-setosa       1.00      1.00      1.00         7\n",
      "Iris-versicolor       0.83      0.83      0.83        12\n",
      " Iris-virginica       0.82      0.82      0.82        11\n",
      "\n",
      "    avg / total       0.87      0.87      0.87        30\n",
      "\n"
     ]
    }
   ],
   "source": [
    "print(accuracy_score(y_test, predictions))\n",
    "print(confusion_matrix(y_test, predictions))\n",
    "print(classification_report(y_test, predictions))"
   ]
  },
  {
   "cell_type": "markdown",
   "metadata": {},
   "source": [
    "###### (c) Was ist Ihre Meinung zu AutoML?"
   ]
  },
  {
   "cell_type": "markdown",
   "metadata": {},
   "source": []
  }
 ],
 "metadata": {
  "anaconda-cloud": {},
  "kernelspec": {
   "display_name": "Python [conda env:aufgabe1]",
   "language": "python",
   "name": "conda-env-aufgabe1-py"
  },
  "language_info": {
   "codemirror_mode": {
    "name": "ipython",
    "version": 3
   },
   "file_extension": ".py",
   "mimetype": "text/x-python",
   "name": "python",
   "nbconvert_exporter": "python",
   "pygments_lexer": "ipython3",
   "version": "3.5.4"
  }
 },
 "nbformat": 4,
 "nbformat_minor": 1
}
