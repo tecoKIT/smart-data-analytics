{
 "cells": [
  {
   "cell_type": "markdown",
   "metadata": {},
   "source": [
    "# Aufgabe 7: AutoML"
   ]
  },
  {
   "cell_type": "markdown",
   "metadata": {},
   "source": [
    "Unter AutoML versteht man...\n",
    "\n",
    "https://www.ml4aad.org/automl/"
   ]
  },
  {
   "cell_type": "markdown",
   "metadata": {},
   "source": [
    "###### (a) Wählen Sie ein AutoML Package. Begründen Sie Ihre Auswahl."
   ]
  },
  {
   "cell_type": "markdown",
   "metadata": {},
   "source": [
    "Wir haben uns für _H2O AutoML_ entschieden, weil es in Hinblick auf die Reproduzierbarkeit der Ergebnisse am leichtesten auf verschiedenen Plattformen installierbar ist.\n",
    "\n",
    "Bei _auto-sklearn_ beispielsweise fehlten die Berechtigungen, um die benötigten Dependencies auf SDIL zu installieren.\n",
    "Für andere AutoML-Bibliotheken wurde lediglich ein git-repo zur Verfügung gestellt, weshalb diese nicht einfach über eine `requirements.txt` installiert werden können.\n",
    "\n",
    "Zudem fanden wir die Dokumentation zu _H2O AutoML_ auf den ersten Blick sehr übersichtlich."
   ]
  },
  {
   "cell_type": "markdown",
   "metadata": {},
   "source": [
    "###### (b) Führen Sie die Klassifikationsaufgabe von Aufgabe 3 mit AutoML durch. Vergleichen Sie die Ergebnisse mit den Ergebnissen aus Aufgabe 3."
   ]
  },
  {
   "cell_type": "markdown",
   "metadata": {},
   "source": [
    "http://docs.h2o.ai/h2o/latest-stable/h2o-docs/automl.html"
   ]
  },
  {
   "cell_type": "code",
   "execution_count": 1,
   "metadata": {},
   "outputs": [],
   "source": [
    "# Import Libraries\n",
    "import time\n",
    "import multiprocessing\n",
    "\n",
    "import pandas as pd\n",
    "import numpy as np\n",
    "\n",
    "from sklearn import svm\n",
    "from sklearn import model_selection\n",
    "from sklearn.model_selection import GridSearchCV\n",
    "\n",
    "import h2o\n",
    "from h2o.automl import H2OAutoML\n",
    "from h2o.frame import H2OFrame\n",
    "\n",
    "from sklearn.metrics import classification_report\n",
    "from sklearn.metrics import confusion_matrix\n",
    "from sklearn.metrics import accuracy_score"
   ]
  },
  {
   "cell_type": "code",
   "execution_count": 2,
   "metadata": {},
   "outputs": [
    {
     "name": "stdout",
     "output_type": "stream",
     "text": [
      "Checking whether there is an H2O instance running at http://localhost:54321. connected.\n",
      "Warning: Your H2O cluster version is too old (4 months)! Please download and install the latest version from http://h2o.ai/download/\n"
     ]
    },
    {
     "data": {
      "text/html": [
       "<div style=\"overflow:auto\"><table style=\"width:50%\"><tr><td>H2O cluster uptime:</td>\n",
       "<td>15 mins 08 secs</td></tr>\n",
       "<tr><td>H2O cluster timezone:</td>\n",
       "<td>Europe/Berlin</td></tr>\n",
       "<tr><td>H2O data parsing timezone:</td>\n",
       "<td>UTC</td></tr>\n",
       "<tr><td>H2O cluster version:</td>\n",
       "<td>3.22.1.2</td></tr>\n",
       "<tr><td>H2O cluster version age:</td>\n",
       "<td>4 months !!!</td></tr>\n",
       "<tr><td>H2O cluster name:</td>\n",
       "<td>H2O_from_python_carmen_wp3in5</td></tr>\n",
       "<tr><td>H2O cluster total nodes:</td>\n",
       "<td>1</td></tr>\n",
       "<tr><td>H2O cluster free memory:</td>\n",
       "<td>3.851 Gb</td></tr>\n",
       "<tr><td>H2O cluster total cores:</td>\n",
       "<td>8</td></tr>\n",
       "<tr><td>H2O cluster allowed cores:</td>\n",
       "<td>8</td></tr>\n",
       "<tr><td>H2O cluster status:</td>\n",
       "<td>locked, healthy</td></tr>\n",
       "<tr><td>H2O connection url:</td>\n",
       "<td>http://localhost:54321</td></tr>\n",
       "<tr><td>H2O connection proxy:</td>\n",
       "<td>None</td></tr>\n",
       "<tr><td>H2O internal security:</td>\n",
       "<td>False</td></tr>\n",
       "<tr><td>H2O API Extensions:</td>\n",
       "<td>XGBoost, Algos, AutoML, Core V3, Core V4</td></tr>\n",
       "<tr><td>Python version:</td>\n",
       "<td>3.5.6 final</td></tr></table></div>"
      ],
      "text/plain": [
       "--------------------------  ----------------------------------------\n",
       "H2O cluster uptime:         15 mins 08 secs\n",
       "H2O cluster timezone:       Europe/Berlin\n",
       "H2O data parsing timezone:  UTC\n",
       "H2O cluster version:        3.22.1.2\n",
       "H2O cluster version age:    4 months !!!\n",
       "H2O cluster name:           H2O_from_python_carmen_wp3in5\n",
       "H2O cluster total nodes:    1\n",
       "H2O cluster free memory:    3.851 Gb\n",
       "H2O cluster total cores:    8\n",
       "H2O cluster allowed cores:  8\n",
       "H2O cluster status:         locked, healthy\n",
       "H2O connection url:         http://localhost:54321\n",
       "H2O connection proxy:\n",
       "H2O internal security:      False\n",
       "H2O API Extensions:         XGBoost, Algos, AutoML, Core V3, Core V4\n",
       "Python version:             3.5.6 final\n",
       "--------------------------  ----------------------------------------"
      ]
     },
     "metadata": {},
     "output_type": "display_data"
    }
   ],
   "source": [
    "# initialize h2o\n",
    "h2o.init()"
   ]
  },
  {
   "cell_type": "code",
   "execution_count": 3,
   "metadata": {},
   "outputs": [],
   "source": [
    "# Load dataset iris\n",
    "url = \"https://archive.ics.uci.edu/ml/machine-learning-databases/iris/iris.data\"\n",
    "names = ['sepal-length', 'sepal-width', 'petal-length', 'petal-width', 'class']\n",
    "iris = pd.read_csv(url, names=names)"
   ]
  },
  {
   "cell_type": "code",
   "execution_count": 4,
   "metadata": {},
   "outputs": [],
   "source": [
    "# Split-out validation dataset\n",
    "array = iris.values\n",
    "X = array[:,0:4]\n",
    "Y = array[:,4]\n",
    "test_size = 0.20\n",
    "seed = 7\n",
    "X_train, X_test, y_train, y_test = model_selection.train_test_split(X, Y, test_size=test_size, random_state=seed)"
   ]
  },
  {
   "cell_type": "code",
   "execution_count": 5,
   "metadata": {},
   "outputs": [
    {
     "name": "stdout",
     "output_type": "stream",
     "text": [
      "Parse progress: |█████████████████████████████████████████████████████████| 100%\n",
      "Parse progress: |█████████████████████████████████████████████████████████| 100%\n"
     ]
    }
   ],
   "source": [
    "# prepare data by creating a train and test array and transforming it into an h2o frame\n",
    "train_array = np.column_stack([X_train, y_train])\n",
    "test_array = np.column_stack([X_test, y_test])\n",
    "\n",
    "train = H2OFrame(python_obj=train_array, column_names=names)\n",
    "test = H2OFrame(python_obj=test_array, column_names=names)"
   ]
  },
  {
   "cell_type": "code",
   "execution_count": 6,
   "metadata": {},
   "outputs": [],
   "source": [
    "# Identify predictors and response\n",
    "x = names\n",
    "y = \"class\"\n",
    "x.remove(y)"
   ]
  },
  {
   "cell_type": "code",
   "execution_count": 7,
   "metadata": {},
   "outputs": [
    {
     "name": "stdout",
     "output_type": "stream",
     "text": [
      "AutoML progress: |████████████████████████████████████████████████████████| 100%\n"
     ]
    }
   ],
   "source": [
    "# set number of models to 20 and start training\n",
    "aml = H2OAutoML(max_models=20, seed=1, nfolds=10)\n",
    "aml.train(x=x, y=y, training_frame=train)                                 "
   ]
  },
  {
   "cell_type": "code",
   "execution_count": 8,
   "metadata": {},
   "outputs": [
    {
     "data": {
      "text/html": [
       "<table>\n",
       "<thead>\n",
       "<tr><th>model_id                                           </th><th style=\"text-align: right;\">  mean_per_class_error</th><th style=\"text-align: right;\">  logloss</th><th style=\"text-align: right;\">    rmse</th><th style=\"text-align: right;\">      mse</th></tr>\n",
       "</thead>\n",
       "<tbody>\n",
       "<tr><td>DeepLearning_grid_1_AutoML_20190519_140823_model_5 </td><td style=\"text-align: right;\">            0.00877193</td><td style=\"text-align: right;\">0.106439 </td><td style=\"text-align: right;\">0.102452</td><td style=\"text-align: right;\">0.0104964</td></tr>\n",
       "<tr><td>DeepLearning_grid_1_AutoML_20190519_140823_model_2 </td><td style=\"text-align: right;\">            0.00877193</td><td style=\"text-align: right;\">0.0562566</td><td style=\"text-align: right;\">0.127838</td><td style=\"text-align: right;\">0.0163425</td></tr>\n",
       "<tr><td>DRF_1_AutoML_20190519_140823                       </td><td style=\"text-align: right;\">            0.017094  </td><td style=\"text-align: right;\">0.0615018</td><td style=\"text-align: right;\">0.135776</td><td style=\"text-align: right;\">0.0184352</td></tr>\n",
       "<tr><td>XRT_1_AutoML_20190519_140823                       </td><td style=\"text-align: right;\">            0.017094  </td><td style=\"text-align: right;\">0.0564404</td><td style=\"text-align: right;\">0.130203</td><td style=\"text-align: right;\">0.0169529</td></tr>\n",
       "<tr><td>DeepLearning_grid_1_AutoML_20190519_140823_model_1 </td><td style=\"text-align: right;\">            0.0173189 </td><td style=\"text-align: right;\">0.252379 </td><td style=\"text-align: right;\">0.129633</td><td style=\"text-align: right;\">0.0168047</td></tr>\n",
       "<tr><td>StackedEnsemble_BestOfFamily_AutoML_20190519_140823</td><td style=\"text-align: right;\">            0.0173189 </td><td style=\"text-align: right;\">0.142473 </td><td style=\"text-align: right;\">0.154669</td><td style=\"text-align: right;\">0.0239225</td></tr>\n",
       "<tr><td>StackedEnsemble_AllModels_AutoML_20190519_140823   </td><td style=\"text-align: right;\">            0.0173189 </td><td style=\"text-align: right;\">0.129481 </td><td style=\"text-align: right;\">0.146512</td><td style=\"text-align: right;\">0.0214658</td></tr>\n",
       "<tr><td>DeepLearning_grid_1_AutoML_20190519_140823_model_4 </td><td style=\"text-align: right;\">            0.0175439 </td><td style=\"text-align: right;\">0.0540176</td><td style=\"text-align: right;\">0.130054</td><td style=\"text-align: right;\">0.016914 </td></tr>\n",
       "<tr><td>DeepLearning_grid_1_AutoML_20190519_140823_model_3 </td><td style=\"text-align: right;\">            0.0175439 </td><td style=\"text-align: right;\">0.382843 </td><td style=\"text-align: right;\">0.145793</td><td style=\"text-align: right;\">0.0212555</td></tr>\n",
       "<tr><td>DeepLearning_1_AutoML_20190519_140823              </td><td style=\"text-align: right;\">            0.0258659 </td><td style=\"text-align: right;\">0.151966 </td><td style=\"text-align: right;\">0.186451</td><td style=\"text-align: right;\">0.0347641</td></tr>\n",
       "<tr><td>GBM_1_AutoML_20190519_140823                       </td><td style=\"text-align: right;\">            0.0346379 </td><td style=\"text-align: right;\">0.0862503</td><td style=\"text-align: right;\">0.154058</td><td style=\"text-align: right;\">0.023734 </td></tr>\n",
       "<tr><td>GLM_grid_1_AutoML_20190519_140823_model_1          </td><td style=\"text-align: right;\">            0.0346379 </td><td style=\"text-align: right;\">0.0591984</td><td style=\"text-align: right;\">0.136845</td><td style=\"text-align: right;\">0.0187264</td></tr>\n",
       "<tr><td>GBM_grid_1_AutoML_20190519_140823_model_5          </td><td style=\"text-align: right;\">            0.0348628 </td><td style=\"text-align: right;\">1.04484  </td><td style=\"text-align: right;\">0.648227</td><td style=\"text-align: right;\">0.420198 </td></tr>\n",
       "<tr><td>GBM_3_AutoML_20190519_140823                       </td><td style=\"text-align: right;\">            0.0431849 </td><td style=\"text-align: right;\">0.0800724</td><td style=\"text-align: right;\">0.146836</td><td style=\"text-align: right;\">0.0215607</td></tr>\n",
       "<tr><td>GBM_2_AutoML_20190519_140823                       </td><td style=\"text-align: right;\">            0.0431849 </td><td style=\"text-align: right;\">0.0800724</td><td style=\"text-align: right;\">0.146836</td><td style=\"text-align: right;\">0.0215607</td></tr>\n",
       "<tr><td>GBM_4_AutoML_20190519_140823                       </td><td style=\"text-align: right;\">            0.0431849 </td><td style=\"text-align: right;\">0.0800724</td><td style=\"text-align: right;\">0.146836</td><td style=\"text-align: right;\">0.0215607</td></tr>\n",
       "<tr><td>GBM_grid_1_AutoML_20190519_140823_model_2          </td><td style=\"text-align: right;\">            0.0434098 </td><td style=\"text-align: right;\">0.749039 </td><td style=\"text-align: right;\">0.526861</td><td style=\"text-align: right;\">0.277582 </td></tr>\n",
       "<tr><td>GBM_grid_1_AutoML_20190519_140823_model_3          </td><td style=\"text-align: right;\">            0.0517319 </td><td style=\"text-align: right;\">0.163521 </td><td style=\"text-align: right;\">0.197919</td><td style=\"text-align: right;\">0.0391718</td></tr>\n",
       "<tr><td>GBM_grid_1_AutoML_20190519_140823_model_4          </td><td style=\"text-align: right;\">            0.0519568 </td><td style=\"text-align: right;\">0.902812 </td><td style=\"text-align: right;\">0.594358</td><td style=\"text-align: right;\">0.353261 </td></tr>\n",
       "<tr><td>DeepLearning_grid_1_AutoML_20190519_140823_model_6 </td><td style=\"text-align: right;\">            0.0524067 </td><td style=\"text-align: right;\">0.0705347</td><td style=\"text-align: right;\">0.157188</td><td style=\"text-align: right;\">0.0247079</td></tr>\n",
       "<tr><td>GBM_grid_1_AutoML_20190519_140823_model_1          </td><td style=\"text-align: right;\">            0.0605038 </td><td style=\"text-align: right;\">0.713679 </td><td style=\"text-align: right;\">0.509728</td><td style=\"text-align: right;\">0.259823 </td></tr>\n",
       "</tbody>\n",
       "</table>"
      ]
     },
     "metadata": {},
     "output_type": "display_data"
    },
    {
     "data": {
      "text/plain": []
     },
     "metadata": {},
     "output_type": "display_data"
    }
   ],
   "source": [
    "# View the AutoML Leaderboard\n",
    "lb = aml.leaderboard\n",
    "display(lb.head(rows=lb.nrows)) # Print all rows instead of default (10 rows)"
   ]
  },
  {
   "cell_type": "code",
   "execution_count": 10,
   "metadata": {
    "scrolled": true
   },
   "outputs": [
    {
     "name": "stdout",
     "output_type": "stream",
     "text": [
      "Model Details\n",
      "=============\n",
      "H2ODeepLearningEstimator :  Deep Learning\n",
      "Model Key:  DeepLearning_grid_1_AutoML_20190519_140823_model_5\n",
      "\n",
      "\n",
      "ModelMetricsMultinomial: deeplearning\n",
      "** Reported on train data. **\n",
      "\n",
      "MSE: 0.0003593883782032384\n",
      "RMSE: 0.018957541459884465\n",
      "LogLoss: 0.0021525641996402193\n",
      "Mean Per-Class Error: 0.0\n",
      "Confusion Matrix: Row labels: Actual class; Column labels: Predicted class\n",
      "\n"
     ]
    },
    {
     "data": {
      "text/html": [
       "<div style=\"overflow:auto\"><table style=\"width:50%\"><tr><td><b>Iris-setosa</b></td>\n",
       "<td><b>Iris-versicolor</b></td>\n",
       "<td><b>Iris-virginica</b></td>\n",
       "<td><b>Error</b></td>\n",
       "<td><b>Rate</b></td></tr>\n",
       "<tr><td>43.0</td>\n",
       "<td>0.0</td>\n",
       "<td>0.0</td>\n",
       "<td>0.0</td>\n",
       "<td>0 / 43</td></tr>\n",
       "<tr><td>0.0</td>\n",
       "<td>38.0</td>\n",
       "<td>0.0</td>\n",
       "<td>0.0</td>\n",
       "<td>0 / 38</td></tr>\n",
       "<tr><td>0.0</td>\n",
       "<td>0.0</td>\n",
       "<td>39.0</td>\n",
       "<td>0.0</td>\n",
       "<td>0 / 39</td></tr>\n",
       "<tr><td>43.0</td>\n",
       "<td>38.0</td>\n",
       "<td>39.0</td>\n",
       "<td>0.0</td>\n",
       "<td>0 / 120</td></tr></table></div>"
      ],
      "text/plain": [
       "Iris-setosa    Iris-versicolor    Iris-virginica    Error    Rate\n",
       "-------------  -----------------  ----------------  -------  -------\n",
       "43             0                  0                 0        0 / 43\n",
       "0              38                 0                 0        0 / 38\n",
       "0              0                  39                0        0 / 39\n",
       "43             38                 39                0        0 / 120"
      ]
     },
     "metadata": {},
     "output_type": "display_data"
    },
    {
     "name": "stdout",
     "output_type": "stream",
     "text": [
      "Top-3 Hit Ratios: \n"
     ]
    },
    {
     "data": {
      "text/html": [
       "<div style=\"overflow:auto\"><table style=\"width:50%\"><tr><td><b>k</b></td>\n",
       "<td><b>hit_ratio</b></td></tr>\n",
       "<tr><td>1</td>\n",
       "<td>1.0</td></tr>\n",
       "<tr><td>2</td>\n",
       "<td>1.0</td></tr>\n",
       "<tr><td>3</td>\n",
       "<td>1.0</td></tr></table></div>"
      ],
      "text/plain": [
       "k    hit_ratio\n",
       "---  -----------\n",
       "1    1\n",
       "2    1\n",
       "3    1"
      ]
     },
     "metadata": {},
     "output_type": "display_data"
    },
    {
     "name": "stdout",
     "output_type": "stream",
     "text": [
      "\n",
      "ModelMetricsMultinomial: deeplearning\n",
      "** Reported on cross-validation data. **\n",
      "\n",
      "MSE: 0.010496439506336861\n",
      "RMSE: 0.10245213275640903\n",
      "LogLoss: 0.10643940259325049\n",
      "Mean Per-Class Error: 0.008771929824561403\n",
      "Confusion Matrix: Row labels: Actual class; Column labels: Predicted class\n",
      "\n"
     ]
    },
    {
     "data": {
      "text/html": [
       "<div style=\"overflow:auto\"><table style=\"width:50%\"><tr><td><b>Iris-setosa</b></td>\n",
       "<td><b>Iris-versicolor</b></td>\n",
       "<td><b>Iris-virginica</b></td>\n",
       "<td><b>Error</b></td>\n",
       "<td><b>Rate</b></td></tr>\n",
       "<tr><td>43.0</td>\n",
       "<td>0.0</td>\n",
       "<td>0.0</td>\n",
       "<td>0.0</td>\n",
       "<td>0 / 43</td></tr>\n",
       "<tr><td>0.0</td>\n",
       "<td>37.0</td>\n",
       "<td>1.0</td>\n",
       "<td>0.0263158</td>\n",
       "<td>1 / 38</td></tr>\n",
       "<tr><td>0.0</td>\n",
       "<td>0.0</td>\n",
       "<td>39.0</td>\n",
       "<td>0.0</td>\n",
       "<td>0 / 39</td></tr>\n",
       "<tr><td>43.0</td>\n",
       "<td>37.0</td>\n",
       "<td>40.0</td>\n",
       "<td>0.0083333</td>\n",
       "<td>1 / 120</td></tr></table></div>"
      ],
      "text/plain": [
       "Iris-setosa    Iris-versicolor    Iris-virginica    Error       Rate\n",
       "-------------  -----------------  ----------------  ----------  -------\n",
       "43             0                  0                 0           0 / 43\n",
       "0              37                 1                 0.0263158   1 / 38\n",
       "0              0                  39                0           0 / 39\n",
       "43             37                 40                0.00833333  1 / 120"
      ]
     },
     "metadata": {},
     "output_type": "display_data"
    },
    {
     "name": "stdout",
     "output_type": "stream",
     "text": [
      "Top-3 Hit Ratios: \n"
     ]
    },
    {
     "data": {
      "text/html": [
       "<div style=\"overflow:auto\"><table style=\"width:50%\"><tr><td><b>k</b></td>\n",
       "<td><b>hit_ratio</b></td></tr>\n",
       "<tr><td>1</td>\n",
       "<td>0.9916667</td></tr>\n",
       "<tr><td>2</td>\n",
       "<td>1.0</td></tr>\n",
       "<tr><td>3</td>\n",
       "<td>1.0</td></tr></table></div>"
      ],
      "text/plain": [
       "k    hit_ratio\n",
       "---  -----------\n",
       "1    0.991667\n",
       "2    1\n",
       "3    1"
      ]
     },
     "metadata": {},
     "output_type": "display_data"
    },
    {
     "name": "stdout",
     "output_type": "stream",
     "text": [
      "Cross-Validation Metrics Summary: \n"
     ]
    },
    {
     "data": {
      "text/html": [
       "<div style=\"overflow:auto\"><table style=\"width:50%\"><tr><td><b></b></td>\n",
       "<td><b>mean</b></td>\n",
       "<td><b>sd</b></td>\n",
       "<td><b>cv_1_valid</b></td>\n",
       "<td><b>cv_2_valid</b></td>\n",
       "<td><b>cv_3_valid</b></td>\n",
       "<td><b>cv_4_valid</b></td>\n",
       "<td><b>cv_5_valid</b></td>\n",
       "<td><b>cv_6_valid</b></td>\n",
       "<td><b>cv_7_valid</b></td>\n",
       "<td><b>cv_8_valid</b></td>\n",
       "<td><b>cv_9_valid</b></td>\n",
       "<td><b>cv_10_valid</b></td></tr>\n",
       "<tr><td>accuracy</td>\n",
       "<td>0.9916667</td>\n",
       "<td>0.0176777</td>\n",
       "<td>1.0</td>\n",
       "<td>1.0</td>\n",
       "<td>1.0</td>\n",
       "<td>1.0</td>\n",
       "<td>1.0</td>\n",
       "<td>1.0</td>\n",
       "<td>1.0</td>\n",
       "<td>1.0</td>\n",
       "<td>0.9166667</td>\n",
       "<td>1.0</td></tr>\n",
       "<tr><td>err</td>\n",
       "<td>0.0083333</td>\n",
       "<td>0.0176777</td>\n",
       "<td>0.0</td>\n",
       "<td>0.0</td>\n",
       "<td>0.0</td>\n",
       "<td>0.0</td>\n",
       "<td>0.0</td>\n",
       "<td>0.0</td>\n",
       "<td>0.0</td>\n",
       "<td>0.0</td>\n",
       "<td>0.0833333</td>\n",
       "<td>0.0</td></tr>\n",
       "<tr><td>err_count</td>\n",
       "<td>0.1</td>\n",
       "<td>0.2121320</td>\n",
       "<td>0.0</td>\n",
       "<td>0.0</td>\n",
       "<td>0.0</td>\n",
       "<td>0.0</td>\n",
       "<td>0.0</td>\n",
       "<td>0.0</td>\n",
       "<td>0.0</td>\n",
       "<td>0.0</td>\n",
       "<td>1.0</td>\n",
       "<td>0.0</td></tr>\n",
       "<tr><td>logloss</td>\n",
       "<td>0.1064394</td>\n",
       "<td>0.2066515</td>\n",
       "<td>0.0000013</td>\n",
       "<td>0.0004192</td>\n",
       "<td>0.0025991</td>\n",
       "<td>0.0001614</td>\n",
       "<td>0.0004910</td>\n",
       "<td>0.0000004</td>\n",
       "<td>0.0803682</td>\n",
       "<td>0.0000511</td>\n",
       "<td>0.9802672</td>\n",
       "<td>0.0000351</td></tr>\n",
       "<tr><td>max_per_class_error</td>\n",
       "<td>0.0166667</td>\n",
       "<td>0.0353553</td>\n",
       "<td>0.0</td>\n",
       "<td>0.0</td>\n",
       "<td>0.0</td>\n",
       "<td>0.0</td>\n",
       "<td>0.0</td>\n",
       "<td>0.0</td>\n",
       "<td>0.0</td>\n",
       "<td>0.0</td>\n",
       "<td>0.1666667</td>\n",
       "<td>0.0</td></tr>\n",
       "<tr><td>mean_per_class_accuracy</td>\n",
       "<td>0.9944444</td>\n",
       "<td>0.0117851</td>\n",
       "<td>1.0</td>\n",
       "<td>1.0</td>\n",
       "<td>1.0</td>\n",
       "<td>1.0</td>\n",
       "<td>1.0</td>\n",
       "<td>1.0</td>\n",
       "<td>1.0</td>\n",
       "<td>1.0</td>\n",
       "<td>0.9444444</td>\n",
       "<td>1.0</td></tr>\n",
       "<tr><td>mean_per_class_error</td>\n",
       "<td>0.0055556</td>\n",
       "<td>0.0117851</td>\n",
       "<td>0.0</td>\n",
       "<td>0.0</td>\n",
       "<td>0.0</td>\n",
       "<td>0.0</td>\n",
       "<td>0.0</td>\n",
       "<td>0.0</td>\n",
       "<td>0.0</td>\n",
       "<td>0.0</td>\n",
       "<td>0.0555556</td>\n",
       "<td>0.0</td></tr>\n",
       "<tr><td>mse</td>\n",
       "<td>0.0104964</td>\n",
       "<td>0.0177604</td>\n",
       "<td>0.0000000</td>\n",
       "<td>0.0000010</td>\n",
       "<td>0.0000708</td>\n",
       "<td>0.0000003</td>\n",
       "<td>0.0000012</td>\n",
       "<td>0.0000000</td>\n",
       "<td>0.0215480</td>\n",
       "<td>0.0000000</td>\n",
       "<td>0.0833431</td>\n",
       "<td>0.0000000</td></tr>\n",
       "<tr><td>r2</td>\n",
       "<td>0.9800838</td>\n",
       "<td>0.0352580</td>\n",
       "<td>1.0</td>\n",
       "<td>0.9999983</td>\n",
       "<td>0.9998501</td>\n",
       "<td>0.9999995</td>\n",
       "<td>0.999998</td>\n",
       "<td>1.0</td>\n",
       "<td>0.967678</td>\n",
       "<td>0.9999999</td>\n",
       "<td>0.8333138</td>\n",
       "<td>1.0</td></tr>\n",
       "<tr><td>rmse</td>\n",
       "<td>0.0446798</td>\n",
       "<td>0.0651926</td>\n",
       "<td>0.0000034</td>\n",
       "<td>0.0009753</td>\n",
       "<td>0.0084141</td>\n",
       "<td>5.5634E-4</td>\n",
       "<td>0.0010776</td>\n",
       "<td>0.0000013</td>\n",
       "<td>0.1467924</td>\n",
       "<td>0.0001767</td>\n",
       "<td>0.2886921</td>\n",
       "<td>0.0001088</td></tr></table></div>"
      ],
      "text/plain": [
       "                         mean        sd         cv_1_valid    cv_2_valid    cv_3_valid    cv_4_valid    cv_5_valid    cv_6_valid    cv_7_valid    cv_8_valid    cv_9_valid    cv_10_valid\n",
       "-----------------------  ----------  ---------  ------------  ------------  ------------  ------------  ------------  ------------  ------------  ------------  ------------  -------------\n",
       "accuracy                 0.991667    0.0176777  1             1             1             1             1             1             1             1             0.916667      1\n",
       "err                      0.00833333  0.0176777  0             0             0             0             0             0             0             0             0.0833333     0\n",
       "err_count                0.1         0.212132   0             0             0             0             0             0             0             0             1             0\n",
       "logloss                  0.106439    0.206651   1.26274e-06   0.000419236   0.00259909    0.00016138    0.000491026   4.11061e-07   0.0803682     5.11163e-05   0.980267      3.51058e-05\n",
       "max_per_class_error      0.0166667   0.0353553  0             0             0             0             0             0             0             0             0.166667      0\n",
       "mean_per_class_accuracy  0.994444    0.0117851  1             1             1             1             1             1             1             1             0.944444      1\n",
       "mean_per_class_error     0.00555556  0.0117851  0             0             0             0             0             0             0             0             0.0555556     0\n",
       "mse                      0.0104964   0.0177604  1.17491e-11   9.51218e-07   7.07966e-05   3.09514e-07   1.16112e-06   1.74368e-12   0.021548      3.12111e-08   0.0833431     1.18326e-08\n",
       "r2                       0.980084    0.035258   1             0.999998      0.99985       1             0.999998      1             0.967678      1             0.833314      1\n",
       "rmse                     0.0446798   0.0651926  3.4277e-06    0.000975304   0.00841407    0.00055634    0.00107755    1.32049e-06   0.146792      0.000176667   0.288692      0.000108778"
      ]
     },
     "metadata": {},
     "output_type": "display_data"
    },
    {
     "name": "stdout",
     "output_type": "stream",
     "text": [
      "Scoring History: \n"
     ]
    },
    {
     "data": {
      "text/html": [
       "<div style=\"overflow:auto\"><table style=\"width:50%\"><tr><td><b></b></td>\n",
       "<td><b>timestamp</b></td>\n",
       "<td><b>duration</b></td>\n",
       "<td><b>training_speed</b></td>\n",
       "<td><b>epochs</b></td>\n",
       "<td><b>iterations</b></td>\n",
       "<td><b>samples</b></td>\n",
       "<td><b>training_rmse</b></td>\n",
       "<td><b>training_logloss</b></td>\n",
       "<td><b>training_r2</b></td>\n",
       "<td><b>training_classification_error</b></td></tr>\n",
       "<tr><td></td>\n",
       "<td>2019-05-19 14:29:19</td>\n",
       "<td> 0.000 sec</td>\n",
       "<td>None</td>\n",
       "<td>0.0</td>\n",
       "<td>0</td>\n",
       "<td>0.0</td>\n",
       "<td>nan</td>\n",
       "<td>nan</td>\n",
       "<td>nan</td>\n",
       "<td>nan</td></tr>\n",
       "<tr><td></td>\n",
       "<td>2019-05-19 14:29:19</td>\n",
       "<td>55.065 sec</td>\n",
       "<td>63157 obs/sec</td>\n",
       "<td>10.0</td>\n",
       "<td>1</td>\n",
       "<td>1200.0</td>\n",
       "<td>0.2599565</td>\n",
       "<td>0.2638794</td>\n",
       "<td>0.9009452</td>\n",
       "<td>0.0916667</td></tr>\n",
       "<tr><td></td>\n",
       "<td>2019-05-19 14:29:24</td>\n",
       "<td> 1 min  0.071 sec</td>\n",
       "<td>141878 obs/sec</td>\n",
       "<td>5940.0</td>\n",
       "<td>594</td>\n",
       "<td>712800.0</td>\n",
       "<td>0.0189575</td>\n",
       "<td>0.0021526</td>\n",
       "<td>0.9994732</td>\n",
       "<td>0.0</td></tr></table></div>"
      ],
      "text/plain": [
       "    timestamp            duration          training_speed    epochs    iterations    samples    training_rmse    training_logloss    training_r2    training_classification_error\n",
       "--  -------------------  ----------------  ----------------  --------  ------------  ---------  ---------------  ------------------  -------------  -------------------------------\n",
       "    2019-05-19 14:29:19  0.000 sec                           0         0             0          nan              nan                 nan            nan\n",
       "    2019-05-19 14:29:19  55.065 sec        63157 obs/sec     10        1             1200       0.259956         0.263879            0.900945       0.0916667\n",
       "    2019-05-19 14:29:24  1 min  0.071 sec  141878 obs/sec    5940      594           712800     0.0189575        0.00215256          0.999473       0"
      ]
     },
     "metadata": {},
     "output_type": "display_data"
    },
    {
     "name": "stdout",
     "output_type": "stream",
     "text": [
      "Variable Importances: \n"
     ]
    },
    {
     "data": {
      "text/html": [
       "<div style=\"overflow:auto\"><table style=\"width:50%\"><tr><td><b>variable</b></td>\n",
       "<td><b>relative_importance</b></td>\n",
       "<td><b>scaled_importance</b></td>\n",
       "<td><b>percentage</b></td></tr>\n",
       "<tr><td>petal-width</td>\n",
       "<td>1.0</td>\n",
       "<td>1.0</td>\n",
       "<td>0.3965032</td></tr>\n",
       "<tr><td>petal-length</td>\n",
       "<td>0.7063910</td>\n",
       "<td>0.7063910</td>\n",
       "<td>0.2800863</td></tr>\n",
       "<tr><td>sepal-width</td>\n",
       "<td>0.4085257</td>\n",
       "<td>0.4085257</td>\n",
       "<td>0.1619818</td></tr>\n",
       "<tr><td>sepal-length</td>\n",
       "<td>0.4071308</td>\n",
       "<td>0.4071308</td>\n",
       "<td>0.1614287</td></tr></table></div>"
      ],
      "text/plain": [
       "variable      relative_importance    scaled_importance    percentage\n",
       "------------  ---------------------  -------------------  ------------\n",
       "petal-width   1                      1                    0.396503\n",
       "petal-length  0.706391               0.706391             0.280086\n",
       "sepal-width   0.408526               0.408526             0.161982\n",
       "sepal-length  0.407131               0.407131             0.161429"
      ]
     },
     "metadata": {},
     "output_type": "display_data"
    },
    {
     "data": {
      "text/plain": []
     },
     "metadata": {},
     "output_type": "display_data"
    }
   ],
   "source": [
    "# The leader model is stored here\n",
    "display(aml.leader)"
   ]
  },
  {
   "cell_type": "code",
   "execution_count": 11,
   "metadata": {},
   "outputs": [
    {
     "name": "stdout",
     "output_type": "stream",
     "text": [
      "deeplearning prediction progress: |███████████████████████████████████████| 100%\n"
     ]
    }
   ],
   "source": [
    "# predict on test data\n",
    "predictions = aml.leader.predict(test).as_data_frame()['predict'].tolist()"
   ]
  },
  {
   "cell_type": "code",
   "execution_count": 12,
   "metadata": {},
   "outputs": [],
   "source": [
    "# get target for test data\n",
    "y_test = test.as_data_frame()['class'].tolist()"
   ]
  },
  {
   "cell_type": "code",
   "execution_count": 13,
   "metadata": {
    "scrolled": true
   },
   "outputs": [
    {
     "name": "stdout",
     "output_type": "stream",
     "text": [
      "0.9\n",
      "[[ 7  0  0]\n",
      " [ 0 11  1]\n",
      " [ 0  2  9]]\n",
      "                 precision    recall  f1-score   support\n",
      "\n",
      "    Iris-setosa       1.00      1.00      1.00         7\n",
      "Iris-versicolor       0.85      0.92      0.88        12\n",
      " Iris-virginica       0.90      0.82      0.86        11\n",
      "\n",
      "       accuracy                           0.90        30\n",
      "      macro avg       0.92      0.91      0.91        30\n",
      "   weighted avg       0.90      0.90      0.90        30\n",
      "\n"
     ]
    }
   ],
   "source": [
    "# print results\n",
    "print(accuracy_score(y_test, predictions))\n",
    "print(confusion_matrix(y_test, predictions))\n",
    "print(classification_report(y_test, predictions))"
   ]
  },
  {
   "cell_type": "markdown",
   "metadata": {},
   "source": [
    "Der DeepLearning-Ansatz wird von AutoML als der geeignetste betrachtet. Dieser erreicht auf den Trainingsdaten eine Accuracy von 0.9 und liegt damit unterhalb der Accuracy des Models mit der höchsten Accuracy aus Aufgabe drei (0.967). "
   ]
  },
  {
   "cell_type": "markdown",
   "metadata": {},
   "source": [
    "# Zweiter Datensatz"
   ]
  },
  {
   "cell_type": "code",
   "execution_count": 14,
   "metadata": {},
   "outputs": [],
   "source": [
    "# Load dataset\n",
    "url_heart = \"./data/heart.csv\"\n",
    "names_heart =  ['age', 'sex', 'chest_pain_type', 'resting_blood_pressure', 'cholesterol', \n",
    "                 'fasting_blood_sugar', 'rest_ecg', 'max_heart_rate_achieved', 'exercise_induced_angina',\n",
    "                 'st_depression', 'st_slope', 'num_major_vessels', 'thalassemia', 'target']\n",
    "heart = pd.read_csv(url_heart, names=names_heart)"
   ]
  },
  {
   "cell_type": "code",
   "execution_count": 15,
   "metadata": {},
   "outputs": [],
   "source": [
    "# Split-out validation dataset\n",
    "array_heart = heart.values\n",
    "X_heart = array_heart[:,0:4]\n",
    "Y_heart = array_heart[:,4]\n",
    "test_size_heart = 0.20\n",
    "seed_heart = 7\n",
    "X_heart_train, X_heart_test, y_heart_train, y_heart_test = model_selection.train_test_split(X_heart, Y_heart, test_size=test_size_heart, random_state=seed_heart)"
   ]
  },
  {
   "cell_type": "code",
   "execution_count": 16,
   "metadata": {},
   "outputs": [
    {
     "name": "stdout",
     "output_type": "stream",
     "text": [
      "Parse progress: |█████████████████████████████████████████████████████████| 100%\n",
      "Parse progress: |█████████████████████████████████████████████████████████| 100%\n"
     ]
    }
   ],
   "source": [
    "# prepare data by creating a train and test array and transforming it into an h2o frame\n",
    "train_heart_array = np.column_stack([X_heart_train, y_heart_train])\n",
    "test_heart_array = np.column_stack([X_heart_test, y_heart_test])\n",
    "\n",
    "train_heart = H2OFrame(python_obj=train_heart_array, column_names=names_heart)\n",
    "test_heart = H2OFrame(python_obj=test_heart_array, column_names=names_heart)"
   ]
  },
  {
   "cell_type": "code",
   "execution_count": 17,
   "metadata": {},
   "outputs": [],
   "source": [
    "# Identify predictors and response\n",
    "x_heart = names_heart\n",
    "y_heart = \"target\"\n",
    "x_heart.remove(y_heart)"
   ]
  },
  {
   "cell_type": "code",
   "execution_count": null,
   "metadata": {},
   "outputs": [
    {
     "name": "stdout",
     "output_type": "stream",
     "text": [
      "AutoML progress: |██████████████████████████████████████████████"
     ]
    }
   ],
   "source": [
    "# set number of models to 20 and start training\n",
    "aml_heart = H2OAutoML(max_models=20, seed=1, nfolds=10)\n",
    "aml_heart.train(x=x_heart, y=y_heart, training_frame=train_heart)                                 "
   ]
  },
  {
   "cell_type": "code",
   "execution_count": null,
   "metadata": {},
   "outputs": [],
   "source": [
    "# View the AutoML Leaderboard\n",
    "lb_heart = aml_heart.leaderboard\n",
    "display(lb_heart.head(rows=lb_heart.nrows)) # Print all rows instead of default (10 rows)"
   ]
  },
  {
   "cell_type": "code",
   "execution_count": null,
   "metadata": {
    "scrolled": true
   },
   "outputs": [],
   "source": [
    "# The leader model is stored here\n",
    "display(aml_heart.leader)"
   ]
  },
  {
   "cell_type": "code",
   "execution_count": null,
   "metadata": {},
   "outputs": [],
   "source": [
    "# predict on test data\n",
    "predictions_heart = aml.leader_heart.predict(test_heart).as_data_frame()['predict'].tolist()"
   ]
  },
  {
   "cell_type": "code",
   "execution_count": null,
   "metadata": {},
   "outputs": [],
   "source": [
    "# get target for test data\n",
    "y_heart_test = test_heart.as_data_frame()['target'].tolist()"
   ]
  },
  {
   "cell_type": "code",
   "execution_count": null,
   "metadata": {},
   "outputs": [],
   "source": [
    "# print results\n",
    "print(accuracy_score(y_heart_test, predictions_heart))\n",
    "print(confusion_matrix(y_heart_test, predictions_heart))\n",
    "print(classification_report(y_heart_test, predictions_heart))"
   ]
  },
  {
   "cell_type": "markdown",
   "metadata": {},
   "source": [
    "# TODO: Vergleich der Ergebnisse"
   ]
  },
  {
   "cell_type": "markdown",
   "metadata": {},
   "source": [
    "###### (c) Was ist Ihre Meinung zu AutoML?"
   ]
  },
  {
   "cell_type": "markdown",
   "metadata": {},
   "source": [
    "AutoML nimmt einem viel Arbeit ab, was gerade für Anfänger hilfreich ist. Allerdings verliert man hierdurch auch etwas Kontrolle. Die Ergebnisse sind scheinbar schlechter als in Aufgabe 3. Jedoch ist es schwer nachzuvollziehen wieso, da eben alles automatisch passiert. Zudem ist nicht klar, wieso welche Modelle getestet wurden. \n",
    "\n",
    "Außerdem ist die Darstellung des aml.leader() seltsam. Leider wurde dafür kein Fix gefunden "
   ]
  },
  {
   "cell_type": "code",
   "execution_count": null,
   "metadata": {},
   "outputs": [],
   "source": []
  }
 ],
 "metadata": {
  "anaconda-cloud": {},
  "kernelspec": {
   "display_name": "Python 3",
   "language": "python",
   "name": "python3"
  },
  "language_info": {
   "codemirror_mode": {
    "name": "ipython",
    "version": 3
   },
   "file_extension": ".py",
   "mimetype": "text/x-python",
   "name": "python",
   "nbconvert_exporter": "python",
   "pygments_lexer": "ipython3",
   "version": "3.5.6"
  }
 },
 "nbformat": 4,
 "nbformat_minor": 1
}
