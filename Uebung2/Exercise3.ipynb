{
 "cells": [
  {
   "cell_type": "markdown",
   "metadata": {},
   "source": [
    "# Aufgabe 3: Cross Validation und Grid Search"
   ]
  },
  {
   "cell_type": "markdown",
   "metadata": {},
   "source": [
    "In dieser Aufgabe geht es um Hyperparameter-Optimierung mittels _Grid-Search_ (deutsch: Gittersuche). Dabei handelt es sich um eine Brute-Force-Suche, die auf einen angegebenen Teil des Hyperparameterraums angewandt wird. Sie wird dabei von einer Performance-Metrik geleitet."
   ]
  },
  {
   "cell_type": "markdown",
   "metadata": {},
   "source": [
    "Die Gittersuche soll in diesem Notebook auf zwei verschiedene Klassifikationsaufgaben angewandt werden, wobei die Anzahl der verwendeten CPU-Kerne variiert werden soll:\n",
    "\n",
    "- Iris Flower Dataset\n",
    "- Heart Disease UCI Dataset"
   ]
  },
  {
   "cell_type": "markdown",
   "metadata": {},
   "source": [
    "Anschließend soll für beide Aufgaben jeweils eine Kurve mit der Suchzeit in Abhängigkeit von der Anzahl an CPU- Kernen geplottet werden. Außerdem soll die Zielmetrik in Abhängigkeit von einem ausgewählten Hyperparameter geplottet werden."
   ]
  },
  {
   "cell_type": "markdown",
   "metadata": {},
   "source": [
    "In [Aufgabe 5](./Exercise5.ipynb) soll diese Aufgabe zudem im Batch-System des SDIL ausgeführt werden. Aus diesem Grund wird in diesem Notebook darauf geachtet, dass es ohne Probleme in ein auführbares Python-Skript konvertiert werden kann."
   ]
  },
  {
   "cell_type": "markdown",
   "metadata": {},
   "source": [
    "## Bibliotheken Importieren"
   ]
  },
  {
   "cell_type": "markdown",
   "metadata": {},
   "source": [
    "Importieren der Bibliotheken. Beim Importieren von `matplotlib` muss darauf geachtet werden, das `agg`-Backend zu verwenden, wenn der Code nicht in einem Notebook ausgeführt wird, da es sonst zu Fehlern kommt."
   ]
  },
  {
   "cell_type": "code",
   "execution_count": 14,
   "metadata": {},
   "outputs": [],
   "source": [
    "## Import Libraries\n",
    "\n",
    "# Technical\n",
    "import time\n",
    "import multiprocessing\n",
    "import sys\n",
    "from tqdm import tqdm\n",
    "\n",
    "# Typical\n",
    "import pandas as pd\n",
    "import numpy as np\n",
    "from sklearn import model_selection\n",
    "from sklearn import datasets\n",
    "\n",
    "# Classifiers\n",
    "from sklearn import svm\n",
    "from sklearn.ensemble import RandomForestClassifier\n",
    "from sklearn.model_selection import GridSearchCV\n",
    "\n",
    "# Metrics\n",
    "from sklearn.metrics import confusion_matrix\n",
    "from sklearn.metrics import accuracy_score\n",
    "\n",
    "# Matplotlib\n",
    "if not 'ipykernel' in sys.modules:\n",
    "    # Prevents errors when plotting outside Jupyter Notebook\n",
    "    # For more information see exercise 5\n",
    "    import matplotlib\n",
    "    matplotlib.use('agg')\n",
    "import matplotlib.pyplot as plt"
   ]
  },
  {
   "cell_type": "markdown",
   "metadata": {},
   "source": [
    "## Funktions-Definitionen"
   ]
  },
  {
   "cell_type": "markdown",
   "metadata": {},
   "source": [
    "Um bei der Gittersuche einfach die Anzahl der CPU-Kerne variieren zu können, wird zunächst eine Funktion definiert, welche die Gittersuche (`GridSearchCV`) in einer `for`-Schleife mit einer jeweils anderen Anzahl an CPU-Kernen ausführt."
   ]
  },
  {
   "cell_type": "code",
   "execution_count": 2,
   "metadata": {
    "collapsed": true
   },
   "outputs": [],
   "source": [
    "def grid_search_with_cores(classifier, param_grid, X_train, y_train, core_range=None):\n",
    "    \"\"\"Instanciates `sklearn.model_selection.GridSearchCV` with given classifier/param_grid \n",
    "    and fits it on the given training data. This is done multiple times with different number of CPU cores.\n",
    "    The numbers for CPU cores can be given with the core_range parameter.\n",
    "    \n",
    "    During computation, a progress bar is shown.\n",
    "    \n",
    "    Returns\n",
    "    -------\n",
    "    times : pandas.DataFrame\n",
    "            Contains the time needed to train with the different numbers of CPU cores.\n",
    "    grid_search: sklearn.model_selection.GridSearchCV\n",
    "            Reference to one of the fitted grid search models.\n",
    "    \"\"\"\n",
    "    \n",
    "    # If no core range is given, take all possible values\n",
    "    if core_range is None:\n",
    "        core_range = list(range(1, multiprocessing.cpu_count()+1))\n",
    "        \n",
    "    # Instanciate DataFrame for saving the training times\n",
    "    times = pd.DataFrame(columns=['n_cores', 'times'])\n",
    "\n",
    "    # Show progress bar with tqdm\n",
    "    for n in tqdm(core_range):\n",
    "        # Instanciate Grid Search\n",
    "        grid_search = GridSearchCV(classifier, param_grid, n_jobs=n)\n",
    "\n",
    "        # Start time measurement\n",
    "        start = time.time()\n",
    "\n",
    "        # Modell trainieren\n",
    "        grid_search.fit(X_train, y_train)\n",
    "\n",
    "        # End time measurement\n",
    "        end = time.time()\n",
    "\n",
    "        # Append results\n",
    "        times = times.append(pd.DataFrame.from_dict({'n_cores': [n], 'times': [end - start]}))\n",
    "\n",
    "    # Return times Dataframe and reference to the last GridSearchCV object\n",
    "    return times, grid_search"
   ]
  },
  {
   "cell_type": "markdown",
   "metadata": {},
   "source": [
    "Als nächstes definieren wir eine Funktion zum Plotten der Kurve mit der Suchzeit in Abhängigkeit von der Anzahl an CPU- Kernen:"
   ]
  },
  {
   "cell_type": "code",
   "execution_count": 3,
   "metadata": {
    "collapsed": true
   },
   "outputs": [],
   "source": [
    "def plot_times(times):\n",
    "    \"\"\"Plots the times returned by grid_search_with_cores\"\"\"\n",
    "    # Create the plot\n",
    "    plot = times.plot(x='n_cores', y='times', legend=False)\n",
    "    # Set plot labels\n",
    "    plot.set(xlabel=\"#Cores\", ylabel=\"Time in seconds\")"
   ]
  },
  {
   "cell_type": "markdown",
   "metadata": {},
   "source": [
    "Zum Schluss definieren wir noch eine Funktion zum Plotten der Zielmetrik in Abhängigkeit von einem (bzw. zwei) ausgewählten Hyperparametern."
   ]
  },
  {
   "cell_type": "code",
   "execution_count": 4,
   "metadata": {
    "collapsed": true
   },
   "outputs": [],
   "source": [
    "def plot_grid_search(cv_results, grid_param_1, grid_param_2, name_param_1, name_param_2):\n",
    "    \"\"\" Plots the mean test score from the information of `GridSearchCV.cv_results_` for two given grid parameters.\n",
    "    \n",
    "    Source: https://stackoverflow.com/a/43645640/6853900\"\"\"\n",
    "    \n",
    "    # Get Test Scores Mean for each grid search\n",
    "    scores_mean = cv_results['mean_test_score']\n",
    "    scores_mean = np.array(scores_mean).reshape(len(grid_param_2),len(grid_param_1))\n",
    "\n",
    "    # Plot Grid search scores\n",
    "    _, ax = plt.subplots(1,1)\n",
    "\n",
    "    # Param1 is the X-axis, Param 2 is represented as a different curve (color line)\n",
    "    for idx, val in enumerate(grid_param_2):\n",
    "        ax.plot(grid_param_1, scores_mean[idx,:], '-o', label= name_param_2 + ': ' + str(val))\n",
    "\n",
    "    # Beautify the Plot (title, labels, legend, grid)\n",
    "    ax.set_title(\"Grid Search Scores\", fontsize=20, fontweight='bold')\n",
    "    ax.set_xlabel(name_param_1, fontsize=16)\n",
    "    ax.set_ylabel('CV Average Score', fontsize=16)\n",
    "    ax.legend(loc=\"best\", fontsize=15)\n",
    "    ax.grid('on')"
   ]
  },
  {
   "cell_type": "markdown",
   "metadata": {},
   "source": [
    "## Iris Flower Dataset"
   ]
  },
  {
   "cell_type": "markdown",
   "metadata": {},
   "source": [
    "###### Laden und Vorbereiten des Datensatzes"
   ]
  },
  {
   "cell_type": "markdown",
   "metadata": {},
   "source": [
    "Siehe [Aufgabe 1](./Exercise1.ipynb) für mehr Details."
   ]
  },
  {
   "cell_type": "code",
   "execution_count": 40,
   "metadata": {
    "collapsed": true
   },
   "outputs": [],
   "source": [
    "# Load dataset\n",
    "url = \"https://archive.ics.uci.edu/ml/machine-learning-databases/iris/iris.data\"\n",
    "names = ['sepal-length', 'sepal-width', 'petal-length', 'petal-width', 'class']\n",
    "iris = pd.read_csv(url, names=names)"
   ]
  },
  {
   "cell_type": "code",
   "execution_count": 41,
   "metadata": {},
   "outputs": [
    {
     "data": {
      "text/plain": [
       "(150, 5)"
      ]
     },
     "execution_count": 41,
     "metadata": {},
     "output_type": "execute_result"
    }
   ],
   "source": [
    "iris.shape"
   ]
  },
  {
   "cell_type": "code",
   "execution_count": 42,
   "metadata": {
    "collapsed": true
   },
   "outputs": [],
   "source": [
    "# Split-out validation dataset like in the SDIL-Tutorial for comparability\n",
    "array = iris.values\n",
    "X = array[:,0:4]\n",
    "Y = array[:,4]\n",
    "test_size = 0.20\n",
    "seed = 7\n",
    "X_train, X_test, y_train, y_test = model_selection.train_test_split(X, Y, test_size=test_size, random_state=seed)"
   ]
  },
  {
   "cell_type": "markdown",
   "metadata": {},
   "source": [
    "###### Ausführen der Gittersuche"
   ]
  },
  {
   "cell_type": "markdown",
   "metadata": {},
   "source": [
    "Als Optimierungsparameter wurden die Parameter `C` und `kernel` gewählt."
   ]
  },
  {
   "cell_type": "code",
   "execution_count": 45,
   "metadata": {
    "scrolled": true
   },
   "outputs": [
    {
     "name": "stderr",
     "output_type": "stream",
     "text": [
      "\n",
      "  0%|          | 0/32 [00:00<?, ?it/s]\u001b[A\n",
      "  6%|▋         | 2/32 [00:00<00:04,  6.48it/s]\u001b[A\n",
      "  9%|▉         | 3/32 [00:00<00:05,  5.25it/s]\u001b[A\n",
      " 12%|█▎        | 4/32 [00:00<00:06,  4.58it/s]\u001b[A\n",
      " 16%|█▌        | 5/32 [00:01<00:06,  4.16it/s]\u001b[A\n",
      " 19%|█▉        | 6/32 [00:01<00:06,  3.84it/s]\u001b[A\n",
      " 22%|██▏       | 7/32 [00:01<00:06,  3.58it/s]\u001b[A\n",
      " 25%|██▌       | 8/32 [00:02<00:07,  3.35it/s]\u001b[A\n",
      " 28%|██▊       | 9/32 [00:02<00:07,  2.88it/s]\u001b[A\n",
      " 31%|███▏      | 10/32 [00:03<00:08,  2.58it/s]\u001b[A\n",
      " 34%|███▍      | 11/32 [00:03<00:08,  2.37it/s]\u001b[A\n",
      " 38%|███▊      | 12/32 [00:04<00:09,  2.21it/s]\u001b[A\n",
      " 41%|████      | 13/32 [00:04<00:09,  2.09it/s]\u001b[A\n",
      " 44%|████▍     | 14/32 [00:05<00:09,  2.00it/s]\u001b[A\n",
      " 47%|████▋     | 15/32 [00:05<00:08,  1.91it/s]\u001b[A\n",
      " 50%|█████     | 16/32 [00:06<00:08,  1.84it/s]\u001b[A\n",
      " 53%|█████▎    | 17/32 [00:06<00:08,  1.78it/s]\u001b[A\n",
      " 56%|█████▋    | 18/32 [00:07<00:08,  1.71it/s]\u001b[A\n",
      " 59%|█████▉    | 19/32 [00:08<00:07,  1.66it/s]\u001b[A\n",
      " 62%|██████▎   | 20/32 [00:08<00:07,  1.61it/s]\u001b[A\n",
      " 66%|██████▌   | 21/32 [00:09<00:07,  1.56it/s]\u001b[A\n",
      " 69%|██████▉   | 22/32 [00:10<00:06,  1.51it/s]\u001b[A\n",
      " 72%|███████▏  | 23/32 [00:11<00:06,  1.44it/s]\u001b[A\n",
      " 75%|███████▌  | 24/32 [00:11<00:05,  1.41it/s]\u001b[A\n",
      " 78%|███████▊  | 25/32 [00:12<00:05,  1.38it/s]\u001b[A\n",
      " 81%|████████▏ | 26/32 [00:13<00:04,  1.35it/s]\u001b[A\n",
      " 84%|████████▍ | 27/32 [00:14<00:03,  1.32it/s]\u001b[A\n",
      " 88%|████████▊ | 28/32 [00:14<00:03,  1.29it/s]\u001b[A\n",
      " 91%|█████████ | 29/32 [00:15<00:02,  1.26it/s]\u001b[A\n",
      " 94%|█████████▍| 30/32 [00:16<00:01,  1.23it/s]\u001b[A\n",
      " 97%|█████████▋| 31/32 [00:17<00:00,  1.20it/s]\u001b[A\n",
      "100%|██████████| 32/32 [00:18<00:00,  1.17it/s]\u001b[A"
     ]
    }
   ],
   "source": [
    "# Hyper-Parameter Space\n",
    "grid_iris = {'C':[1,5,10, 50], 'kernel':['linear','rbf']}\n",
    "\n",
    "# SVM als Klassifikator\n",
    "svc = svm.SVC(random_state=0)\n",
    "\n",
    "times_iris, search_iris = grid_search_with_cores(svc, grid_iris, X_train, y_train, core_range=range(1,33))"
   ]
  },
  {
   "cell_type": "markdown",
   "metadata": {},
   "source": [
    "###### Plot der Suchzeit in Abhängigkeit von der Anzahl an CPU- Kernen"
   ]
  },
  {
   "cell_type": "code",
   "execution_count": 47,
   "metadata": {},
   "outputs": [
    {
     "name": "stdout",
     "output_type": "stream",
     "text": [
      "  n_cores     times\n",
      "0       1  0.056713\n",
      "0       2  0.247356\n",
      "0       3  0.264383\n",
      "0       4  0.275209\n",
      "0       5  0.282650\n",
      "0       6  0.299162\n",
      "0       7  0.315115\n",
      "0       8  0.333414\n",
      "0       9  0.455200\n",
      "0      10  0.473637\n",
      "0      11  0.493879\n",
      "0      12  0.512377\n",
      "0      13  0.532829\n",
      "0      14  0.541259\n",
      "0      15  0.570170\n",
      "0      16  0.581139\n",
      "0      17  0.599794\n",
      "0      18  0.627817\n",
      "0      19  0.640507\n",
      "0      20  0.656291\n",
      "0      21  0.678077\n",
      "0      22  0.701065\n",
      "0      23  0.758294\n",
      "0      24  0.730396\n",
      "0      25  0.749726\n",
      "0      26  0.768599\n",
      "0      27  0.790689\n",
      "0      28  0.801965\n",
      "0      29  0.838421\n",
      "0      30  0.846971\n",
      "0      31  0.869906\n",
      "0      32  0.886028\n"
     ]
    }
   ],
   "source": [
    "print(times_iris)"
   ]
  },
  {
   "cell_type": "code",
   "execution_count": 46,
   "metadata": {},
   "outputs": [
    {
     "data": {
      "image/png": "[encoded data removed]",
      "text/plain": [
       "<matplotlib.figure.Figure at 0x2b3fd3f6e6a0>"
      ]
     },
     "metadata": {},
     "output_type": "display_data"
    }
   ],
   "source": [
    "plot_times(times_iris)"
   ]
  },
  {
   "cell_type": "markdown",
   "metadata": {},
   "source": [
    "###### Plot der Zielmetrik in Abhängigkeit vom Hyperparameter `C`"
   ]
  },
  {
   "cell_type": "code",
   "execution_count": 48,
   "metadata": {},
   "outputs": [
    {
     "data": {
      "image/png": "[encoded data removed]",
      "text/plain": [
       "<matplotlib.figure.Figure at 0x2b3fd3feb1d0>"
      ]
     },
     "metadata": {},
     "output_type": "display_data"
    }
   ],
   "source": [
    "plot_grid_search(search_iris.cv_results_, grid_iris['C'], grid_iris['kernel'], 'C', 'kernel')"
   ]
  },
  {
   "cell_type": "markdown",
   "metadata": {},
   "source": [
    "###### Validierung auf den Test-Daten"
   ]
  },
  {
   "cell_type": "markdown",
   "metadata": {},
   "source": [
    "Zum Schluss soll die Performance des von der Gittersuche als besten identifizierten Klassifikators auf den Test-Daten ermittelt werden."
   ]
  },
  {
   "cell_type": "code",
   "execution_count": 17,
   "metadata": {},
   "outputs": [
    {
     "data": {
      "text/plain": [
       "SVC(C=1, cache_size=200, class_weight=None, coef0=0.0,\n",
       "  decision_function_shape='ovr', degree=3, gamma='auto', kernel='linear',\n",
       "  max_iter=-1, probability=False, random_state=0, shrinking=True,\n",
       "  tol=0.001, verbose=False)"
      ]
     },
     "execution_count": 17,
     "metadata": {},
     "output_type": "execute_result"
    }
   ],
   "source": [
    "# Print the best estimator\n",
    "search_iris.best_estimator_"
   ]
  },
  {
   "cell_type": "code",
   "execution_count": 18,
   "metadata": {},
   "outputs": [
    {
     "name": "stdout",
     "output_type": "stream",
     "text": [
      "0.9666666666666667\n",
      "[[ 7  0  0]\n",
      " [ 0 11  1]\n",
      " [ 0  0 11]]\n"
     ]
    }
   ],
   "source": [
    "# Predict with the best estimator and print the results\n",
    "predictions = search_iris.best_estimator_.predict(X_test)\n",
    "print(accuracy_score(y_test, predictions))\n",
    "print(confusion_matrix(y_test, predictions))"
   ]
  },
  {
   "cell_type": "markdown",
   "metadata": {},
   "source": [
    "## Heart Disease UCI Dataset"
   ]
  },
  {
   "cell_type": "markdown",
   "metadata": {},
   "source": [
    "Dieser Datensatz wurde auf [Kaggle](https://www.kaggle.com/ronitf/heart-disease-uci) gefunden.\n",
    "\n",
    "Er enthält von 303 Patienten jeweils 14 Attribute und die Information darüber, ob sie eine Herzkrankheit haben oder nicht.\n",
    "\n",
    "Die ursprüngliche Quelle für den Datensatz ist das [UCI Machine Learning Repository](https://archive.ics.uci.edu/ml/datasets/Heart+Disease)."
   ]
  },
  {
   "cell_type": "markdown",
   "metadata": {},
   "source": [
    "###### Laden und Vorbereiten des Datensatzes"
   ]
  },
  {
   "cell_type": "markdown",
   "metadata": {},
   "source": [
    "Die folgenden Zellen zum Laden und VOrverarbeiten der Daten sind zum Teil aus dem Kaggle Notebook \"[What Causes Heart Disease?](https://www.kaggle.com/tentotheminus9/what-causes-heart-disease-explaining-the-model)\" entnommen."
   ]
  },
  {
   "cell_type": "code",
   "execution_count": 19,
   "metadata": {
    "collapsed": true
   },
   "outputs": [],
   "source": [
    "heart = pd.read_csv(\"./data/heart.csv\")"
   ]
  },
  {
   "cell_type": "code",
   "execution_count": 20,
   "metadata": {},
   "outputs": [
    {
     "data": {
      "text/plain": [
       "(303, 14)"
      ]
     },
     "execution_count": 20,
     "metadata": {},
     "output_type": "execute_result"
    }
   ],
   "source": [
    "heart.shape"
   ]
  },
  {
   "cell_type": "code",
   "execution_count": 21,
   "metadata": {
    "collapsed": true
   },
   "outputs": [],
   "source": [
    "heart.columns = ['age', 'sex', 'chest_pain_type', 'resting_blood_pressure', 'cholesterol', \n",
    "                 'fasting_blood_sugar', 'rest_ecg', 'max_heart_rate_achieved', 'exercise_induced_angina',\n",
    "                 'st_depression', 'st_slope', 'num_major_vessels', 'thalassemia', 'target']"
   ]
  },
  {
   "cell_type": "code",
   "execution_count": 22,
   "metadata": {
    "collapsed": true
   },
   "outputs": [],
   "source": [
    "heart['sex'] = heart['sex'].astype('object')\n",
    "heart['chest_pain_type'] = heart['chest_pain_type'].astype('object')\n",
    "heart['fasting_blood_sugar'] = heart['fasting_blood_sugar'].astype('object')\n",
    "heart['rest_ecg'] = heart['rest_ecg'].astype('object')\n",
    "heart['exercise_induced_angina'] = heart['exercise_induced_angina'].astype('object')\n",
    "heart['st_slope'] = heart['st_slope'].astype('object')\n",
    "heart['thalassemia'] = heart['thalassemia'].astype('object')"
   ]
  },
  {
   "cell_type": "code",
   "execution_count": 23,
   "metadata": {
    "collapsed": true
   },
   "outputs": [],
   "source": [
    "heart = pd.get_dummies(heart, drop_first=True)"
   ]
  },
  {
   "cell_type": "code",
   "execution_count": 24,
   "metadata": {},
   "outputs": [
    {
     "data": {
      "text/html": [
       "<div>\n",
       "<style scoped>\n",
       "    .dataframe tbody tr th:only-of-type {\n",
       "        vertical-align: middle;\n",
       "    }\n",
       "\n",
       "    .dataframe tbody tr th {\n",
       "        vertical-align: top;\n",
       "    }\n",
       "\n",
       "    .dataframe thead th {\n",
       "        text-align: right;\n",
       "    }\n",
       "</style>\n",
       "<table border=\"1\" class=\"dataframe\">\n",
       "  <thead>\n",
       "    <tr style=\"text-align: right;\">\n",
       "      <th></th>\n",
       "      <th>age</th>\n",
       "      <th>resting_blood_pressure</th>\n",
       "      <th>cholesterol</th>\n",
       "      <th>max_heart_rate_achieved</th>\n",
       "      <th>st_depression</th>\n",
       "      <th>num_major_vessels</th>\n",
       "      <th>target</th>\n",
       "      <th>sex_1</th>\n",
       "      <th>chest_pain_type_1</th>\n",
       "      <th>chest_pain_type_2</th>\n",
       "      <th>chest_pain_type_3</th>\n",
       "      <th>fasting_blood_sugar_1</th>\n",
       "      <th>rest_ecg_1</th>\n",
       "      <th>rest_ecg_2</th>\n",
       "      <th>exercise_induced_angina_1</th>\n",
       "      <th>st_slope_1</th>\n",
       "      <th>st_slope_2</th>\n",
       "      <th>thalassemia_1</th>\n",
       "      <th>thalassemia_2</th>\n",
       "      <th>thalassemia_3</th>\n",
       "    </tr>\n",
       "  </thead>\n",
       "  <tbody>\n",
       "    <tr>\n",
       "      <th>0</th>\n",
       "      <td>63</td>\n",
       "      <td>145</td>\n",
       "      <td>233</td>\n",
       "      <td>150</td>\n",
       "      <td>2.3</td>\n",
       "      <td>0</td>\n",
       "      <td>1</td>\n",
       "      <td>1</td>\n",
       "      <td>0</td>\n",
       "      <td>0</td>\n",
       "      <td>1</td>\n",
       "      <td>1</td>\n",
       "      <td>0</td>\n",
       "      <td>0</td>\n",
       "      <td>0</td>\n",
       "      <td>0</td>\n",
       "      <td>0</td>\n",
       "      <td>1</td>\n",
       "      <td>0</td>\n",
       "      <td>0</td>\n",
       "    </tr>\n",
       "    <tr>\n",
       "      <th>1</th>\n",
       "      <td>37</td>\n",
       "      <td>130</td>\n",
       "      <td>250</td>\n",
       "      <td>187</td>\n",
       "      <td>3.5</td>\n",
       "      <td>0</td>\n",
       "      <td>1</td>\n",
       "      <td>1</td>\n",
       "      <td>0</td>\n",
       "      <td>1</td>\n",
       "      <td>0</td>\n",
       "      <td>0</td>\n",
       "      <td>1</td>\n",
       "      <td>0</td>\n",
       "      <td>0</td>\n",
       "      <td>0</td>\n",
       "      <td>0</td>\n",
       "      <td>0</td>\n",
       "      <td>1</td>\n",
       "      <td>0</td>\n",
       "    </tr>\n",
       "    <tr>\n",
       "      <th>2</th>\n",
       "      <td>41</td>\n",
       "      <td>130</td>\n",
       "      <td>204</td>\n",
       "      <td>172</td>\n",
       "      <td>1.4</td>\n",
       "      <td>0</td>\n",
       "      <td>1</td>\n",
       "      <td>0</td>\n",
       "      <td>1</td>\n",
       "      <td>0</td>\n",
       "      <td>0</td>\n",
       "      <td>0</td>\n",
       "      <td>0</td>\n",
       "      <td>0</td>\n",
       "      <td>0</td>\n",
       "      <td>0</td>\n",
       "      <td>1</td>\n",
       "      <td>0</td>\n",
       "      <td>1</td>\n",
       "      <td>0</td>\n",
       "    </tr>\n",
       "    <tr>\n",
       "      <th>3</th>\n",
       "      <td>56</td>\n",
       "      <td>120</td>\n",
       "      <td>236</td>\n",
       "      <td>178</td>\n",
       "      <td>0.8</td>\n",
       "      <td>0</td>\n",
       "      <td>1</td>\n",
       "      <td>1</td>\n",
       "      <td>1</td>\n",
       "      <td>0</td>\n",
       "      <td>0</td>\n",
       "      <td>0</td>\n",
       "      <td>1</td>\n",
       "      <td>0</td>\n",
       "      <td>0</td>\n",
       "      <td>0</td>\n",
       "      <td>1</td>\n",
       "      <td>0</td>\n",
       "      <td>1</td>\n",
       "      <td>0</td>\n",
       "    </tr>\n",
       "    <tr>\n",
       "      <th>4</th>\n",
       "      <td>57</td>\n",
       "      <td>120</td>\n",
       "      <td>354</td>\n",
       "      <td>163</td>\n",
       "      <td>0.6</td>\n",
       "      <td>0</td>\n",
       "      <td>1</td>\n",
       "      <td>0</td>\n",
       "      <td>0</td>\n",
       "      <td>0</td>\n",
       "      <td>0</td>\n",
       "      <td>0</td>\n",
       "      <td>1</td>\n",
       "      <td>0</td>\n",
       "      <td>1</td>\n",
       "      <td>0</td>\n",
       "      <td>1</td>\n",
       "      <td>0</td>\n",
       "      <td>1</td>\n",
       "      <td>0</td>\n",
       "    </tr>\n",
       "  </tbody>\n",
       "</table>\n",
       "</div>"
      ],
      "text/plain": [
       "   age  resting_blood_pressure  cholesterol  max_heart_rate_achieved  \\\n",
       "0   63                     145          233                      150   \n",
       "1   37                     130          250                      187   \n",
       "2   41                     130          204                      172   \n",
       "3   56                     120          236                      178   \n",
       "4   57                     120          354                      163   \n",
       "\n",
       "   st_depression  num_major_vessels  target  sex_1  chest_pain_type_1  \\\n",
       "0            2.3                  0       1      1                  0   \n",
       "1            3.5                  0       1      1                  0   \n",
       "2            1.4                  0       1      0                  1   \n",
       "3            0.8                  0       1      1                  1   \n",
       "4            0.6                  0       1      0                  0   \n",
       "\n",
       "   chest_pain_type_2  chest_pain_type_3  fasting_blood_sugar_1  rest_ecg_1  \\\n",
       "0                  0                  1                      1           0   \n",
       "1                  1                  0                      0           1   \n",
       "2                  0                  0                      0           0   \n",
       "3                  0                  0                      0           1   \n",
       "4                  0                  0                      0           1   \n",
       "\n",
       "   rest_ecg_2  exercise_induced_angina_1  st_slope_1  st_slope_2  \\\n",
       "0           0                          0           0           0   \n",
       "1           0                          0           0           0   \n",
       "2           0                          0           0           1   \n",
       "3           0                          0           0           1   \n",
       "4           0                          1           0           1   \n",
       "\n",
       "   thalassemia_1  thalassemia_2  thalassemia_3  \n",
       "0              1              0              0  \n",
       "1              0              1              0  \n",
       "2              0              1              0  \n",
       "3              0              1              0  \n",
       "4              0              1              0  "
      ]
     },
     "execution_count": 24,
     "metadata": {},
     "output_type": "execute_result"
    }
   ],
   "source": [
    "heart.head()"
   ]
  },
  {
   "cell_type": "code",
   "execution_count": 25,
   "metadata": {
    "collapsed": true
   },
   "outputs": [],
   "source": [
    "#split the data\n",
    "X_train, X_test, y_train, y_test = model_selection.train_test_split(heart.drop('target', 1), heart['target'], test_size = .2, random_state=0) "
   ]
  },
  {
   "cell_type": "markdown",
   "metadata": {},
   "source": [
    "###### Ausführen der Gittersuche"
   ]
  },
  {
   "cell_type": "markdown",
   "metadata": {},
   "source": [
    "Als Optimierungsparameter wurden die Parameter `n_estimators` und `max_features` gewählt."
   ]
  },
  {
   "cell_type": "code",
   "execution_count": 30,
   "metadata": {},
   "outputs": [
    {
     "name": "stderr",
     "output_type": "stream",
     "text": [
      "100%|██████████| 16/16 [13:40<00:00, 51.66s/it]\n"
     ]
    }
   ],
   "source": [
    "# Hyper-Parameter Space\n",
    "grid_heart = {'n_estimators': [int(x) for x in np.linspace(start = 10, stop = 1000, num = 10)],\n",
    "              'max_features': ['auto', 'sqrt']}\n",
    "\n",
    "# SVM als Klassifikator\n",
    "clf = RandomForestClassifier(random_state=0)\n",
    "\n",
    "times_heart, search_heart = grid_search_with_cores(clf, grid_heart, X_train=X_train, y_train=y_train, core_range=range(1,33))"
   ]
  },
  {
   "cell_type": "markdown",
   "metadata": {},
   "source": [
    "###### Plot der Suchzeit in Abhängigkeit von der Anzahl an CPU- Kernen"
   ]
  },
  {
   "cell_type": "code",
   "execution_count": 31,
   "metadata": {},
   "outputs": [
    {
     "name": "stdout",
     "output_type": "stream",
     "text": [
      "  n_cores      times\n",
      "0       1  49.737718\n",
      "0       2  51.052828\n",
      "0       3  51.011488\n",
      "0       4  52.190742\n",
      "0       5  52.321142\n",
      "0       6  50.547045\n",
      "0       7  50.723425\n",
      "0       8  51.894554\n",
      "0       9  50.531032\n",
      "0      10  50.577770\n",
      "0      11  51.553862\n",
      "0      12  50.606344\n",
      "0      13  51.913989\n",
      "0      14  51.369876\n",
      "0      15  52.365087\n",
      "0      16  51.764968\n"
     ]
    }
   ],
   "source": [
    "print(times_heart)"
   ]
  },
  {
   "cell_type": "code",
   "execution_count": 32,
   "metadata": {},
   "outputs": [
    {
     "data": {
      "image/png": "[encoded data removed]",
      "text/plain": [
       "<matplotlib.figure.Figure at 0x2b3fd3f60358>"
      ]
     },
     "metadata": {},
     "output_type": "display_data"
    }
   ],
   "source": [
    "plot_times(times_heart)"
   ]
  },
  {
   "cell_type": "markdown",
   "metadata": {},
   "source": [
    "###### Plot der Zielmetrik in Abhängigkeit vom Hyperparameter `n_estimators`"
   ]
  },
  {
   "cell_type": "code",
   "execution_count": 33,
   "metadata": {
    "scrolled": true
   },
   "outputs": [
    {
     "data": {
      "image/png": "[encoded data removed]",
      "text/plain": [
       "<matplotlib.figure.Figure at 0x2b3fd3f6a978>"
      ]
     },
     "metadata": {},
     "output_type": "display_data"
    }
   ],
   "source": [
    "plot_grid_search(search_heart.cv_results_, grid_heart['n_estimators'], grid_heart['max_features'], 'n_estimators', 'max_features')"
   ]
  },
  {
   "cell_type": "markdown",
   "metadata": {},
   "source": [
    "###### Validierung auf den Test-Daten"
   ]
  },
  {
   "cell_type": "markdown",
   "metadata": {},
   "source": [
    "Zum Schluss soll die Performance des von der Gittersuche als besten identifizierten Klassifikators auf den Test-Daten ermittelt werden."
   ]
  },
  {
   "cell_type": "code",
   "execution_count": 34,
   "metadata": {},
   "outputs": [
    {
     "data": {
      "text/plain": [
       "RandomForestClassifier(bootstrap=True, class_weight=None, criterion='gini',\n",
       "            max_depth=None, max_features='auto', max_leaf_nodes=None,\n",
       "            min_impurity_decrease=0.0, min_impurity_split=None,\n",
       "            min_samples_leaf=1, min_samples_split=2,\n",
       "            min_weight_fraction_leaf=0.0, n_estimators=670, n_jobs=1,\n",
       "            oob_score=False, random_state=0, verbose=0, warm_start=False)"
      ]
     },
     "execution_count": 34,
     "metadata": {},
     "output_type": "execute_result"
    }
   ],
   "source": [
    "# Print the best estimator\n",
    "search_heart.best_estimator_"
   ]
  },
  {
   "cell_type": "code",
   "execution_count": 35,
   "metadata": {},
   "outputs": [
    {
     "name": "stdout",
     "output_type": "stream",
     "text": [
      "0.8360655737704918\n",
      "[[22  5]\n",
      " [ 5 29]]\n"
     ]
    }
   ],
   "source": [
    "# Predict with the best estimator and print the results\n",
    "predictions = search_heart.best_estimator_.predict(X_test)\n",
    "print(accuracy_score(y_test, predictions))\n",
    "print(confusion_matrix(y_test, predictions))"
   ]
  }
 ],
 "metadata": {
  "anaconda-cloud": {},
  "kernelspec": {
   "display_name": "Python [conda env:aufgabe1]",
   "language": "python",
   "name": "conda-env-aufgabe1-py"
  },
  "language_info": {
   "codemirror_mode": {
    "name": "ipython",
    "version": 3
   },
   "file_extension": ".py",
   "mimetype": "text/x-python",
   "name": "python",
   "nbconvert_exporter": "python",
   "pygments_lexer": "ipython3",
   "version": "3.5.4"
  }
 },
 "nbformat": 4,
 "nbformat_minor": 2
}
