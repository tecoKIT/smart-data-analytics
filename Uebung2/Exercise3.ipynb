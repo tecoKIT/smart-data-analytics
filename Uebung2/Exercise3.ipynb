{
 "cells": [
  {
   "cell_type": "markdown",
   "metadata": {},
   "source": [
    "# Aufgabe 3: Cross Validation und Grid Search"
   ]
  },
  {
   "cell_type": "markdown",
   "metadata": {},
   "source": [
    "In dieser Aufgabe geht es um Hyperparameter-Optimierung mittels _Grid-Search_ (deutsch: Gittersuche). Dabei handelt es sich um eine Brute-Force-Suche, die auf einen angegebenen Teil des Hyperparameterraums angewandt wird. Sie wird dabei von einer Performance-Metrik geleitet."
   ]
  },
  {
   "cell_type": "markdown",
   "metadata": {},
   "source": [
    "Die Gittersuche soll in diesem Notebook auf zwei verschiedene Klassifikationsaufgaben angewandt werden, wobei die Anzahl der verwendeten CPU-Kerne variiert werden soll:\n",
    "\n",
    "- Iris Flower Dataset\n",
    "- Heart Disease UCI Dataset"
   ]
  },
  {
   "cell_type": "markdown",
   "metadata": {},
   "source": [
    "Anschließend soll für beide Aufgaben jeweils eine Kurve mit der Suchzeit in Abhängigkeit vom Wert für den Parallelisierungsparameter `n_jobs` geplottet werden. Außerdem soll die Zielmetrik in Abhängigkeit von einem ausgewählten Hyperparameter geplottet werden."
   ]
  },
  {
   "cell_type": "markdown",
   "metadata": {},
   "source": [
    "_Bemerkung_: Für die Reproduktion der in diesem Notebook festgehaltenen Ergebnisse sollte es im SDIL Jupyter Hub ausgeführt werden, nachdem ein Server mit 8 Cores ausgewählt wurde!"
   ]
  },
  {
   "cell_type": "markdown",
   "metadata": {},
   "source": [
    "In [Aufgabe 5](./Exercise5.ipynb) soll diese Aufgabe zudem im Batch-System des SDIL ausgeführt werden. Aus diesem Grund wird in diesem Notebook darauf geachtet, dass es ohne Probleme in ein auführbares Python-Skript konvertiert werden kann."
   ]
  },
  {
   "cell_type": "markdown",
   "metadata": {},
   "source": [
    "## Bibliotheken Importieren"
   ]
  },
  {
   "cell_type": "markdown",
   "metadata": {},
   "source": [
    "Importieren der Bibliotheken. Beim Importieren von `matplotlib` muss darauf geachtet werden, das `agg`-Backend zu verwenden, wenn der Code nicht in einem Notebook ausgeführt wird, da es sonst zu Fehlern kommt."
   ]
  },
  {
   "cell_type": "code",
   "execution_count": 1,
   "metadata": {
    "collapsed": true
   },
   "outputs": [],
   "source": [
    "## Import Libraries\n",
    "\n",
    "# Technical\n",
    "import time\n",
    "import multiprocessing\n",
    "import sys\n",
    "from tqdm import tqdm\n",
    "\n",
    "# Typical\n",
    "import pandas as pd\n",
    "import numpy as np\n",
    "from sklearn import model_selection\n",
    "from sklearn import datasets\n",
    "\n",
    "# Classifiers\n",
    "from sklearn import svm\n",
    "from sklearn.ensemble import RandomForestClassifier\n",
    "from sklearn.model_selection import GridSearchCV\n",
    "\n",
    "# Metrics\n",
    "from sklearn.metrics import confusion_matrix\n",
    "from sklearn.metrics import accuracy_score\n",
    "from sklearn.metrics import make_scorer\n",
    "\n",
    "# Matplotlib\n",
    "if not 'ipykernel' in sys.modules:\n",
    "    # Prevents errors when plotting outside Jupyter Notebook\n",
    "    # For more information see exercise 5\n",
    "    import matplotlib\n",
    "    matplotlib.use('agg')\n",
    "import matplotlib.pyplot as plt"
   ]
  },
  {
   "cell_type": "markdown",
   "metadata": {},
   "source": [
    "## Funktions-Definitionen"
   ]
  },
  {
   "cell_type": "markdown",
   "metadata": {},
   "source": [
    "Um bei der Gittersuche einfach die Anzahl der CPU-Kerne variieren zu können, wird zunächst eine Funktion definiert, welche die Gittersuche (`GridSearchCV`) in einer `for`-Schleife mit einer jeweils anderen Anzahl an CPU-Kernen ausführt."
   ]
  },
  {
   "cell_type": "code",
   "execution_count": 2,
   "metadata": {
    "collapsed": true
   },
   "outputs": [],
   "source": [
    "def grid_search_with_cores(grid_search, X_train, y_train, core_range=None):\n",
    "    \"\"\"Fits given `sklearn.model_selection.GridSearchCV` on the training data. \n",
    "    This is done multiple times with different number of CPU cores.\n",
    "    The numbers for CPU cores can be given with the core_range parameter.\n",
    "    \n",
    "    During computation, a progress bar is shown.\n",
    "    \n",
    "    Returns\n",
    "    -------\n",
    "    times : pandas.DataFrame\n",
    "            Contains the time needed to train with the different numbers of CPU cores.\n",
    "    \"\"\"\n",
    "    \n",
    "    # If no core range is given, take all possible values\n",
    "    if core_range is None:\n",
    "        core_range = list(range(1, multiprocessing.cpu_count()+1))\n",
    "        \n",
    "    # Instanciate DataFrame for saving the training times\n",
    "    times = pd.DataFrame(columns=['n_jobs', 'times'])\n",
    "\n",
    "    # Show progress bar with tqdm\n",
    "    for n in tqdm(core_range):\n",
    "        # Instanciate Grid Search\n",
    "        grid_search.n_jobs = n\n",
    "\n",
    "        # Start time measurement\n",
    "        start = time.time()\n",
    "\n",
    "        # Modell trainieren\n",
    "        grid_search.fit(X_train, y_train)\n",
    "\n",
    "        # End time measurement\n",
    "        end = time.time()\n",
    "\n",
    "        # Append results\n",
    "        times = times.append(pd.DataFrame.from_dict({'n_jobs': [n], 'times': [end - start]}))\n",
    "\n",
    "    # Return times Dataframe and reference to the last GridSearchCV object\n",
    "    return times"
   ]
  },
  {
   "cell_type": "markdown",
   "metadata": {},
   "source": [
    "Als nächstes definieren wir eine Funktion zum Plotten der Kurve mit der Suchzeit in Abhängigkeit von der Anzahl an CPU- Kernen:"
   ]
  },
  {
   "cell_type": "code",
   "execution_count": 3,
   "metadata": {
    "collapsed": true
   },
   "outputs": [],
   "source": [
    "def plot_times(times):\n",
    "    \"\"\"Plots the times returned by grid_search_with_cores\"\"\"\n",
    "    # Create the plot\n",
    "    plot = times.plot(x='n_jobs', y='times', legend=False)\n",
    "    # Set plot labels\n",
    "    plot.set(xlabel=\"n_jobs\", ylabel=\"Time in seconds\")"
   ]
  },
  {
   "cell_type": "markdown",
   "metadata": {},
   "source": [
    "Zum Schluss definieren wir noch eine Funktion zum Plotten der Zielmetrik in Abhängigkeit von einem (bzw. zwei) ausgewählten Hyperparametern."
   ]
  },
  {
   "cell_type": "code",
   "execution_count": 4,
   "metadata": {
    "collapsed": true
   },
   "outputs": [],
   "source": [
    "def plot_grid_search(cv_results, grid, name_param_1, name_param_2, name_test_score='mean_test_score'):\n",
    "    \"\"\" Plots the mean test score from the information of `GridSearchCV.cv_results_` for two given grid parameters.\n",
    "    \n",
    "    Adaption of: https://stackoverflow.com/a/43645640/6853900\"\"\"\n",
    "    grid_param_1 = grid[name_param_1]\n",
    "    grid_param_2 = grid[name_param_2]\n",
    "    \n",
    "    # Get Test Scores Mean for each grid search\n",
    "    scores_mean = cv_results[name_test_score]\n",
    "    scores_mean = np.array(scores_mean).reshape(len(grid_param_2),len(grid_param_1))\n",
    "\n",
    "    # Plot Grid search scores\n",
    "    _, ax = plt.subplots(1,1)\n",
    "\n",
    "    # Param1 is the X-axis, Param 2 is represented as a different curve (color line)\n",
    "    for idx, val in enumerate(grid_param_2):\n",
    "        ax.plot(grid_param_1, scores_mean[idx,:], '-o', label= name_param_2 + ': ' + str(val))\n",
    "\n",
    "    # Beautify the Plot (size, title, labels, legend, grid)\n",
    "    ax.set_title(\"Grid Search Results\", fontsize=20, fontweight='bold')\n",
    "    ax.set_xlabel(name_param_1, fontsize=16)\n",
    "    ax.set_ylabel(name_test_score, fontsize=16)\n",
    "    ax.legend(loc=\"best\", fontsize=10)\n",
    "    ax.grid('on')"
   ]
  },
  {
   "cell_type": "markdown",
   "metadata": {},
   "source": [
    "## Iris Flower Dataset"
   ]
  },
  {
   "cell_type": "markdown",
   "metadata": {},
   "source": [
    "###### Laden und Vorbereiten des Datensatzes"
   ]
  },
  {
   "cell_type": "markdown",
   "metadata": {},
   "source": [
    "Siehe [Aufgabe 1](./Exercise1.ipynb) für mehr Details."
   ]
  },
  {
   "cell_type": "code",
   "execution_count": 5,
   "metadata": {
    "collapsed": true
   },
   "outputs": [],
   "source": [
    "# Load dataset\n",
    "url = \"https://archive.ics.uci.edu/ml/machine-learning-databases/iris/iris.data\"\n",
    "names = ['sepal-length', 'sepal-width', 'petal-length', 'petal-width', 'class']\n",
    "iris = pd.read_csv(url, names=names)"
   ]
  },
  {
   "cell_type": "code",
   "execution_count": 6,
   "metadata": {},
   "outputs": [
    {
     "data": {
      "text/plain": [
       "(150, 5)"
      ]
     },
     "execution_count": 6,
     "metadata": {},
     "output_type": "execute_result"
    }
   ],
   "source": [
    "iris.shape"
   ]
  },
  {
   "cell_type": "code",
   "execution_count": 7,
   "metadata": {
    "collapsed": true
   },
   "outputs": [],
   "source": [
    "# Split-out validation dataset like in the SDIL-Tutorial for comparability\n",
    "array = iris.values\n",
    "X = array[:,0:4]\n",
    "Y = array[:,4]\n",
    "test_size = 0.20\n",
    "seed = 7\n",
    "X_train, X_test, y_train, y_test = model_selection.train_test_split(X, Y, test_size=test_size, random_state=seed)"
   ]
  },
  {
   "cell_type": "markdown",
   "metadata": {},
   "source": [
    "###### Ausführen der Gittersuche"
   ]
  },
  {
   "cell_type": "markdown",
   "metadata": {},
   "source": [
    "Als Optimierungsparameter für die SVM aus dem Tutorial wurden die Parameter `C` (Penalty Parameter für den Fehlerterm, Standard: `1.0`) und `kernel` (Kerneltyp, Standard: `rbf`) gewählt.\n",
    "\n",
    "Als Metrik für die Gittersuche wird standardmäßig die Methode `score` des Klassifikators verwendet, welche im Fall der `SVC`-Klasse die `accuracy` berechnet (siehe [GridSearchCV scoring](https://scikit-learn.org/stable/modules/generated/sklearn.model_selection.GridSearchCV.html#sklearn.model_selection.GridSearchCV), [SVC.score](https://scikit-learn.org/stable/modules/generated/sklearn.svm.SVC.html#sklearn.svm.SVC.score)).\n",
    "\n",
    "Diese ist für die Klassifikationsaufgabe geeignet, da es sich um einen balancierten Datensatz handelt."
   ]
  },
  {
   "cell_type": "code",
   "execution_count": 8,
   "metadata": {
    "scrolled": true
   },
   "outputs": [
    {
     "name": "stderr",
     "output_type": "stream",
     "text": [
      "100%|██████████| 32/32 [00:10<00:00,  2.43it/s]\n"
     ]
    }
   ],
   "source": [
    "# Hyper-Parameter Space\n",
    "grid_iris = {'C':np.logspace(-2, 10, num=13), 'kernel':['linear','rbf']}\n",
    "\n",
    "# SVM als Klassifikator\n",
    "svc = svm.SVC(random_state=0)\n",
    "\n",
    "# Instanciate GridSearchCV\n",
    "grid_search_iris = GridSearchCV(svc, grid_iris)\n",
    "\n",
    "# Execute grid search\n",
    "times_iris = grid_search_with_cores(grid_search_iris, X_train, y_train, core_range=range(1,33))"
   ]
  },
  {
   "cell_type": "markdown",
   "metadata": {},
   "source": [
    "###### Plot der Suchzeit in Abhängigkeit von `n_jobs`"
   ]
  },
  {
   "cell_type": "code",
   "execution_count": 9,
   "metadata": {},
   "outputs": [
    {
     "name": "stdout",
     "output_type": "stream",
     "text": [
      "  n_jobs     times\n",
      "0      1  0.185402\n",
      "0      2  0.287570\n",
      "0      3  0.300213\n",
      "0      4  0.305762\n",
      "0      5  0.212028\n",
      "0      6  0.321701\n",
      "0      7  0.230932\n",
      "0      8  0.248992\n",
      "0      9  0.242607\n",
      "0     10  0.258045\n",
      "0     11  0.271687\n",
      "0     12  0.263899\n",
      "0     13  0.378504\n",
      "0     14  0.298101\n",
      "0     15  0.423264\n",
      "0     16  0.309521\n",
      "0     17  0.318589\n",
      "0     18  0.411030\n",
      "0     19  0.320709\n",
      "0     20  0.351138\n",
      "0     21  0.360712\n",
      "0     22  0.342410\n",
      "0     23  0.344326\n",
      "0     24  0.349960\n",
      "0     25  0.388110\n",
      "0     26  0.379065\n",
      "0     27  0.390081\n",
      "0     28  0.484761\n",
      "0     29  0.404156\n",
      "0     30  0.397989\n",
      "0     31  0.430654\n",
      "0     32  0.399208\n"
     ]
    }
   ],
   "source": [
    "print(times_iris)"
   ]
  },
  {
   "cell_type": "code",
   "execution_count": 10,
   "metadata": {},
   "outputs": [
    {
     "data": {
      "image/png": "[encoded data removed]",
      "text/plain": [
       "<matplotlib.figure.Figure at 0x2abe56cef940>"
      ]
     },
     "metadata": {},
     "output_type": "display_data"
    }
   ],
   "source": [
    "plot_times(times_iris)"
   ]
  },
  {
   "cell_type": "markdown",
   "metadata": {},
   "source": [
    "Es ist zu erkennen, dass höhere Werte für `n_jobs` in diesem Fall nicht zu kürzeren Ausführungszeiten führen.  \n",
    "Das könnte daran liegen, dass der Datensatz relativ klein ist und das Such-Grid nicht besonders groß."
   ]
  },
  {
   "cell_type": "markdown",
   "metadata": {},
   "source": [
    "###### Plot der Zielmetrik in Abhängigkeit vom Hyperparameter `C`"
   ]
  },
  {
   "cell_type": "code",
   "execution_count": 11,
   "metadata": {},
   "outputs": [
    {
     "data": {
      "image/png": "[encoded data removed]",
      "text/plain": [
       "<matplotlib.figure.Figure at 0x2abe57e1e940>"
      ]
     },
     "metadata": {},
     "output_type": "display_data"
    }
   ],
   "source": [
    "plot_grid_search(grid_search_iris.cv_results_, grid_iris, 'C', 'kernel')"
   ]
  },
  {
   "cell_type": "markdown",
   "metadata": {},
   "source": [
    "Beobachtung: Die Veränderung des Parameters `C` hat wenige Auswirkungen auf die Performance der Support-Vektor-Maschine. Bei Verwendung eines linearen Kernels hat er sogar keine Auswirkungen."
   ]
  },
  {
   "cell_type": "markdown",
   "metadata": {},
   "source": [
    "###### Validierung auf den Test-Daten"
   ]
  },
  {
   "cell_type": "markdown",
   "metadata": {},
   "source": [
    "Zum Schluss soll die Performance des von der Gittersuche als besten identifizierten Klassifikators auf den Test-Daten ermittelt werden."
   ]
  },
  {
   "cell_type": "code",
   "execution_count": 12,
   "metadata": {},
   "outputs": [
    {
     "data": {
      "text/plain": [
       "SVC(C=1.0, cache_size=200, class_weight=None, coef0=0.0,\n",
       "  decision_function_shape='ovr', degree=3, gamma='auto', kernel='linear',\n",
       "  max_iter=-1, probability=False, random_state=0, shrinking=True,\n",
       "  tol=0.001, verbose=False)"
      ]
     },
     "execution_count": 12,
     "metadata": {},
     "output_type": "execute_result"
    }
   ],
   "source": [
    "# Print the best estimator\n",
    "grid_search_iris.best_estimator_"
   ]
  },
  {
   "cell_type": "code",
   "execution_count": 13,
   "metadata": {},
   "outputs": [
    {
     "name": "stdout",
     "output_type": "stream",
     "text": [
      "0.9666666666666667\n",
      "[[ 7  0  0]\n",
      " [ 0 11  1]\n",
      " [ 0  0 11]]\n"
     ]
    }
   ],
   "source": [
    "# Predict with the best estimator and print the results\n",
    "predictions = grid_search_iris.best_estimator_.predict(X_test)\n",
    "print(accuracy_score(y_test, predictions))\n",
    "print(confusion_matrix(y_test, predictions))"
   ]
  },
  {
   "cell_type": "markdown",
   "metadata": {},
   "source": [
    "Dieses Ergebnis ist leicht besser als das Ergebnis des Klassifikators aus Aufgabe 1, welcher eine Accuracy von `0.93` auf den selben Testdaten hatte."
   ]
  },
  {
   "cell_type": "markdown",
   "metadata": {},
   "source": [
    "## Heart Disease UCI Dataset"
   ]
  },
  {
   "cell_type": "markdown",
   "metadata": {},
   "source": [
    "Dieser Datensatz wurde auf [Kaggle](https://www.kaggle.com/ronitf/heart-disease-uci) gefunden.\n",
    "\n",
    "Er enthält von 303 Patienten jeweils 14 Attribute und die Information darüber, ob sie eine Herzkrankheit haben oder nicht. 165 davon sind herzkrank, die restlichen 138 nicht.\n",
    "\n",
    "Die ursprüngliche Quelle für den Datensatz ist das [UCI Machine Learning Repository](https://archive.ics.uci.edu/ml/datasets/Heart+Disease).\n",
    "\n",
    "Wir haben uns für den Datensatz entschieden, da er wenig Vorverarbeitung benötigt und annähernd balanciert ist."
   ]
  },
  {
   "cell_type": "markdown",
   "metadata": {},
   "source": [
    "###### Laden und Vorbereiten des Datensatzes"
   ]
  },
  {
   "cell_type": "markdown",
   "metadata": {},
   "source": [
    "Die folgenden Zellen zum Laden und Vorverarbeiten der Daten sind zum Teil aus dem Kaggle-Notebook \"[What Causes Heart Disease?](https://www.kaggle.com/tentotheminus9/what-causes-heart-disease-explaining-the-model)\" entnommen."
   ]
  },
  {
   "cell_type": "code",
   "execution_count": 14,
   "metadata": {
    "collapsed": true
   },
   "outputs": [],
   "source": [
    "heart = pd.read_csv(\"./data/heart.csv\")"
   ]
  },
  {
   "cell_type": "code",
   "execution_count": 15,
   "metadata": {},
   "outputs": [
    {
     "data": {
      "text/plain": [
       "(303, 14)"
      ]
     },
     "execution_count": 15,
     "metadata": {},
     "output_type": "execute_result"
    }
   ],
   "source": [
    "heart.shape"
   ]
  },
  {
   "cell_type": "code",
   "execution_count": 16,
   "metadata": {
    "collapsed": true
   },
   "outputs": [],
   "source": [
    "heart.columns = ['age', 'sex', 'chest_pain_type', 'resting_blood_pressure', 'cholesterol', \n",
    "                 'fasting_blood_sugar', 'rest_ecg', 'max_heart_rate_achieved', 'exercise_induced_angina',\n",
    "                 'st_depression', 'st_slope', 'num_major_vessels', 'thalassemia', 'target']"
   ]
  },
  {
   "cell_type": "code",
   "execution_count": 17,
   "metadata": {
    "collapsed": true
   },
   "outputs": [],
   "source": [
    "heart['sex'] = heart['sex'].astype('object')\n",
    "heart['chest_pain_type'] = heart['chest_pain_type'].astype('object')\n",
    "heart['fasting_blood_sugar'] = heart['fasting_blood_sugar'].astype('object')\n",
    "heart['rest_ecg'] = heart['rest_ecg'].astype('object')\n",
    "heart['exercise_induced_angina'] = heart['exercise_induced_angina'].astype('object')\n",
    "heart['st_slope'] = heart['st_slope'].astype('object')\n",
    "heart['thalassemia'] = heart['thalassemia'].astype('object')"
   ]
  },
  {
   "cell_type": "code",
   "execution_count": 18,
   "metadata": {
    "collapsed": true
   },
   "outputs": [],
   "source": [
    "heart = pd.get_dummies(heart, drop_first=True)"
   ]
  },
  {
   "cell_type": "code",
   "execution_count": 19,
   "metadata": {},
   "outputs": [
    {
     "data": {
      "text/html": [
       "<div>\n",
       "<style scoped>\n",
       "    .dataframe tbody tr th:only-of-type {\n",
       "        vertical-align: middle;\n",
       "    }\n",
       "\n",
       "    .dataframe tbody tr th {\n",
       "        vertical-align: top;\n",
       "    }\n",
       "\n",
       "    .dataframe thead th {\n",
       "        text-align: right;\n",
       "    }\n",
       "</style>\n",
       "<table border=\"1\" class=\"dataframe\">\n",
       "  <thead>\n",
       "    <tr style=\"text-align: right;\">\n",
       "      <th></th>\n",
       "      <th>age</th>\n",
       "      <th>resting_blood_pressure</th>\n",
       "      <th>cholesterol</th>\n",
       "      <th>max_heart_rate_achieved</th>\n",
       "      <th>st_depression</th>\n",
       "      <th>num_major_vessels</th>\n",
       "      <th>target</th>\n",
       "      <th>sex_1</th>\n",
       "      <th>chest_pain_type_1</th>\n",
       "      <th>chest_pain_type_2</th>\n",
       "      <th>chest_pain_type_3</th>\n",
       "      <th>fasting_blood_sugar_1</th>\n",
       "      <th>rest_ecg_1</th>\n",
       "      <th>rest_ecg_2</th>\n",
       "      <th>exercise_induced_angina_1</th>\n",
       "      <th>st_slope_1</th>\n",
       "      <th>st_slope_2</th>\n",
       "      <th>thalassemia_1</th>\n",
       "      <th>thalassemia_2</th>\n",
       "      <th>thalassemia_3</th>\n",
       "    </tr>\n",
       "  </thead>\n",
       "  <tbody>\n",
       "    <tr>\n",
       "      <th>0</th>\n",
       "      <td>63</td>\n",
       "      <td>145</td>\n",
       "      <td>233</td>\n",
       "      <td>150</td>\n",
       "      <td>2.3</td>\n",
       "      <td>0</td>\n",
       "      <td>1</td>\n",
       "      <td>1</td>\n",
       "      <td>0</td>\n",
       "      <td>0</td>\n",
       "      <td>1</td>\n",
       "      <td>1</td>\n",
       "      <td>0</td>\n",
       "      <td>0</td>\n",
       "      <td>0</td>\n",
       "      <td>0</td>\n",
       "      <td>0</td>\n",
       "      <td>1</td>\n",
       "      <td>0</td>\n",
       "      <td>0</td>\n",
       "    </tr>\n",
       "    <tr>\n",
       "      <th>1</th>\n",
       "      <td>37</td>\n",
       "      <td>130</td>\n",
       "      <td>250</td>\n",
       "      <td>187</td>\n",
       "      <td>3.5</td>\n",
       "      <td>0</td>\n",
       "      <td>1</td>\n",
       "      <td>1</td>\n",
       "      <td>0</td>\n",
       "      <td>1</td>\n",
       "      <td>0</td>\n",
       "      <td>0</td>\n",
       "      <td>1</td>\n",
       "      <td>0</td>\n",
       "      <td>0</td>\n",
       "      <td>0</td>\n",
       "      <td>0</td>\n",
       "      <td>0</td>\n",
       "      <td>1</td>\n",
       "      <td>0</td>\n",
       "    </tr>\n",
       "    <tr>\n",
       "      <th>2</th>\n",
       "      <td>41</td>\n",
       "      <td>130</td>\n",
       "      <td>204</td>\n",
       "      <td>172</td>\n",
       "      <td>1.4</td>\n",
       "      <td>0</td>\n",
       "      <td>1</td>\n",
       "      <td>0</td>\n",
       "      <td>1</td>\n",
       "      <td>0</td>\n",
       "      <td>0</td>\n",
       "      <td>0</td>\n",
       "      <td>0</td>\n",
       "      <td>0</td>\n",
       "      <td>0</td>\n",
       "      <td>0</td>\n",
       "      <td>1</td>\n",
       "      <td>0</td>\n",
       "      <td>1</td>\n",
       "      <td>0</td>\n",
       "    </tr>\n",
       "    <tr>\n",
       "      <th>3</th>\n",
       "      <td>56</td>\n",
       "      <td>120</td>\n",
       "      <td>236</td>\n",
       "      <td>178</td>\n",
       "      <td>0.8</td>\n",
       "      <td>0</td>\n",
       "      <td>1</td>\n",
       "      <td>1</td>\n",
       "      <td>1</td>\n",
       "      <td>0</td>\n",
       "      <td>0</td>\n",
       "      <td>0</td>\n",
       "      <td>1</td>\n",
       "      <td>0</td>\n",
       "      <td>0</td>\n",
       "      <td>0</td>\n",
       "      <td>1</td>\n",
       "      <td>0</td>\n",
       "      <td>1</td>\n",
       "      <td>0</td>\n",
       "    </tr>\n",
       "    <tr>\n",
       "      <th>4</th>\n",
       "      <td>57</td>\n",
       "      <td>120</td>\n",
       "      <td>354</td>\n",
       "      <td>163</td>\n",
       "      <td>0.6</td>\n",
       "      <td>0</td>\n",
       "      <td>1</td>\n",
       "      <td>0</td>\n",
       "      <td>0</td>\n",
       "      <td>0</td>\n",
       "      <td>0</td>\n",
       "      <td>0</td>\n",
       "      <td>1</td>\n",
       "      <td>0</td>\n",
       "      <td>1</td>\n",
       "      <td>0</td>\n",
       "      <td>1</td>\n",
       "      <td>0</td>\n",
       "      <td>1</td>\n",
       "      <td>0</td>\n",
       "    </tr>\n",
       "  </tbody>\n",
       "</table>\n",
       "</div>"
      ],
      "text/plain": [
       "   age  resting_blood_pressure  cholesterol  max_heart_rate_achieved  \\\n",
       "0   63                     145          233                      150   \n",
       "1   37                     130          250                      187   \n",
       "2   41                     130          204                      172   \n",
       "3   56                     120          236                      178   \n",
       "4   57                     120          354                      163   \n",
       "\n",
       "   st_depression  num_major_vessels  target  sex_1  chest_pain_type_1  \\\n",
       "0            2.3                  0       1      1                  0   \n",
       "1            3.5                  0       1      1                  0   \n",
       "2            1.4                  0       1      0                  1   \n",
       "3            0.8                  0       1      1                  1   \n",
       "4            0.6                  0       1      0                  0   \n",
       "\n",
       "   chest_pain_type_2  chest_pain_type_3  fasting_blood_sugar_1  rest_ecg_1  \\\n",
       "0                  0                  1                      1           0   \n",
       "1                  1                  0                      0           1   \n",
       "2                  0                  0                      0           0   \n",
       "3                  0                  0                      0           1   \n",
       "4                  0                  0                      0           1   \n",
       "\n",
       "   rest_ecg_2  exercise_induced_angina_1  st_slope_1  st_slope_2  \\\n",
       "0           0                          0           0           0   \n",
       "1           0                          0           0           0   \n",
       "2           0                          0           0           1   \n",
       "3           0                          0           0           1   \n",
       "4           0                          1           0           1   \n",
       "\n",
       "   thalassemia_1  thalassemia_2  thalassemia_3  \n",
       "0              1              0              0  \n",
       "1              0              1              0  \n",
       "2              0              1              0  \n",
       "3              0              1              0  \n",
       "4              0              1              0  "
      ]
     },
     "execution_count": 19,
     "metadata": {},
     "output_type": "execute_result"
    }
   ],
   "source": [
    "heart.head()"
   ]
  },
  {
   "cell_type": "code",
   "execution_count": 20,
   "metadata": {
    "collapsed": true
   },
   "outputs": [],
   "source": [
    "#split the data\n",
    "X_train, X_test, y_train, y_test = model_selection.train_test_split(heart.drop('target', 1), heart['target'], test_size = .2, random_state=10) "
   ]
  },
  {
   "cell_type": "markdown",
   "metadata": {},
   "source": [
    "###### Ausführen der Gittersuche"
   ]
  },
  {
   "cell_type": "markdown",
   "metadata": {},
   "source": [
    "Für diese Klassifikationsaufgabe wurde ein Random-Forest-Klassifikator gewählt, da dieser auch im Kaggle-Notebook verwendet wird.\n",
    "\n",
    "Als Optimierungsparameter wurden die Parameter `n_estimators` (Anzahl von Entscheidungsbäumen, Standard: `10`) und `max_features` (Anzahl der zu verwendenden Merkmale, Standard: `auto`) gewählt. Siehe auch die [Dokumentation zur Klasse `RandomForestClassifier`](https://scikit-learn.org/stable/modules/generated/sklearn.ensemble.RandomForestClassifier.html).\n",
    "\n",
    "Als geeignete Zielmetriken habenen wir uns für die Maße Sensitivität (auch: Recall/TPR) und Spezifität (auch: TNR) entschieden, da sie typischerweise bei diagnostischen Testverfahren in der Medizin verwendet werden (siehe [Wikipedia](https://en.wikipedia.org/wiki/Sensitivity_and_specificity)). Zudem sind unsere Ergebnisse dann leichter mit denen aus dem Kaggle-Notebook vergleichbar, da hier auch diese Metriken verwendet werden.\n",
    "\n",
    "Weiterhin soll als Metrik die `accuracy` gemessen werden, da es sich um einen annähernd balancierten Datensatz handelt und in diese Metrik sowohl Sensitivität als auch Spezifität einfließen."
   ]
  },
  {
   "cell_type": "markdown",
   "metadata": {},
   "source": [
    "Die Berechnung der Zielmetriken wird hier definiert:"
   ]
  },
  {
   "cell_type": "code",
   "execution_count": 21,
   "metadata": {
    "collapsed": true
   },
   "outputs": [],
   "source": [
    "def sensitivity_score(y_true, y_pred):\n",
    "    tn, fp, fn, tp = confusion_matrix(y_true, y_pred).ravel()\n",
    "    sensitivity = tp / (tp + fn)\n",
    "    return sensitivity\n",
    "\n",
    "def specificity_score(y_true, y_pred):\n",
    "    tn, fp, fn, tp = confusion_matrix(y_true, y_pred).ravel()\n",
    "    specificity = tn / (tn + fp)\n",
    "    return specificity"
   ]
  },
  {
   "cell_type": "markdown",
   "metadata": {},
   "source": [
    "Ausführen der Gittersuche:"
   ]
  },
  {
   "cell_type": "code",
   "execution_count": 22,
   "metadata": {},
   "outputs": [
    {
     "name": "stderr",
     "output_type": "stream",
     "text": [
      "100%|██████████| 32/32 [22:38<00:00, 30.88s/it]  \n"
     ]
    }
   ],
   "source": [
    "# SVM als Klassifikator\n",
    "rfc = RandomForestClassifier(random_state=0)\n",
    "\n",
    "# Hyper-Parameter Space\n",
    "grid_heart = {'n_estimators': [int(x) for x in np.arange(start = 1, stop = 500, step = 10)],\n",
    "              'max_depth': [None, 5, 10]}\n",
    "\n",
    "# Define scoring\n",
    "scoring = {'sensitivity': make_scorer(sensitivity_score), \n",
    "           'specificity': make_scorer(specificity_score),\n",
    "           'accuracy': make_scorer(accuracy_score)}\n",
    "\n",
    "# Instanciate GridSearchCV\n",
    "grid_search_heart = GridSearchCV(rfc, grid_heart, scoring=scoring, refit='sensitivity')\n",
    "\n",
    "# Execute grid search\n",
    "times_heart = grid_search_with_cores(grid_search_heart, X_train=X_train, y_train=y_train, core_range=range(1,33))"
   ]
  },
  {
   "cell_type": "markdown",
   "metadata": {},
   "source": [
    "###### Plot der Suchzeit in Abhängigkeit von `n_jobs`"
   ]
  },
  {
   "cell_type": "code",
   "execution_count": 23,
   "metadata": {},
   "outputs": [
    {
     "name": "stdout",
     "output_type": "stream",
     "text": [
      "  n_jobs       times\n",
      "0      1  221.322449\n",
      "0      2  112.591162\n",
      "0      3   75.727129\n",
      "0      4   56.309758\n",
      "0      5   45.351572\n",
      "0      6   37.897383\n",
      "0      7   33.128724\n",
      "0      8   29.107206\n",
      "0      9   28.778181\n",
      "0     10   28.902741\n",
      "0     11   29.668503\n",
      "0     12   31.139054\n",
      "0     13   33.977389\n",
      "0     14   29.433154\n",
      "0     15   31.368660\n",
      "0     16   30.206588\n",
      "0     17   32.328519\n",
      "0     18   33.021458\n",
      "0     19   30.996859\n",
      "0     20   32.271576\n",
      "0     21   31.121759\n",
      "0     22   32.347874\n",
      "0     23   31.986711\n",
      "0     24   33.235514\n",
      "0     25   30.501945\n",
      "0     26   29.902407\n",
      "0     27   30.883761\n",
      "0     28   31.274429\n",
      "0     29   30.779974\n",
      "0     30   30.222670\n",
      "0     31   32.026245\n",
      "0     32   30.165507\n"
     ]
    }
   ],
   "source": [
    "print(times_heart)"
   ]
  },
  {
   "cell_type": "code",
   "execution_count": 24,
   "metadata": {},
   "outputs": [
    {
     "data": {
      "image/png": "[encoded data removed]",
      "text/plain": [
       "<matplotlib.figure.Figure at 0x2abe57eec4e0>"
      ]
     },
     "metadata": {},
     "output_type": "display_data"
    }
   ],
   "source": [
    "plot_times(times_heart)"
   ]
  },
  {
   "cell_type": "markdown",
   "metadata": {},
   "source": [
    "In diesem Fall führen höhere Werte für `n_jobs` zu kürzeren Ausführungszeiten."
   ]
  },
  {
   "cell_type": "markdown",
   "metadata": {},
   "source": [
    "###### Plot der Zielmetriken in Abhängigkeit vom Hyperparameter `n_estimators`"
   ]
  },
  {
   "cell_type": "markdown",
   "metadata": {},
   "source": [
    "Spezifität:"
   ]
  },
  {
   "cell_type": "code",
   "execution_count": 25,
   "metadata": {
    "scrolled": true
   },
   "outputs": [
    {
     "data": {
      "image/png": "[encoded data removed]",
      "text/plain": [
       "<matplotlib.figure.Figure at 0x2abe57e58438>"
      ]
     },
     "metadata": {},
     "output_type": "display_data"
    }
   ],
   "source": [
    "plot_grid_search(grid_search_heart.cv_results_, grid_heart, 'n_estimators', 'max_depth', 'mean_test_specificity')\n"
   ]
  },
  {
   "cell_type": "markdown",
   "metadata": {},
   "source": [
    "Sensitivität:"
   ]
  },
  {
   "cell_type": "code",
   "execution_count": 26,
   "metadata": {
    "scrolled": true
   },
   "outputs": [
    {
     "data": {
      "image/png": "[encoded data removed]",
      "text/plain": [
       "<matplotlib.figure.Figure at 0x2abe57f24240>"
      ]
     },
     "metadata": {},
     "output_type": "display_data"
    }
   ],
   "source": [
    "plot_grid_search(grid_search_heart.cv_results_, grid_heart, 'n_estimators', 'max_depth', 'mean_test_sensitivity')"
   ]
  },
  {
   "cell_type": "markdown",
   "metadata": {},
   "source": [
    "Accuracy:"
   ]
  },
  {
   "cell_type": "code",
   "execution_count": 27,
   "metadata": {
    "scrolled": true
   },
   "outputs": [
    {
     "data": {
      "image/png": "[encoded data removed]",
      "text/plain": [
       "<matplotlib.figure.Figure at 0x2abe57f7e5c0>"
      ]
     },
     "metadata": {},
     "output_type": "display_data"
    }
   ],
   "source": [
    "plot_grid_search(grid_search_heart.cv_results_, grid_heart, 'n_estimators', 'max_depth', 'mean_test_accuracy')"
   ]
  },
  {
   "cell_type": "markdown",
   "metadata": {},
   "source": [
    "Beobachtung: Eine Erhöhung des Parameters `n_estimators` führt tendentiell zu besseren Klassifikationsergebnissen. Auf den Trainingsdaten ist ein Wert um 40 optimal."
   ]
  },
  {
   "cell_type": "markdown",
   "metadata": {},
   "source": [
    "###### Validierung auf den Test-Daten"
   ]
  },
  {
   "cell_type": "markdown",
   "metadata": {},
   "source": [
    "Zum Schluss soll die Performance des von der Gittersuche als besten identifizierten Klassifikators auf den Test-Daten ermittelt werden."
   ]
  },
  {
   "cell_type": "code",
   "execution_count": 28,
   "metadata": {},
   "outputs": [
    {
     "data": {
      "text/plain": [
       "RandomForestClassifier(bootstrap=True, class_weight=None, criterion='gini',\n",
       "            max_depth=5, max_features='auto', max_leaf_nodes=None,\n",
       "            min_impurity_decrease=0.0, min_impurity_split=None,\n",
       "            min_samples_leaf=1, min_samples_split=2,\n",
       "            min_weight_fraction_leaf=0.0, n_estimators=201, n_jobs=1,\n",
       "            oob_score=False, random_state=0, verbose=0, warm_start=False)"
      ]
     },
     "execution_count": 28,
     "metadata": {},
     "output_type": "execute_result"
    }
   ],
   "source": [
    "# Print the best estimator\n",
    "grid_search_heart.best_estimator_"
   ]
  },
  {
   "cell_type": "code",
   "execution_count": 29,
   "metadata": {
    "scrolled": true
   },
   "outputs": [
    {
     "name": "stdout",
     "output_type": "stream",
     "text": [
      "Sensitivity: 0.8076923076923077\n",
      "Specificity: 0.8\n",
      "Accuracy: 0.8032786885245902\n",
      "[[28  7]\n",
      " [ 5 21]]\n"
     ]
    }
   ],
   "source": [
    "# Predict with the best estimator and print the results\n",
    "predictions = grid_search_heart.best_estimator_.predict(X_test)\n",
    "print(\"Sensitivity:\", sensitivity_score(y_test, predictions))\n",
    "print(\"Specificity:\", specificity_score(y_test, predictions))\n",
    "print(\"Accuracy:\", accuracy_score(y_test, predictions))\n",
    "print(confusion_matrix(y_test, predictions))"
   ]
  },
  {
   "cell_type": "markdown",
   "metadata": {},
   "source": [
    "Für den Klassifikator im Kaggle-Notebook betragen die Werte Sensitivität `0.8846` bzw. Spezifität `0.8000` (Achtung: Im Kaggle-Notebook haben sich in der Berechnung hierfür Fehler eingeschlichen). Damit haben wir mithilfe der Grid-Search leider keinen Klassifikator gefunden, der auf den Test-Daten bessere Ergebnisse liefert.\n",
    "\n",
    "Leider konnten die Ergebnisse aus dem Notebook auch nicht reproduziert werden, da dort kein `random_state` für den Random Forest gesetzt wurde."
   ]
  }
 ],
 "metadata": {
  "anaconda-cloud": {},
  "kernelspec": {
   "display_name": "Python [conda env:aufgabe1]",
   "language": "python",
   "name": "conda-env-aufgabe1-py"
  },
  "language_info": {
   "codemirror_mode": {
    "name": "ipython",
    "version": 3
   },
   "file_extension": ".py",
   "mimetype": "text/x-python",
   "name": "python",
   "nbconvert_exporter": "python",
   "pygments_lexer": "ipython3",
   "version": "3.5.4"
  }
 },
 "nbformat": 4,
 "nbformat_minor": 2
}
